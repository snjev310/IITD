{
 "cells": [
  {
   "cell_type": "code",
   "execution_count": 1,
   "metadata": {},
   "outputs": [],
   "source": [
    "import pandas as pd\n",
    "import numpy as np\n",
    "import matplotlib.pyplot as plt\n",
    "import os\n",
    "import glob\n",
    "import cv2\n",
    "from sklearn.model_selection import train_test_split\n",
    "from tensorflow.keras import layers\n",
    "from tensorflow.keras.models import Sequential\n",
    "from tensorflow.keras.layers import Dense, Flatten, Conv2D, MaxPooling2D, Dropout, BatchNormalization, MaxPool2D\n",
    "from IPython.display import Image, display\n",
    "import matplotlib.pyplot as plt\n",
    "import matplotlib.cm as cm\n",
    "import tensorflow as tf\n",
    "from tensorflow import keras\n",
    "from sklearn.preprocessing import OneHotEncoder, StandardScaler"
   ]
  },
  {
   "cell_type": "code",
   "execution_count": 6,
   "metadata": {},
   "outputs": [],
   "source": [
    "def import_maps(path):\n",
    "    images = []\n",
    "    for index, name in enumerate(os.listdir(path)):\n",
    "        folder = os.path.join(path, name)\n",
    "        for file_class in os.listdir(folder):\n",
    "            im_folder = os.path.join(folder, file_class)\n",
    "\n",
    "            for im in os.listdir(im_folder):\n",
    "                img = cv2.imread(os.path.join(im_folder, im))\n",
    "                img = cv2.cvtColor(img, cv2.COLOR_RGB2GRAY)\n",
    "                img = cv2.resize(img, (196, 196))\n",
    "                if img is not None:\n",
    "                    images.append((np.array(img), index)) \n",
    "    return images"
   ]
  },
  {
   "cell_type": "code",
   "execution_count": 7,
   "metadata": {},
   "outputs": [],
   "source": [
    "image_train_set = import_maps(r'D:\\ILBS_14_8_21_Sanjeev\\ILBS_Clustered_Volumes\\train')\n",
    "image_test_set = import_maps(r'D:\\ILBS_14_8_21_Sanjeev\\ILBS_Clustered_Volumes\\test')"
   ]
  },
  {
   "cell_type": "code",
   "execution_count": 8,
   "metadata": {},
   "outputs": [
    {
     "data": {
      "text/plain": [
       "12900"
      ]
     },
     "execution_count": 8,
     "metadata": {},
     "output_type": "execute_result"
    }
   ],
   "source": [
    "len(image_train_set)"
   ]
  },
  {
   "cell_type": "code",
   "execution_count": 9,
   "metadata": {},
   "outputs": [
    {
     "data": {
      "text/plain": [
       "1950"
      ]
     },
     "execution_count": 9,
     "metadata": {},
     "output_type": "execute_result"
    }
   ],
   "source": [
    "len(image_test_set)"
   ]
  },
  {
   "cell_type": "code",
   "execution_count": 10,
   "metadata": {},
   "outputs": [],
   "source": [
    "train_images_all = [i[0] for i in image_train_set]\n",
    "train_images_array = np.array(train_images_all)\n",
    "#train_images_array=np.expand_dims(train_images_array,axis=3)\n",
    "train_image_label = [i[1] for i in image_train_set]\n",
    "train_image_label = np.array(train_image_label)"
   ]
  },
  {
   "cell_type": "code",
   "execution_count": 11,
   "metadata": {},
   "outputs": [],
   "source": [
    "test_images_all = [i[0] for i in image_test_set]\n",
    "test_images_array = np.array(test_images_all)\n",
    "#test_images_array=np.expand_dims(test_images_array,axis=3)\n",
    "test_image_label = [i[1] for i in image_test_set]\n",
    "test_image_label = np.array(test_image_label)"
   ]
  },
  {
   "cell_type": "code",
   "execution_count": 12,
   "metadata": {},
   "outputs": [],
   "source": [
    "scalar = StandardScaler(copy=False)\n",
    "train_images = scalar.fit_transform(train_images_array.reshape(12900, 196*196))\n",
    "train_images_array = train_images.reshape(12900, 196, 196, 1)"
   ]
  },
  {
   "cell_type": "code",
   "execution_count": 13,
   "metadata": {},
   "outputs": [],
   "source": [
    "test_image = scalar.fit_transform(test_images_array.reshape(1950,196*196))\n",
    "test_image_array = test_image.reshape(1950,196,196,1)"
   ]
  },
  {
   "cell_type": "code",
   "execution_count": 14,
   "metadata": {},
   "outputs": [],
   "source": [
    "train_x, val_x, train_y, val_y = train_test_split(train_images_array,train_image_label,test_size=0.2)"
   ]
  },
  {
   "cell_type": "code",
   "execution_count": 15,
   "metadata": {},
   "outputs": [],
   "source": [
    "enc = OneHotEncoder(handle_unknown='ignore')\n",
    "train_label_enc = enc.fit_transform(train_y.reshape(-1, 1)).toarray()\n",
    "val_label_enc = enc.fit_transform(val_y.reshape(-1, 1)).toarray()\n",
    "test_label_enc = enc.fit_transform(test_image_label.reshape(-1, 1)).toarray()"
   ]
  },
  {
   "cell_type": "code",
   "execution_count": 16,
   "metadata": {},
   "outputs": [
    {
     "name": "stdout",
     "output_type": "stream",
     "text": [
      "Model: \"sequential\"\n",
      "_________________________________________________________________\n",
      "Layer (type)                 Output Shape              Param #   \n",
      "=================================================================\n",
      "conv2d (Conv2D)              (None, 196, 196, 32)      320       \n",
      "_________________________________________________________________\n",
      "conv2d_1 (Conv2D)            (None, 196, 196, 64)      18496     \n",
      "_________________________________________________________________\n",
      "batch_normalization (BatchNo (None, 196, 196, 64)      256       \n",
      "_________________________________________________________________\n",
      "max_pooling2d (MaxPooling2D) (None, 98, 98, 64)        0         \n",
      "_________________________________________________________________\n",
      "conv2d_2 (Conv2D)            (None, 98, 98, 128)       73856     \n",
      "_________________________________________________________________\n",
      "conv2d_3 (Conv2D)            (None, 98, 98, 128)       147584    \n",
      "_________________________________________________________________\n",
      "batch_normalization_1 (Batch (None, 98, 98, 128)       512       \n",
      "_________________________________________________________________\n",
      "max_pooling2d_1 (MaxPooling2 (None, 49, 49, 128)       0         \n",
      "_________________________________________________________________\n",
      "conv2d_4 (Conv2D)            (None, 49, 49, 256)       295168    \n",
      "_________________________________________________________________\n",
      "conv2d_5 (Conv2D)            (None, 49, 49, 256)       590080    \n",
      "_________________________________________________________________\n",
      "conv2d_6 (Conv2D)            (None, 49, 49, 256)       590080    \n",
      "_________________________________________________________________\n",
      "batch_normalization_2 (Batch (None, 49, 49, 256)       1024      \n",
      "_________________________________________________________________\n",
      "max_pooling2d_2 (MaxPooling2 (None, 24, 24, 256)       0         \n",
      "_________________________________________________________________\n",
      "conv2d_7 (Conv2D)            (None, 24, 24, 512)       1180160   \n",
      "_________________________________________________________________\n",
      "conv2d_8 (Conv2D)            (None, 24, 24, 512)       2359808   \n",
      "_________________________________________________________________\n",
      "conv2d_9 (Conv2D)            (None, 24, 24, 512)       2359808   \n",
      "_________________________________________________________________\n",
      "batch_normalization_3 (Batch (None, 24, 24, 512)       2048      \n",
      "_________________________________________________________________\n",
      "max_pooling2d_3 (MaxPooling2 (None, 12, 12, 512)       0         \n",
      "_________________________________________________________________\n",
      "conv2d_10 (Conv2D)           (None, 12, 12, 512)       2359808   \n",
      "_________________________________________________________________\n",
      "conv2d_11 (Conv2D)           (None, 12, 12, 512)       2359808   \n",
      "_________________________________________________________________\n",
      "conv2d_12 (Conv2D)           (None, 12, 12, 512)       2359808   \n",
      "_________________________________________________________________\n",
      "batch_normalization_4 (Batch (None, 12, 12, 512)       2048      \n",
      "_________________________________________________________________\n",
      "vgg16 (MaxPooling2D)         (None, 6, 6, 512)         0         \n",
      "_________________________________________________________________\n",
      "flatten (Flatten)            (None, 18432)             0         \n",
      "_________________________________________________________________\n",
      "fc1 (Dense)                  (None, 512)               9437696   \n",
      "_________________________________________________________________\n",
      "dropout (Dropout)            (None, 512)               0         \n",
      "_________________________________________________________________\n",
      "fc2 (Dense)                  (None, 256)               131328    \n",
      "_________________________________________________________________\n",
      "dropout_1 (Dropout)          (None, 256)               0         \n",
      "_________________________________________________________________\n",
      "output (Dense)               (None, 6)                 1542      \n",
      "=================================================================\n",
      "Total params: 24,271,238\n",
      "Trainable params: 24,268,294\n",
      "Non-trainable params: 2,944\n",
      "_________________________________________________________________\n"
     ]
    }
   ],
   "source": [
    "model = Sequential()\n",
    "model.add(Conv2D(input_shape=(196,196,1),filters=32,kernel_size=(3,3),padding=\"same\", activation=\"relu\"))\n",
    "model.add(Conv2D(filters=64,kernel_size=(3,3),padding=\"same\", activation=\"relu\"))\n",
    "model.add(BatchNormalization())\n",
    "model.add(MaxPool2D(pool_size=(2,2),strides=(2,2)))\n",
    "model.add(Conv2D(filters=128, kernel_size=(3,3), padding=\"same\", activation=\"relu\"))\n",
    "model.add(Conv2D(filters=128, kernel_size=(3,3), padding=\"same\", activation=\"relu\"))\n",
    "model.add(BatchNormalization())\n",
    "model.add(MaxPool2D(pool_size=(2,2),strides=(2,2)))\n",
    "model.add(Conv2D(filters=256, kernel_size=(3,3), padding=\"same\", activation=\"relu\"))\n",
    "model.add(Conv2D(filters=256, kernel_size=(3,3), padding=\"same\", activation=\"relu\"))\n",
    "model.add(Conv2D(filters=256, kernel_size=(3,3), padding=\"same\", activation=\"relu\"))\n",
    "model.add(BatchNormalization())\n",
    "model.add(MaxPool2D(pool_size=(2,2),strides=(2,2)))\n",
    "model.add(Conv2D(filters=512, kernel_size=(3,3), padding=\"same\", activation=\"relu\"))\n",
    "model.add(Conv2D(filters=512, kernel_size=(3,3), padding=\"same\", activation=\"relu\"))\n",
    "model.add(Conv2D(filters=512, kernel_size=(3,3), padding=\"same\", activation=\"relu\"))\n",
    "model.add(BatchNormalization())\n",
    "model.add(MaxPool2D(pool_size=(2,2),strides=(2,2)))\n",
    "model.add(Conv2D(filters=512, kernel_size=(3,3), padding=\"same\", activation=\"relu\"))\n",
    "model.add(Conv2D(filters=512, kernel_size=(3,3), padding=\"same\", activation=\"relu\"))\n",
    "model.add(Conv2D(filters=512, kernel_size=(3,3), padding=\"same\", activation=\"relu\"))\n",
    "model.add(BatchNormalization())\n",
    "model.add(MaxPool2D(pool_size=(2,2),strides=(2,2),name='vgg16'))\n",
    "model.add(Flatten(name='flatten'))\n",
    "model.add(Dense(512, activation='relu', name='fc1'))\n",
    "model.add(Dropout(0.5))\n",
    "model.add(Dense(256, activation='relu', name='fc2'))\n",
    "model.add(Dropout(0.25))\n",
    "model.add(Dense(6, activation='softmax', name='output'))\n",
    "\n",
    "model.compile(loss=keras.losses.categorical_crossentropy,\n",
    "               optimizer=keras.optimizers.SGD(0.001),\n",
    "               metrics=['accuracy'])\n",
    "\n",
    "model.summary()\n",
    "\n",
    "reduce_lr = tf.keras.callbacks.ReduceLROnPlateau(monitor='val_loss', factor=0.2,\n",
    "                            patience=15, min_lr=0.00001)"
   ]
  },
  {
   "cell_type": "code",
   "execution_count": 17,
   "metadata": {},
   "outputs": [
    {
     "name": "stdout",
     "output_type": "stream",
     "text": [
      "Train on 10320 samples, validate on 2580 samples\n",
      "Epoch 1/60\n",
      "10320/10320 [==============================] - 77s 7ms/sample - loss: 1.3466 - accuracy: 0.5097 - val_loss: 2.0336 - val_accuracy: 0.0372\n",
      "Epoch 2/60\n",
      "10320/10320 [==============================] - 60s 6ms/sample - loss: 0.4811 - accuracy: 0.8396 - val_loss: 2.0755 - val_accuracy: 0.0504\n",
      "Epoch 3/60\n",
      "10320/10320 [==============================] - 60s 6ms/sample - loss: 0.1924 - accuracy: 0.9413 - val_loss: 1.0580 - val_accuracy: 0.7674\n",
      "Epoch 4/60\n",
      "10320/10320 [==============================] - 60s 6ms/sample - loss: 0.1380 - accuracy: 0.9555 - val_loss: 0.0957 - val_accuracy: 0.9760\n",
      "Epoch 5/60\n",
      "10320/10320 [==============================] - 60s 6ms/sample - loss: 0.1005 - accuracy: 0.9657 - val_loss: 0.0519 - val_accuracy: 0.9744\n",
      "Epoch 6/60\n",
      "10320/10320 [==============================] - 60s 6ms/sample - loss: 0.0818 - accuracy: 0.9705 - val_loss: 0.0494 - val_accuracy: 0.9736\n",
      "Epoch 7/60\n",
      "10320/10320 [==============================] - 60s 6ms/sample - loss: 0.0718 - accuracy: 0.9713 - val_loss: 0.0414 - val_accuracy: 0.9702\n",
      "Epoch 8/60\n",
      "10320/10320 [==============================] - 60s 6ms/sample - loss: 0.0629 - accuracy: 0.9724 - val_loss: 0.0444 - val_accuracy: 0.9744\n",
      "Epoch 9/60\n",
      "10320/10320 [==============================] - 61s 6ms/sample - loss: 0.0600 - accuracy: 0.9741 - val_loss: 0.0435 - val_accuracy: 0.9729\n",
      "Epoch 10/60\n",
      "10320/10320 [==============================] - 60s 6ms/sample - loss: 0.0603 - accuracy: 0.9743 - val_loss: 0.0430 - val_accuracy: 0.9705\n",
      "Epoch 11/60\n",
      "10320/10320 [==============================] - 60s 6ms/sample - loss: 0.0590 - accuracy: 0.9729 - val_loss: 0.0538 - val_accuracy: 0.9744\n",
      "Epoch 12/60\n",
      "10320/10320 [==============================] - 60s 6ms/sample - loss: 0.0561 - accuracy: 0.9741 - val_loss: 0.0414 - val_accuracy: 0.9709\n",
      "Epoch 13/60\n",
      "10320/10320 [==============================] - 60s 6ms/sample - loss: 0.0559 - accuracy: 0.9750 - val_loss: 0.0413 - val_accuracy: 0.9760\n",
      "Epoch 14/60\n",
      "10320/10320 [==============================] - 61s 6ms/sample - loss: 0.0521 - accuracy: 0.9761 - val_loss: 0.0401 - val_accuracy: 0.9698\n",
      "Epoch 15/60\n",
      "10320/10320 [==============================] - 60s 6ms/sample - loss: 0.0524 - accuracy: 0.9749 - val_loss: 0.0396 - val_accuracy: 0.9717\n",
      "Epoch 16/60\n",
      "10320/10320 [==============================] - 60s 6ms/sample - loss: 0.0528 - accuracy: 0.9738 - val_loss: 0.0393 - val_accuracy: 0.9729\n",
      "Epoch 17/60\n",
      "10320/10320 [==============================] - 60s 6ms/sample - loss: 0.0467 - accuracy: 0.9759 - val_loss: 0.0401 - val_accuracy: 0.9682\n",
      "Epoch 18/60\n",
      "10320/10320 [==============================] - 60s 6ms/sample - loss: 0.0517 - accuracy: 0.9737 - val_loss: 0.0393 - val_accuracy: 0.9721\n",
      "Epoch 19/60\n",
      "10320/10320 [==============================] - 61s 6ms/sample - loss: 0.0501 - accuracy: 0.9726 - val_loss: 0.0366 - val_accuracy: 0.9713\n",
      "Epoch 20/60\n",
      "10320/10320 [==============================] - 60s 6ms/sample - loss: 0.0475 - accuracy: 0.9739 - val_loss: 0.0374 - val_accuracy: 0.9717\n",
      "Epoch 21/60\n",
      "10320/10320 [==============================] - 60s 6ms/sample - loss: 0.0491 - accuracy: 0.9754 - val_loss: 0.0371 - val_accuracy: 0.9725\n",
      "Epoch 22/60\n",
      "10320/10320 [==============================] - 60s 6ms/sample - loss: 0.0434 - accuracy: 0.9772 - val_loss: 0.0397 - val_accuracy: 0.9690\n",
      "Epoch 23/60\n",
      "10320/10320 [==============================] - 61s 6ms/sample - loss: 0.0467 - accuracy: 0.9735 - val_loss: 0.0396 - val_accuracy: 0.9717\n",
      "Epoch 24/60\n",
      "10320/10320 [==============================] - 61s 6ms/sample - loss: 0.0476 - accuracy: 0.9755 - val_loss: 0.0431 - val_accuracy: 0.9671\n",
      "Epoch 25/60\n",
      "10320/10320 [==============================] - 61s 6ms/sample - loss: 0.0444 - accuracy: 0.9767 - val_loss: 0.0417 - val_accuracy: 0.9686\n",
      "Epoch 26/60\n",
      "10320/10320 [==============================] - 61s 6ms/sample - loss: 0.0462 - accuracy: 0.9739 - val_loss: 0.0423 - val_accuracy: 0.9671\n",
      "Epoch 27/60\n",
      "10320/10320 [==============================] - 61s 6ms/sample - loss: 0.0432 - accuracy: 0.9770 - val_loss: 0.0428 - val_accuracy: 0.9694\n",
      "Epoch 28/60\n",
      "10320/10320 [==============================] - 61s 6ms/sample - loss: 0.0444 - accuracy: 0.9765 - val_loss: 0.0393 - val_accuracy: 0.9733\n",
      "Epoch 29/60\n",
      "10320/10320 [==============================] - 61s 6ms/sample - loss: 0.0432 - accuracy: 0.9778 - val_loss: 0.0402 - val_accuracy: 0.9702\n",
      "Epoch 30/60\n",
      "10320/10320 [==============================] - 61s 6ms/sample - loss: 0.0467 - accuracy: 0.9756 - val_loss: 0.0373 - val_accuracy: 0.9694\n",
      "Epoch 31/60\n",
      "10320/10320 [==============================] - 61s 6ms/sample - loss: 0.0456 - accuracy: 0.9764 - val_loss: 0.0385 - val_accuracy: 0.9678\n",
      "Epoch 32/60\n",
      "10320/10320 [==============================] - 61s 6ms/sample - loss: 0.0433 - accuracy: 0.9757 - val_loss: 0.0379 - val_accuracy: 0.9717\n",
      "Epoch 33/60\n",
      "10320/10320 [==============================] - 61s 6ms/sample - loss: 0.0442 - accuracy: 0.9751 - val_loss: 0.0387 - val_accuracy: 0.9694\n",
      "Epoch 34/60\n",
      "10320/10320 [==============================] - 61s 6ms/sample - loss: 0.0425 - accuracy: 0.9759 - val_loss: 0.0402 - val_accuracy: 0.9698\n",
      "Epoch 35/60\n",
      "10320/10320 [==============================] - 61s 6ms/sample - loss: 0.0416 - accuracy: 0.9768 - val_loss: 0.0401 - val_accuracy: 0.9671\n",
      "Epoch 36/60\n",
      "10320/10320 [==============================] - 61s 6ms/sample - loss: 0.0389 - accuracy: 0.9785 - val_loss: 0.0406 - val_accuracy: 0.9678\n",
      "Epoch 37/60\n",
      "10320/10320 [==============================] - 60s 6ms/sample - loss: 0.0376 - accuracy: 0.9793 - val_loss: 0.0408 - val_accuracy: 0.9671\n",
      "Epoch 38/60\n",
      "10320/10320 [==============================] - 60s 6ms/sample - loss: 0.0392 - accuracy: 0.9775 - val_loss: 0.0414 - val_accuracy: 0.9678\n",
      "Epoch 39/60\n",
      "10320/10320 [==============================] - 60s 6ms/sample - loss: 0.0396 - accuracy: 0.9780 - val_loss: 0.0411 - val_accuracy: 0.9678\n",
      "Epoch 40/60\n",
      "10320/10320 [==============================] - 61s 6ms/sample - loss: 0.0406 - accuracy: 0.9779 - val_loss: 0.0414 - val_accuracy: 0.9671\n",
      "Epoch 41/60\n",
      "10320/10320 [==============================] - 61s 6ms/sample - loss: 0.0413 - accuracy: 0.9755 - val_loss: 0.0416 - val_accuracy: 0.9671\n",
      "Epoch 42/60\n",
      "10320/10320 [==============================] - 61s 6ms/sample - loss: 0.0410 - accuracy: 0.9768 - val_loss: 0.0414 - val_accuracy: 0.9663\n",
      "Epoch 43/60\n",
      "10320/10320 [==============================] - 61s 6ms/sample - loss: 0.0399 - accuracy: 0.9765 - val_loss: 0.0416 - val_accuracy: 0.9674\n",
      "Epoch 44/60\n",
      "10320/10320 [==============================] - 61s 6ms/sample - loss: 0.0392 - accuracy: 0.9774 - val_loss: 0.0419 - val_accuracy: 0.9659\n",
      "Epoch 45/60\n",
      "10320/10320 [==============================] - 61s 6ms/sample - loss: 0.0411 - accuracy: 0.9765 - val_loss: 0.0421 - val_accuracy: 0.9651\n",
      "Epoch 46/60\n",
      "10320/10320 [==============================] - 61s 6ms/sample - loss: 0.0393 - accuracy: 0.9761 - val_loss: 0.0423 - val_accuracy: 0.9647\n",
      "Epoch 47/60\n",
      "10320/10320 [==============================] - 61s 6ms/sample - loss: 0.0383 - accuracy: 0.9786 - val_loss: 0.0427 - val_accuracy: 0.9647\n",
      "Epoch 48/60\n",
      "10320/10320 [==============================] - 61s 6ms/sample - loss: 0.0385 - accuracy: 0.9773 - val_loss: 0.0430 - val_accuracy: 0.9663\n",
      "Epoch 49/60\n",
      "10320/10320 [==============================] - 60s 6ms/sample - loss: 0.0400 - accuracy: 0.9755 - val_loss: 0.0432 - val_accuracy: 0.9647\n",
      "Epoch 50/60\n",
      "10320/10320 [==============================] - 60s 6ms/sample - loss: 0.0380 - accuracy: 0.9783 - val_loss: 0.0432 - val_accuracy: 0.9647\n",
      "Epoch 51/60\n",
      "10320/10320 [==============================] - 60s 6ms/sample - loss: 0.0370 - accuracy: 0.9776 - val_loss: 0.0433 - val_accuracy: 0.9643\n",
      "Epoch 52/60\n",
      "10320/10320 [==============================] - 60s 6ms/sample - loss: 0.0394 - accuracy: 0.9770 - val_loss: 0.0434 - val_accuracy: 0.9643\n",
      "Epoch 53/60\n",
      "10320/10320 [==============================] - 60s 6ms/sample - loss: 0.0391 - accuracy: 0.9774 - val_loss: 0.0434 - val_accuracy: 0.9643\n",
      "Epoch 54/60\n",
      "10320/10320 [==============================] - 61s 6ms/sample - loss: 0.0368 - accuracy: 0.9794 - val_loss: 0.0434 - val_accuracy: 0.9647\n",
      "Epoch 55/60\n"
     ]
    },
    {
     "name": "stdout",
     "output_type": "stream",
     "text": [
      "10320/10320 [==============================] - 61s 6ms/sample - loss: 0.0382 - accuracy: 0.9770 - val_loss: 0.0435 - val_accuracy: 0.9643\n",
      "Epoch 56/60\n",
      "10320/10320 [==============================] - 60s 6ms/sample - loss: 0.0389 - accuracy: 0.9779 - val_loss: 0.0436 - val_accuracy: 0.9647\n",
      "Epoch 57/60\n",
      "10320/10320 [==============================] - 60s 6ms/sample - loss: 0.0372 - accuracy: 0.9774 - val_loss: 0.0436 - val_accuracy: 0.9643\n",
      "Epoch 58/60\n",
      "10320/10320 [==============================] - 60s 6ms/sample - loss: 0.0364 - accuracy: 0.9793 - val_loss: 0.0437 - val_accuracy: 0.9643\n",
      "Epoch 59/60\n",
      "10320/10320 [==============================] - 60s 6ms/sample - loss: 0.0369 - accuracy: 0.9777 - val_loss: 0.0439 - val_accuracy: 0.9643\n",
      "Epoch 60/60\n",
      "10320/10320 [==============================] - 60s 6ms/sample - loss: 0.0384 - accuracy: 0.9772 - val_loss: 0.0439 - val_accuracy: 0.9647\n"
     ]
    }
   ],
   "source": [
    "history = model.fit(train_x,train_label_enc,validation_data=(val_x,val_label_enc), batch_size=64, epochs=60, verbose=1,shuffle=True, callbacks = [reduce_lr])"
   ]
  },
  {
   "cell_type": "code",
   "execution_count": 22,
   "metadata": {},
   "outputs": [
    {
     "name": "stdout",
     "output_type": "stream",
     "text": [
      "1950/1950 [==============================] - 5s 3ms/sample - loss: 2.9606 - accuracy: 0.3185\n"
     ]
    }
   ],
   "source": [
    "score = model.evaluate(test_image_array,test_label_enc)"
   ]
  },
  {
   "cell_type": "code",
   "execution_count": 31,
   "metadata": {},
   "outputs": [
    {
     "data": {
      "text/plain": [
       "array([[0., 1., 0., 0., 0., 0.],\n",
       "       [0., 1., 0., 0., 0., 0.],\n",
       "       [0., 1., 0., 0., 0., 0.],\n",
       "       [0., 1., 0., 0., 0., 0.],\n",
       "       [0., 1., 0., 0., 0., 0.],\n",
       "       [0., 1., 0., 0., 0., 0.],\n",
       "       [0., 1., 0., 0., 0., 0.],\n",
       "       [0., 1., 0., 0., 0., 0.],\n",
       "       [0., 1., 0., 0., 0., 0.]])"
      ]
     },
     "execution_count": 31,
     "metadata": {},
     "output_type": "execute_result"
    }
   ],
   "source": [
    "test_label_enc[551:560]"
   ]
  },
  {
   "cell_type": "code",
   "execution_count": 40,
   "metadata": {},
   "outputs": [
    {
     "data": {
      "text/plain": [
       "array([0, 0, 0, 0, 0, 0, 0, 0, 0, 0, 0, 0, 0, 0, 0, 0, 0, 0, 0, 0, 0, 0,\n",
       "       0, 0, 0, 0, 0, 0, 0, 0, 0, 0, 0, 0, 0, 0, 0, 0, 0, 0, 0, 0, 0, 0,\n",
       "       0, 0, 0, 0, 0, 0, 1, 1, 1, 1, 1, 1, 1, 1, 1, 1, 1, 1, 1, 1, 1, 1,\n",
       "       1, 1, 1, 1, 1, 1, 1, 1, 1, 1, 1, 1, 1, 1, 1, 1, 1, 1, 1, 1, 1, 1,\n",
       "       1, 1, 1, 1, 1, 1, 1, 1, 1, 1, 1, 1, 1, 1, 1, 1, 1, 1, 1, 1, 1, 1,\n",
       "       1, 1, 1, 1, 1, 1, 1, 1, 1, 1, 1, 1, 1, 1, 1, 1, 1, 1, 1, 1, 1, 1,\n",
       "       1, 1, 1, 1, 1, 1, 1, 1, 1, 1, 1, 1, 1, 1, 1, 1, 1, 1, 1, 1, 1, 1,\n",
       "       1, 1, 1, 1, 1, 1, 1, 1, 1, 1, 1, 1, 1, 1, 1, 1, 1, 1, 1, 1, 1, 1,\n",
       "       1, 1, 1, 1, 1, 1, 1, 1, 1, 1, 1, 1, 1, 1, 1, 1, 1, 1, 1, 1, 1, 1,\n",
       "       1, 1, 1, 1, 1, 1, 1, 1, 1, 1, 1, 1, 1, 1, 1, 1, 1, 1, 1, 1, 1, 1,\n",
       "       1, 1, 1, 1, 1, 1, 1, 1, 1, 1, 1, 1, 1, 1, 1, 1, 1, 1, 1, 1, 1, 1,\n",
       "       1, 1, 1, 1, 1, 1, 1, 1, 1, 1, 1, 1, 1, 1, 1, 1, 1, 1, 1, 1, 1, 1,\n",
       "       1, 1, 1, 1, 1, 1, 1, 1, 1, 1, 1, 1, 1, 1, 1, 1, 1, 1, 1, 1, 1, 1,\n",
       "       1, 1, 1, 1, 1, 1, 1, 1, 1, 1, 1, 1, 1, 1, 1, 1, 1, 1, 1, 1, 1, 1,\n",
       "       1, 1, 1, 1, 1, 1, 1, 1, 1, 1, 1, 1, 1, 1, 1, 1, 1, 1, 1, 1, 1, 1,\n",
       "       1, 1, 1, 1, 1, 1, 1, 1, 1, 1, 1, 1, 1, 1, 1, 1, 1, 1, 1, 1, 1, 1,\n",
       "       1, 1, 1, 1, 1, 1, 1, 1, 1, 1, 1, 1, 1, 1, 1, 1, 1, 1, 1, 1, 1, 1,\n",
       "       1, 1, 1, 1, 1, 1, 1, 1, 1, 1, 1, 1, 1, 1, 1, 1, 1, 1, 1, 1, 1, 1,\n",
       "       1, 1, 1, 1, 1, 1, 1, 1, 1, 1, 1, 1, 1, 1, 1, 1, 1, 1, 1, 1, 1, 1,\n",
       "       1, 1, 1, 1, 1, 1, 1, 1, 1, 1, 1, 1, 1, 1, 1, 1, 1, 1, 1, 1, 1, 1,\n",
       "       1, 1, 1, 1, 1, 1, 1, 1, 1, 1, 1, 1, 1, 1, 1, 1, 1, 1, 1, 1, 1, 1,\n",
       "       1, 1, 1, 1, 1, 1, 1, 1, 1, 1, 1, 1, 1, 1, 1, 1, 1, 1, 1, 1, 1, 1,\n",
       "       1, 1, 1, 1, 1, 1, 1, 1, 1, 1, 1, 1, 1, 1, 1, 1, 1, 1, 1, 1, 1, 1,\n",
       "       1, 1, 1, 1, 1, 1, 1, 1, 1, 1, 1, 1, 1, 1, 1, 1, 1, 1, 1, 1, 1, 1,\n",
       "       1, 1, 1, 1, 1, 1, 1, 1, 1, 1, 1, 1, 1, 1, 1, 1, 1, 1, 1, 1, 1, 1,\n",
       "       1, 1, 1, 1, 1, 1, 1, 1, 1, 1, 1, 1, 1, 1, 1, 1, 1, 1, 1, 1, 1, 1,\n",
       "       1, 1, 1, 1, 1, 1, 1, 1, 1, 1, 1, 1, 1, 1, 1, 1, 1, 1, 1, 1, 1, 1,\n",
       "       1, 1, 1, 1, 1, 1, 1, 1, 1, 1, 1, 1, 1, 1, 1, 1, 1, 1, 1, 1, 1, 1,\n",
       "       1, 1, 1, 1, 1, 1, 1, 1, 1, 1, 1, 1, 1, 1, 1, 1, 1, 1, 1, 1, 1, 1,\n",
       "       1, 1, 1, 1, 1, 1, 1, 1, 1, 1, 1, 1, 2, 2, 2, 2, 2, 2, 2, 2, 2, 2])"
      ]
     },
     "execution_count": 40,
     "metadata": {},
     "output_type": "execute_result"
    }
   ],
   "source": [
    "test_image_label[100:760]"
   ]
  },
  {
   "cell_type": "code",
   "execution_count": 56,
   "metadata": {},
   "outputs": [
    {
     "name": "stdout",
     "output_type": "stream",
     "text": [
      "300\n"
     ]
    }
   ],
   "source": [
    "count=0\n",
    "for i in test_image_label:\n",
    "    if i==5:\n",
    "        count +=1\n",
    "    else:\n",
    "        pass\n",
    "print(count)"
   ]
  },
  {
   "cell_type": "code",
   "execution_count": 58,
   "metadata": {},
   "outputs": [
    {
     "name": "stdout",
     "output_type": "stream",
     "text": [
      "0\n",
      "D:\\ILBS_14_8_21_Sanjeev\\ILBS_Clustered_Volumes\\test\\00_5\n",
      "1\n",
      "D:\\ILBS_14_8_21_Sanjeev\\ILBS_Clustered_Volumes\\test\\06_10\n",
      "2\n",
      "D:\\ILBS_14_8_21_Sanjeev\\ILBS_Clustered_Volumes\\test\\11_15\n",
      "3\n",
      "D:\\ILBS_14_8_21_Sanjeev\\ILBS_Clustered_Volumes\\test\\16_20\n",
      "4\n",
      "D:\\ILBS_14_8_21_Sanjeev\\ILBS_Clustered_Volumes\\test\\21_25\n",
      "5\n",
      "D:\\ILBS_14_8_21_Sanjeev\\ILBS_Clustered_Volumes\\test\\26_30\n"
     ]
    }
   ],
   "source": [
    "#def import_maps(path):\n",
    "path = r'D:\\ILBS_14_8_21_Sanjeev\\ILBS_Clustered_Volumes\\test'\n",
    "images = []\n",
    "for index, name in enumerate(os.listdir(path)):\n",
    "    print(index)\n",
    "    folder = os.path.join(path, name)\n",
    "    print(folder)\n",
    "#     for file_class in os.listdir(folder):\n",
    "#         im_folder = os.path.join(folder, file_class)\n",
    "\n",
    "#         for im in os.listdir(im_folder):\n",
    "#             img = cv2.imread(os.path.join(im_folder, im))\n",
    "#             img = cv2.cvtColor(img, cv2.COLOR_RGB2GRAY)\n",
    "#             img = cv2.resize(img, (196, 196))\n",
    "#             if img is not None:\n",
    "#                 images.append((np.array(img), index)) \n",
    "#     return images"
   ]
  },
  {
   "cell_type": "code",
   "execution_count": null,
   "metadata": {},
   "outputs": [],
   "source": []
  }
 ],
 "metadata": {
  "kernelspec": {
   "display_name": "Python 3",
   "language": "python",
   "name": "python3"
  },
  "language_info": {
   "codemirror_mode": {
    "name": "ipython",
    "version": 3
   },
   "file_extension": ".py",
   "mimetype": "text/x-python",
   "name": "python",
   "nbconvert_exporter": "python",
   "pygments_lexer": "ipython3",
   "version": "3.7.9"
  }
 },
 "nbformat": 4,
 "nbformat_minor": 4
}

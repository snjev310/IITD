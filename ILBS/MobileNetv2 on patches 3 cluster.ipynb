{
 "cells": [
  {
   "cell_type": "code",
   "execution_count": 1,
   "id": "4912a50f",
   "metadata": {},
   "outputs": [],
   "source": [
    "import pandas as pd\n",
    "import numpy as np\n",
    "import matplotlib.pyplot as plt\n",
    "import os\n",
    "import glob\n",
    "import cv2\n",
    "from sklearn.model_selection import train_test_split\n",
    "from tensorflow.keras import layers\n",
    "from tensorflow.keras.models import Sequential\n",
    "from tensorflow.keras.layers import Dense, Flatten, Conv2D, MaxPooling2D, Dropout, BatchNormalization, MaxPool2D\n",
    "from IPython.display import Image, display\n",
    "import matplotlib.pyplot as plt\n",
    "import matplotlib.cm as cm\n",
    "import tensorflow as tf\n",
    "from tensorflow import keras\n",
    "from sklearn.preprocessing import OneHotEncoder, StandardScaler\n",
    "from sklearn.metrics import *"
   ]
  },
  {
   "cell_type": "code",
   "execution_count": 2,
   "id": "860ca5e0",
   "metadata": {},
   "outputs": [
    {
     "data": {
      "text/plain": [
       "1"
      ]
     },
     "execution_count": 2,
     "metadata": {},
     "output_type": "execute_result"
    }
   ],
   "source": [
    "len(tf.config.list_physical_devices('GPU'))"
   ]
  },
  {
   "cell_type": "code",
   "execution_count": 3,
   "id": "0a0d8db8",
   "metadata": {},
   "outputs": [],
   "source": [
    "def import_maps(path):\n",
    "    images = []\n",
    "    for index, name in enumerate(os.listdir(path)):\n",
    "        folder = os.path.join(path, name)\n",
    "        for file_class in os.listdir(folder):\n",
    "            if 'patches' in file_class:\n",
    "                im_folder = os.path.join(folder, file_class)\n",
    "#                 print(im_folder)\n",
    "#                 break\n",
    "                for im in os.listdir(im_folder):\n",
    "                    img = cv2.imread(os.path.join(im_folder, im))\n",
    "                    #print(img.shape)\n",
    "                    if img is not None:\n",
    "                        img = cv2.cvtColor(img, cv2.COLOR_RGB2GRAY)\n",
    "                        img1 = cv2.resize(img, (192, 192))\n",
    "                        img = np.dstack((img1,img1,img1))\n",
    "                    if img is not None:\n",
    "                   #     img = (img-np.mean(img))/np.std(img)\n",
    "                        images.append((np.array(img), index)) \n",
    "    return images"
   ]
  },
  {
   "cell_type": "code",
   "execution_count": 4,
   "id": "540e4c53",
   "metadata": {},
   "outputs": [],
   "source": [
    "image_train_set = import_maps(r'C:\\Users\\AIIMS-IITD\\Downloads\\Meeting_2_9_10\\3_cluster_seg\\Train')\n",
    "image_test_set = import_maps(r'C:\\Users\\AIIMS-IITD\\Downloads\\Meeting_2_9_10\\3_cluster_seg\\Test')"
   ]
  },
  {
   "cell_type": "code",
   "execution_count": 5,
   "id": "81ff5894",
   "metadata": {},
   "outputs": [],
   "source": [
    "train_images_all = [i[0] for i in image_train_set]\n",
    "train_images_array = np.array(train_images_all)\n",
    "#train_images_array=np.expand_dims(train_images_array,axis=3)\n",
    "train_image_label = [i[1] for i in image_train_set]\n",
    "train_image_label = np.array(train_image_label)"
   ]
  },
  {
   "cell_type": "code",
   "execution_count": 6,
   "id": "105c4f99",
   "metadata": {},
   "outputs": [],
   "source": [
    "test_images_all = [i[0] for i in image_test_set]\n",
    "test_images_array = np.array(test_images_all)\n",
    "#test_images_array=np.expand_dims(test_images_array,axis=3)\n",
    "test_image_label = [i[1] for i in image_test_set]\n",
    "test_image_label = np.array(test_image_label)"
   ]
  },
  {
   "cell_type": "code",
   "execution_count": 7,
   "id": "75b402f4",
   "metadata": {},
   "outputs": [],
   "source": [
    "scalar = StandardScaler(copy=False)\n",
    "train_images = scalar.fit_transform(train_images_array.reshape(len(train_images_array), 192*192*3))\n",
    "train_images_array = train_images.reshape(len(train_images_array), 192,192, 3)"
   ]
  },
  {
   "cell_type": "code",
   "execution_count": 8,
   "id": "3d5b5bd1",
   "metadata": {},
   "outputs": [],
   "source": [
    "test_image = scalar.fit_transform(test_images_array.reshape(len(test_images_array),192*192*3))\n",
    "test_image_array = test_image.reshape(len(test_images_array),192,192,3)"
   ]
  },
  {
   "cell_type": "code",
   "execution_count": 9,
   "id": "88bf9bec",
   "metadata": {},
   "outputs": [],
   "source": [
    "train_x, val_x, train_y, val_y = train_test_split(train_images_array,train_image_label,test_size=0.2)"
   ]
  },
  {
   "cell_type": "code",
   "execution_count": 10,
   "id": "dc7b533f",
   "metadata": {},
   "outputs": [],
   "source": [
    "enc = OneHotEncoder(handle_unknown='ignore')\n",
    "train_label_enc = enc.fit_transform(train_image_label.reshape(-1, 1)).toarray()\n",
    "val_label_enc = enc.fit_transform(val_y.reshape(-1, 1)).toarray()\n",
    "test_label_enc = enc.fit_transform(test_image_label.reshape(-1, 1)).toarray()"
   ]
  },
  {
   "cell_type": "code",
   "execution_count": null,
   "id": "2dd2af6f",
   "metadata": {},
   "outputs": [],
   "source": [
    "from keras.applications.mobilenet_v2 import MobileNetV2\n",
    "model = MobileNetV2()"
   ]
  },
  {
   "cell_type": "code",
   "execution_count": null,
   "id": "b2ce100b",
   "metadata": {},
   "outputs": [],
   "source": [
    "from keras.layers import Flatten,Dropout,Dense,Activation,Input\n",
    "from keras.models import Model\n",
    "from tensorflow.keras import regularizers\n",
    "\n",
    "new_input = Input(shape=(224, 224, 1))\n",
    "model1 = MobileNetV2(include_top = False, input_shape=(192,192,3))\n",
    "layer = model1.get_layer('out_relu').output\n",
    "x = Flatten()(layer)\n",
    "x = Dropout(0.5)(x)\n",
    "x = Dense(128,activation = 'relu',kernel_regularizer=regularizers.l1_l2(l1=1e-5, l2=1e-4),bias_regularizer=regularizers.l2(1e-4))(x)\n",
    "x = Dropout(0.25)(x)\n",
    "out = Dense(3,activation = 'softmax')(x)\n",
    "model = Model(model1.input,out)"
   ]
  },
  {
   "cell_type": "code",
   "execution_count": null,
   "id": "39e2a059",
   "metadata": {},
   "outputs": [],
   "source": [
    "model.compile(loss=keras.losses.categorical_crossentropy,optimizer = keras.optimizers.SGD(0.001),metrics=['accuracy','AUC'])"
   ]
  },
  {
   "cell_type": "code",
   "execution_count": 34,
   "id": "f050a840",
   "metadata": {
    "scrolled": true
   },
   "outputs": [
    {
     "name": "stdout",
     "output_type": "stream",
     "text": [
      "Epoch 1/20\n",
      "239/239 [==============================] - 77s 207ms/step - loss: 1.0334 - accuracy: 0.7442 - auc: 0.8917 - val_loss: 1.0047 - val_accuracy: 0.7397 - val_auc: 0.8906\n",
      "Epoch 2/20\n",
      "239/239 [==============================] - 31s 130ms/step - loss: 0.6059 - accuracy: 0.9052 - auc: 0.9829 - val_loss: 0.8332 - val_accuracy: 0.8105 - val_auc: 0.9425\n",
      "Epoch 3/20\n",
      "239/239 [==============================] - 30s 124ms/step - loss: 0.4773 - accuracy: 0.9574 - auc: 0.9960 - val_loss: 0.6832 - val_accuracy: 0.8813 - val_auc: 0.9726\n",
      "Epoch 4/20\n",
      "239/239 [==============================] - 31s 131ms/step - loss: 0.4243 - accuracy: 0.9793 - auc: 0.9988 - val_loss: 0.5992 - val_accuracy: 0.9115 - val_auc: 0.9840\n",
      "Epoch 5/20\n",
      "239/239 [==============================] - 30s 125ms/step - loss: 0.3980 - accuracy: 0.9875 - auc: 0.9997 - val_loss: 0.4780 - val_accuracy: 0.9574 - val_auc: 0.9961\n",
      "Epoch 6/20\n",
      "239/239 [==============================] - 29s 122ms/step - loss: 0.3887 - accuracy: 0.9907 - auc: 0.9998 - val_loss: 0.4198 - val_accuracy: 0.9810 - val_auc: 0.9990\n",
      "Epoch 7/20\n",
      "239/239 [==============================] - 29s 123ms/step - loss: 0.3825 - accuracy: 0.9930 - auc: 0.9999 - val_loss: 0.3794 - val_accuracy: 0.9934 - val_auc: 0.9999\n",
      "Epoch 8/20\n",
      "239/239 [==============================] - 29s 120ms/step - loss: 0.3758 - accuracy: 0.9962 - auc: 0.9999 - val_loss: 0.3671 - val_accuracy: 1.0000 - val_auc: 1.0000\n",
      "Epoch 9/20\n",
      "239/239 [==============================] - 29s 121ms/step - loss: 0.3726 - accuracy: 0.9959 - auc: 1.0000 - val_loss: 0.3635 - val_accuracy: 1.0000 - val_auc: 1.0000\n",
      "Epoch 10/20\n",
      "239/239 [==============================] - 29s 121ms/step - loss: 0.3701 - accuracy: 0.9975 - auc: 0.9999 - val_loss: 0.3608 - val_accuracy: 1.0000 - val_auc: 1.0000\n",
      "Epoch 11/20\n",
      "239/239 [==============================] - 30s 124ms/step - loss: 0.3691 - accuracy: 0.9978 - auc: 1.0000 - val_loss: 0.3604 - val_accuracy: 1.0000 - val_auc: 1.0000\n",
      "Epoch 12/20\n",
      "239/239 [==============================] - 30s 125ms/step - loss: 0.3672 - accuracy: 0.9982 - auc: 1.0000 - val_loss: 0.3600 - val_accuracy: 1.0000 - val_auc: 1.0000\n",
      "Epoch 13/20\n",
      "239/239 [==============================] - 29s 121ms/step - loss: 0.3677 - accuracy: 0.9967 - auc: 1.0000 - val_loss: 0.3597 - val_accuracy: 1.0000 - val_auc: 1.0000\n",
      "Epoch 14/20\n",
      "239/239 [==============================] - 29s 123ms/step - loss: 0.3652 - accuracy: 0.9987 - auc: 1.0000 - val_loss: 0.3594 - val_accuracy: 1.0000 - val_auc: 1.0000\n",
      "Epoch 15/20\n",
      "239/239 [==============================] - 29s 120ms/step - loss: 0.3650 - accuracy: 0.9983 - auc: 1.0000 - val_loss: 0.3592 - val_accuracy: 1.0000 - val_auc: 1.0000\n",
      "Epoch 16/20\n",
      "239/239 [==============================] - 29s 122ms/step - loss: 0.3647 - accuracy: 0.9984 - auc: 1.0000 - val_loss: 0.3590 - val_accuracy: 1.0000 - val_auc: 1.0000\n",
      "Epoch 17/20\n",
      "239/239 [==============================] - 30s 126ms/step - loss: 0.3623 - accuracy: 0.9991 - auc: 1.0000 - val_loss: 0.3588 - val_accuracy: 1.0000 - val_auc: 1.0000\n",
      "Epoch 18/20\n",
      "239/239 [==============================] - 29s 122ms/step - loss: 0.3638 - accuracy: 0.9984 - auc: 1.0000 - val_loss: 0.3586 - val_accuracy: 1.0000 - val_auc: 1.0000\n",
      "Epoch 19/20\n",
      "239/239 [==============================] - 29s 121ms/step - loss: 0.3617 - accuracy: 0.9990 - auc: 1.0000 - val_loss: 0.3584 - val_accuracy: 1.0000 - val_auc: 1.0000\n",
      "Epoch 20/20\n",
      "239/239 [==============================] - 29s 121ms/step - loss: 0.3617 - accuracy: 0.9991 - auc: 1.0000 - val_loss: 0.3583 - val_accuracy: 1.0000 - val_auc: 1.0000\n"
     ]
    }
   ],
   "source": [
    "history = model.fit(train_images_array,train_label_enc,validation_data=(val_x,val_label_enc), batch_size=32, epochs=20, verbose=1,shuffle=True)"
   ]
  },
  {
   "cell_type": "code",
   "execution_count": 35,
   "id": "df5776e5",
   "metadata": {},
   "outputs": [
    {
     "name": "stdout",
     "output_type": "stream",
     "text": [
      "35/35 [==============================] - 1s 28ms/step - loss: 2.3308 - accuracy: 0.6667 - auc: 0.8066\n"
     ]
    }
   ],
   "source": [
    "score = model.evaluate(test_image_array,test_label_enc, batch_size=32)"
   ]
  },
  {
   "cell_type": "code",
   "execution_count": 36,
   "id": "d26986db",
   "metadata": {},
   "outputs": [],
   "source": [
    "y_predict = model.predict(test_image_array)"
   ]
  },
  {
   "cell_type": "code",
   "execution_count": 37,
   "id": "9ad5d917",
   "metadata": {},
   "outputs": [],
   "source": [
    "y_predict_bool = np.argmax(y_predict,axis=1).tolist()"
   ]
  },
  {
   "cell_type": "code",
   "execution_count": 38,
   "id": "c09f4c1e",
   "metadata": {},
   "outputs": [
    {
     "data": {
      "text/plain": [
       "array([[204,  36, 129],\n",
       "       [ 22,   8, 119],\n",
       "       [ 21,  43, 528]], dtype=int64)"
      ]
     },
     "execution_count": 38,
     "metadata": {},
     "output_type": "execute_result"
    }
   ],
   "source": [
    "confusion_matrix(test_image_label,y_predict_bool)"
   ]
  },
  {
   "cell_type": "code",
   "execution_count": 39,
   "id": "dd21342b",
   "metadata": {},
   "outputs": [
    {
     "name": "stdout",
     "output_type": "stream",
     "text": [
      "              precision    recall  f1-score   support\n",
      "\n",
      "           0       0.83      0.55      0.66       369\n",
      "           1       0.09      0.05      0.07       149\n",
      "           2       0.68      0.89      0.77       592\n",
      "\n",
      "    accuracy                           0.67      1110\n",
      "   macro avg       0.53      0.50      0.50      1110\n",
      "weighted avg       0.65      0.67      0.64      1110\n",
      "\n"
     ]
    }
   ],
   "source": [
    "print(classification_report(test_image_label,y_predict_bool))"
   ]
  },
  {
   "cell_type": "code",
   "execution_count": 20,
   "id": "39436b36",
   "metadata": {},
   "outputs": [
    {
     "data": {
      "text/plain": [
       "84.96621621621621"
      ]
     },
     "execution_count": 20,
     "metadata": {},
     "output_type": "execute_result"
    }
   ],
   "source": [
    "503/(19+71+502) *100"
   ]
  },
  {
   "cell_type": "code",
   "execution_count": 22,
   "id": "1af9e571",
   "metadata": {},
   "outputs": [
    {
     "data": {
      "text/plain": [
       "53.116531165311656"
      ]
     },
     "execution_count": 22,
     "metadata": {},
     "output_type": "execute_result"
    }
   ],
   "source": [
    "196/(196+45+128) *100"
   ]
  },
  {
   "cell_type": "code",
   "execution_count": 40,
   "id": "8416f58f",
   "metadata": {},
   "outputs": [
    {
     "data": {
      "image/png": "[encoded data removed]",
      "text/plain": [
       "<Figure size 432x288 with 1 Axes>"
      ]
     },
     "metadata": {
      "needs_background": "light"
     },
     "output_type": "display_data"
    }
   ],
   "source": [
    "import matplotlib.pyplot as plt\n",
    "plt.plot(history.history['accuracy'])\n",
    "plt.plot(history.history['val_accuracy'])\n",
    "plt.title('model accuracy')\n",
    "plt.ylabel('accuracy')\n",
    "plt.xlabel('epoch')\n",
    "plt.legend(['train', 'val'], loc='upper left')\n",
    "plt.show()"
   ]
  },
  {
   "cell_type": "code",
   "execution_count": 41,
   "id": "cd65b64b",
   "metadata": {},
   "outputs": [
    {
     "data": {
      "image/png": "[encoded data removed]",
      "text/plain": [
       "<Figure size 432x288 with 1 Axes>"
      ]
     },
     "metadata": {
      "needs_background": "light"
     },
     "output_type": "display_data"
    }
   ],
   "source": [
    "import matplotlib.pyplot as plt\n",
    "plt.plot(history.history['loss'])\n",
    "plt.plot(history.history['val_loss'])\n",
    "plt.title('model loss')\n",
    "plt.ylabel('loss')\n",
    "plt.xlabel('epoch')\n",
    "plt.legend(['train', 'val'], loc='upper left')\n",
    "plt.show()"
   ]
  },
  {
   "cell_type": "code",
   "execution_count": 43,
   "id": "e364f684",
   "metadata": {},
   "outputs": [
    {
     "data": {
      "image/png": "[encoded data removed]",
      "text/plain": [
       "<Figure size 432x288 with 1 Axes>"
      ]
     },
     "metadata": {
      "needs_background": "light"
     },
     "output_type": "display_data"
    }
   ],
   "source": [
    "import matplotlib.pyplot as plt\n",
    "plt.plot(history.history['auc'])\n",
    "plt.plot(history.history['val_auc'])\n",
    "plt.title('model AUC')\n",
    "plt.ylabel('auc')\n",
    "plt.xlabel('epoch')\n",
    "plt.legend(['train', 'val'], loc='upper right')\n",
    "plt.show()"
   ]
  },
  {
   "cell_type": "code",
   "execution_count": 11,
   "id": "4e9d36fa",
   "metadata": {},
   "outputs": [
    {
     "data": {
      "text/plain": [
       "(7623, 192, 192, 3)"
      ]
     },
     "execution_count": 11,
     "metadata": {},
     "output_type": "execute_result"
    }
   ],
   "source": [
    "train_images_array.shape"
   ]
  },
  {
   "cell_type": "code",
   "execution_count": 12,
   "id": "31d1b119",
   "metadata": {},
   "outputs": [],
   "source": [
    "model = tf.keras.Sequential([\n",
    "    tf.keras.layers.Conv2D(32, (3,3), padding='same', activation=tf.nn.relu,\n",
    "                           input_shape=(192,192,3)),\n",
    "    tf.keras.layers.MaxPooling2D((2, 2), strides=2),\n",
    "    tf.keras.layers.Conv2D(32, (3,3), padding='same', activation=tf.nn.relu),\n",
    "    tf.keras.layers.MaxPooling2D((2, 2), strides=2),\n",
    "    tf.keras.layers.Dropout(0.5),\n",
    "    tf.keras.layers.Flatten(),\n",
    "    tf.keras.layers.Dense(128, activation=tf.nn.relu),\n",
    "    tf.keras.layers.Dense(4,  activation=tf.nn.softmax)\n",
    "])"
   ]
  },
  {
   "cell_type": "code",
   "execution_count": 13,
   "id": "c256e1a0",
   "metadata": {},
   "outputs": [
    {
     "name": "stdout",
     "output_type": "stream",
     "text": [
      "Model: \"sequential\"\n",
      "_________________________________________________________________\n",
      "Layer (type)                 Output Shape              Param #   \n",
      "=================================================================\n",
      "conv2d (Conv2D)              (None, 192, 192, 32)      896       \n",
      "_________________________________________________________________\n",
      "max_pooling2d (MaxPooling2D) (None, 96, 96, 32)        0         \n",
      "_________________________________________________________________\n",
      "conv2d_1 (Conv2D)            (None, 96, 96, 32)        9248      \n",
      "_________________________________________________________________\n",
      "max_pooling2d_1 (MaxPooling2 (None, 48, 48, 32)        0         \n",
      "_________________________________________________________________\n",
      "dropout (Dropout)            (None, 48, 48, 32)        0         \n",
      "_________________________________________________________________\n",
      "flatten (Flatten)            (None, 73728)             0         \n",
      "_________________________________________________________________\n",
      "dense (Dense)                (None, 128)               9437312   \n",
      "_________________________________________________________________\n",
      "dense_1 (Dense)              (None, 4)                 516       \n",
      "=================================================================\n",
      "Total params: 9,447,972\n",
      "Trainable params: 9,447,972\n",
      "Non-trainable params: 0\n",
      "_________________________________________________________________\n",
      "None\n"
     ]
    }
   ],
   "source": [
    "model.compile(optimizer='adam',loss='categorical_crossentropy',metrics=['accuracy'])\n",
    "print(model.summary())"
   ]
  },
  {
   "cell_type": "code",
   "execution_count": null,
   "id": "1aabf98b",
   "metadata": {},
   "outputs": [
    {
     "name": "stderr",
     "output_type": "stream",
     "text": [
      "ERROR:root:Internal Python error in the inspect module.\n",
      "Below is the traceback from this internal error.\n",
      "\n"
     ]
    }
   ],
   "source": [
    "his = model.fit(train_images_array,train_label_enc, batch_size = 32, epochs = 20, verbose = 1, validation_data = (val_x,val_label_enc))"
   ]
  },
  {
   "cell_type": "code",
   "execution_count": null,
   "id": "d368c603",
   "metadata": {},
   "outputs": [],
   "source": []
  }
 ],
 "metadata": {
  "kernelspec": {
   "display_name": "Python 3",
   "language": "python",
   "name": "python3"
  },
  "language_info": {
   "codemirror_mode": {
    "name": "ipython",
    "version": 3
   },
   "file_extension": ".py",
   "mimetype": "text/x-python",
   "name": "python",
   "nbconvert_exporter": "python",
   "pygments_lexer": "ipython3",
   "version": "3.8.8"
  }
 },
 "nbformat": 4,
 "nbformat_minor": 5
}

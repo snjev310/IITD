{
 "cells": [
  {
   "cell_type": "code",
   "execution_count": 1,
   "metadata": {},
   "outputs": [],
   "source": [
    "import pandas as pd\n",
    "import numpy as np\n",
    "import matplotlib.pyplot as plt\n",
    "import os\n",
    "import glob\n",
    "import cv2\n",
    "from sklearn.model_selection import train_test_split\n",
    "from tensorflow.keras import layers\n",
    "from tensorflow.keras.models import Sequential\n",
    "from tensorflow.keras.layers import Dense, Flatten, Conv2D, MaxPooling2D, Dropout, BatchNormalization\n",
    "from IPython.display import Image, display\n",
    "import matplotlib.pyplot as plt\n",
    "import matplotlib.cm as cm"
   ]
  },
  {
   "cell_type": "code",
   "execution_count": 2,
   "metadata": {},
   "outputs": [],
   "source": [
    "path = 'Work_to_be_Completed_ILBS'\n",
    "pid = []\n",
    "image_file = []\n",
    "for fname in os.listdir(path):\n",
    "    if fname.isdigit():\n",
    "        pid.append(fname)\n",
    "        for fname_ins in os.listdir(path+'\\\\'+fname):\n",
    "            image_file.append(path+'\\\\'+fname+'\\\\'+fname_ins)"
   ]
  },
  {
   "cell_type": "code",
   "execution_count": 3,
   "metadata": {},
   "outputs": [],
   "source": [
    "df_f = pd.DataFrame(image_file)"
   ]
  },
  {
   "cell_type": "code",
   "execution_count": 4,
   "metadata": {},
   "outputs": [
    {
     "data": {
      "text/plain": [
       "'00910'"
      ]
     },
     "execution_count": 4,
     "metadata": {},
     "output_type": "execute_result"
    }
   ],
   "source": [
    "df_f[0][1].split('\\\\')[-2]\n"
   ]
  },
  {
   "cell_type": "code",
   "execution_count": 53,
   "metadata": {},
   "outputs": [],
   "source": [
    "xls = pd.ExcelFile(path+'\\\\'+'HVPG Training Value_u.xlsx',engine='openpyxl')\n",
    "df_label_train = pd.read_excel(xls,'Train')\n",
    "df_label_test = pd.read_excel(xls,'Test')"
   ]
  },
  {
   "cell_type": "code",
   "execution_count": 54,
   "metadata": {},
   "outputs": [
    {
     "data": {
      "text/html": [
       "<div>\n",
       "<style scoped>\n",
       "    .dataframe tbody tr th:only-of-type {\n",
       "        vertical-align: middle;\n",
       "    }\n",
       "\n",
       "    .dataframe tbody tr th {\n",
       "        vertical-align: top;\n",
       "    }\n",
       "\n",
       "    .dataframe thead th {\n",
       "        text-align: right;\n",
       "    }\n",
       "</style>\n",
       "<table border=\"1\" class=\"dataframe\">\n",
       "  <thead>\n",
       "    <tr style=\"text-align: right;\">\n",
       "      <th></th>\n",
       "      <th>ID</th>\n",
       "      <th>Date</th>\n",
       "      <th>HVPG</th>\n",
       "    </tr>\n",
       "  </thead>\n",
       "  <tbody>\n",
       "    <tr>\n",
       "      <th>0</th>\n",
       "      <td>161885</td>\n",
       "      <td>2019-01-29</td>\n",
       "      <td>2</td>\n",
       "    </tr>\n",
       "    <tr>\n",
       "      <th>1</th>\n",
       "      <td>171969</td>\n",
       "      <td>2019-02-19</td>\n",
       "      <td>3</td>\n",
       "    </tr>\n",
       "    <tr>\n",
       "      <th>2</th>\n",
       "      <td>187698</td>\n",
       "      <td>2019-02-04</td>\n",
       "      <td>4</td>\n",
       "    </tr>\n",
       "    <tr>\n",
       "      <th>3</th>\n",
       "      <td>175634</td>\n",
       "      <td>2019-02-13</td>\n",
       "      <td>5</td>\n",
       "    </tr>\n",
       "    <tr>\n",
       "      <th>4</th>\n",
       "      <td>173378</td>\n",
       "      <td>2019-02-20</td>\n",
       "      <td>7</td>\n",
       "    </tr>\n",
       "  </tbody>\n",
       "</table>\n",
       "</div>"
      ],
      "text/plain": [
       "       ID       Date  HVPG\n",
       "0  161885 2019-01-29     2\n",
       "1  171969 2019-02-19     3\n",
       "2  187698 2019-02-04     4\n",
       "3  175634 2019-02-13     5\n",
       "4  173378 2019-02-20     7"
      ]
     },
     "execution_count": 54,
     "metadata": {},
     "output_type": "execute_result"
    }
   ],
   "source": [
    "df_label_train.head()"
   ]
  },
  {
   "cell_type": "code",
   "execution_count": 55,
   "metadata": {},
   "outputs": [
    {
     "data": {
      "text/html": [
       "<div>\n",
       "<style scoped>\n",
       "    .dataframe tbody tr th:only-of-type {\n",
       "        vertical-align: middle;\n",
       "    }\n",
       "\n",
       "    .dataframe tbody tr th {\n",
       "        vertical-align: top;\n",
       "    }\n",
       "\n",
       "    .dataframe thead th {\n",
       "        text-align: right;\n",
       "    }\n",
       "</style>\n",
       "<table border=\"1\" class=\"dataframe\">\n",
       "  <thead>\n",
       "    <tr style=\"text-align: right;\">\n",
       "      <th></th>\n",
       "      <th>ID</th>\n",
       "      <th>Date</th>\n",
       "      <th>HVPG</th>\n",
       "    </tr>\n",
       "  </thead>\n",
       "  <tbody>\n",
       "    <tr>\n",
       "      <th>0</th>\n",
       "      <td>187107</td>\n",
       "      <td>2019-02-08</td>\n",
       "      <td>3</td>\n",
       "    </tr>\n",
       "    <tr>\n",
       "      <th>1</th>\n",
       "      <td>187072</td>\n",
       "      <td>2019-01-30</td>\n",
       "      <td>9</td>\n",
       "    </tr>\n",
       "    <tr>\n",
       "      <th>2</th>\n",
       "      <td>187479</td>\n",
       "      <td>2019-02-05</td>\n",
       "      <td>10</td>\n",
       "    </tr>\n",
       "    <tr>\n",
       "      <th>3</th>\n",
       "      <td>188094</td>\n",
       "      <td>2019-02-09</td>\n",
       "      <td>10</td>\n",
       "    </tr>\n",
       "    <tr>\n",
       "      <th>4</th>\n",
       "      <td>188674</td>\n",
       "      <td>2019-02-21</td>\n",
       "      <td>11</td>\n",
       "    </tr>\n",
       "  </tbody>\n",
       "</table>\n",
       "</div>"
      ],
      "text/plain": [
       "       ID       Date  HVPG\n",
       "0  187107 2019-02-08     3\n",
       "1  187072 2019-01-30     9\n",
       "2  187479 2019-02-05    10\n",
       "3  188094 2019-02-09    10\n",
       "4  188674 2019-02-21    11"
      ]
     },
     "execution_count": 55,
     "metadata": {},
     "output_type": "execute_result"
    }
   ],
   "source": [
    "df_label_test.head()"
   ]
  },
  {
   "cell_type": "code",
   "execution_count": 56,
   "metadata": {},
   "outputs": [
    {
     "data": {
      "text/plain": [
       "84"
      ]
     },
     "execution_count": 56,
     "metadata": {},
     "output_type": "execute_result"
    }
   ],
   "source": [
    "df_label_train['HVPG'].count()"
   ]
  },
  {
   "cell_type": "code",
   "execution_count": 9,
   "metadata": {},
   "outputs": [],
   "source": [
    "labels_train = []\n",
    "for row in df_f.values.tolist():\n",
    "    id_ = int(row[0].split('\\\\')[-2])\n",
    "    if id_ == 910:\n",
    "        id_ = 9109\n",
    "    for rows in df_label_train.values.tolist():\n",
    "        if id_==rows[0]:\n",
    "            labels_train.append([row[0],rows[-1]])\n",
    "           # print(label)\n",
    "        #break\n",
    "    #print(row,id_)\n",
    "    #break"
   ]
  },
  {
   "cell_type": "code",
   "execution_count": 12,
   "metadata": {},
   "outputs": [
    {
     "data": {
      "text/plain": [
       "['Work_to_be_Completed_ILBS\\\\129155\\\\IMG-0013-00268.jpg', 15]"
      ]
     },
     "execution_count": 12,
     "metadata": {},
     "output_type": "execute_result"
    }
   ],
   "source": [
    "labels_train[2345]"
   ]
  },
  {
   "cell_type": "code",
   "execution_count": 57,
   "metadata": {},
   "outputs": [],
   "source": [
    "labels_test = []\n",
    "for row in df_f.values.tolist():\n",
    "    id_ = int(row[0].split('\\\\')[-2])\n",
    "    if id_ == 910:\n",
    "        id_ = 9109\n",
    "    for rows in df_label_test.values.tolist():\n",
    "        if id_==rows[0]:\n",
    "            labels_test.append([row[0],rows[-1]])\n",
    "           # print(label)\n",
    "        #break\n",
    "    #print(row,id_)\n",
    "    #break"
   ]
  },
  {
   "cell_type": "code",
   "execution_count": 14,
   "metadata": {},
   "outputs": [
    {
     "data": {
      "text/plain": [
       "['Work_to_be_Completed_ILBS\\\\181077\\\\IMG-0014-00001.jpg', 22]"
      ]
     },
     "execution_count": 14,
     "metadata": {},
     "output_type": "execute_result"
    }
   ],
   "source": [
    "labels_test[0]"
   ]
  },
  {
   "cell_type": "code",
   "execution_count": 35,
   "metadata": {},
   "outputs": [
    {
     "data": {
      "text/plain": [
       "7922"
      ]
     },
     "execution_count": 35,
     "metadata": {},
     "output_type": "execute_result"
    }
   ],
   "source": [
    "len(labels_test)"
   ]
  },
  {
   "cell_type": "code",
   "execution_count": 16,
   "metadata": {},
   "outputs": [
    {
     "data": {
      "text/plain": [
       "28449"
      ]
     },
     "execution_count": 16,
     "metadata": {},
     "output_type": "execute_result"
    }
   ],
   "source": [
    "len(labels_train)"
   ]
  },
  {
   "cell_type": "code",
   "execution_count": 58,
   "metadata": {},
   "outputs": [],
   "source": [
    "df_train = pd.DataFrame(labels_train,columns=['path','label'])"
   ]
  },
  {
   "cell_type": "code",
   "execution_count": 59,
   "metadata": {},
   "outputs": [],
   "source": [
    "df_test = pd.DataFrame(labels_test,columns=['path','label'])"
   ]
  },
  {
   "cell_type": "code",
   "execution_count": 60,
   "metadata": {},
   "outputs": [
    {
     "data": {
      "text/html": [
       "<div>\n",
       "<style scoped>\n",
       "    .dataframe tbody tr th:only-of-type {\n",
       "        vertical-align: middle;\n",
       "    }\n",
       "\n",
       "    .dataframe tbody tr th {\n",
       "        vertical-align: top;\n",
       "    }\n",
       "\n",
       "    .dataframe thead th {\n",
       "        text-align: right;\n",
       "    }\n",
       "</style>\n",
       "<table border=\"1\" class=\"dataframe\">\n",
       "  <thead>\n",
       "    <tr style=\"text-align: right;\">\n",
       "      <th></th>\n",
       "      <th>path</th>\n",
       "      <th>label</th>\n",
       "    </tr>\n",
       "  </thead>\n",
       "  <tbody>\n",
       "    <tr>\n",
       "      <th>0</th>\n",
       "      <td>Work_to_be_Completed_ILBS\\00910\\IMG-0005-00001...</td>\n",
       "      <td>21</td>\n",
       "    </tr>\n",
       "    <tr>\n",
       "      <th>1</th>\n",
       "      <td>Work_to_be_Completed_ILBS\\00910\\IMG-0005-00002...</td>\n",
       "      <td>21</td>\n",
       "    </tr>\n",
       "    <tr>\n",
       "      <th>2</th>\n",
       "      <td>Work_to_be_Completed_ILBS\\00910\\IMG-0005-00003...</td>\n",
       "      <td>21</td>\n",
       "    </tr>\n",
       "    <tr>\n",
       "      <th>3</th>\n",
       "      <td>Work_to_be_Completed_ILBS\\00910\\IMG-0005-00004...</td>\n",
       "      <td>21</td>\n",
       "    </tr>\n",
       "    <tr>\n",
       "      <th>4</th>\n",
       "      <td>Work_to_be_Completed_ILBS\\00910\\IMG-0005-00005...</td>\n",
       "      <td>21</td>\n",
       "    </tr>\n",
       "  </tbody>\n",
       "</table>\n",
       "</div>"
      ],
      "text/plain": [
       "                                                path  label\n",
       "0  Work_to_be_Completed_ILBS\\00910\\IMG-0005-00001...     21\n",
       "1  Work_to_be_Completed_ILBS\\00910\\IMG-0005-00002...     21\n",
       "2  Work_to_be_Completed_ILBS\\00910\\IMG-0005-00003...     21\n",
       "3  Work_to_be_Completed_ILBS\\00910\\IMG-0005-00004...     21\n",
       "4  Work_to_be_Completed_ILBS\\00910\\IMG-0005-00005...     21"
      ]
     },
     "execution_count": 60,
     "metadata": {},
     "output_type": "execute_result"
    }
   ],
   "source": [
    "df_train.head()"
   ]
  },
  {
   "cell_type": "code",
   "execution_count": 61,
   "metadata": {},
   "outputs": [],
   "source": [
    "from tensorflow import keras\n",
    "#X = df['imarray'].values\n",
    "y_train = np.array(df_train['label'])\n",
    "y_train = keras.utils.to_categorical(y_train)\n",
    "\n",
    "y_test = np.array(df_test['label'])\n",
    "y_test = keras.utils.to_categorical(y_test)"
   ]
  },
  {
   "cell_type": "code",
   "execution_count": 23,
   "metadata": {},
   "outputs": [],
   "source": [
    "all_images_train = []\n",
    "IMG_HEIGHT = IMG_WIDTH =150\n",
    "for row in df_train['path']:\n",
    "    image= cv2.imread( row, cv2.IMREAD_GRAYSCALE)\n",
    "    image=cv2.resize(image, (IMG_HEIGHT, IMG_WIDTH),interpolation = cv2.INTER_AREA)\n",
    "    image=np.array(image)\n",
    "    image = image.astype('float32')\n",
    "    image /= 255\n",
    "    #image = np.expand_dims(image, axis=0)\n",
    "    all_images_train.append(image)"
   ]
  },
  {
   "cell_type": "code",
   "execution_count": 63,
   "metadata": {},
   "outputs": [],
   "source": [
    "all_images_test = []\n",
    "IMG_HEIGHT = IMG_WIDTH =150\n",
    "for row in df_test['path']:\n",
    "    image= cv2.imread( row, cv2.IMREAD_GRAYSCALE)\n",
    "    image=cv2.resize(image, (IMG_HEIGHT, IMG_WIDTH),interpolation = cv2.INTER_AREA)\n",
    "    image=np.array(image)\n",
    "    image = image.astype('float32')\n",
    "    image /= 255\n",
    "    #image = np.expand_dims(image, axis=0)\n",
    "    all_images_test.append(image)"
   ]
  },
  {
   "cell_type": "code",
   "execution_count": 25,
   "metadata": {},
   "outputs": [],
   "source": [
    "train_ = np.array(all_images_train)"
   ]
  },
  {
   "cell_type": "code",
   "execution_count": 64,
   "metadata": {},
   "outputs": [],
   "source": [
    "test_ = np.array(all_images_test)"
   ]
  },
  {
   "cell_type": "code",
   "execution_count": 27,
   "metadata": {},
   "outputs": [
    {
     "data": {
      "text/plain": [
       "(28449, 150, 150)"
      ]
     },
     "execution_count": 27,
     "metadata": {},
     "output_type": "execute_result"
    }
   ],
   "source": [
    "train_.shape"
   ]
  },
  {
   "cell_type": "code",
   "execution_count": 65,
   "metadata": {},
   "outputs": [],
   "source": [
    "X_train = np.expand_dims(train_,axis=3)\n",
    "X_test = np.expand_dims(test_, axis=3)"
   ]
  },
  {
   "cell_type": "code",
   "execution_count": 29,
   "metadata": {},
   "outputs": [
    {
     "name": "stdout",
     "output_type": "stream",
     "text": [
      "Model: \"sequential\"\n",
      "_________________________________________________________________\n",
      "Layer (type)                 Output Shape              Param #   \n",
      "=================================================================\n",
      "conv2d (Conv2D)              (None, 148, 148, 32)      320       \n",
      "_________________________________________________________________\n",
      "conv2d_1 (Conv2D)            (None, 146, 146, 64)      18496     \n",
      "_________________________________________________________________\n",
      "max_pooling2d (MaxPooling2D) (None, 73, 73, 64)        0         \n",
      "_________________________________________________________________\n",
      "flatten (Flatten)            (None, 341056)            0         \n",
      "_________________________________________________________________\n",
      "dense (Dense)                (None, 128)               43655296  \n",
      "_________________________________________________________________\n",
      "dense_1 (Dense)              (None, 28)                3612      \n",
      "=================================================================\n",
      "Total params: 43,677,724\n",
      "Trainable params: 43,677,724\n",
      "Non-trainable params: 0\n",
      "_________________________________________________________________\n",
      "None\n"
     ]
    }
   ],
   "source": [
    "model = Sequential()\n",
    "model.add(Conv2D(32, kernel_size=(3, 3), activation='relu', \n",
    "                 input_shape=(150, 150,1)))\n",
    "model.add(Conv2D(64, (3, 3), activation='relu'))\n",
    "model.add(MaxPooling2D(pool_size=(2, 2)))\n",
    "model.add(Flatten())\n",
    "model.add(Dense(128, activation='relu'))\n",
    "model.add(Dense(28, activation='softmax'))\n",
    "\n",
    "model.compile(loss=keras.losses.categorical_crossentropy,\n",
    "              optimizer=keras.optimizers.Adadelta(),\n",
    "              metrics=['accuracy'])\n",
    "\n",
    "print(model.summary())"
   ]
  },
  {
   "cell_type": "code",
   "execution_count": 32,
   "metadata": {},
   "outputs": [
    {
     "name": "stdout",
     "output_type": "stream",
     "text": [
      "Train on 25604 samples, validate on 2845 samples\n",
      "Epoch 1/15\n",
      "25604/25604 [==============================] - 31s 1ms/sample - loss: 0.4058 - TP: 22126.0000 - FP: 748.0000 - TN: 690560.0000 - FN: 3478.0000 - accuracy: 0.8962 - precision: 0.9673 - recall: 0.8642 - auc: 0.9924 - val_loss: 8.1399 - val_TP: 90.0000 - val_FP: 2370.0000 - val_TN: 74445.0000 - val_FN: 2755.0000 - val_accuracy: 0.0418 - val_precision: 0.0366 - val_recall: 0.0316 - val_auc: 0.5310\n",
      "Epoch 2/15\n",
      "25604/25604 [==============================] - 21s 837us/sample - loss: 0.0336 - TP: 25190.0000 - FP: 414.0000 - TN: 690894.0000 - FN: 414.0000 - accuracy: 0.9838 - precision: 0.9838 - recall: 0.9838 - auc: 0.9999 - val_loss: 7.3984 - val_TP: 115.0000 - val_FP: 2312.0000 - val_TN: 74503.0000 - val_FN: 2730.0000 - val_accuracy: 0.0552 - val_precision: 0.0474 - val_recall: 0.0404 - val_auc: 0.5430\n",
      "Epoch 3/15\n",
      "25604/25604 [==============================] - 21s 835us/sample - loss: 0.0262 - TP: 25189.0000 - FP: 414.0000 - TN: 690894.0000 - FN: 415.0000 - accuracy: 0.9838 - precision: 0.9838 - recall: 0.9838 - auc: 1.0000 - val_loss: 8.3857 - val_TP: 107.0000 - val_FP: 2395.0000 - val_TN: 74420.0000 - val_FN: 2738.0000 - val_accuracy: 0.0499 - val_precision: 0.0428 - val_recall: 0.0376 - val_auc: 0.5220\n",
      "Epoch 4/15\n",
      "25604/25604 [==============================] - 21s 835us/sample - loss: 0.0242 - TP: 25171.0000 - FP: 431.0000 - TN: 690877.0000 - FN: 433.0000 - accuracy: 0.9832 - precision: 0.9832 - recall: 0.9831 - auc: 1.0000 - val_loss: 8.6774 - val_TP: 108.0000 - val_FP: 2409.0000 - val_TN: 74406.0000 - val_FN: 2737.0000 - val_accuracy: 0.0422 - val_precision: 0.0429 - val_recall: 0.0380 - val_auc: 0.5211\n",
      "Epoch 5/15\n",
      "25604/25604 [==============================] - 21s 833us/sample - loss: 0.0229 - TP: 25194.0000 - FP: 407.0000 - TN: 690901.0000 - FN: 410.0000 - accuracy: 0.9840 - precision: 0.9841 - recall: 0.9840 - auc: 1.0000 - val_loss: 8.9003 - val_TP: 89.0000 - val_FP: 2454.0000 - val_TN: 74361.0000 - val_FN: 2756.0000 - val_accuracy: 0.0387 - val_precision: 0.0350 - val_recall: 0.0313 - val_auc: 0.5127\n",
      "Epoch 6/15\n",
      "25604/25604 [==============================] - 21s 836us/sample - loss: 0.0219 - TP: 25222.0000 - FP: 373.0000 - TN: 690935.0000 - FN: 382.0000 - accuracy: 0.9852 - precision: 0.9854 - recall: 0.9851 - auc: 1.0000 - val_loss: 9.6254 - val_TP: 84.0000 - val_FP: 2453.0000 - val_TN: 74362.0000 - val_FN: 2761.0000 - val_accuracy: 0.0373 - val_precision: 0.0331 - val_recall: 0.0295 - val_auc: 0.5137\n",
      "Epoch 7/15\n",
      "25604/25604 [==============================] - 21s 835us/sample - loss: 0.0215 - TP: 25215.0000 - FP: 384.0000 - TN: 690924.0000 - FN: 389.0000 - accuracy: 0.9849 - precision: 0.9850 - recall: 0.9848 - auc: 1.0000 - val_loss: 10.7466 - val_TP: 72.0000 - val_FP: 2528.0000 - val_TN: 74287.0000 - val_FN: 2773.0000 - val_accuracy: 0.0299 - val_precision: 0.0277 - val_recall: 0.0253 - val_auc: 0.5013\n",
      "Epoch 8/15\n",
      "25604/25604 [==============================] - 22s 842us/sample - loss: 0.0217 - TP: 25201.0000 - FP: 391.0000 - TN: 690917.0000 - FN: 403.0000 - accuracy: 0.9845 - precision: 0.9847 - recall: 0.9843 - auc: 1.0000 - val_loss: 10.7001 - val_TP: 71.0000 - val_FP: 2531.0000 - val_TN: 74284.0000 - val_FN: 2774.0000 - val_accuracy: 0.0299 - val_precision: 0.0273 - val_recall: 0.0250 - val_auc: 0.4998\n",
      "Epoch 9/15\n",
      "25604/25604 [==============================] - 21s 838us/sample - loss: 0.0215 - TP: 25217.0000 - FP: 372.0000 - TN: 690936.0000 - FN: 387.0000 - accuracy: 0.9853 - precision: 0.9855 - recall: 0.9849 - auc: 1.0000 - val_loss: 10.8583 - val_TP: 77.0000 - val_FP: 2518.0000 - val_TN: 74297.0000 - val_FN: 2768.0000 - val_accuracy: 0.0306 - val_precision: 0.0297 - val_recall: 0.0271 - val_auc: 0.5038\n",
      "Epoch 10/15\n",
      "25604/25604 [==============================] - 21s 836us/sample - loss: 0.0214 - TP: 25202.0000 - FP: 398.0000 - TN: 690910.0000 - FN: 402.0000 - accuracy: 0.9843 - precision: 0.9845 - recall: 0.9843 - auc: 1.0000 - val_loss: 11.6986 - val_TP: 67.0000 - val_FP: 2574.0000 - val_TN: 74241.0000 - val_FN: 2778.0000 - val_accuracy: 0.0292 - val_precision: 0.0254 - val_recall: 0.0236 - val_auc: 0.4892\n",
      "Epoch 11/15\n",
      "25604/25604 [==============================] - 22s 842us/sample - loss: 0.0214 - TP: 25180.0000 - FP: 408.0000 - TN: 690900.0000 - FN: 424.0000 - accuracy: 0.9837 - precision: 0.9841 - recall: 0.9834 - auc: 1.0000 - val_loss: 11.9865 - val_TP: 67.0000 - val_FP: 2595.0000 - val_TN: 74220.0000 - val_FN: 2778.0000 - val_accuracy: 0.0292 - val_precision: 0.0252 - val_recall: 0.0236 - val_auc: 0.4886\n",
      "Epoch 12/15\n",
      "25604/25604 [==============================] - 22s 845us/sample - loss: 0.0214 - TP: 25215.0000 - FP: 382.0000 - TN: 690926.0000 - FN: 389.0000 - accuracy: 0.9849 - precision: 0.9851 - recall: 0.9848 - auc: 1.0000 - val_loss: 11.6631 - val_TP: 63.0000 - val_FP: 2570.0000 - val_TN: 74245.0000 - val_FN: 2782.0000 - val_accuracy: 0.0292 - val_precision: 0.0239 - val_recall: 0.0221 - val_auc: 0.4922\n",
      "Epoch 13/15\n",
      "25604/25604 [==============================] - 22s 856us/sample - loss: 0.0214 - TP: 25203.0000 - FP: 398.0000 - TN: 690910.0000 - FN: 401.0000 - accuracy: 0.9843 - precision: 0.9845 - recall: 0.9843 - auc: 1.0000 - val_loss: 11.9586 - val_TP: 69.0000 - val_FP: 2583.0000 - val_TN: 74232.0000 - val_FN: 2776.0000 - val_accuracy: 0.0299 - val_precision: 0.0260 - val_recall: 0.0243 - val_auc: 0.4955\n",
      "Epoch 14/15\n",
      "25604/25604 [==============================] - 21s 839us/sample - loss: 0.0218 - TP: 25186.0000 - FP: 399.0000 - TN: 690909.0000 - FN: 418.0000 - accuracy: 0.9840 - precision: 0.9844 - recall: 0.9837 - auc: 1.0000 - val_loss: 11.6997 - val_TP: 68.0000 - val_FP: 2568.0000 - val_TN: 74247.0000 - val_FN: 2777.0000 - val_accuracy: 0.0295 - val_precision: 0.0258 - val_recall: 0.0239 - val_auc: 0.5020\n",
      "Epoch 15/15\n",
      "25604/25604 [==============================] - 21s 835us/sample - loss: 0.0213 - TP: 25229.0000 - FP: 370.0000 - TN: 690938.0000 - FN: 375.0000 - accuracy: 0.9854 - precision: 0.9855 - recall: 0.9854 - auc: 1.0000 - val_loss: 11.7645 - val_TP: 58.0000 - val_FP: 2592.0000 - val_TN: 74223.0000 - val_FN: 2787.0000 - val_accuracy: 0.0295 - val_precision: 0.0219 - val_recall: 0.0204 - val_auc: 0.5016\n"
     ]
    }
   ],
   "source": [
    "import tensorflow as tf\n",
    "model.compile(optimizer='adam', loss='categorical_crossentropy',  metrics = [tf.keras.metrics.TruePositives(name=\"TP\"),tf.keras.metrics.FalsePositives(name=\"FP\"),tf.keras.metrics.TrueNegatives(name=\"TN\"),tf.keras.metrics.FalseNegatives(name=\"FN\"), tf.keras.metrics.CategoricalAccuracy(name=\"accuracy\"),tf.keras.metrics.Precision(name=\"precision\"),tf.keras.metrics.Recall(name=\"recall\"),tf.keras.metrics.AUC(name=\"auc\")])\n",
    "history = model.fit(X_train, y_train,validation_split=0.1, batch_size=100, epochs=15, verbose=1)"
   ]
  },
  {
   "cell_type": "code",
   "execution_count": 66,
   "metadata": {},
   "outputs": [
    {
     "name": "stdout",
     "output_type": "stream",
     "text": [
      "8347/8347 [==============================] - 4s 442us/sample - loss: 10.9246 - TP: 1482.0000 - FP: 6676.0000 - TN: 218693.0000 - FN: 6865.0000 - accuracy: 0.1801 - precision: 0.1817 - recall: 0.1775 - auc: 0.6068 4s - loss: 7.8226 - TP: 513.0000 - FP: 351.0000 - TN: 22977.0\n",
      "Test loss: 10.924608039767802\n",
      "Test accuracy: 0.1800647\n",
      "28449/28449 [==============================] - 11s 400us/sample - loss: 1.1957 - TP: 25273.0000 - FP: 2981.0000 - TN: 765142.0000 - FN: 3176.0000 - accuracy: 0.8893 - precision: 0.8945 - recall: 0.8884 - auc: 0.9535\n",
      "Train loss: 1.1957359350235828\n",
      "Train accuracy: 0.88927555\n"
     ]
    }
   ],
   "source": [
    "score = model.evaluate(X_test, y_test, verbose = 1) \n",
    "\n",
    "print('Test loss:', score[0]) \n",
    "print('Test accuracy:', score[5])\n",
    "score = model.evaluate(X_train, y_train, verbose = 1) \n",
    "\n",
    "print('Train loss:', score[0]) \n",
    "print('Train accuracy:', score[5])"
   ]
  },
  {
   "cell_type": "code",
   "execution_count": 62,
   "metadata": {},
   "outputs": [
    {
     "data": {
      "text/plain": [
       "(8347, 28)"
      ]
     },
     "execution_count": 62,
     "metadata": {},
     "output_type": "execute_result"
    }
   ],
   "source": [
    "y_test.shape"
   ]
  },
  {
   "cell_type": "code",
   "execution_count": 44,
   "metadata": {},
   "outputs": [
    {
     "data": {
      "text/plain": [
       "(7922, 150, 150, 1)"
      ]
     },
     "execution_count": 44,
     "metadata": {},
     "output_type": "execute_result"
    }
   ],
   "source": [
    "X_test.shape"
   ]
  },
  {
   "cell_type": "code",
   "execution_count": 67,
   "metadata": {},
   "outputs": [
    {
     "data": {
      "text/plain": [
       "16    906\n",
       "14    854\n",
       "11    798\n",
       "10    698\n",
       "15    650\n",
       "18    602\n",
       "22    513\n",
       "19    493\n",
       "27    425\n",
       "20    385\n",
       "17    385\n",
       "9     365\n",
       "3     349\n",
       "23    265\n",
       "12    241\n",
       "21    221\n",
       "26    197\n",
       "Name: label, dtype: int64"
      ]
     },
     "execution_count": 67,
     "metadata": {},
     "output_type": "execute_result"
    }
   ],
   "source": [
    "df_test['label'].value_counts()"
   ]
  },
  {
   "cell_type": "code",
   "execution_count": null,
   "metadata": {},
   "outputs": [],
   "source": []
  }
 ],
 "metadata": {
  "kernelspec": {
   "display_name": "Python 3",
   "language": "python",
   "name": "python3"
  },
  "language_info": {
   "codemirror_mode": {
    "name": "ipython",
    "version": 3
   },
   "file_extension": ".py",
   "mimetype": "text/x-python",
   "name": "python",
   "nbconvert_exporter": "python",
   "pygments_lexer": "ipython3",
   "version": "3.7.9"
  }
 },
 "nbformat": 4,
 "nbformat_minor": 4
}

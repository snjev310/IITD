{
 "cells": [
  {
   "cell_type": "code",
   "execution_count": 2,
   "id": "engaged-contractor",
   "metadata": {},
   "outputs": [],
   "source": [
    "import pandas as pd\n",
    "import numpy as np\n",
    "import matplotlib.pyplot as plt\n",
    "import os\n",
    "import glob\n",
    "import cv2\n",
    "from sklearn.model_selection import train_test_split\n",
    "from tensorflow.keras import layers\n",
    "from tensorflow.keras.models import Sequential\n",
    "from tensorflow.keras.layers import Dense, Flatten, Conv2D, MaxPooling2D, Dropout, BatchNormalization"
   ]
  },
  {
   "cell_type": "code",
   "execution_count": 3,
   "id": "extra-israeli",
   "metadata": {},
   "outputs": [],
   "source": [
    "path = 'Work_to_be_Completed_ILBS'\n",
    "pid = []\n",
    "image_file = []\n",
    "for fname in os.listdir(path):\n",
    "    if fname.isdigit():\n",
    "        pid.append(fname)\n",
    "        for fname_ins in os.listdir(path+'\\\\'+fname):\n",
    "            image_file.append(path+'\\\\'+fname+'\\\\'+fname_ins)"
   ]
  },
  {
   "cell_type": "code",
   "execution_count": 4,
   "id": "distant-tuner",
   "metadata": {},
   "outputs": [],
   "source": [
    "df_f = pd.DataFrame(image_file)"
   ]
  },
  {
   "cell_type": "code",
   "execution_count": 5,
   "id": "following-textbook",
   "metadata": {},
   "outputs": [
    {
     "data": {
      "text/plain": [
       "'00910'"
      ]
     },
     "execution_count": 5,
     "metadata": {},
     "output_type": "execute_result"
    }
   ],
   "source": [
    "df_f[0][1].split('\\\\')[-2]"
   ]
  },
  {
   "cell_type": "code",
   "execution_count": 6,
   "id": "hourly-toolbox",
   "metadata": {},
   "outputs": [],
   "source": [
    "df_label = pd.read_excel(path+'\\\\'+'HVPG value with CT images.xlsx')"
   ]
  },
  {
   "cell_type": "code",
   "execution_count": 7,
   "id": "relative-alabama",
   "metadata": {},
   "outputs": [
    {
     "data": {
      "text/html": [
       "<div>\n",
       "<style scoped>\n",
       "    .dataframe tbody tr th:only-of-type {\n",
       "        vertical-align: middle;\n",
       "    }\n",
       "\n",
       "    .dataframe tbody tr th {\n",
       "        vertical-align: top;\n",
       "    }\n",
       "\n",
       "    .dataframe thead th {\n",
       "        text-align: right;\n",
       "    }\n",
       "</style>\n",
       "<table border=\"1\" class=\"dataframe\">\n",
       "  <thead>\n",
       "    <tr style=\"text-align: right;\">\n",
       "      <th></th>\n",
       "      <th>ID</th>\n",
       "      <th>Date</th>\n",
       "      <th>HVPG</th>\n",
       "    </tr>\n",
       "  </thead>\n",
       "  <tbody>\n",
       "    <tr>\n",
       "      <th>0</th>\n",
       "      <td>9109.0</td>\n",
       "      <td>2019-01-30</td>\n",
       "      <td>21.0</td>\n",
       "    </tr>\n",
       "    <tr>\n",
       "      <th>1</th>\n",
       "      <td>19699.0</td>\n",
       "      <td>2019-02-13</td>\n",
       "      <td>12.0</td>\n",
       "    </tr>\n",
       "    <tr>\n",
       "      <th>2</th>\n",
       "      <td>31322.0</td>\n",
       "      <td>2019-02-15</td>\n",
       "      <td>17.0</td>\n",
       "    </tr>\n",
       "    <tr>\n",
       "      <th>3</th>\n",
       "      <td>45341.0</td>\n",
       "      <td>2019-02-13</td>\n",
       "      <td>16.0</td>\n",
       "    </tr>\n",
       "    <tr>\n",
       "      <th>4</th>\n",
       "      <td>49565.0</td>\n",
       "      <td>2019-02-06</td>\n",
       "      <td>10.0</td>\n",
       "    </tr>\n",
       "  </tbody>\n",
       "</table>\n",
       "</div>"
      ],
      "text/plain": [
       "        ID       Date  HVPG\n",
       "0   9109.0 2019-01-30  21.0\n",
       "1  19699.0 2019-02-13  12.0\n",
       "2  31322.0 2019-02-15  17.0\n",
       "3  45341.0 2019-02-13  16.0\n",
       "4  49565.0 2019-02-06  10.0"
      ]
     },
     "execution_count": 7,
     "metadata": {},
     "output_type": "execute_result"
    }
   ],
   "source": [
    "df_label.head()"
   ]
  },
  {
   "cell_type": "code",
   "execution_count": 8,
   "id": "romantic-gentleman",
   "metadata": {},
   "outputs": [],
   "source": [
    "labels = []\n",
    "for row in df_f.values.tolist():\n",
    "    id_ = int(row[0].split('\\\\')[-2])\n",
    "    if id_ == 910:\n",
    "        id_ = 9109\n",
    "    for rows in df_label.values.tolist():\n",
    "        if id_==rows[0]:\n",
    "            labels.append([row[0],rows[-1]])\n",
    "           # print(label)\n",
    "        #break\n",
    "    #print(row,id_)\n",
    "    #break"
   ]
  },
  {
   "cell_type": "code",
   "execution_count": 9,
   "id": "immune-translator",
   "metadata": {},
   "outputs": [
    {
     "data": {
      "text/plain": [
       "35011"
      ]
     },
     "execution_count": 9,
     "metadata": {},
     "output_type": "execute_result"
    }
   ],
   "source": [
    "len(labels)"
   ]
  },
  {
   "cell_type": "code",
   "execution_count": 10,
   "id": "royal-offering",
   "metadata": {},
   "outputs": [
    {
     "data": {
      "text/plain": [
       "35011"
      ]
     },
     "execution_count": 10,
     "metadata": {},
     "output_type": "execute_result"
    }
   ],
   "source": [
    "len(df_f)"
   ]
  },
  {
   "cell_type": "code",
   "execution_count": 11,
   "id": "solar-fashion",
   "metadata": {},
   "outputs": [],
   "source": [
    "df = pd.DataFrame(labels,columns=['path','label'])"
   ]
  },
  {
   "cell_type": "code",
   "execution_count": 12,
   "id": "designing-invite",
   "metadata": {},
   "outputs": [
    {
     "data": {
      "text/html": [
       "<div>\n",
       "<style scoped>\n",
       "    .dataframe tbody tr th:only-of-type {\n",
       "        vertical-align: middle;\n",
       "    }\n",
       "\n",
       "    .dataframe tbody tr th {\n",
       "        vertical-align: top;\n",
       "    }\n",
       "\n",
       "    .dataframe thead th {\n",
       "        text-align: right;\n",
       "    }\n",
       "</style>\n",
       "<table border=\"1\" class=\"dataframe\">\n",
       "  <thead>\n",
       "    <tr style=\"text-align: right;\">\n",
       "      <th></th>\n",
       "      <th>path</th>\n",
       "      <th>label</th>\n",
       "    </tr>\n",
       "  </thead>\n",
       "  <tbody>\n",
       "    <tr>\n",
       "      <th>0</th>\n",
       "      <td>Work_to_be_Completed_ILBS\\00910\\IMG-0005-00001...</td>\n",
       "      <td>21.0</td>\n",
       "    </tr>\n",
       "    <tr>\n",
       "      <th>1</th>\n",
       "      <td>Work_to_be_Completed_ILBS\\00910\\IMG-0005-00002...</td>\n",
       "      <td>21.0</td>\n",
       "    </tr>\n",
       "    <tr>\n",
       "      <th>2</th>\n",
       "      <td>Work_to_be_Completed_ILBS\\00910\\IMG-0005-00003...</td>\n",
       "      <td>21.0</td>\n",
       "    </tr>\n",
       "    <tr>\n",
       "      <th>3</th>\n",
       "      <td>Work_to_be_Completed_ILBS\\00910\\IMG-0005-00004...</td>\n",
       "      <td>21.0</td>\n",
       "    </tr>\n",
       "    <tr>\n",
       "      <th>4</th>\n",
       "      <td>Work_to_be_Completed_ILBS\\00910\\IMG-0005-00005...</td>\n",
       "      <td>21.0</td>\n",
       "    </tr>\n",
       "  </tbody>\n",
       "</table>\n",
       "</div>"
      ],
      "text/plain": [
       "                                                path  label\n",
       "0  Work_to_be_Completed_ILBS\\00910\\IMG-0005-00001...   21.0\n",
       "1  Work_to_be_Completed_ILBS\\00910\\IMG-0005-00002...   21.0\n",
       "2  Work_to_be_Completed_ILBS\\00910\\IMG-0005-00003...   21.0\n",
       "3  Work_to_be_Completed_ILBS\\00910\\IMG-0005-00004...   21.0\n",
       "4  Work_to_be_Completed_ILBS\\00910\\IMG-0005-00005...   21.0"
      ]
     },
     "execution_count": 12,
     "metadata": {},
     "output_type": "execute_result"
    }
   ],
   "source": [
    "df.head()"
   ]
  },
  {
   "cell_type": "code",
   "execution_count": 13,
   "id": "compatible-logging",
   "metadata": {},
   "outputs": [],
   "source": [
    "from tensorflow import keras\n",
    "#X = df['imarray'].values\n",
    "y = np.array(df['label'])\n",
    "y = keras.utils.to_categorical(y)"
   ]
  },
  {
   "cell_type": "code",
   "execution_count": 14,
   "id": "cellular-uniform",
   "metadata": {},
   "outputs": [],
   "source": [
    "all_images = []\n",
    "IMG_HEIGHT = IMG_WIDTH =150\n",
    "for row in df['path']:\n",
    "    image= cv2.imread( row, cv2.IMREAD_GRAYSCALE)\n",
    "    image=cv2.resize(image, (IMG_HEIGHT, IMG_WIDTH),interpolation = cv2.INTER_AREA)\n",
    "    image=np.array(image)\n",
    "    image = image.astype('float32')\n",
    "    image /= 255\n",
    "    #image = np.expand_dims(image, axis=0)\n",
    "    all_images.append(image)"
   ]
  },
  {
   "cell_type": "code",
   "execution_count": 15,
   "id": "curious-fiber",
   "metadata": {},
   "outputs": [],
   "source": [
    "train_ = np.array(all_images)"
   ]
  },
  {
   "cell_type": "code",
   "execution_count": 16,
   "id": "acquired-recall",
   "metadata": {},
   "outputs": [
    {
     "data": {
      "text/plain": [
       "(35011, 150, 150)"
      ]
     },
     "execution_count": 16,
     "metadata": {},
     "output_type": "execute_result"
    }
   ],
   "source": [
    "train_.shape"
   ]
  },
  {
   "cell_type": "code",
   "execution_count": 17,
   "id": "educated-adjustment",
   "metadata": {},
   "outputs": [],
   "source": [
    "from sklearn.model_selection import train_test_split\n",
    "X_train,X_test,y_train,y_test = train_test_split(train_,y,test_size=0.25)"
   ]
  },
  {
   "cell_type": "code",
   "execution_count": 18,
   "id": "nervous-gospel",
   "metadata": {},
   "outputs": [
    {
     "data": {
      "text/plain": [
       "(26258, 150, 150)"
      ]
     },
     "execution_count": 18,
     "metadata": {},
     "output_type": "execute_result"
    }
   ],
   "source": [
    "X_train.shape"
   ]
  },
  {
   "cell_type": "code",
   "execution_count": 19,
   "id": "convinced-charter",
   "metadata": {},
   "outputs": [],
   "source": [
    "X_train_t = np.expand_dims(X_train,axis=3)\n",
    "X_test_t = np.expand_dims(X_test, axis=3)"
   ]
  },
  {
   "cell_type": "code",
   "execution_count": 20,
   "id": "loved-phrase",
   "metadata": {},
   "outputs": [
    {
     "name": "stdout",
     "output_type": "stream",
     "text": [
      "Model: \"sequential\"\n",
      "_________________________________________________________________\n",
      "Layer (type)                 Output Shape              Param #   \n",
      "=================================================================\n",
      "conv2d (Conv2D)              (None, 148, 148, 32)      320       \n",
      "_________________________________________________________________\n",
      "conv2d_1 (Conv2D)            (None, 146, 146, 64)      18496     \n",
      "_________________________________________________________________\n",
      "max_pooling2d (MaxPooling2D) (None, 73, 73, 64)        0         \n",
      "_________________________________________________________________\n",
      "flatten (Flatten)            (None, 341056)            0         \n",
      "_________________________________________________________________\n",
      "dense (Dense)                (None, 128)               43655296  \n",
      "_________________________________________________________________\n",
      "dense_1 (Dense)              (None, 28)                3612      \n",
      "=================================================================\n",
      "Total params: 43,677,724\n",
      "Trainable params: 43,677,724\n",
      "Non-trainable params: 0\n",
      "_________________________________________________________________\n",
      "None\n"
     ]
    }
   ],
   "source": [
    "model = Sequential()\n",
    "model.add(Conv2D(32, kernel_size=(3, 3), activation='relu', \n",
    "                 input_shape=(150, 150,1)))\n",
    "model.add(Conv2D(64, (3, 3), activation='relu'))\n",
    "model.add(MaxPooling2D(pool_size=(2, 2)))\n",
    "model.add(Flatten())\n",
    "model.add(Dense(128, activation='relu'))\n",
    "model.add(Dense(28, activation='softmax'))\n",
    "\n",
    "model.compile(loss=keras.losses.categorical_crossentropy,\n",
    "              optimizer=keras.optimizers.Adadelta(),\n",
    "              metrics=['accuracy'])\n",
    "\n",
    "print(model.summary())"
   ]
  },
  {
   "cell_type": "code",
   "execution_count": 21,
   "id": "increasing-agency",
   "metadata": {},
   "outputs": [
    {
     "name": "stdout",
     "output_type": "stream",
     "text": [
      "Epoch 1/15\n",
      "237/237 [==============================] - 36s 140ms/step - loss: 0.6070 - accuracy: 0.8586 - val_loss: 0.0292 - val_accuracy: 0.9886\n",
      "Epoch 2/15\n",
      "237/237 [==============================] - 28s 117ms/step - loss: 0.0322 - accuracy: 0.9890 - val_loss: 0.0280 - val_accuracy: 0.9882\n",
      "Epoch 3/15\n",
      "237/237 [==============================] - 32s 137ms/step - loss: 0.0269 - accuracy: 0.9885 - val_loss: 0.0240 - val_accuracy: 0.9874\n",
      "Epoch 4/15\n",
      "237/237 [==============================] - 32s 137ms/step - loss: 0.0204 - accuracy: 0.9896 - val_loss: 0.0281 - val_accuracy: 0.9897\n",
      "Epoch 5/15\n",
      "237/237 [==============================] - 32s 137ms/step - loss: 0.0194 - accuracy: 0.9894 - val_loss: 0.0185 - val_accuracy: 0.9871\n",
      "Epoch 6/15\n",
      "237/237 [==============================] - 33s 139ms/step - loss: 0.0176 - accuracy: 0.9886 - val_loss: 0.0181 - val_accuracy: 0.9859\n",
      "Epoch 7/15\n",
      "237/237 [==============================] - 33s 140ms/step - loss: 0.0181 - accuracy: 0.9893 - val_loss: 0.0217 - val_accuracy: 0.9851\n",
      "Epoch 8/15\n",
      "237/237 [==============================] - 33s 140ms/step - loss: 0.0170 - accuracy: 0.9894 - val_loss: 0.0180 - val_accuracy: 0.9848\n",
      "Epoch 9/15\n",
      "237/237 [==============================] - 33s 139ms/step - loss: 0.0160 - accuracy: 0.9901 - val_loss: 0.0204 - val_accuracy: 0.9905\n",
      "Epoch 10/15\n",
      "237/237 [==============================] - 33s 139ms/step - loss: 0.0161 - accuracy: 0.9900 - val_loss: 0.0185 - val_accuracy: 0.9855\n",
      "Epoch 11/15\n",
      "237/237 [==============================] - 33s 140ms/step - loss: 0.0164 - accuracy: 0.9895 - val_loss: 0.0176 - val_accuracy: 0.9848\n",
      "Epoch 12/15\n",
      "237/237 [==============================] - 33s 140ms/step - loss: 0.0159 - accuracy: 0.9895 - val_loss: 0.0175 - val_accuracy: 0.9851\n",
      "Epoch 13/15\n",
      "237/237 [==============================] - 33s 141ms/step - loss: 0.0156 - accuracy: 0.9904 - val_loss: 0.0171 - val_accuracy: 0.9897\n",
      "Epoch 14/15\n",
      "237/237 [==============================] - 33s 139ms/step - loss: 0.0157 - accuracy: 0.9896 - val_loss: 0.0168 - val_accuracy: 0.9886\n",
      "Epoch 15/15\n",
      "237/237 [==============================] - 33s 140ms/step - loss: 0.0155 - accuracy: 0.9906 - val_loss: 0.0173 - val_accuracy: 0.9836\n"
     ]
    }
   ],
   "source": [
    "model.compile(optimizer='adam', loss='categorical_crossentropy', metrics=['accuracy'])\n",
    "history = model.fit(X_train_t, y_train,validation_split=0.1, batch_size=100, epochs=15, verbose=1)"
   ]
  },
  {
   "cell_type": "code",
   "execution_count": 27,
   "id": "perceived-eating",
   "metadata": {},
   "outputs": [
    {
     "data": {
      "image/png": "[encoded data removed]",
      "text/plain": [
       "<Figure size 432x288 with 1 Axes>"
      ]
     },
     "metadata": {
      "needs_background": "light"
     },
     "output_type": "display_data"
    }
   ],
   "source": [
    "import matplotlib.pyplot as plt\n",
    "plt.plot(history.history['accuracy'])\n",
    "plt.plot(history.history['val_accuracy'])\n",
    "plt.title('model accuracy')\n",
    "plt.ylabel('Val_accuracy')\n",
    "plt.xlabel('epoch')\n",
    "plt.legend(['train', 'val'], loc='upper left')\n",
    "plt.show()"
   ]
  },
  {
   "cell_type": "code",
   "execution_count": 28,
   "id": "initial-variation",
   "metadata": {},
   "outputs": [
    {
     "data": {
      "image/png": "[encoded data removed]",
      "text/plain": [
       "<Figure size 432x288 with 1 Axes>"
      ]
     },
     "metadata": {
      "needs_background": "light"
     },
     "output_type": "display_data"
    }
   ],
   "source": [
    "import matplotlib.pyplot as plt\n",
    "plt.plot(history.history['loss'])\n",
    "plt.plot(history.history['val_loss'])\n",
    "plt.title('Model Loss')\n",
    "plt.ylabel('Loss')\n",
    "plt.xlabel('epoch')\n",
    "plt.legend(['train', 'val'], loc='upper left')\n",
    "plt.show()"
   ]
  },
  {
   "cell_type": "code",
   "execution_count": 29,
   "id": "collected-container",
   "metadata": {},
   "outputs": [],
   "source": [
    "y_predict = model.predict(X_test_t)"
   ]
  },
  {
   "cell_type": "code",
   "execution_count": 30,
   "id": "junior-option",
   "metadata": {},
   "outputs": [],
   "source": [
    "y_predict_bool = np.argmax(y_predict,axis=1).tolist()"
   ]
  },
  {
   "cell_type": "code",
   "execution_count": 32,
   "id": "numerical-difficulty",
   "metadata": {},
   "outputs": [],
   "source": [
    "y_test_e = np.argmax(y_test,axis=1).tolist()"
   ]
  },
  {
   "cell_type": "code",
   "execution_count": 35,
   "id": "interracial-library",
   "metadata": {},
   "outputs": [
    {
     "name": "stdout",
     "output_type": "stream",
     "text": [
      "274/274 [==============================] - 5s 18ms/step - loss: 0.0185 - accuracy: 0.9831\n",
      "Test loss: 0.01849188655614853\n",
      "Test accuracy: 0.9830915331840515\n",
      "821/821 [==============================] - 15s 18ms/step - loss: 0.0150 - accuracy: 0.9908\n",
      "Train loss: 0.014964485540986061\n",
      "Train accuracy: 0.9908218383789062\n"
     ]
    }
   ],
   "source": [
    "score = model.evaluate(X_test_t, y_test, verbose = 1) \n",
    "\n",
    "print('Test loss:', score[0]) \n",
    "print('Test accuracy:', score[1])\n",
    "score = model.evaluate(X_train_t, y_train, verbose = 1) \n",
    "\n",
    "print('Train loss:', score[0]) \n",
    "print('Train accuracy:', score[1])"
   ]
  },
  {
   "cell_type": "code",
   "execution_count": 34,
   "id": "available-address",
   "metadata": {},
   "outputs": [
    {
     "name": "stdout",
     "output_type": "stream",
     "text": [
      "[[ 96   0   0   0   0   0   0   0   0   0   0   0   0   0   0   0   0   0\n",
      "    0   0   0   0   0]\n",
      " [  0 186   0   0   0   0   0   0   0   0   0   0   0   0   0   0   0   0\n",
      "    0   0   0   0   0]\n",
      " [  0   0  65   0   0   0   0   0   0   0   0   0   0   0   0   0   0   0\n",
      "    0   0   0   0   0]\n",
      " [  0   0   0  99   0   0   0   0   0   0   0   0   0   0   0   0   0   0\n",
      "    0   0   0   0   0]\n",
      " [  0   0   0   0  95   0   0   0   0   0   0   0   0   0   0   0   0   0\n",
      "    0   0   0   0   0]\n",
      " [  0   0   0   0   0 172   0   0   0   0   0   0   0   0   0   0   0   0\n",
      "    0   0   0   0   0]\n",
      " [  0   0   0   0   0   0 916   0   0   0   0   0   0   0   0   0   0   0\n",
      "    0   0   0   0   0]\n",
      " [  0   0   0   0   0   0   0 530   0   0   0   0   0   0   0   0   0   0\n",
      "    0   0   0   0   0]\n",
      " [  0   0   0   0   0   0   0   0 356   0   0   0   0   0   0   0   0   0\n",
      "    0   0   0   0   0]\n",
      " [  0   0   0   0   0   0   0   0   0  89   0   0   0   0   0   0   0   0\n",
      "    0   0   0   0   0]\n",
      " [  0   0   0   0   0   0   0   0   0   0 819   0  71   0   0   0   0   0\n",
      "    0   0   0   0   0]\n",
      " [  0   0   0   0   0   0   0   0   0   0   0 832   0   0   0   0   0   0\n",
      "    0   0   0   0   0]\n",
      " [  0   0   0   0   0   0   0   0   0   0  77   0 878   0   0   0   0   0\n",
      "    0   0   0   0   0]\n",
      " [  0   0   0   0   0   0   0   0   0   0   0   0   0 450   0   0   0   0\n",
      "    0   0   0   0   0]\n",
      " [  0   0   0   0   0   0   0   0   0   0   0   0   0   0 898   0   0   0\n",
      "    0   0   0   0   0]\n",
      " [  0   0   0   0   0   0   0   0   0   0   0   0   0   0   0 593   0   0\n",
      "    0   0   0   0   0]\n",
      " [  0   0   0   0   0   0   0   0   0   0   0   0   0   0   0   0 370   0\n",
      "    0   0   0   0   0]\n",
      " [  0   0   0   0   0   0   0   0   0   0   0   0   0   0   0   0   0 203\n",
      "    0   0   0   0   0]\n",
      " [  0   0   0   0   0   0   0   0   0   0   0   0   0   0   0   0   0   0\n",
      "  331   0   0   0   0]\n",
      " [  0   0   0   0   0   0   0   0   0   0   0   0   0   0   0   0   0   0\n",
      "    0 340   0   0   0]\n",
      " [  0   0   0   0   0   0   0   0   0   0   0   0   0   0   0   0   0   0\n",
      "    0   0  79   0   0]\n",
      " [  0   0   0   0   0   0   0   0   0   0   0   0   0   0   0   0   0   0\n",
      "    0   0   0 103   0]\n",
      " [  0   0   0   0   0   0   0   0   0   0   0   0   0   0   0   0   0   0\n",
      "    0   0   0   0 105]]\n"
     ]
    }
   ],
   "source": [
    "from sklearn.metrics import precision_score,recall_score,confusion_matrix\n",
    "#print(confusion_matrix(y_test_e,y_predict_bool))"
   ]
  },
  {
   "cell_type": "code",
   "execution_count": null,
   "id": "electrical-responsibility",
   "metadata": {},
   "outputs": [],
   "source": []
  }
 ],
 "metadata": {
  "kernelspec": {
   "display_name": "Python 3",
   "language": "python",
   "name": "python3"
  },
  "language_info": {
   "codemirror_mode": {
    "name": "ipython",
    "version": 3
   },
   "file_extension": ".py",
   "mimetype": "text/x-python",
   "name": "python",
   "nbconvert_exporter": "python",
   "pygments_lexer": "ipython3",
   "version": "3.7.9"
  }
 },
 "nbformat": 4,
 "nbformat_minor": 5
}

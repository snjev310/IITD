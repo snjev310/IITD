{
 "cells": [
  {
   "cell_type": "code",
   "execution_count": 1,
   "metadata": {},
   "outputs": [],
   "source": [
    "import pandas as pd\n",
    "import numpy as np\n",
    "import matplotlib.pyplot as plt\n",
    "import os\n",
    "import glob\n",
    "import cv2\n",
    "from sklearn.model_selection import train_test_split\n",
    "from tensorflow.keras import layers\n",
    "from tensorflow.keras.models import Sequential\n",
    "from tensorflow.keras.layers import Dense, Flatten, Conv2D, MaxPooling2D, Dropout, BatchNormalization, MaxPool2D\n",
    "from IPython.display import Image, display\n",
    "import matplotlib.pyplot as plt\n",
    "import matplotlib.cm as cm\n",
    "import tensorflow as tf\n",
    "from tensorflow import keras\n",
    "from sklearn.preprocessing import OneHotEncoder, StandardScaler"
   ]
  },
  {
   "cell_type": "code",
   "execution_count": null,
   "metadata": {},
   "outputs": [],
   "source": []
  },
  {
   "cell_type": "code",
   "execution_count": 2,
   "metadata": {},
   "outputs": [],
   "source": [
    "def import_maps(path):\n",
    "    images = []\n",
    "    for index, name in enumerate(os.listdir(path)):\n",
    "        folder = os.path.join(path, name)\n",
    "        for file_class in os.listdir(folder):\n",
    "            im_folder = os.path.join(folder, file_class)\n",
    "\n",
    "            for im in os.listdir(im_folder):\n",
    "                img = cv2.imread(os.path.join(im_folder, im))\n",
    "                img = cv2.cvtColor(img, cv2.COLOR_RGB2GRAY)\n",
    "                img = cv2.resize(img, (196, 196))\n",
    "                if img is not None:\n",
    "               #     img = (img-np.mean(img))/np.std(img)\n",
    "                    images.append((np.array(img), index)) \n",
    "    return images"
   ]
  },
  {
   "cell_type": "code",
   "execution_count": 3,
   "metadata": {},
   "outputs": [],
   "source": [
    "image_train_set = import_maps(r'D:\\ILBS_14_8_21_Sanjeev\\ILBS_Clustered_Volumes\\train')\n",
    "image_test_set = import_maps(r'D:\\ILBS_14_8_21_Sanjeev\\ILBS_Clustered_Volumes\\test')"
   ]
  },
  {
   "cell_type": "code",
   "execution_count": 4,
   "metadata": {},
   "outputs": [
    {
     "data": {
      "text/plain": [
       "12900"
      ]
     },
     "execution_count": 4,
     "metadata": {},
     "output_type": "execute_result"
    }
   ],
   "source": [
    "len(image_train_set)"
   ]
  },
  {
   "cell_type": "code",
   "execution_count": 5,
   "metadata": {},
   "outputs": [
    {
     "data": {
      "text/plain": [
       "1950"
      ]
     },
     "execution_count": 5,
     "metadata": {},
     "output_type": "execute_result"
    }
   ],
   "source": [
    "len(image_test_set)"
   ]
  },
  {
   "cell_type": "code",
   "execution_count": 6,
   "metadata": {},
   "outputs": [],
   "source": [
    "train_images_all = [i[0] for i in image_train_set]\n",
    "train_images_array = np.array(train_images_all)\n",
    "#train_images_array=np.expand_dims(train_images_array,axis=3)\n",
    "train_image_label = [i[1] for i in image_train_set]\n",
    "train_image_label = np.array(train_image_label)"
   ]
  },
  {
   "cell_type": "code",
   "execution_count": 7,
   "metadata": {},
   "outputs": [],
   "source": [
    "test_images_all = [i[0] for i in image_test_set]\n",
    "test_images_array = np.array(test_images_all)\n",
    "test_images_array=np.expand_dims(test_images_array,axis=3)\n",
    "test_image_label = [i[1] for i in image_test_set]\n",
    "test_image_label = np.array(test_image_label)"
   ]
  },
  {
   "cell_type": "code",
   "execution_count": 8,
   "metadata": {},
   "outputs": [
    {
     "data": {
      "text/plain": [
       "(12900, 196, 196)"
      ]
     },
     "execution_count": 8,
     "metadata": {},
     "output_type": "execute_result"
    }
   ],
   "source": [
    "train_images_array.shape"
   ]
  },
  {
   "cell_type": "code",
   "execution_count": 9,
   "metadata": {},
   "outputs": [],
   "source": [
    "scalar = StandardScaler(copy=False)\n",
    "train_images = scalar.fit_transform(train_images_array.reshape(12900, 196*196))\n",
    "train_images_array = train_images.reshape(12900, 196, 196, 1)"
   ]
  },
  {
   "cell_type": "code",
   "execution_count": 10,
   "metadata": {},
   "outputs": [
    {
     "data": {
      "text/plain": [
       "(12900,)"
      ]
     },
     "execution_count": 10,
     "metadata": {},
     "output_type": "execute_result"
    }
   ],
   "source": [
    "train_image_label.shape"
   ]
  },
  {
   "cell_type": "code",
   "execution_count": 11,
   "metadata": {},
   "outputs": [
    {
     "data": {
      "text/plain": [
       "(1950, 196, 196, 1)"
      ]
     },
     "execution_count": 11,
     "metadata": {},
     "output_type": "execute_result"
    }
   ],
   "source": [
    "test_images_array.shape"
   ]
  },
  {
   "cell_type": "code",
   "execution_count": 12,
   "metadata": {},
   "outputs": [
    {
     "data": {
      "text/plain": [
       "(1950,)"
      ]
     },
     "execution_count": 12,
     "metadata": {},
     "output_type": "execute_result"
    }
   ],
   "source": [
    "test_image_label.shape"
   ]
  },
  {
   "cell_type": "code",
   "execution_count": 13,
   "metadata": {},
   "outputs": [],
   "source": [
    "train_x, val_x, train_y, val_y = train_test_split(train_images_array,train_image_label,test_size=0.2)"
   ]
  },
  {
   "cell_type": "code",
   "execution_count": 14,
   "metadata": {},
   "outputs": [],
   "source": [
    "enc = OneHotEncoder(handle_unknown='ignore')\n",
    "train_label_enc = enc.fit_transform(train_y.reshape(-1, 1)).toarray()\n",
    "val_label_enc = enc.fit_transform(val_y.reshape(-1, 1)).toarray()\n",
    "test_label_enc = enc.fit_transform(test_image_label.reshape(-1, 1)).toarray()"
   ]
  },
  {
   "cell_type": "code",
   "execution_count": 15,
   "metadata": {},
   "outputs": [
    {
     "data": {
      "text/plain": [
       "(2580, 196, 196, 1)"
      ]
     },
     "execution_count": 15,
     "metadata": {},
     "output_type": "execute_result"
    }
   ],
   "source": [
    "val_x.shape"
   ]
  },
  {
   "cell_type": "code",
   "execution_count": 16,
   "metadata": {},
   "outputs": [
    {
     "data": {
      "text/plain": [
       "(10320,)"
      ]
     },
     "execution_count": 16,
     "metadata": {},
     "output_type": "execute_result"
    }
   ],
   "source": [
    "train_y.shape"
   ]
  },
  {
   "cell_type": "code",
   "execution_count": 17,
   "metadata": {},
   "outputs": [
    {
     "name": "stdout",
     "output_type": "stream",
     "text": [
      "Model: \"sequential\"\n",
      "_________________________________________________________________\n",
      "Layer (type)                 Output Shape              Param #   \n",
      "=================================================================\n",
      "conv2d (Conv2D)              (None, 196, 196, 64)      640       \n",
      "_________________________________________________________________\n",
      "conv2d_1 (Conv2D)            (None, 196, 196, 64)      36928     \n",
      "_________________________________________________________________\n",
      "max_pooling2d (MaxPooling2D) (None, 98, 98, 64)        0         \n",
      "_________________________________________________________________\n",
      "conv2d_2 (Conv2D)            (None, 98, 98, 128)       73856     \n",
      "_________________________________________________________________\n",
      "conv2d_3 (Conv2D)            (None, 98, 98, 128)       147584    \n",
      "_________________________________________________________________\n",
      "max_pooling2d_1 (MaxPooling2 (None, 49, 49, 128)       0         \n",
      "_________________________________________________________________\n",
      "conv2d_4 (Conv2D)            (None, 49, 49, 256)       295168    \n",
      "_________________________________________________________________\n",
      "conv2d_5 (Conv2D)            (None, 49, 49, 256)       590080    \n",
      "_________________________________________________________________\n",
      "conv2d_6 (Conv2D)            (None, 49, 49, 256)       590080    \n",
      "_________________________________________________________________\n",
      "max_pooling2d_2 (MaxPooling2 (None, 24, 24, 256)       0         \n",
      "_________________________________________________________________\n",
      "conv2d_7 (Conv2D)            (None, 24, 24, 512)       1180160   \n",
      "_________________________________________________________________\n",
      "conv2d_8 (Conv2D)            (None, 24, 24, 512)       2359808   \n",
      "_________________________________________________________________\n",
      "conv2d_9 (Conv2D)            (None, 24, 24, 512)       2359808   \n",
      "_________________________________________________________________\n",
      "max_pooling2d_3 (MaxPooling2 (None, 12, 12, 512)       0         \n",
      "_________________________________________________________________\n",
      "conv2d_10 (Conv2D)           (None, 12, 12, 512)       2359808   \n",
      "_________________________________________________________________\n",
      "conv2d_11 (Conv2D)           (None, 12, 12, 512)       2359808   \n",
      "_________________________________________________________________\n",
      "conv2d_12 (Conv2D)           (None, 12, 12, 512)       2359808   \n",
      "_________________________________________________________________\n",
      "vgg16 (MaxPooling2D)         (None, 6, 6, 512)         0         \n",
      "_________________________________________________________________\n",
      "flatten (Flatten)            (None, 18432)             0         \n",
      "_________________________________________________________________\n",
      "dropout (Dropout)            (None, 18432)             0         \n",
      "_________________________________________________________________\n",
      "fc1 (Dense)                  (None, 512)               9437696   \n",
      "_________________________________________________________________\n",
      "dropout_1 (Dropout)          (None, 512)               0         \n",
      "_________________________________________________________________\n",
      "fc2 (Dense)                  (None, 256)               131328    \n",
      "_________________________________________________________________\n",
      "dropout_2 (Dropout)          (None, 256)               0         \n",
      "_________________________________________________________________\n",
      "output (Dense)               (None, 6)                 1542      \n",
      "=================================================================\n",
      "Total params: 24,284,102\n",
      "Trainable params: 24,284,102\n",
      "Non-trainable params: 0\n",
      "_________________________________________________________________\n"
     ]
    }
   ],
   "source": [
    "from tensorflow.keras.regularizers import l2\n",
    "model = Sequential()\n",
    "model.add(Conv2D(input_shape=(196,196,1),filters=64,kernel_size=(3,3),padding=\"same\", activation=\"relu\"))\n",
    "#model.add(BatchNormalization())\n",
    "model.add(Conv2D(filters=64,kernel_size=(3,3),padding=\"same\", activation=\"relu\"))\n",
    "#model.add(BatchNormalization())\n",
    "model.add(MaxPool2D(pool_size=(2,2),strides=(2,2)))\n",
    "model.add(Conv2D(filters=128, kernel_size=(3,3), padding=\"same\", activation=\"relu\"))\n",
    "#model.add(BatchNormalization())\n",
    "model.add(Conv2D(filters=128, kernel_size=(3,3), padding=\"same\", activation=\"relu\"))\n",
    "#model.add(BatchNormalization())\n",
    "model.add(MaxPool2D(pool_size=(2,2),strides=(2,2)))\n",
    "model.add(Conv2D(filters=256, kernel_size=(3,3), padding=\"same\", activation=\"relu\"))\n",
    "#model.add(BatchNormalization())\n",
    "model.add(Conv2D(filters=256, kernel_size=(3,3), padding=\"same\", activation=\"relu\"))\n",
    "#model.add(BatchNormalization())\n",
    "model.add(Conv2D(filters=256, kernel_size=(3,3), padding=\"same\", activation=\"relu\"))\n",
    "#model.add(BatchNormalization())\n",
    "model.add(MaxPool2D(pool_size=(2,2),strides=(2,2)))\n",
    "model.add(Conv2D(filters=512, kernel_size=(3,3), padding=\"same\", activation=\"relu\", kernel_regularizer= keras.regularizers.l2(0.00001)))\n",
    "#model.add(BatchNormalization())\n",
    "model.add(Conv2D(filters=512, kernel_size=(3,3), padding=\"same\", activation=\"relu\",kernel_regularizer= keras.regularizers.l2(0.00001)))\n",
    "#model.add(BatchNormalization())\n",
    "model.add(Conv2D(filters=512, kernel_size=(3,3), padding=\"same\", activation=\"relu\",kernel_regularizer= keras.regularizers.l2(0.00001)))\n",
    "#model.add(BatchNormalization())\n",
    "model.add(MaxPool2D(pool_size=(2,2),strides=(2,2)))\n",
    "model.add(Conv2D(filters=512, kernel_size=(3,3), padding=\"same\", activation=\"relu\", kernel_regularizer= keras.regularizers.l2(0.00001)))\n",
    "#model.add(BatchNormalization())\n",
    "model.add(Conv2D(filters=512, kernel_size=(3,3), padding=\"same\", activation=\"relu\",kernel_regularizer= keras.regularizers.l2(0.00001)))\n",
    "#model.add(BatchNormalization())\n",
    "model.add(Conv2D(filters=512, kernel_size=(3,3), padding=\"same\", activation=\"relu\", kernel_regularizer= keras.regularizers.l2(0.0001)))\n",
    "#model.add(BatchNormalization())\n",
    "model.add(MaxPool2D(pool_size=(2,2),strides=(2,2),name='vgg16'))\n",
    "model.add(Flatten(name='flatten'))\n",
    "model.add(Dropout(0.5))\n",
    "model.add(Dense(512, activation='relu', name='fc1'))\n",
    "model.add(Dropout(0.3))\n",
    "model.add(Dense(256, activation='relu', name='fc2'))\n",
    "model.add(Dropout(0.2))\n",
    "model.add(Dense(6, activation='softmax', name='output'))\n",
    "\n",
    "model.compile(loss=keras.losses.categorical_crossentropy,\n",
    "               optimizer=keras.optimizers.SGD(0.01),\n",
    "               metrics=['accuracy'])\n",
    "\n",
    "model.summary()\n",
    "\n",
    "reduce_lr = tf.keras.callbacks.ReduceLROnPlateau(monitor='val_loss', factor=0.2,\n",
    "                            patience=10, min_lr=0.000001)"
   ]
  },
  {
   "cell_type": "code",
   "execution_count": null,
   "metadata": {},
   "outputs": [],
   "source": []
  },
  {
   "cell_type": "code",
   "execution_count": null,
   "metadata": {},
   "outputs": [],
   "source": []
  },
  {
   "cell_type": "code",
   "execution_count": null,
   "metadata": {},
   "outputs": [],
   "source": []
  },
  {
   "cell_type": "code",
   "execution_count": null,
   "metadata": {},
   "outputs": [],
   "source": []
  },
  {
   "cell_type": "code",
   "execution_count": 49,
   "metadata": {},
   "outputs": [],
   "source": [
    "##Previous model Run for 200 epoch"
   ]
  },
  {
   "cell_type": "code",
   "execution_count": 19,
   "metadata": {},
   "outputs": [
    {
     "name": "stdout",
     "output_type": "stream",
     "text": [
      "Train on 10320 samples, validate on 2580 samples\n",
      "Epoch 1/200\n",
      "10320/10320 [==============================] - 68s 7ms/sample - loss: 1.4588 - accuracy: 0.3701 - val_loss: 1.4382 - val_accuracy: 0.3888: 1.4 - ETA: 1:14 - loss: 1.4155 - accura - ETA: 1:10 - loss: 1.4220  - ETA: 1:05 - loss: 1.4288 - accuracy: 0. - ETA: 1:04 - loss: 1.4 - ETA: \n",
      "Epoch 2/200\n",
      "10320/10320 [==============================] - 65s 6ms/sample - loss: 1.4515 - accuracy: 0.3747 - val_loss: 1.4315 - val_accuracy: 0.38884s - loss: 1.4349 - accuracy: 0.39 - ETA: 53s - loss: 1.4382 -  - ETA: 50s - loss: 1.4566 - acc - ETA: 48s - loss: 1.4485 - accuracy: - ETA: 47s - loss: 1.4388 - accuracy:  - ETA: 46s - loss: 1.4349 - a - ETA: 34s - loss: 1.4515 - accuracy - ETA: 33s - loss: 1.4504 - accuracy: 0.3 - ETA: 32s - loss: 1.4506 - accuracy: - ETA: 31s - loss: 1.4518 - accuracy: 0.3 - ETA: 30s - loss: 1.4514 -  - ETA: 27s - loss: 1.4504 - - ETA: 24s - loss: 1.4494 - accurac - ETA: 23s - loss: 1.4548 - accuracy: 0.37 - ETA: 22s - loss: 1.4549 - accuracy: - ETA: 21s - loss: 1.4550 - accuracy: 0. - ETA: 20s -\n",
      "Epoch 3/200\n",
      "10320/10320 [==============================] - 65s 6ms/sample - loss: 1.4442 - accuracy: 0.3764 - val_loss: 1.4226 - val_accuracy: 0.3888TA: 59s - loss: 1.4068 - accuracy: - ETA: 57s - loss: 1.457 - ETA: 53s - loss: 1.4558 - accuracy: 0.3 - ETA: 53s - loss: 1.4679 - - ETA: 50s - loss: 1. - ETA: 45s - loss: 1.4697 - accura - ETA: 44s - loss: - ETA: 39s - loss: 1.4621 - accur - ETA: 37s - loss: 1.4649 - ETA: 33s - loss: 1.4594 - accuracy: 0. - ETA: 32s - loss: 1.458 - ETA: 29s - loss: 1.4563 - a - ETA: 26s - loss: 1.4551 - acc - ETA: 23s - loss: 1.4523 - ETA: 20s - loss: 1.4549 - ac - ETA: 17s - loss: 1.4 - ETA: 13s - loss: 1.4515 - a - ETA: 10s - loss: \n",
      "Epoch 4/200\n",
      "10320/10320 [==============================] - 65s 6ms/sample - loss: 1.4312 - accuracy: 0.3832 - val_loss: 1.4325 - val_accuracy: 0.3938 ETA: 45s - loss: 1.4291 - accuracy:  - ETA: 44s - loss: 1.4248 - accurac - ETA: 43s - ETA: 36s - loss: 1.4313 - ac - ETA: 34 - ETA: 19s - l - ETA\n",
      "Epoch 5/200\n",
      "10320/10320 [==============================] - 65s 6ms/sample - loss: 1.3937 - accuracy: 0.3944 - val_loss: 1.3056 - val_accuracy: 0.4547 ETA - ETA: 34s - loss: 1.4050 - ac - ETA: 32s - loss: 1.3999 - accuracy: 0 - ETA: 22s - loss: 1.4027 - accura - ETA: 20s - loss:  - ETA: 0s - loss: 1.3947 - accuracy: 0.39 - ETA: 0s - loss: 1.3940 - accuracy: \n",
      "Epoch 6/200\n",
      "10320/10320 [==============================] - 65s 6ms/sample - loss: 1.3096 - accuracy: 0.4343 - val_loss: 1.1488 - val_accuracy: 0.4938 52s - loss: 1.3649 -  - ETA: 4 - ETA: 34s - loss: 1.3559 - acc\n",
      "Epoch 7/200\n",
      "10320/10320 [==============================] - 65s 6ms/sample - loss: 1.1239 - accuracy: 0.5275 - val_loss: 0.8840 - val_accuracy: 0.6426 - loss: 1. - ETA:  - ETA: 38s - loss - ETA - ETA: 25s - loss: 1.1610 - accuracy: 0. - ETA: 25s - loss: 1.1585 - ac - ETA: 22s - loss: 1.1620 - accuracy: 0.50 - ETA: 22s - loss: 1.163 - ETA: 18s - loss: 1.1560 - accuracy: - ETA: 17s - loss: 1.1540 - acc\n",
      "Epoch 8/200\n",
      "10320/10320 [==============================] - 65s 6ms/sample - loss: 0.8581 - accuracy: 0.6402 - val_loss: 0.6329 - val_accuracy: 0.7636\n",
      "Epoch 9/200\n",
      "10320/10320 [==============================] - 65s 6ms/sample - loss: 0.5744 - accuracy: 0.7726 - val_loss: 0.3366 - val_accuracy: 0.8864- loss: 0.6341 - accuracy: 0.757 - ETA: 57s - loss: 0.6398 - accur - ETA: 55s - loss: 0.6323 - accu - ETA: 53s - loss: 0.6629 - acc - ETA: 50s - loss - ETA: 45s - l - ETA: 40s - loss: 0.6522 - accuracy: 0 - ETA: 39s - lo - ETA: 33s - loss: 0.6528 - accuracy: 0. - ETA: 33s - loss: 0.6508 - accurac - E - ETA: 23s - loss: 0.6378 - ETA: 12s - loss: 0.6113 - accuracy:  - ETA: 10s - loss:  - ETA: 8s - loss: 0.5971 - ac - ETA: 6s - l\n",
      "Epoch 10/200\n",
      "10320/10320 [==============================] - 65s 6ms/sample - loss: 0.3595 - accuracy: 0.8606 - val_loss: 0.1230 - val_accuracy: 0.9531TA: 1s - loss: 0.3614 - accu\n",
      "Epoch 11/200\n",
      "10320/10320 [==============================] - 65s 6ms/sample - loss: 0.1984 - accuracy: 0.9264 - val_loss: 0.0643 - val_accuracy: 0.9721 42s - loss: 0.234 - ETA: 38s - loss: 0.220 - ETA: 34s - loss: 0.2210 - accur - ETA: 32s - loss: 0.2172 - accurac - ETA: 30s - loss: 0.2 - ETA: 26s - l - ETA: 21s - loss: 0.2156 - accurac - ETA: 19s - loss: 0.2162 - accura - ETA: 17s - loss: 0.2139 - accuracy: 0.92 -  - ETA: 9s - loss: 0.2050 - accura - - ETA: 4s - loss: 0.2041 - accuracy:  - ETA: 4s - loss: 0.202 - ETA: 2s - loss: 0.2005 -  - ETA: 1s - loss: 0.1995 - accu\n",
      "Epoch 12/200\n",
      "10320/10320 [==============================] - 65s 6ms/sample - loss: 0.1489 - accuracy: 0.9431 - val_loss: 0.0518 - val_accuracy: 0.9744 loss: 0.1842 - accuracy:  - ETA: 52s - loss: 0.1809 -  - - ETA: 4s - loss: 0.1498 - accuracy -\n",
      "Epoch 13/200\n",
      "10320/10320 [==============================] - 65s 6ms/sample - loss: 0.1167 - accuracy: 0.9539 - val_loss: 0.0504 - val_accuracy: 0.9740 31s - loss: 0.1 - ETA: 18s - loss: 0.1268 - accu - ETA: 16s - loss: 0.1253 - accuracy: 0.9 - ETA: 16s - loss: 0.1250 - accu - ETA: 13s - loss: 0.1216 - accura - ET - ETA: 3s\n",
      "Epoch 14/200\n",
      "10320/10320 [==============================] - 65s 6ms/sample - loss: 0.0861 - accuracy: 0.9641 - val_loss: 0.0567 - val_accuracy: 0.9736ss: 0.0783 - a - ETA: 50s - loss: 0.0853 - accuracy: 0 - ETA: 49s - los - ETA: 35s -  - ETA: 29s - loss: 0.0870 - a - ETA: 26s - loss: - ETA: 13s - loss: 0.0906 - a - ETA: 6s - - ETA: 3s - loss: 0.0877 - accuracy:  - ETA: 2s - l\n",
      "Epoch 15/200\n",
      "10320/10320 [==============================] - 65s 6ms/sample - loss: 0.0709 - accuracy: 0.9669 - val_loss: 0.0470 - val_accuracy: 0.9740\n",
      "Epoch 16/200\n",
      "10320/10320 [==============================] - 65s 6ms/sample - loss: 0.0714 - accuracy: 0.9670 - val_loss: 0.0381 - val_accuracy: 0.9779\n",
      "Epoch 17/200\n",
      "10320/10320 [==============================] - 65s 6ms/sample - loss: 0.0607 - accuracy: 0.9701 - val_loss: 0.0453 - val_accuracy: 0.9744\n",
      "Epoch 18/200\n",
      "10320/10320 [==============================] - 65s 6ms/sample - loss: 0.0560 - accuracy: 0.9721 - val_loss: 0.0424 - val_accuracy: 0.9740\n",
      "Epoch 19/200\n",
      "10320/10320 [==============================] - 65s 6ms/sample - loss: 0.0525 - accuracy: 0.9729 - val_loss: 0.0381 - val_accuracy: 0.9729s \n",
      "Epoch 20/200\n",
      "10320/10320 [==============================] - 65s 6ms/sample - loss: 0.0477 - accuracy: 0.9741 - val_loss: 0.0342 - val_accuracy: 0.974033s - loss: 0.0436 - accuracy: - ETA: 32s - - ETA: 26s - loss: 0.0450 - accuracy:  - ETA: 25s - - ETA: 19s - loss: 0\n",
      "Epoch 21/200\n",
      "10320/10320 [==============================] - 65s 6ms/sample - loss: 0.0464 - accuracy: 0.9756 - val_loss: 0.0360 - val_accuracy: 0.9748 ETA: 31s - loss: 0.0408 - accuracy:  - ETA: 30s - loss: 0.0417 - accuracy: 0.9 - ETA: 30s - loss: 0.0421 - accurac - ETA: 28s - l \n",
      "Epoch 22/200\n",
      "10320/10320 [==============================] - 65s 6ms/sample - loss: 0.0464 - accuracy: 0.9745 - val_loss: 0.0531 - val_accuracy: 0.9705\n",
      "Epoch 23/200\n",
      "10320/10320 [==============================] - 65s 6ms/sample - loss: 0.0505 - accuracy: 0.9728 - val_loss: 0.0328 - val_accuracy: 0.9779. - ETA: 0s - loss: 0.0506 - accuracy: 0.97\n",
      "Epoch 24/200\n",
      "10320/10320 [==============================] - 65s 6ms/sample - loss: 0.0453 - accuracy: 0.9755 - val_loss: 0.0372 - val_accuracy: 0.9756\n",
      "Epoch 25/200\n",
      "10320/10320 [==============================] - 65s 6ms/sample - loss: 0.0424 - accuracy: 0.9745 - val_loss: 0.0363 - val_accuracy: 0.97441s - loss: 0.  - ETA: 28s - loss: 0.0421 - accuracy: 0.972 - ETA: 28s - loss: 0.0418 - accurac - - ETA: 19s - loss: 0.0426 - accuracy:  - ETA: 17s - loss: 0. - ETA\n",
      "Epoch 26/200\n",
      "10320/10320 [==============================] - 65s 6ms/sample - loss: 0.0403 - accuracy: 0.9768 - val_loss: 0.0330 - val_accuracy: 0.9740\n",
      "Epoch 27/200\n",
      "10320/10320 [==============================] - 65s 6ms/sample - loss: 0.0418 - accuracy: 0.9757 - val_loss: 0.0321 - val_accuracy: 0.9729\n",
      "Epoch 28/200\n"
     ]
    },
    {
     "name": "stdout",
     "output_type": "stream",
     "text": [
      "10320/10320 [==============================] - 65s 6ms/sample - loss: 0.0398 - accuracy: 0.9763 - val_loss: 0.0338 - val_accuracy: 0.9709 - accuracy: - ETA: 24s - loss: 0.0352 - accuracy: 0.\n",
      "Epoch 29/200\n",
      "10320/10320 [==============================] - 65s 6ms/sample - loss: 0.0404 - accuracy: 0.9769 - val_loss: 0.0330 - val_accuracy: 0.9779 0.97 - ETA: 48s - loss: 0.0 - - ETA: 36s - loss: 0.0401 - ETA: 32s - loss: 0.0410 - - ETA: 29s - loss - ETA: 24s - lo - ETA: 19s - loss: 0.0422 - accuracy: 0.975 - ETA: 18s - loss: 0.0422 - ac - ETA: 4s - loss: 0.0405 - ac - ETA:  - ETA: 0s - loss: 0.0405 - accuracy: 0.97\n",
      "Epoch 30/200\n",
      "10320/10320 [==============================] - 65s 6ms/sample - loss: 0.0431 - accuracy: 0.9757 - val_loss: 0.0344 - val_accuracy: 0.9733\n",
      "Epoch 31/200\n",
      "10320/10320 [==============================] - 65s 6ms/sample - loss: 0.0414 - accuracy: 0.9740 - val_loss: 0.0347 - val_accuracy: 0.9725 - accurac - ETA: 43s - loss: 0.0350 - accuracy: 0.9 - ETA: 42s - loss: 0.0352  -\n",
      "Epoch 32/200\n",
      "10320/10320 [==============================] - 65s 6ms/sample - loss: 0.0398 - accuracy: 0.9748 - val_loss: 0.0340 - val_accuracy: 0.9748\n",
      "Epoch 33/200\n",
      "10320/10320 [==============================] - 65s 6ms/sample - loss: 0.0409 - accuracy: 0.9740 - val_loss: 0.0332 - val_accuracy: 0.9744 ETA: 39s - loss: 0.0352 - accura - ETA: 37s - loss: 0.0358 - accur - ETA: 35s  - ETA: 29s - loss: 0.0393 - ac - ETA: - ETA: 19s - loss: 0.0413 - acc - ETA: 17s - loss: 0.0407 - acc\n",
      "Epoch 34/200\n",
      "10320/10320 [==============================] - 65s 6ms/sample - loss: 0.0383 - accuracy: 0.9759 - val_loss: 0.0331 - val_accuracy: 0.97210363 - accuracy: 0.9 - ETA: 17s - loss: 0.0 - ETA: 13s - loss: 0.0370 - accuracy:  - ETA: 12s \n",
      "Epoch 35/200\n",
      "10320/10320 [==============================] - 65s 6ms/sample - loss: 0.0379 - accuracy: 0.9751 - val_loss: 0.0335 - val_accuracy: 0.9729\n",
      "Epoch 36/200\n",
      "10320/10320 [==============================] - 65s 6ms/sample - loss: 0.0371 - accuracy: 0.9771 - val_loss: 0.0339 - val_accuracy: 0.9756\n",
      "Epoch 37/200\n",
      "10320/10320 [==============================] - 65s 6ms/sample - loss: 0.0374 - accuracy: 0.9777 - val_loss: 0.0320 - val_accuracy: 0.9752\n",
      "Epoch 38/200\n",
      "10320/10320 [==============================] - 65s 6ms/sample - loss: 0.0416 - accuracy: 0.9767 - val_loss: 0.0341 - val_accuracy: 0.9744: 16 - ETA: 10s - loss - ETA\n",
      "Epoch 39/200\n",
      "10320/10320 [==============================] - 65s 6ms/sample - loss: 0.0431 - accuracy: 0.9729 - val_loss: 0.0331 - val_accuracy: 0.9729o\n",
      "Epoch 40/200\n",
      "10320/10320 [==============================] - 65s 6ms/sample - loss: 0.0373 - accuracy: 0.9763 - val_loss: 0.0330 - val_accuracy: 0.9729\n",
      "Epoch 41/200\n",
      "10320/10320 [==============================] - 65s 6ms/sample - loss: 0.0380 - accuracy: 0.9755 - val_loss: 0.0331 - val_accuracy: 0.9729\n",
      "Epoch 42/200\n",
      "10320/10320 [==============================] - 65s 6ms/sample - loss: 0.0364 - accuracy: 0.9764 - val_loss: 0.0329 - val_accuracy: 0.9717\n",
      "Epoch 43/200\n",
      "10320/10320 [==============================] - 65s 6ms/sample - loss: 0.0362 - accuracy: 0.9761 - val_loss: 0.0332 - val_accuracy: 0.97298s - loss:  - ETA: 53s - loss: 0.0301 - - ETA: 50s - loss: 0.0319 - accuracy: 0.9 - ETA: 49s - loss: 0.033 - ETA: 45s - l - ETA: 40s - lo - ETA: 5s - loss: 0.036 -\n",
      "Epoch 44/200\n",
      "10320/10320 [==============================] - 65s 6ms/sample - loss: 0.0362 - accuracy: 0.9768 - val_loss: 0.0332 - val_accuracy: 0.973317s - loss: 0.0370 -\n",
      "Epoch 45/200\n",
      "10320/10320 [==============================] - 65s 6ms/sample - loss: 0.0368 - accuracy: 0.9758 - val_loss: 0.0334 - val_accuracy: 0.9721 ETA: 31s - loss: 0.0372 - accur - ETA: 29s - ETA: 23s - loss: 0.036 - ETA: 19s - loss: 0.0369 - accuracy: 0.9 - ETA: 19s - loss:  - ETA: 14s - loss: 0.0367 - accu -  - ETA: 3s\n",
      "Epoch 46/200\n",
      "10320/10320 [==============================] - 65s 6ms/sample - loss: 0.0355 - accuracy: 0.9765 - val_loss: 0.0334 - val_accuracy: 0.972524s - loss: 0.0338 -  - ETA: 21s - loss: 0.0345 - accurac - ETA: 20s - loss: 0.0340 - accur - ETA: 17s - loss: 0.0343 - acc - ETA: 15s - loss: 0.0349 - - ETA: 12s - loss: 0. - ETA: 9s - loss: 0 - ETA: 2s - loss: 0.0 - ETA: 0s - loss: 0.0354 - accuracy\n",
      "Epoch 47/200\n",
      "10320/10320 [==============================] - 65s 6ms/sample - loss: 0.0357 - accuracy: 0.9763 - val_loss: 0.0330 - val_accuracy: 0.97090382 - accuracy: 0.974 - ETA: 41s - loss: 0.0384 - accura - ETA: 39s - loss: 0.0374 - accuracy: 0 - ETA: 39s - loss: 0 - ET - ETA: 27s - lo - ETA: 21s - loss: 0.0355 - accur - ETA: 19s - loss: 0.0355 - accuracy - ETA: 18s - loss: 0.0358 - accuracy:  - ETA: 1s - loss: 0.0360 - accu\n",
      "Epoch 48/200\n",
      "10320/10320 [==============================] - 65s 6ms/sample - loss: 0.0362 - accuracy: 0.9751 - val_loss: 0.0330 - val_accuracy: 0.9721 40s - lo - ETA: 17s - loss: 0.0364 - accuracy - ETA: 16s - loss: 0.0371 -  - ETA: 7s - loss: - ETA: 1s - loss: 0.0359 - accu\n",
      "Epoch 49/200\n",
      "10320/10320 [==============================] - 65s 6ms/sample - loss: 0.0343 - accuracy: 0.9784 - val_loss: 0.0330 - val_accuracy: 0.9717 - loss: 0.03 - ETA: 54s - loss: 0 - ETA: 49s - loss: 0.0289 - accur - ETA: 47s -  - ETA: 41s - loss: 0.0307 - accu - ETA: 39s - los - ETA:  - ETA: 19s - ETA: 12s - loss: 0.0348 - accuracy: 0. - ETA: 12s - loss: 0.0346 - accuracy: 0.978 - E - - ETA: \n",
      "Epoch 50/200\n",
      "10320/10320 [==============================] - 65s 6ms/sample - loss: 0.0346 - accuracy: 0.9782 - val_loss: 0.0330 - val_accuracy: 0.9717 19s - loss: 0.0314 - acc - ETA: 17s - loss: 0. - ETA: 12s - loss: 0.0322 - accuracy: 0. - ETA: 12s - loss: 0.0328 - accuracy: 0.97 - ETA: 11s - loss: 0.0331 -  - ETA: 5s - loss: 0.0339 - ac\n",
      "Epoch 51/200\n",
      "10320/10320 [==============================] - 65s 6ms/sample - loss: 0.0353 - accuracy: 0.9768 - val_loss: 0.0331 - val_accuracy: 0.9736\n",
      "Epoch 52/200\n",
      "10320/10320 [==============================] - 65s 6ms/sample - loss: 0.0350 - accuracy: 0.9766 - val_loss: 0.0331 - val_accuracy: 0.9717A: 49s - loss:  - ETA: 45s - loss: 0.0396 - accuracy: 0.9 - ETA:  - ETA: 29s - loss:  - ETA: 24s - loss: 0 - ETA: 11s - los\n",
      "Epoch 53/200\n",
      "10320/10320 [==============================] - 65s 6ms/sample - loss: 0.0356 - accuracy: 0.9762 - val_loss: 0.0331 - val_accuracy: 0.9717 - loss: 0.0360 - accuracy: 0.97 - ETA: 49s - loss: - ET - ETA: 36s - loss: 0.0366 - a - ETA: 34s - loss: 0.0361 -  - ETA: 7s - loss: 0.0 - ETA: 1s - loss: 0.036\n",
      "Epoch 54/200\n",
      "10320/10320 [==============================] - 65s 6ms/sample - loss: 0.0363 - accuracy: 0.9763 - val_loss: 0.0332 - val_accuracy: 0.9717\n",
      "Epoch 55/200\n",
      "10320/10320 [==============================] - 65s 6ms/sample - loss: 0.0346 - accuracy: 0.9764 - val_loss: 0.0332 - val_accuracy: 0.9717 0.0352 -  - ETA: 16s - loss - ETA: 11s - los\n",
      "Epoch 56/200\n",
      "10320/10320 [==============================] - 65s 6ms/sample - loss: 0.0342 - accuracy: 0.9783 - val_loss: 0.0331 - val_accuracy: 0.9717: - ETA: 12s - loss: 0.0348 - ac - ETA: 5s - l - ETA: 3s\n",
      "Epoch 57/200\n",
      "10320/10320 [==============================] - 65s 6ms/sample - loss: 0.0348 - accuracy: 0.9772 - val_loss: 0.0330 - val_accuracy: 0.9717\n",
      "Epoch 58/200\n",
      "10320/10320 [==============================] - 65s 6ms/sample - loss: 0.0349 - accuracy: 0.9772 - val_loss: 0.0330 - val_accuracy: 0.9717\n",
      "Epoch 59/200\n",
      "10320/10320 [==============================] - 65s 6ms/sample - loss: 0.0340 - accuracy: 0.9788 - val_loss: 0.0330 - val_accuracy: 0.9717\n",
      "Epoch 60/200\n",
      "10320/10320 [==============================] - 65s 6ms/sample - loss: 0.0361 - accuracy: 0.9760 - val_loss: 0.0330 - val_accuracy: 0.9717\n",
      "Epoch 61/200\n",
      "10320/10320 [==============================] - 65s 6ms/sample - loss: 0.0351 - accuracy: 0.9760 - val_loss: 0.0330 - val_accuracy: 0.971760 - - ETA: 35s - loss:  - ETA: 30s - loss: 0.0357 - accuracy - ETA: 29s - loss:  - ETA: 24s - loss: 0.0363 - accuracy: \n",
      "Epoch 62/200\n",
      "10320/10320 [==============================] - 65s 6ms/sample - loss: 0.0352 - accuracy: 0.9770 - val_loss: 0.0330 - val_accuracy: 0.9717\n",
      "Epoch 63/200\n"
     ]
    },
    {
     "name": "stdout",
     "output_type": "stream",
     "text": [
      "10320/10320 [==============================] - 65s 6ms/sample - loss: 0.0357 - accuracy: 0.9760 - val_loss: 0.0330 - val_accuracy: 0.9717: 55s - loss: 0.0268 -  - ETA: 6s - - ETA: 3s - ETA: 0s - loss: 0.0358 - accuracy: 0.97\n",
      "Epoch 64/200\n",
      "10320/10320 [==============================] - 65s 6ms/sample - loss: 0.0345 - accuracy: 0.9783 - val_loss: 0.0330 - val_accuracy: 0.9721\n",
      "Epoch 65/200\n",
      "10320/10320 [==============================] - 65s 6ms/sample - loss: 0.0348 - accuracy: 0.9766 - val_loss: 0.0330 - val_accuracy: 0.9725\n",
      "Epoch 66/200\n",
      "10320/10320 [==============================] - 65s 6ms/sample - loss: 0.0340 - accuracy: 0.9799 - val_loss: 0.0330 - val_accuracy: 0.9725\n",
      "Epoch 67/200\n",
      "10320/10320 [==============================] - 65s 6ms/sample - loss: 0.0343 - accuracy: 0.9790 - val_loss: 0.0330 - val_accuracy: 0.9721oss: 0.0316 - accura - ETA: 43s - los - - ETA\n",
      "Epoch 68/200\n",
      "10320/10320 [==============================] - 65s 6ms/sample - loss: 0.0353 - accuracy: 0.9771 - val_loss: 0.0330 - val_accuracy: 0.9721\n",
      "Epoch 69/200\n",
      "10320/10320 [==============================] - 65s 6ms/sample - loss: 0.0355 - accuracy: 0.9777 - val_loss: 0.0330 - val_accuracy: 0.9721\n",
      "Epoch 70/200\n",
      "10320/10320 [==============================] - 65s 6ms/sample - loss: 0.0346 - accuracy: 0.9791 - val_loss: 0.0330 - val_accuracy: 0.9725\n",
      "Epoch 71/200\n",
      "10320/10320 [==============================] - 65s 6ms/sample - loss: 0.0344 - accuracy: 0.9777 - val_loss: 0.0330 - val_accuracy: 0.9721\n",
      "Epoch 72/200\n",
      "10320/10320 [==============================] - 65s 6ms/sample - loss: 0.0355 - accuracy: 0.9762 - val_loss: 0.0330 - val_accuracy: 0.9721loss: 0.040 - ETA: 40s  - ETA: 33s - loss: 0.0375 - accu\n",
      "Epoch 73/200\n",
      "10320/10320 [==============================] - 65s 6ms/sample - loss: 0.0350 - accuracy: 0.9769 - val_loss: 0.0330 - val_accuracy: 0.9721975 -  - ETA: 1s - loss: 0.034\n",
      "Epoch 74/200\n",
      "10320/10320 [==============================] - 65s 6ms/sample - loss: 0.0346 - accuracy: 0.9773 - val_loss: 0.0330 - val_accuracy: 0.9721 0s - loss: 0.0346 - accuracy: 0.\n",
      "Epoch 75/200\n",
      "10320/10320 [==============================] - 65s 6ms/sample - loss: 0.0344 - accuracy: 0.9775 - val_loss: 0.0330 - val_accuracy: 0.9721\n",
      "Epoch 76/200\n",
      "10320/10320 [==============================] - 65s 6ms/sample - loss: 0.0344 - accuracy: 0.9785 - val_loss: 0.0330 - val_accuracy: 0.972121s - ETA: 15s - loss: 0.0345 - accurac - E\n",
      "Epoch 77/200\n",
      "10320/10320 [==============================] - 65s 6ms/sample - loss: 0.0349 - accuracy: 0.9778 - val_loss: 0.0330 - val_accuracy: 0.9725354 - accurac\n",
      "Epoch 78/200\n",
      "10320/10320 [==============================] - 65s 6ms/sample - loss: 0.0348 - accuracy: 0.9779 - val_loss: 0.0330 - val_accuracy: 0.9725\n",
      "Epoch 79/200\n",
      "10320/10320 [==============================] - 65s 6ms/sample - loss: 0.0346 - accuracy: 0.9788 - val_loss: 0.0330 - val_accuracy: 0.9725\n",
      "Epoch 80/200\n",
      "10320/10320 [==============================] - 65s 6ms/sample - loss: 0.0354 - accuracy: 0.9768 - val_loss: 0.0330 - val_accuracy: 0.9725\n",
      "Epoch 81/200\n",
      "10320/10320 [==============================] - 65s 6ms/sample - loss: 0.0342 - accuracy: 0.9789 - val_loss: 0.0330 - val_accuracy: 0.9725ccuracy: 0 - ETA: 25s - loss: 0.0356 - accurac - E - ETA: 0s - loss: 0.0343 - accuracy\n",
      "Epoch 82/200\n",
      "10320/10320 [==============================] - 65s 6ms/sample - loss: 0.0367 - accuracy: 0.9749 - val_loss: 0.0330 - val_accuracy: 0.9725\n",
      "Epoch 83/200\n",
      "10320/10320 [==============================] - 65s 6ms/sample - loss: 0.0351 - accuracy: 0.9767 - val_loss: 0.0330 - val_accuracy: 0.9725\n",
      "Epoch 84/200\n",
      "10320/10320 [==============================] - 65s 6ms/sample - loss: 0.0350 - accuracy: 0.9764 - val_loss: 0.0330 - val_accuracy: 0.97250.0337 - accuracy: - ETA: 47s - loss: 0.0343 -  - ETA: 44s  - ETA: \n",
      "Epoch 85/200\n",
      "10320/10320 [==============================] - 65s 6ms/sample - loss: 0.0345 - accuracy: 0.9789 - val_loss: 0.0330 - val_accuracy: 0.9725 loss: 0.0267 - accur - ETA: 50s - loss: 0 - ETA: 7s\n",
      "Epoch 86/200\n",
      "10320/10320 [==============================] - 65s 6ms/sample - loss: 0.0346 - accuracy: 0.9780 - val_loss: 0.0330 - val_accuracy: 0.9725\n",
      "Epoch 87/200\n",
      "10320/10320 [==============================] - 65s 6ms/sample - loss: 0.0340 - accuracy: 0.9789 - val_loss: 0.0330 - val_accuracy: 0.9725: 25s - loss: 0.0312 - a - ET\n",
      "Epoch 88/200\n",
      "10320/10320 [==============================] - 65s 6ms/sample - loss: 0.0353 - accuracy: 0.9769 - val_loss: 0.0330 - val_accuracy: 0.9725ETA: 42s - loss: 0.03 - ETA: \n",
      "Epoch 89/200\n",
      "10320/10320 [==============================] - 65s 6ms/sample - loss: 0.0344 - accuracy: 0.9771 - val_loss: 0.0330 - val_accuracy: 0.9725\n",
      "Epoch 90/200\n",
      "10320/10320 [==============================] - 65s 6ms/sample - loss: 0.0353 - accuracy: 0.9778 - val_loss: 0.0330 - val_accuracy: 0.9725A: 33s - - ETA: 6s - loss: 0.0350 - accuracy - ETA: 5s - loss: 0.0348 - ac - ETA: 4s - loss: 0.0351 -  - ETA: 2s - loss: 0.0350 - accuracy: 0.97 - ETA: 2s - los\n",
      "Epoch 91/200\n",
      "10320/10320 [==============================] - 65s 6ms/sample - loss: 0.0353 - accuracy: 0.9769 - val_loss: 0.0330 - val_accuracy: 0.9725accuracy: 0 - ETA: 19s - loss: 0.0343 - accurac - ETA: 17s - loss: 0.0344 -\n",
      "Epoch 92/200\n",
      "10320/10320 [==============================] - 65s 6ms/sample - loss: 0.0346 - accuracy: 0.9774 - val_loss: 0.0330 - val_accuracy: 0.9725\n",
      "Epoch 93/200\n",
      "10320/10320 [==============================] - 65s 6ms/sample - loss: 0.0354 - accuracy: 0.9765 - val_loss: 0.0330 - val_accuracy: 0.9725\n",
      "Epoch 94/200\n",
      "10320/10320 [==============================] - 65s 6ms/sample - loss: 0.0341 - accuracy: 0.9774 - val_loss: 0.0330 - val_accuracy: 0.9725\n",
      "Epoch 95/200\n",
      "10320/10320 [==============================] - 65s 6ms/sample - loss: 0.0355 - accuracy: 0.9771 - val_loss: 0.0330 - val_accuracy: 0.9725\n",
      "Epoch 96/200\n",
      "10320/10320 [==============================] - 65s 6ms/sample - loss: 0.0364 - accuracy: 0.9753 - val_loss: 0.0330 - val_accuracy: 0.9725\n",
      "Epoch 97/200\n",
      "10320/10320 [==============================] - 65s 6ms/sample - loss: 0.0348 - accuracy: 0.9768 - val_loss: 0.0330 - val_accuracy: 0.972553s - ETA: 47s -  - ETA: 33s - loss - ETA: 28s - loss: 0.0339 - ac - ETA: 25s - loss: 0.0326 - ET\n",
      "Epoch 98/200\n",
      "10320/10320 [==============================] - 65s 6ms/sample - loss: 0.0358 - accuracy: 0.9754 - val_loss: 0.0330 - val_accuracy: 0.9725\n",
      "Epoch 99/200\n",
      "10320/10320 [==============================] - 65s 6ms/sample - loss: 0.0347 - accuracy: 0.9771 - val_loss: 0.0330 - val_accuracy: 0.9725 0. - ETA: 25s - loss: 0.0330 - ac\n",
      "Epoch 100/200\n",
      "10320/10320 [==============================] - 65s 6ms/sample - loss: 0.0346 - accuracy: 0.9769 - val_loss: 0.0330 - val_accuracy: 0.9725\n",
      "Epoch 101/200\n",
      "10320/10320 [==============================] - 65s 6ms/sample - loss: 0.0354 - accuracy: 0.9764 - val_loss: 0.0330 - val_accuracy: 0.97250355 -  - ETA: 20s - loss: 0.0351 - a - ETA: 18s - loss: 0 - ETA\n",
      "Epoch 102/200\n",
      "10320/10320 [==============================] - 65s 6ms/sample - loss: 0.0336 - accuracy: 0.9779 - val_loss: 0.0330 - val_accuracy: 0.9725s - loss: 0.0329 \n",
      "Epoch 103/200\n",
      "10320/10320 [==============================] - 65s 6ms/sample - loss: 0.0351 - accuracy: 0.9776 - val_loss: 0.0330 - val_accuracy: 0.9725\n",
      "Epoch 104/200\n",
      "10320/10320 [==============================] - 65s 6ms/sample - loss: 0.0347 - accuracy: 0.9774 - val_loss: 0.0330 - val_accuracy: 0.9725\n",
      "Epoch 105/200\n",
      "10320/10320 [==============================] - 65s 6ms/sample - loss: 0.0352 - accuracy: 0.9767 - val_loss: 0.0330 - val_accuracy: 0.9725\n",
      "Epoch 106/200\n",
      "10320/10320 [==============================] - 65s 6ms/sample - loss: 0.0342 - accuracy: 0.9772 - val_loss: 0.0330 - val_accuracy: 0.9725- lo - ETA: 41s - loss: 0.0355 - accuracy: 0.97 - ETA - ETA: 33s - loss: 0.0370 - ac - ETA: 30 - ETA - ETA: 17s - loss: 0. - ETA: 12s - loss: 0.0357 - accurac - ETA: 11s - loss: - ETA: 8s - loss: 0.0348 - ac - ETA: 6s - los - - ETA: 0s - loss: 0.0342 - accuracy: 0.\n",
      "Epoch 107/200\n",
      "10320/10320 [==============================] - 65s 6ms/sample - loss: 0.0342 - accuracy: 0.9788 - val_loss: 0.0330 - val_accuracy: 0.9725\n",
      "Epoch 108/200\n"
     ]
    },
    {
     "name": "stdout",
     "output_type": "stream",
     "text": [
      "10320/10320 [==============================] - 65s 6ms/sample - loss: 0.0356 - accuracy: 0.9755 - val_loss: 0.0330 - val_accuracy: 0.9725\n",
      "Epoch 109/200\n",
      "10320/10320 [==============================] - 65s 6ms/sample - loss: 0.0359 - accuracy: 0.9774 - val_loss: 0.0330 - val_accuracy: 0.9725\n",
      "Epoch 110/200\n",
      "10320/10320 [==============================] - 65s 6ms/sample - loss: 0.0346 - accuracy: 0.9773 - val_loss: 0.0330 - val_accuracy: 0.9725\n",
      "Epoch 111/200\n",
      "10320/10320 [==============================] - 65s 6ms/sample - loss: 0.0346 - accuracy: 0.9779 - val_loss: 0.0330 - val_accuracy: 0.9725s - - ETA: - ETA: 10s - loss - ETA: 7s - loss: 0.0342 - accu - ETA: 2s - l\n",
      "Epoch 112/200\n",
      "10320/10320 [==============================] - 65s 6ms/sample - loss: 0.0347 - accuracy: 0.9766 - val_loss: 0.0330 - val_accuracy: 0.9725\n",
      "Epoch 113/200\n",
      "10320/10320 [==============================] - 65s 6ms/sample - loss: 0.0347 - accuracy: 0.9773 - val_loss: 0.0330 - val_accuracy: 0.9725s: 0.0344 - accuracy: - ETA: 45s - loss: 0.03 - ETA: 42s - loss: 0.0337 - accuracy: 0.97  - ETA: 25s - loss: 0.0322 - accura\n",
      "Epoch 114/200\n",
      "10320/10320 [==============================] - 65s 6ms/sample - loss: 0.0356 - accuracy: 0.9761 - val_loss: 0.0330 - val_accuracy: 0.9725\n",
      "Epoch 115/200\n",
      "10320/10320 [==============================] - 65s 6ms/sample - loss: 0.0360 - accuracy: 0.9766 - val_loss: 0.0330 - val_accuracy: 0.9725\n",
      "Epoch 116/200\n",
      "10320/10320 [==============================] - 65s 6ms/sample - loss: 0.0356 - accuracy: 0.9758 - val_loss: 0.0330 - val_accuracy: 0.97257s - loss: 0.0371 - a - ETA: 45s - loss: 0.0355 -  - ETA: 42s - loss: 0.0361 - acc - ETA: 39s - los - ETA: 34s - loss:  - ETA: 29s - loss: 0.03 - ETA: 17s - loss: 0.0364 - \n",
      "Epoch 117/200\n",
      "10320/10320 [==============================] - 65s 6ms/sample - loss: 0.0352 - accuracy: 0.9764 - val_loss: 0.0330 - val_accuracy: 0.9725 loss: 0.0353 - accura - ETA: 38s - loss: 0.0355 -  - ETA: 35s - loss: 0.0354 - accuracy: 0.97 - ETA: 34s - loss: 0.0 - ETA: - ETA: 23s - loss: 0.0356 - accuracy: 0.9 - ETA: 23s - loss: 0.0356 - accuracy: 0.97 -\n",
      "Epoch 118/200\n",
      "10320/10320 [==============================] - 65s 6ms/sample - loss: 0.0350 - accuracy: 0.9777 - val_loss: 0.0330 - val_accuracy: 0.9725\n",
      "Epoch 119/200\n",
      "10320/10320 [==============================] - 65s 6ms/sample - loss: 0.0352 - accuracy: 0.9763 - val_loss: 0.0330 - val_accuracy: 0.9725 - loss: 0.0346 - accu - ETA: 12s - loss: 0.034 - ETA: 9s - loss: 0.0349 - ac - ETA: 7s - - E - ETA: 1s - loss: 0.0347 - ac\n",
      "Epoch 120/200\n",
      "10320/10320 [==============================] - 65s 6ms/sample - loss: 0.0348 - accuracy: 0.9777 - val_loss: 0.0330 - val_accuracy: 0.9725A: 47s - loss: 0.0347 - accura - ETA: 45s - loss: 0.032 - ETA: 4 - ETA: 18s - lo - ETA: 12\n",
      "Epoch 121/200\n",
      "10320/10320 [==============================] - 65s 6ms/sample - loss: 0.0345 - accuracy: 0.9772 - val_loss: 0.0330 - val_accuracy: 0.9725s: 0.0343 - accura - ETA: 26s - loss: 0.0344 - accurac - ETA: 25s - loss: 0.0345 - ETA: 21s - loss: 0.0346 - acc - ETA: 19s - loss: 0.0\n",
      "Epoch 122/200\n",
      "10320/10320 [==============================] - 65s 6ms/sample - loss: 0.0347 - accuracy: 0.9786 - val_loss: 0.0330 - val_accuracy: 0.9725\n",
      "Epoch 123/200\n",
      "10320/10320 [==============================] - 65s 6ms/sample - loss: 0.0343 - accuracy: 0.9782 - val_loss: 0.0330 - val_accuracy: 0.9725- accuracy: 0. - ETA: 45s - loss: 0.038 - - ETA: 1s - loss: 0.0342 - accu\n",
      "Epoch 124/200\n",
      "10320/10320 [==============================] - 65s 6ms/sample - loss: 0.0362 - accuracy: 0.9752 - val_loss: 0.0330 - val_accuracy: 0.9725TA: 1s - loss: 0.0365 - ac - ETA: 0s - loss: 0.0362 - accuracy: 0.97\n",
      "Epoch 125/200\n",
      "10320/10320 [==============================] - 65s 6ms/sample - loss: 0.0345 - accuracy: 0.9788 - val_loss: 0.0330 - val_accuracy: 0.9725\n",
      "Epoch 126/200\n",
      "10320/10320 [==============================] - 65s 6ms/sample - loss: 0.0347 - accuracy: 0.9779 - val_loss: 0.0330 - val_accuracy: 0.9725o\n",
      "Epoch 127/200\n",
      "10320/10320 [==============================] - 65s 6ms/sample - loss: 0.0351 - accuracy: 0.9775 - val_loss: 0.0330 - val_accuracy: 0.9725- ETA: 44s - loss: \n",
      "Epoch 128/200\n",
      "10320/10320 [==============================] - 65s 6ms/sample - loss: 0.0348 - accuracy: 0.9767 - val_loss: 0.0330 - val_accuracy: 0.9725\n",
      "Epoch 129/200\n",
      "10320/10320 [==============================] - 65s 6ms/sample - loss: 0.0359 - accuracy: 0.9762 - val_loss: 0.0330 - val_accuracy: 0.9725 0.0378 - accuracy: 0.9 - ETA: 39s - loss: 0.0373 - accur - ETA: 37s - l - ETA: 15s - loss: 0.0354 - acc - ETA: 12s - loss: 0.0354 - accuracy:  - ETA: 2s - loss:\n",
      "Epoch 130/200\n",
      "10320/10320 [==============================] - 65s 6ms/sample - loss: 0.0353 - accuracy: 0.9770 - val_loss: 0.0330 - val_accuracy: 0.9725348 - accuracy: 0.97 - ETA: 7s - loss: 0.0349 - accuracy:  - ETA: 2s -\n",
      "Epoch 131/200\n",
      "10320/10320 [==============================] - 65s 6ms/sample - loss: 0.0347 - accuracy: 0.9771 - val_loss: 0.0330 - val_accuracy: 0.9725\n",
      "Epoch 132/200\n",
      "10320/10320 [==============================] - 65s 6ms/sample - loss: 0.0350 - accuracy: 0.9781 - val_loss: 0.0330 - val_accuracy: 0.9725s - loss: 0.0359 - accuracy: 0. - ETA: 37s - loss:  - ETA: 0s - loss: 0.0352 - accuracy\n",
      "Epoch 133/200\n",
      "10320/10320 [==============================] - 65s 6ms/sample - loss: 0.0344 - accuracy: 0.9781 - val_loss: 0.0330 - val_accuracy: 0.9725ss: 0.0318 - a - ETA: 35s - loss: 0.0332 - accuracy: 0 - ETA: 34s - l - ETA: 29s - loss: 0.0325 - accuracy: 0.981 - ETA: 28s - loss: 0.0324 - accuracy: - ETA: 2s - loss: 0\n",
      "Epoch 134/200\n",
      "10320/10320 [==============================] - 65s 6ms/sample - loss: 0.0355 - accuracy: 0.9765 - val_loss: 0.0330 - val_accuracy: 0.9725loss: 0.0345 - accu - ETA: 8s - loss: 0.0346 - accuracy: 0.97 - ETA: 7s - loss: 0.0344 - ac - ETA: 6s - loss: 0 - ETA:  - ETA: 1s - loss: 0.0358 - accu\n",
      "Epoch 135/200\n",
      "10320/10320 [==============================] - 65s 6ms/sample - loss: 0.0345 - accuracy: 0.9766 - val_loss: 0.0330 - val_accuracy: 0.97250300 - a - ETA: 25s - loss: 0.0350 - accu - ETA: 4s - loss: 0.0348 - accu - ETA: 2s -\n",
      "Epoch 136/200\n",
      "10320/10320 [==============================] - 65s 6ms/sample - loss: 0.0345 - accuracy: 0.9773 - val_loss: 0.0330 - val_accuracy: 0.9725\n",
      "Epoch 137/200\n",
      "10320/10320 [==============================] - 65s 6ms/sample - loss: 0.0356 - accuracy: 0.9774 - val_loss: 0.0330 - val_accuracy: 0.9725\n",
      "Epoch 138/200\n",
      "10320/10320 [==============================] - 65s 6ms/sample - loss: 0.0351 - accuracy: 0.9763 - val_loss: 0.0330 - val_accuracy: 0.9725.0352 - accuracy: 0.9 - ETA: 32s  - ETA: 5s - loss: - ETA: 3s\n",
      "Epoch 139/200\n",
      "10320/10320 [==============================] - 65s 6ms/sample - loss: 0.0343 - accuracy: 0.9766 - val_loss: 0.0330 - val_accuracy: 0.972549s - ETA: 42s - loss - ETA: 2s - loss: 0.0344 - accu - ETA: 1s - loss: 0.034\n",
      "Epoch 140/200\n",
      "10320/10320 [==============================] - 65s 6ms/sample - loss: 0.0356 - accuracy: 0.9769 - val_loss: 0.0330 - val_accuracy: 0.9725\n",
      "Epoch 141/200\n",
      "10320/10320 [==============================] - 65s 6ms/sample - loss: 0.0346 - accuracy: 0.9772 - val_loss: 0.0330 - val_accuracy: 0.9725\n",
      "Epoch 142/200\n",
      "10320/10320 [==============================] - 65s 6ms/sample - loss: 0.0351 - accuracy: 0.9763 - val_loss: 0.0330 - val_accuracy: 0.9725: 42s - loss: 0.0333 - ac - E - ETA: 15s - loss: 0.0346 - accuracy: 0.97 - ETA: 14s - loss: 0.0347 - a - ETA: 12s -\n",
      "Epoch 143/200\n",
      "10320/10320 [==============================] - 65s 6ms/sample - loss: 0.0346 - accuracy: 0.9785 - val_loss: 0.0330 - val_accuracy: 0.9725\n",
      "Epoch 144/200\n",
      "10320/10320 [==============================] - 65s 6ms/sample - loss: 0.0342 - accuracy: 0.9786 - val_loss: 0.0330 - val_accuracy: 0.9725\n",
      "Epoch 145/200\n",
      "10320/10320 [==============================] - 65s 6ms/sample - loss: 0.0362 - accuracy: 0.9758 - val_loss: 0.0330 - val_accuracy: 0.9725\n",
      "Epoch 146/200\n"
     ]
    },
    {
     "name": "stdout",
     "output_type": "stream",
     "text": [
      "10320/10320 [==============================] - 65s 6ms/sample - loss: 0.0343 - accuracy: 0.9776 - val_loss: 0.0330 - val_accuracy: 0.9725r - ETA: 43s - loss: 0.0325 - accuracy: 0 - ETA: 42s - loss: 0.0326 - accura - ETA: 40s - loss: 0.0332 - a - ETA: 37s - loss: 0.0334 - accuracy: 0.976 - ETA: 37s - loss: 0.0331  - ETA: 34s - loss: 0.0336 - ETA\n",
      "Epoch 147/200\n",
      "10320/10320 [==============================] - 65s 6ms/sample - loss: 0.0342 - accuracy: 0.9780 - val_loss: 0.0330 - val_accuracy: 0.9725oss: 0.0351 - accuracy: - ETA: 22s - loss: 0.0353 - accura - ETA: 20s - \n",
      "Epoch 148/200\n",
      "10320/10320 [==============================] - 65s 6ms/sample - loss: 0.0341 - accuracy: 0.9791 - val_loss: 0.0330 - val_accuracy: 0.9725T - ETA: 43s - loss: 0.03 - ETA: 39s -  - ETA: 0s - loss: 0.0342 - accura\n",
      "Epoch 149/200\n",
      "10320/10320 [==============================] - 65s 6ms/sample - loss: 0.0357 - accuracy: 0.9759 - val_loss: 0.0330 - val_accuracy: 0.9725cura\n",
      "Epoch 150/200\n",
      "10320/10320 [==============================] - 65s 6ms/sample - loss: 0.0344 - accuracy: 0.9778 - val_loss: 0.0330 - val_accuracy: 0.9725\n",
      "Epoch 151/200\n",
      "10320/10320 [==============================] - 65s 6ms/sample - loss: 0.0349 - accuracy: 0.9768 - val_loss: 0.0330 - val_accuracy: 0.9725oss: 0.0370 -  -\n",
      "Epoch 152/200\n",
      "10320/10320 [==============================] - 65s 6ms/sample - loss: 0.0347 - accuracy: 0.9780 - val_loss: 0.0330 - val_accuracy: 0.9725y\n",
      "Epoch 153/200\n",
      "10320/10320 [==============================] - 65s 6ms/sample - loss: 0.0352 - accuracy: 0.9770 - val_loss: 0.0330 - val_accuracy: 0.9725\n",
      "Epoch 154/200\n",
      "10320/10320 [==============================] - 65s 6ms/sample - loss: 0.0353 - accuracy: 0.9757 - val_loss: 0.0330 - val_accuracy: 0.9725accuracy: 0 - ETA: 42s - loss: 0.0355 - ac\n",
      "Epoch 155/200\n",
      "10320/10320 [==============================] - 65s 6ms/sample - loss: 0.0349 - accuracy: 0.9767 - val_loss: 0.0330 - val_accuracy: 0.9725 0.0370 - ac - ETA: 19s - loss: 0.0367 - accuracy: 0.97 - ETA: 19s - loss: 0.0366 - ac - ETA: 0s - loss: 0.0351 - accuracy: 0.97 - ETA: 0s - loss: 0.0352 - accuracy\n",
      "Epoch 156/200\n",
      "10320/10320 [==============================] - 65s 6ms/sample - loss: 0.0350 - accuracy: 0.9766 - val_loss: 0.0330 - val_accuracy: 0.9725 - ETA: 24s - loss: 0.03 - ETA: 20s \n",
      "Epoch 157/200\n",
      "10320/10320 [==============================] - 65s 6ms/sample - loss: 0.0358 - accuracy: 0.9765 - val_loss: 0.0330 - val_accuracy: 0.9725- ETA: 4s - loss: 0.0356 - accuracy: 0. -\n",
      "Epoch 158/200\n",
      "10320/10320 [==============================] - 65s 6ms/sample - loss: 0.0360 - accuracy: 0.9763 - val_loss: 0.0330 - val_accuracy: 0.9725: 56s - loss: - ETA - ETA: 6s - loss: 0.0365 - accura - ETA: 1s - loss: 0.0359 - accu\n",
      "Epoch 159/200\n",
      "10320/10320 [==============================] - 65s 6ms/sample - loss: 0.0350 - accuracy: 0.9766 - val_loss: 0.0330 - val_accuracy: 0.9725ETA: 1s - loss: 0.0352 \n",
      "Epoch 160/200\n",
      "10320/10320 [==============================] - 65s 6ms/sample - loss: 0.0345 - accuracy: 0.9774 - val_loss: 0.0330 - val_accuracy: 0.9725 accuracy: \n",
      "Epoch 161/200\n",
      "10320/10320 [==============================] - 65s 6ms/sample - loss: 0.0351 - accuracy: 0.9783 - val_loss: 0.0330 - val_accuracy: 0.9725: 35s - loss: 0.0363 - accuracy: 0.9 - ETA: 35s - loss: - ETA: 30s - loss - ETA: 17s - loss: 0.0364 - accuracy: 0.977 - ETA: 16 - ETA: 1s - loss: 0.0355 - accura - ETA: 0s - loss: 0.0353 - accura\n",
      "Epoch 162/200\n",
      "10320/10320 [==============================] - 65s 6ms/sample - loss: 0.0350 - accuracy: 0.9778 - val_loss: 0.0330 - val_accuracy: 0.9725s: 0.0318 - accuracy: 0.980 - ETA: 42s - - ETA: 36s - lo - ETA: 31  - ETA: 16s - loss: 0.0331 - a - ETA: 13s - loss: 0.0332 - accuracy: 0.97 - - ETA: 3s - loss: 0.0338 - accuracy: 0. - ETA: 3s - loss: 0.0338 - accuracy: 0. - ETA: 2s -\n",
      "Epoch 163/200\n",
      "10320/10320 [==============================] - 65s 6ms/sample - loss: 0.0350 - accuracy: 0.9766 - val_loss: 0.0330 - val_accuracy: 0.9725s - loss: 0.0349 - accuracy: \n",
      "Epoch 164/200\n",
      "10320/10320 [==============================] - 65s 6ms/sample - loss: 0.0350 - accuracy: 0.9767 - val_loss: 0.0330 - val_accuracy: 0.9725\n",
      "Epoch 165/200\n",
      "10320/10320 [==============================] - 65s 6ms/sample - loss: 0.0337 - accuracy: 0.9797 - val_loss: 0.0330 - val_accuracy: 0.9725\n",
      "Epoch 166/200\n",
      "10320/10320 [==============================] - 65s 6ms/sample - loss: 0.0366 - accuracy: 0.9745 - val_loss: 0.0330 - val_accuracy: 0.9725- ETA: 18s - loss: 0.0372 - accurac - ETA: 4s - loss: 0.035 - ETA: 3s - - ETA: 0s - loss: 0.0367 - accuracy: 0.97\n",
      "Epoch 167/200\n",
      "10320/10320 [==============================] - 65s 6ms/sample - loss: 0.0351 - accuracy: 0.9754 - val_loss: 0.0330 - val_accuracy: 0.9725uracy: 0.978 - ETA: 49s - loss: 0.0322 - accur - ETA: 47s - loss: 0.0311 - accu - ETA: 44s - loss: 0.0332 - accuracy: 0.977 - ETA: - ETA: 20s - loss: 0.0337 - accu - ETA: 18s - loss: 0.0335 - accu - ETA: 16s - loss: 0.0334 - ETA: 12s - loss: 0.0 - ETA: 9s - loss: 0.0343 -  - ETA: 7s - loss: 0.0344 - accuracy:  - E - ETA: 3s - loss: 0.0341 - accuracy:  - ETA: 3s - loss: 0.0341 - accuracy: 0. - ETA: 2s - l\n",
      "Epoch 168/200\n",
      "10320/10320 [==============================] - 65s 6ms/sample - loss: 0.0350 - accuracy: 0.9761 - val_loss: 0.0330 - val_accuracy: 0.9725TA: 36s - loss: - ETA: 8s - loss: 0.0356 - ac - ETA: 2s - loss: 0.0348 - accuracy: 0. - ETA: 2s - los\n",
      "Epoch 169/200\n",
      "10320/10320 [==============================] - 65s 6ms/sample - loss: 0.0344 - accuracy: 0.9768 - val_loss: 0.0330 - val_accuracy: 0.9725\n",
      "Epoch 170/200\n",
      "10320/10320 [==============================] - 65s 6ms/sample - loss: 0.0351 - accuracy: 0.9766 - val_loss: 0.0330 - val_accuracy: 0.97250.0282 - - ETA: 48s - loss: 0.0 - ETA: 44s - loss: 0 - ETA: - ETA: 4s - loss: 0.0 - ETA: 2s - loss: 0.0346 - accuracy: 0.97 - ETA: 2s - loss:\n",
      "Epoch 171/200\n",
      "10320/10320 [==============================] - 65s 6ms/sample - loss: 0.0351 - accuracy: 0.9767 - val_loss: 0.0330 - val_accuracy: 0.9725\n",
      "Epoch 172/200\n",
      "10320/10320 [==============================] - 65s 6ms/sample - loss: 0.0346 - accuracy: 0.9751 - val_loss: 0.0330 - val_accuracy: 0.9725: 0. - ETA: 50s - lo - ETA: 45s - loss: 0.0325 - accuracy: 0 - ETA: 44s - lo - ETA: 38 - ETA - ETA: 0s - loss: 0.0345 - accura\n",
      "Epoch 173/200\n",
      "10320/10320 [==============================] - 65s 6ms/sample - loss: 0.0346 - accuracy: 0.9768 - val_loss: 0.0330 - val_accuracy: 0.9725\n",
      "Epoch 174/200\n",
      "10320/10320 [==============================] - 65s 6ms/sample - loss: 0.0349 - accuracy: 0.9778 - val_loss: 0.0330 - val_accuracy: 0.9725 - loss: 0.0289 - accur - ETA: 2s - loss: 0.0347 - accu - ETA: 1s - loss: 0.0350 \n",
      "Epoch 175/200\n",
      "10320/10320 [==============================] - 65s 6ms/sample - loss: 0.0356 - accuracy: 0.9762 - val_loss: 0.0330 - val_accuracy: 0.9725s: - ETA: 34s - loss: - E - ETA: 3s - loss: 0.0358 - accura - ETA: 2s - los\n",
      "Epoch 176/200\n",
      "10320/10320 [==============================] - 65s 6ms/sample - loss: 0.0344 - accuracy: 0.9774 - val_loss: 0.0330 - val_accuracy: 0.9725s - loss: 0 - ETA: 53s - loss:  - ETA: 40s - loss: 0.0312 -  - ETA: 6s - loss: 0.0352 - accuracy: 0. - ETA: 6s - loss: 0.0352 - accuracy - ETA: 1s - loss: 0.0344 \n",
      "Epoch 177/200\n",
      "10320/10320 [==============================] - 65s 6ms/sample - loss: 0.0347 - accuracy: 0.9779 - val_loss: 0.0330 - val_accuracy: 0.9725A: 49s - loss: 0.0320 - ETA: 37s \n",
      "Epoch 178/200\n",
      "10320/10320 [==============================] - 65s 6ms/sample - loss: 0.0345 - accuracy: 0.9773 - val_loss: 0.0330 - val_accuracy: 0.9725\n",
      "Epoch 179/200\n",
      "10320/10320 [==============================] - 65s 6ms/sample - loss: 0.0339 - accuracy: 0.9772 - val_loss: 0.0330 - val_accuracy: 0.9725s - loss: 0.0 - ETA: 22s - loss: 0.0333 - ac - ETA: 19s - loss: 0.0327 - ETA: 16s - loss: 0 - ETA: 11s - loss: 0.0331 - ETA: 9s - loss: 0.0336 - accuracy - ETA: 4s - loss: 0.0334  - ETA: 2s - los\n",
      "Epoch 180/200\n",
      "10320/10320 [==============================] - 65s 6ms/sample - loss: 0.0344 - accuracy: 0.9786 - val_loss: 0.0330 - val_accuracy: 0.9725\n",
      "Epoch 181/200\n"
     ]
    },
    {
     "name": "stdout",
     "output_type": "stream",
     "text": [
      "10320/10320 [==============================] - 65s 6ms/sample - loss: 0.0353 - accuracy: 0.9775 - val_loss: 0.0330 - val_accuracy: 0.9725- l - ETA: 34s - loss: 0.0328 - accu - ETA: 32s - loss: - ETA: 19s  - ETA: 12s - loss: 0.0355 - a - ETA: 10s - loss: 0.0354 - - ETA: 0s - loss: 0.0355 - accuracy: 0.\n",
      "Epoch 182/200\n",
      "10320/10320 [==============================] - 65s 6ms/sample - loss: 0.0351 - accuracy: 0.9759 - val_loss: 0.0330 - val_accuracy: 0.9725loss: 0.0404 - accuracy: 0.9 - ETA: 56s - loss: 0.0450 - accuracy: 0 - ETA: 55s - loss: 0.04 - ETA: 52s - loss: 0.0344 - accuracy: 0.978 - ETA: 51s - loss: 0.0352 - accuracy - ETA: 50s - loss: 0.0350 - accuracy: 0.97 - ETA - ETA:  - ETA: 2s - loss: 0\n",
      "Epoch 183/200\n",
      "10320/10320 [==============================] - 65s 6ms/sample - loss: 0.0343 - accuracy: 0.9769 - val_loss: 0.0330 - val_accuracy: 0.972556s - loss: 0.0348 - accurac - ETA: 55s - loss: 0.0396 - accur - ETA: 44s - loss: 0 - ETA: 40s - loss: 0.0331 - accurac - ETA: 38s - loss: 0.0325 - accuracy: 0. - ETA: 37s - loss: 0.0333 - accu - ETA:  - ETA: 28s - loss: 0.0347 - accuracy: 0 - ETA: 27s -  - ETA: 22s - loss: 0.0350 -  - ETA: 19s - loss: 0.0348 - accuracy: 0.9 - ETA: 18s - loss: 0.0348 -  - ETA: 15s  - ETA: 5s - loss: 0.0347 - \n",
      "Epoch 184/200\n",
      "10320/10320 [==============================] - 65s 6ms/sample - loss: 0.0349 - accuracy: 0.9783 - val_loss: 0.0330 - val_accuracy: 0.97250 - E - E - ETA: 0s - loss: 0.0345 - accuracy: \n",
      "Epoch 185/200\n",
      "10320/10320 [==============================] - 65s 6ms/sample - loss: 0.0350 - accuracy: 0.9759 - val_loss: 0.0330 - val_accuracy: 0.9725\n",
      "Epoch 186/200\n",
      "10320/10320 [==============================] - 65s 6ms/sample - loss: 0.0349 - accuracy: 0.9773 - val_loss: 0.0330 - val_accuracy: 0.9725\n",
      "Epoch 187/200\n",
      "10320/10320 [==============================] - 65s 6ms/sample - loss: 0.0352 - accuracy: 0.9773 - val_loss: 0.0330 - val_accuracy: 0.97259 -\n",
      "Epoch 188/200\n",
      "10320/10320 [==============================] - 65s 6ms/sample - loss: 0.0338 - accuracy: 0.9797 - val_loss: 0.0330 - val_accuracy: 0.9725TA: 15s -  - ETA: 9s - loss: 0.0325 - accuracy: 0.9 - ETA: 9s - loss: 0.0326 - \n",
      "Epoch 189/200\n",
      "10320/10320 [==============================] - 65s 6ms/sample - loss: 0.0346 - accuracy: 0.9784 - val_loss: 0.0330 - val_accuracy: 0.97250382  - ETA: 51s - loss: 0.0334 - a - ETA: 40s - loss: 0.0326 - accur - ETA: \n",
      "Epoch 190/200\n",
      "10320/10320 [==============================] - 65s 6ms/sample - loss: 0.0350 - accuracy: 0.9771 - val_loss: 0.0330 - val_accuracy: 0.9725- ETA: 7s - loss: 0.035 - ETA: 6s - ETA: 2s -\n",
      "Epoch 191/200\n",
      "10320/10320 [==============================] - 65s 6ms/sample - loss: 0.0346 - accuracy: 0.9783 - val_loss: 0.0330 - val_accuracy: 0.9725: 38s - loss: 0.0371 - accuracy:  - ETA: 36s - loss: 0.0367 - - ETA: 33s - loss: 0.0359 - accuracy: 0 - ETA: 16s - loss: 0.0348 - accuracy - ETA: 14s - loss: 0.0349 - accuracy: 0.9 - ETA: 14s - loss: 0.0348 - ETA: 10s - loss:  -\n",
      "Epoch 192/200\n",
      "10320/10320 [==============================] - 65s 6ms/sample - loss: 0.0344 - accuracy: 0.9785 - val_loss: 0.0330 - val_accuracy: 0.9725\n",
      "Epoch 193/200\n",
      "10320/10320 [==============================] - 65s 6ms/sample - loss: 0.0348 - accuracy: 0.9777 - val_loss: 0.0330 - val_accuracy: 0.9725acy: 0.\n",
      "Epoch 194/200\n",
      "10320/10320 [==============================] - 65s 6ms/sample - loss: 0.0348 - accuracy: 0.9759 - val_loss: 0.0330 - val_accuracy: 0.97250338 - accura - ETA: 35s - - ETA: 29s - loss: 0.0353 - accu - ETA:  - ETA: 2s - loss: 0.0351 - accuracy:  - ETA: 2s - loss: 0.035 - ETA: 0s - loss: 0.0347 - accuracy: 0. - ETA: 0s - loss: 0.0348 - accuracy: 0.97\n",
      "Epoch 195/200\n",
      "10320/10320 [==============================] - 65s 6ms/sample - loss: 0.0344 - accuracy: 0.9772 - val_loss: 0.0330 - val_accuracy: 0.9725 - ETA: 20s - loss: 0.0341 - accuracy: - ETA: 19s - loss: \n",
      "Epoch 196/200\n",
      "10320/10320 [==============================] - 65s 6ms/sample - loss: 0.0342 - accuracy: 0.9793 - val_loss: 0.0330 - val_accuracy: 0.97250.0328 - accuracy: 0 - ETA: 30s - loss: 0.03 - ETA: 27s - loss - ETA\n",
      "Epoch 197/200\n",
      "10320/10320 [==============================] - 65s 6ms/sample - loss: 0.0341 - accuracy: 0.9783 - val_loss: 0.0330 - val_accuracy: 0.9725 - - ETA: 46s - loss:  - ETA: 42s - loss: 0.035 - ETA: 38s - loss: 0.0355 - accurac - ETA: 36s - loss: 0.0356 - - ETA: 33s - loss: 0.0354 - accuracy: 0.9 - ETA: 33s - loss: 0.0356 - accura -  - ET - ETA: 16s - l - ETA - ETA: 6s - - ETA: 3s - loss: 0.0339 - accuracy: 0. - ETA: \n",
      "Epoch 198/200\n",
      "10320/10320 [==============================] - 65s 6ms/sample - loss: 0.0356 - accuracy: 0.9755 - val_loss: 0.0330 - val_accuracy: 0.9725 52s -  - ETA: 22s - loss: 0.0359 - accuracy: 0.97 - ETA: 21s - loss: 0.0357 - accuracy: 0 - ETA: 20s -\n",
      "Epoch 199/200\n",
      "10320/10320 [==============================] - 65s 6ms/sample - loss: 0.0349 - accuracy: 0.9761 - val_loss: 0.0330 - val_accuracy: 0.9725- loss: 0.0348 - accuracy:  - ETA: 26s - loss: 0.0357 \n",
      "Epoch 200/200\n",
      "10320/10320 [==============================] - 65s 6ms/sample - loss: 0.0341 - accuracy: 0.9791 - val_loss: 0.0330 - val_accuracy: 0.97253 - ETA: 32s  - ETA: 26s - loss: 0.0327 -  - ETA: 23s -  - ETA: 17s - loss: 0.0345 - - \n"
     ]
    }
   ],
   "source": [
    "history = model.fit(train_x,train_label_enc,validation_data=(val_x,val_label_enc), batch_size=32, epochs=1000, verbose=1,shuffle=True, callbacks = [reduce_lr])"
   ]
  },
  {
   "cell_type": "code",
   "execution_count": 20,
   "metadata": {},
   "outputs": [],
   "source": [
    "test_image = scalar.fit_transform(test_images_array.reshape(1950,196*196))\n",
    "test_image_array = test_image.reshape(1950,196,196,1)"
   ]
  },
  {
   "cell_type": "code",
   "execution_count": 21,
   "metadata": {},
   "outputs": [
    {
     "name": "stdout",
     "output_type": "stream",
     "text": [
      "1950/1950 [==============================] - 5s 3ms/sample - loss: 5.6721 - accuracy: 0.43900s - loss: 4.9664 - ac\n"
     ]
    }
   ],
   "source": [
    "score = model.evaluate(test_image_array,test_label_enc)"
   ]
  },
  {
   "cell_type": "code",
   "execution_count": 22,
   "metadata": {},
   "outputs": [
    {
     "data": {
      "image/png": "[encoded data removed]",
      "text/plain": [
       "<Figure size 432x288 with 1 Axes>"
      ]
     },
     "metadata": {
      "needs_background": "light"
     },
     "output_type": "display_data"
    }
   ],
   "source": [
    "import matplotlib.pyplot as plt\n",
    "plt.plot(history.history['accuracy'])\n",
    "plt.plot(history.history['val_accuracy'])\n",
    "plt.title('model accuracy')\n",
    "plt.ylabel('accuracy')\n",
    "plt.xlabel('epoch')\n",
    "plt.legend(['train', 'val'], loc='upper left')\n",
    "plt.show()"
   ]
  },
  {
   "cell_type": "code",
   "execution_count": 23,
   "metadata": {},
   "outputs": [
    {
     "data": {
      "image/png": "[encoded data removed]",
      "text/plain": [
       "<Figure size 432x288 with 1 Axes>"
      ]
     },
     "metadata": {
      "needs_background": "light"
     },
     "output_type": "display_data"
    }
   ],
   "source": [
    "import matplotlib.pyplot as plt\n",
    "plt.plot(history.history['loss'])\n",
    "plt.plot(history.history['val_loss'])\n",
    "plt.title('model loss')\n",
    "plt.ylabel('loss')\n",
    "plt.xlabel('epoch')\n",
    "plt.legend(['train', 'val'], loc='upper left')\n",
    "plt.show()"
   ]
  },
  {
   "cell_type": "code",
   "execution_count": 24,
   "metadata": {},
   "outputs": [],
   "source": [
    "y_predict = model.predict(test_image_array)"
   ]
  },
  {
   "cell_type": "code",
   "execution_count": 25,
   "metadata": {},
   "outputs": [],
   "source": [
    "y_predict_bool = np.argmax(y_predict,axis=1).tolist()"
   ]
  },
  {
   "cell_type": "code",
   "execution_count": 26,
   "metadata": {},
   "outputs": [],
   "source": [
    "from sklearn.metrics import confusion_matrix,precision_score,auc,recall_score,roc_curve,precision_recall_curve"
   ]
  },
  {
   "cell_type": "code",
   "execution_count": 27,
   "metadata": {},
   "outputs": [
    {
     "data": {
      "text/plain": [
       "array([[ 67,   0,  36,  18,  29,   0],\n",
       "       [ 95,  58,   1,  42,  90,  14],\n",
       "       [ 55,  30, 322, 173,  20,   0],\n",
       "       [ 50,  41,  77, 409,  23,   0],\n",
       "       [  0,  24, 126,   0,   0,   0],\n",
       "       [  0,   0,   0, 150,   0,   0]], dtype=int64)"
      ]
     },
     "execution_count": 27,
     "metadata": {},
     "output_type": "execute_result"
    }
   ],
   "source": [
    "confusion_matrix(test_image_label,y_predict_bool)"
   ]
  },
  {
   "cell_type": "code",
   "execution_count": 36,
   "metadata": {},
   "outputs": [
    {
     "data": {
      "text/plain": [
       "0.44666666666666666"
      ]
     },
     "execution_count": 36,
     "metadata": {},
     "output_type": "execute_result"
    }
   ],
   "source": [
    "67/(67+36+18+29)"
   ]
  },
  {
   "cell_type": "code",
   "execution_count": 28,
   "metadata": {},
   "outputs": [
    {
     "data": {
      "text/plain": [
       "0.412813675115717"
      ]
     },
     "execution_count": 28,
     "metadata": {},
     "output_type": "execute_result"
    }
   ],
   "source": [
    "precision_score(test_image_label,y_predict_bool,average='weighted')"
   ]
  },
  {
   "cell_type": "code",
   "execution_count": 32,
   "metadata": {},
   "outputs": [
    {
     "data": {
      "text/plain": [
       "0.438974358974359"
      ]
     },
     "execution_count": 32,
     "metadata": {},
     "output_type": "execute_result"
    }
   ],
   "source": [
    "recall_score(test_image_label,y_predict_bool,average='weighted')"
   ]
  },
  {
   "cell_type": "code",
   "execution_count": 33,
   "metadata": {},
   "outputs": [],
   "source": [
    "from sklearn.metrics import *"
   ]
  },
  {
   "cell_type": "code",
   "execution_count": 35,
   "metadata": {},
   "outputs": [
    {
     "name": "stdout",
     "output_type": "stream",
     "text": [
      "              precision    recall  f1-score   support\n",
      "\n",
      "           0       0.25      0.45      0.32       150\n",
      "           1       0.38      0.19      0.26       300\n",
      "           2       0.57      0.54      0.55       600\n",
      "           3       0.52      0.68      0.59       600\n",
      "           4       0.00      0.00      0.00       150\n",
      "           5       0.00      0.00      0.00       150\n",
      "\n",
      "    accuracy                           0.44      1950\n",
      "   macro avg       0.29      0.31      0.29      1950\n",
      "weighted avg       0.41      0.44      0.42      1950\n",
      "\n"
     ]
    }
   ],
   "source": [
    "print(classification_report(test_image_label,y_predict_bool))"
   ]
  },
  {
   "cell_type": "code",
   "execution_count": 47,
   "metadata": {},
   "outputs": [
    {
     "name": "stdout",
     "output_type": "stream",
     "text": [
      "0.7238888888888889\n"
     ]
    }
   ],
   "source": [
    "fpr,tpr,thresholds = roc_curve(test_image_label,y_predict_bool,pos_label=5)\n",
    "print(auc(fpr,tpr))"
   ]
  },
  {
   "cell_type": "code",
   "execution_count": 48,
   "metadata": {},
   "outputs": [
    {
     "data": {
      "text/plain": [
       "array([6, 5, 4, 3, 2, 1, 0])"
      ]
     },
     "execution_count": 48,
     "metadata": {},
     "output_type": "execute_result"
    }
   ],
   "source": [
    "thresholds"
   ]
  },
  {
   "cell_type": "code",
   "execution_count": null,
   "metadata": {},
   "outputs": [],
   "source": []
  },
  {
   "cell_type": "code",
   "execution_count": null,
   "metadata": {},
   "outputs": [],
   "source": []
  },
  {
   "cell_type": "code",
   "execution_count": 30,
   "metadata": {},
   "outputs": [
    {
     "name": "stdout",
     "output_type": "stream",
     "text": [
      "0\n",
      "D:\\ILBS_14_8_21_Sanjeev\\ILBS_Clustered_Volumes\\test\\00_5\n",
      "1\n",
      "D:\\ILBS_14_8_21_Sanjeev\\ILBS_Clustered_Volumes\\test\\06_10\n",
      "2\n",
      "D:\\ILBS_14_8_21_Sanjeev\\ILBS_Clustered_Volumes\\test\\11_15\n",
      "3\n",
      "D:\\ILBS_14_8_21_Sanjeev\\ILBS_Clustered_Volumes\\test\\16_20\n",
      "4\n",
      "D:\\ILBS_14_8_21_Sanjeev\\ILBS_Clustered_Volumes\\test\\21_25\n",
      "5\n",
      "D:\\ILBS_14_8_21_Sanjeev\\ILBS_Clustered_Volumes\\test\\26_30\n"
     ]
    }
   ],
   "source": [
    "path = r'D:\\ILBS_14_8_21_Sanjeev\\ILBS_Clustered_Volumes\\test'\n",
    "images = []\n",
    "for index, name in enumerate(os.listdir(path)):\n",
    "    print(index)\n",
    "    folder = os.path.join(path, name)\n",
    "    print(folder)"
   ]
  },
  {
   "cell_type": "code",
   "execution_count": null,
   "metadata": {},
   "outputs": [],
   "source": [
    "# model1 = Sequential()\n",
    "# model1.add(Conv2D(32, kernel_size=(3, 3), activation='relu', \n",
    "#                  input_shape=(196, 196,1)))\n",
    "# model1.add(Conv2D(64, (3, 3), activation='relu'))\n",
    "# model1.add(MaxPooling2D(pool_size=(2, 2)))\n",
    "# model1.add(Flatten())\n",
    "# model1.add(Dense(128, activation='relu'))\n",
    "# model1.add(Dense(6, activation='softmax'))\n",
    "\n",
    "# model1.compile(loss=keras.losses.categorical_crossentropy,\n",
    "#               optimizer=keras.optimizers.Adadelta(),\n",
    "#               metrics=['accuracy'])\n",
    "\n",
    "# print(model1.summary())"
   ]
  },
  {
   "cell_type": "code",
   "execution_count": null,
   "metadata": {},
   "outputs": [],
   "source": [
    "# history = model1.fit(train_images_array,train_label_enc,validation_split=0.2, batch_size=32, epochs=150, verbose=1,shuffle=True, callbacks = [reduce_lr])"
   ]
  },
  {
   "cell_type": "code",
   "execution_count": null,
   "metadata": {},
   "outputs": [],
   "source": []
  }
 ],
 "metadata": {
  "kernelspec": {
   "display_name": "Python 3",
   "language": "python",
   "name": "python3"
  },
  "language_info": {
   "codemirror_mode": {
    "name": "ipython",
    "version": 3
   },
   "file_extension": ".py",
   "mimetype": "text/x-python",
   "name": "python",
   "nbconvert_exporter": "python",
   "pygments_lexer": "ipython3",
   "version": "3.7.9"
  }
 },
 "nbformat": 4,
 "nbformat_minor": 4
}

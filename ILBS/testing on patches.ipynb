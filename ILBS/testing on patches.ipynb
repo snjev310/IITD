{
 "cells": [
  {
   "cell_type": "code",
   "execution_count": 1,
   "id": "d3de5152",
   "metadata": {},
   "outputs": [],
   "source": [
    "import pandas as pd\n",
    "import numpy as np\n",
    "import matplotlib.pyplot as plt\n",
    "import os\n",
    "import glob\n",
    "import cv2\n",
    "from sklearn.model_selection import train_test_split\n",
    "from tensorflow.keras import layers\n",
    "from tensorflow.keras.models import Sequential\n",
    "from tensorflow.keras.layers import Dense, Flatten, Conv2D, MaxPooling2D, Dropout, BatchNormalization, MaxPool2D\n",
    "from IPython.display import Image, display\n",
    "import matplotlib.pyplot as plt\n",
    "import matplotlib.cm as cm\n",
    "import tensorflow as tf\n",
    "from tensorflow import keras\n",
    "from sklearn.preprocessing import OneHotEncoder, StandardScaler\n",
    "from sklearn.metrics import *"
   ]
  },
  {
   "cell_type": "code",
   "execution_count": 2,
   "id": "9d4995f8",
   "metadata": {},
   "outputs": [
    {
     "data": {
      "text/plain": [
       "1"
      ]
     },
     "execution_count": 2,
     "metadata": {},
     "output_type": "execute_result"
    }
   ],
   "source": [
    "len(tf.config.list_physical_devices('GPU'))"
   ]
  },
  {
   "cell_type": "code",
   "execution_count": 7,
   "id": "c8c9a172",
   "metadata": {},
   "outputs": [],
   "source": [
    "def import_maps(path):\n",
    "    print(path)\n",
    "    images = []\n",
    "    for index, name in enumerate(os.listdir(path)):\n",
    "        folder = os.path.join(path, name)\n",
    "        for file_class in os.listdir(folder):\n",
    "            #if 'patches' in file_class:\n",
    "            im_folder = os.path.join(folder, file_class)\n",
    "#                 print(im_folder)\n",
    "#                 break\n",
    "            for im in os.listdir(im_folder):\n",
    "                img = cv2.imread(os.path.join(im_folder, im))\n",
    "                #print(img.shape)\n",
    "                if img is not None:\n",
    "                    img = cv2.cvtColor(img, cv2.COLOR_RGB2GRAY)\n",
    "                    img1 = cv2.resize(img, (64, 64))\n",
    "                    img = np.dstack((img1,img1,img1))\n",
    "                if img is not None:\n",
    "               #     img = (img-np.mean(img))/np.std(img)\n",
    "                    images.append((np.array(img), index)) \n",
    "    return images"
   ]
  },
  {
   "cell_type": "code",
   "execution_count": 8,
   "id": "dba1b452",
   "metadata": {},
   "outputs": [
    {
     "name": "stdout",
     "output_type": "stream",
     "text": [
      "C:\\Users\\AIIMS-IITD\\Desktop\\Sanjeev\\4_class_cluster_volume\\Train\n",
      "C:\\Users\\AIIMS-IITD\\Desktop\\Sanjeev\\4_class_cluster_volume\\Test\n"
     ]
    }
   ],
   "source": [
    "image_train_set = import_maps(r'C:\\Users\\AIIMS-IITD\\Desktop\\Sanjeev\\4_class_cluster_volume\\Train')\n",
    "image_test_set = import_maps(r'C:\\Users\\AIIMS-IITD\\Desktop\\Sanjeev\\4_class_cluster_volume\\Test')"
   ]
  },
  {
   "cell_type": "code",
   "execution_count": 9,
   "id": "48fa6b7b",
   "metadata": {},
   "outputs": [
    {
     "data": {
      "text/plain": [
       "17155"
      ]
     },
     "execution_count": 9,
     "metadata": {},
     "output_type": "execute_result"
    }
   ],
   "source": [
    "len(image_train_set)"
   ]
  },
  {
   "cell_type": "code",
   "execution_count": 10,
   "id": "dd57c3f7",
   "metadata": {},
   "outputs": [
    {
     "data": {
      "text/plain": [
       "2160"
      ]
     },
     "execution_count": 10,
     "metadata": {},
     "output_type": "execute_result"
    }
   ],
   "source": [
    "len(image_test_set)"
   ]
  },
  {
   "cell_type": "code",
   "execution_count": 11,
   "id": "e4d63813",
   "metadata": {},
   "outputs": [],
   "source": [
    "train_images_all = [i[0] for i in image_train_set]\n",
    "train_images_array = np.array(train_images_all)\n",
    "#train_images_array=np.expand_dims(train_images_array,axis=3)\n",
    "train_image_label = [i[1] for i in image_train_set]\n",
    "train_image_label = np.array(train_image_label)"
   ]
  },
  {
   "cell_type": "code",
   "execution_count": 12,
   "id": "839c5848",
   "metadata": {},
   "outputs": [],
   "source": [
    "test_images_all = [i[0] for i in image_test_set]\n",
    "test_images_array = np.array(test_images_all)\n",
    "#test_images_array=np.expand_dims(test_images_array,axis=3)\n",
    "test_image_label = [i[1] for i in image_test_set]\n",
    "test_image_label = np.array(test_image_label)"
   ]
  },
  {
   "cell_type": "code",
   "execution_count": 13,
   "id": "898c1e44",
   "metadata": {},
   "outputs": [],
   "source": [
    "scalar = StandardScaler(copy=False)\n",
    "train_images = scalar.fit_transform(train_images_array.reshape(len(train_images_array), 64*64*3))\n",
    "train_images_array = train_images.reshape(len(train_images_array), 64,64, 3)"
   ]
  },
  {
   "cell_type": "code",
   "execution_count": 14,
   "id": "aced168b",
   "metadata": {},
   "outputs": [],
   "source": [
    "test_image = scalar.fit_transform(test_images_array.reshape(len(test_images_array),64*64*3))\n",
    "test_image_array = test_image.reshape(len(test_images_array),64,64, 3)"
   ]
  },
  {
   "cell_type": "code",
   "execution_count": 15,
   "id": "5f65ba88",
   "metadata": {},
   "outputs": [],
   "source": [
    "enc = OneHotEncoder(handle_unknown='ignore')\n",
    "train_label_enc = enc.fit_transform(train_image_label.reshape(-1, 1)).toarray()\n",
    "#val_label_enc = enc.fit_transform(val_y.reshape(-1, 1)).toarray()\n",
    "test_label_enc = enc.fit_transform(test_image_label.reshape(-1, 1)).toarray()"
   ]
  },
  {
   "cell_type": "code",
   "execution_count": 23,
   "id": "a590676e",
   "metadata": {},
   "outputs": [
    {
     "name": "stdout",
     "output_type": "stream",
     "text": [
      "Model: \"sequential_3\"\n",
      "_________________________________________________________________\n",
      "Layer (type)                 Output Shape              Param #   \n",
      "=================================================================\n",
      "conv2d_6 (Conv2D)            (None, 64, 64, 64)        4864      \n",
      "_________________________________________________________________\n",
      "batch_normalization_6 (Batch (None, 64, 64, 64)        256       \n",
      "_________________________________________________________________\n",
      "max_pooling2d_4 (MaxPooling2 (None, 32, 32, 64)        0         \n",
      "_________________________________________________________________\n",
      "conv2d_7 (Conv2D)            (None, 32, 32, 32)        18464     \n",
      "_________________________________________________________________\n",
      "batch_normalization_7 (Batch (None, 32, 32, 32)        128       \n",
      "_________________________________________________________________\n",
      "max_pooling2d_5 (MaxPooling2 (None, 16, 16, 32)        0         \n",
      "_________________________________________________________________\n",
      "dropout_4 (Dropout)          (None, 16, 16, 32)        0         \n",
      "_________________________________________________________________\n",
      "conv2d_8 (Conv2D)            (None, 16, 16, 16)        4624      \n",
      "_________________________________________________________________\n",
      "batch_normalization_8 (Batch (None, 16, 16, 16)        64        \n",
      "_________________________________________________________________\n",
      "dropout_5 (Dropout)          (None, 16, 16, 16)        0         \n",
      "_________________________________________________________________\n",
      "flatten (Flatten)            (None, 4096)              0         \n",
      "_________________________________________________________________\n",
      "dense_2 (Dense)              (None, 4)                 16388     \n",
      "=================================================================\n",
      "Total params: 44,788\n",
      "Trainable params: 44,564\n",
      "Non-trainable params: 224\n",
      "_________________________________________________________________\n"
     ]
    }
   ],
   "source": [
    "model = Sequential()\n",
    "model.add(Conv2D(input_shape=(64,64,3),filters=64,kernel_size=(5,5),padding='same', activation='relu',kernel_regularizer=tf.keras.regularizers.l2(0.01)))\n",
    "model.add(BatchNormalization())\n",
    "model.add(MaxPooling2D(2,2))\n",
    "\n",
    "model.add(Conv2D(filters=32,kernel_size=(3,3),padding='same', activation='relu',kernel_regularizer=tf.keras.regularizers.l2(0.01)))\n",
    "model.add(BatchNormalization())\n",
    "model.add(MaxPooling2D(2,2))\n",
    "model.add(Dropout(0.2))\n",
    "\n",
    "\n",
    "\n",
    "model.add(Conv2D(filters=16,kernel_size=(3,3),padding='same', activation='relu',kernel_regularizer=tf.keras.regularizers.l2(0.01)))\n",
    "model.add(BatchNormalization())\n",
    "#model.add(MaxPooling2D(2,2))\n",
    "model.add(Dropout(0.5))\n",
    "\n",
    "model.add(Flatten(name='flatten'))\n",
    "#model.add(Dense(16, activation='relu', name='fc1'))\n",
    "model.add(Dense(4, activation='sigmoid'))\n",
    "\n",
    "model.compile(loss=keras.losses.categorical_crossentropy,\n",
    "               optimizer=keras.optimizers.Adam(0.001),\n",
    "               metrics=['accuracy'])\n",
    "model.summary()"
   ]
  },
  {
   "cell_type": "code",
   "execution_count": 24,
   "id": "c38bd61c",
   "metadata": {},
   "outputs": [
    {
     "name": "stdout",
     "output_type": "stream",
     "text": [
      "Epoch 1/100\n",
      "429/429 [==============================] - 4s 8ms/step - loss: 1.0799 - accuracy: 0.8360 - val_loss: 3.4894 - val_accuracy: 0.1775\n",
      "Epoch 2/100\n",
      "429/429 [==============================] - 3s 8ms/step - loss: 0.4979 - accuracy: 0.9669 - val_loss: 5.3632 - val_accuracy: 0.1618\n",
      "Epoch 3/100\n",
      "429/429 [==============================] - 3s 8ms/step - loss: 0.3421 - accuracy: 0.9769 - val_loss: 4.9065 - val_accuracy: 0.1723\n",
      "Epoch 4/100\n",
      "429/429 [==============================] - 3s 8ms/step - loss: 0.2796 - accuracy: 0.9749 - val_loss: 8.3122 - val_accuracy: 0.0842\n",
      "Epoch 5/100\n",
      "429/429 [==============================] - 3s 8ms/step - loss: 0.2420 - accuracy: 0.9788 - val_loss: 5.2726 - val_accuracy: 0.2906\n",
      "Epoch 6/100\n",
      "429/429 [==============================] - 3s 8ms/step - loss: 0.2196 - accuracy: 0.9816 - val_loss: 7.4240 - val_accuracy: 0.1035\n",
      "Epoch 7/100\n",
      "429/429 [==============================] - 3s 8ms/step - loss: 0.2175 - accuracy: 0.9805 - val_loss: 9.1772 - val_accuracy: 0.1291\n",
      "Epoch 8/100\n",
      "429/429 [==============================] - 3s 8ms/step - loss: 0.2151 - accuracy: 0.9789 - val_loss: 9.2463 - val_accuracy: 0.0839\n",
      "Epoch 9/100\n",
      "429/429 [==============================] - 3s 8ms/step - loss: 0.2041 - accuracy: 0.9832 - val_loss: 11.7142 - val_accuracy: 0.0513\n",
      "Epoch 10/100\n",
      "429/429 [==============================] - 3s 8ms/step - loss: 0.2036 - accuracy: 0.9841 - val_loss: 10.3495 - val_accuracy: 0.0732\n",
      "Epoch 11/100\n",
      "429/429 [==============================] - 3s 8ms/step - loss: 0.1870 - accuracy: 0.9868 - val_loss: 9.0616 - val_accuracy: 0.1568\n",
      "Epoch 12/100\n",
      "429/429 [==============================] - 3s 8ms/step - loss: 0.1868 - accuracy: 0.9844 - val_loss: 9.7803 - val_accuracy: 0.1262\n",
      "Epoch 13/100\n",
      "429/429 [==============================] - 3s 8ms/step - loss: 0.1915 - accuracy: 0.9848 - val_loss: 10.2001 - val_accuracy: 0.1615\n",
      "Epoch 14/100\n",
      "429/429 [==============================] - 3s 8ms/step - loss: 0.1795 - accuracy: 0.9881 - val_loss: 9.6443 - val_accuracy: 0.1166\n",
      "Epoch 15/100\n",
      "429/429 [==============================] - 3s 8ms/step - loss: 0.1926 - accuracy: 0.9847 - val_loss: 8.3402 - val_accuracy: 0.1073\n",
      "Epoch 16/100\n",
      "429/429 [==============================] - 3s 8ms/step - loss: 0.2012 - accuracy: 0.9843 - val_loss: 8.9931 - val_accuracy: 0.1792\n",
      "Epoch 17/100\n",
      "429/429 [==============================] - 3s 8ms/step - loss: 0.1660 - accuracy: 0.9900 - val_loss: 11.3520 - val_accuracy: 0.1335\n",
      "Epoch 18/100\n",
      "429/429 [==============================] - 3s 8ms/step - loss: 0.1742 - accuracy: 0.9878 - val_loss: 8.5773 - val_accuracy: 0.1212\n",
      "Epoch 19/100\n",
      "429/429 [==============================] - 3s 8ms/step - loss: 0.1715 - accuracy: 0.9865 - val_loss: 10.6025 - val_accuracy: 0.1189\n",
      "Epoch 20/100\n",
      "429/429 [==============================] - 3s 8ms/step - loss: 0.1706 - accuracy: 0.9893 - val_loss: 8.4787 - val_accuracy: 0.1309\n",
      "Epoch 21/100\n",
      "429/429 [==============================] - 3s 8ms/step - loss: 0.1606 - accuracy: 0.9889 - val_loss: 9.6367 - val_accuracy: 0.1481\n",
      "Epoch 22/100\n",
      "429/429 [==============================] - 3s 8ms/step - loss: 0.1503 - accuracy: 0.9903 - val_loss: 11.7806 - val_accuracy: 0.0804\n",
      "Epoch 23/100\n",
      "429/429 [==============================] - 3s 8ms/step - loss: 0.1579 - accuracy: 0.9881 - val_loss: 10.9128 - val_accuracy: 0.0860\n",
      "Epoch 24/100\n",
      "429/429 [==============================] - 3s 8ms/step - loss: 0.1537 - accuracy: 0.9891 - val_loss: 7.6455 - val_accuracy: 0.1653\n",
      "Epoch 25/100\n",
      "429/429 [==============================] - 3s 8ms/step - loss: 0.1494 - accuracy: 0.9883 - val_loss: 9.8098 - val_accuracy: 0.1574\n",
      "Epoch 26/100\n",
      "429/429 [==============================] - 3s 8ms/step - loss: 0.1534 - accuracy: 0.9889 - val_loss: 10.8614 - val_accuracy: 0.1215\n",
      "Epoch 27/100\n",
      "429/429 [==============================] - 3s 8ms/step - loss: 0.1451 - accuracy: 0.9896 - val_loss: 10.4581 - val_accuracy: 0.0921\n",
      "Epoch 28/100\n",
      "429/429 [==============================] - 3s 8ms/step - loss: 0.1281 - accuracy: 0.9932 - val_loss: 10.8673 - val_accuracy: 0.0755\n",
      "Epoch 29/100\n",
      "429/429 [==============================] - 3s 8ms/step - loss: 0.1241 - accuracy: 0.9911 - val_loss: 11.8647 - val_accuracy: 0.0533\n",
      "Epoch 30/100\n",
      "429/429 [==============================] - 3s 8ms/step - loss: 0.1483 - accuracy: 0.9872 - val_loss: 10.7654 - val_accuracy: 0.0772\n",
      "Epoch 31/100\n",
      "429/429 [==============================] - 3s 8ms/step - loss: 0.1274 - accuracy: 0.9925 - val_loss: 8.5075 - val_accuracy: 0.0901\n",
      "Epoch 32/100\n",
      "429/429 [==============================] - 3s 8ms/step - loss: 0.1172 - accuracy: 0.9916 - val_loss: 11.6151 - val_accuracy: 0.0624\n",
      "Epoch 33/100\n",
      "429/429 [==============================] - 3s 8ms/step - loss: 0.1193 - accuracy: 0.9915 - val_loss: 12.1643 - val_accuracy: 0.0440\n",
      "Epoch 34/100\n",
      "429/429 [==============================] - 3s 8ms/step - loss: 0.1226 - accuracy: 0.9906 - val_loss: 10.0183 - val_accuracy: 0.1259\n",
      "Epoch 35/100\n",
      "429/429 [==============================] - 3s 8ms/step - loss: 0.1302 - accuracy: 0.9903 - val_loss: 8.5340 - val_accuracy: 0.1329\n",
      "Epoch 36/100\n",
      "429/429 [==============================] - 3s 8ms/step - loss: 0.1063 - accuracy: 0.9947 - val_loss: 8.6852 - val_accuracy: 0.1355\n",
      "Epoch 37/100\n",
      "429/429 [==============================] - 3s 8ms/step - loss: 0.1004 - accuracy: 0.9926 - val_loss: 10.4801 - val_accuracy: 0.0592\n",
      "Epoch 38/100\n",
      "429/429 [==============================] - 3s 8ms/step - loss: 0.1054 - accuracy: 0.9929 - val_loss: 9.8397 - val_accuracy: 0.0869\n",
      "Epoch 39/100\n",
      "429/429 [==============================] - 3s 8ms/step - loss: 0.1137 - accuracy: 0.9907 - val_loss: 10.4535 - val_accuracy: 0.0790\n",
      "Epoch 40/100\n",
      "429/429 [==============================] - 3s 8ms/step - loss: 0.0977 - accuracy: 0.9944 - val_loss: 9.6993 - val_accuracy: 0.0767\n",
      "Epoch 41/100\n",
      "429/429 [==============================] - 3s 8ms/step - loss: 0.0964 - accuracy: 0.9934 - val_loss: 8.2123 - val_accuracy: 0.0939\n",
      "Epoch 42/100\n",
      "429/429 [==============================] - 3s 8ms/step - loss: 0.0991 - accuracy: 0.9922 - val_loss: 9.2984 - val_accuracy: 0.0781\n",
      "Epoch 43/100\n",
      "429/429 [==============================] - 3s 8ms/step - loss: 0.0983 - accuracy: 0.9923 - val_loss: 9.3091 - val_accuracy: 0.0997\n",
      "Epoch 44/100\n",
      "429/429 [==============================] - 3s 8ms/step - loss: 0.0957 - accuracy: 0.9930 - val_loss: 8.2763 - val_accuracy: 0.1288\n",
      "Epoch 45/100\n",
      "429/429 [==============================] - 3s 8ms/step - loss: 0.0966 - accuracy: 0.9929 - val_loss: 8.3128 - val_accuracy: 0.0950\n",
      "Epoch 46/100\n",
      "429/429 [==============================] - 3s 8ms/step - loss: 0.1035 - accuracy: 0.9921 - val_loss: 9.0268 - val_accuracy: 0.0787\n",
      "Epoch 47/100\n",
      "429/429 [==============================] - 3s 8ms/step - loss: 0.0962 - accuracy: 0.9930 - val_loss: 10.1119 - val_accuracy: 0.0522\n",
      "Epoch 48/100\n",
      "429/429 [==============================] - 3s 8ms/step - loss: 0.0938 - accuracy: 0.9928 - val_loss: 10.2763 - val_accuracy: 0.0825\n",
      "Epoch 49/100\n",
      "429/429 [==============================] - 3s 8ms/step - loss: 0.1010 - accuracy: 0.9925 - val_loss: 9.4621 - val_accuracy: 0.0656\n",
      "Epoch 50/100\n",
      "429/429 [==============================] - 3s 8ms/step - loss: 0.0852 - accuracy: 0.9944 - val_loss: 9.6932 - val_accuracy: 0.0630\n",
      "Epoch 51/100\n",
      "429/429 [==============================] - 3s 8ms/step - loss: 0.0968 - accuracy: 0.9915 - val_loss: 10.0241 - val_accuracy: 0.0810\n",
      "Epoch 52/100\n",
      "429/429 [==============================] - 3s 8ms/step - loss: 0.0932 - accuracy: 0.9927 - val_loss: 10.3840 - val_accuracy: 0.0854\n",
      "Epoch 53/100\n",
      "429/429 [==============================] - 3s 8ms/step - loss: 0.0801 - accuracy: 0.9953 - val_loss: 8.7781 - val_accuracy: 0.0918\n",
      "Epoch 54/100\n",
      "429/429 [==============================] - 3s 8ms/step - loss: 0.0878 - accuracy: 0.9921 - val_loss: 9.2968 - val_accuracy: 0.1043\n",
      "Epoch 55/100\n",
      "429/429 [==============================] - 3s 8ms/step - loss: 0.0914 - accuracy: 0.9938 - val_loss: 10.5817 - val_accuracy: 0.0621\n",
      "Epoch 56/100\n",
      "429/429 [==============================] - 3s 8ms/step - loss: 0.0779 - accuracy: 0.9946 - val_loss: 9.6363 - val_accuracy: 0.1000\n",
      "Epoch 57/100\n",
      "429/429 [==============================] - 3s 8ms/step - loss: 0.0883 - accuracy: 0.9927 - val_loss: 10.2650 - val_accuracy: 0.0906\n"
     ]
    },
    {
     "name": "stdout",
     "output_type": "stream",
     "text": [
      "Epoch 58/100\n",
      "429/429 [==============================] - 3s 8ms/step - loss: 0.0829 - accuracy: 0.9946 - val_loss: 10.7937 - val_accuracy: 0.0632\n",
      "Epoch 59/100\n",
      "429/429 [==============================] - 3s 8ms/step - loss: 0.0787 - accuracy: 0.9942 - val_loss: 8.8883 - val_accuracy: 0.1449\n",
      "Epoch 60/100\n",
      "429/429 [==============================] - 3s 8ms/step - loss: 0.0855 - accuracy: 0.9929 - val_loss: 7.8932 - val_accuracy: 0.1259\n",
      "Epoch 61/100\n",
      "429/429 [==============================] - 3s 8ms/step - loss: 0.0875 - accuracy: 0.9938 - val_loss: 11.6069 - val_accuracy: 0.0723\n",
      "Epoch 62/100\n",
      "429/429 [==============================] - 3s 8ms/step - loss: 0.0818 - accuracy: 0.9945 - val_loss: 8.0757 - val_accuracy: 0.1140\n",
      "Epoch 63/100\n",
      "429/429 [==============================] - 3s 8ms/step - loss: 0.0876 - accuracy: 0.9932 - val_loss: 10.2208 - val_accuracy: 0.0533\n",
      "Epoch 64/100\n",
      "429/429 [==============================] - 3s 8ms/step - loss: 0.0892 - accuracy: 0.9932 - val_loss: 7.3027 - val_accuracy: 0.1113\n",
      "Epoch 65/100\n",
      "429/429 [==============================] - 3s 8ms/step - loss: 0.0805 - accuracy: 0.9942 - val_loss: 8.3660 - val_accuracy: 0.0933\n",
      "Epoch 66/100\n",
      "429/429 [==============================] - 3s 8ms/step - loss: 0.0695 - accuracy: 0.9953 - val_loss: 8.5229 - val_accuracy: 0.1393\n",
      "Epoch 67/100\n",
      "429/429 [==============================] - 3s 8ms/step - loss: 0.0926 - accuracy: 0.9906 - val_loss: 9.6045 - val_accuracy: 0.0836\n",
      "Epoch 68/100\n",
      "429/429 [==============================] - 3s 8ms/step - loss: 0.0895 - accuracy: 0.9930 - val_loss: 8.4488 - val_accuracy: 0.1166\n",
      "Epoch 69/100\n",
      "429/429 [==============================] - 3s 8ms/step - loss: 0.0731 - accuracy: 0.9961 - val_loss: 10.3916 - val_accuracy: 0.1014\n",
      "Epoch 70/100\n",
      "429/429 [==============================] - 3s 8ms/step - loss: 0.0911 - accuracy: 0.9914 - val_loss: 8.4733 - val_accuracy: 0.1008\n",
      "Epoch 71/100\n",
      "429/429 [==============================] - 3s 8ms/step - loss: 0.0776 - accuracy: 0.9959 - val_loss: 8.0868 - val_accuracy: 0.1064\n",
      "Epoch 72/100\n",
      "429/429 [==============================] - 3s 8ms/step - loss: 0.0794 - accuracy: 0.9933 - val_loss: 9.6273 - val_accuracy: 0.0688\n",
      "Epoch 73/100\n",
      "429/429 [==============================] - 3s 8ms/step - loss: 0.0837 - accuracy: 0.9932 - val_loss: 11.1013 - val_accuracy: 0.0682\n",
      "Epoch 74/100\n",
      "429/429 [==============================] - 3s 8ms/step - loss: 0.0756 - accuracy: 0.9949 - val_loss: 8.9835 - val_accuracy: 0.0682\n",
      "Epoch 75/100\n",
      "429/429 [==============================] - 3s 8ms/step - loss: 0.0702 - accuracy: 0.9947 - val_loss: 9.0735 - val_accuracy: 0.1043\n",
      "Epoch 76/100\n",
      "429/429 [==============================] - 3s 8ms/step - loss: 0.0762 - accuracy: 0.9932 - val_loss: 9.7373 - val_accuracy: 0.0802\n",
      "Epoch 77/100\n",
      "429/429 [==============================] - 4s 8ms/step - loss: 0.0807 - accuracy: 0.9934 - val_loss: 9.5822 - val_accuracy: 0.0915\n",
      "Epoch 78/100\n",
      "429/429 [==============================] - 4s 8ms/step - loss: 0.0717 - accuracy: 0.9946 - val_loss: 7.9612 - val_accuracy: 0.1006\n",
      "Epoch 79/100\n",
      "429/429 [==============================] - 3s 8ms/step - loss: 0.0702 - accuracy: 0.9949 - val_loss: 11.6285 - val_accuracy: 0.0708\n",
      "Epoch 80/100\n",
      "429/429 [==============================] - 3s 8ms/step - loss: 0.0796 - accuracy: 0.9941 - val_loss: 9.8958 - val_accuracy: 0.0802\n",
      "Epoch 81/100\n",
      "429/429 [==============================] - 3s 8ms/step - loss: 0.0789 - accuracy: 0.9936 - val_loss: 11.4142 - val_accuracy: 0.0676\n",
      "Epoch 82/100\n",
      "429/429 [==============================] - 3s 8ms/step - loss: 0.0745 - accuracy: 0.9956 - val_loss: 9.4400 - val_accuracy: 0.0842\n",
      "Epoch 83/100\n",
      "429/429 [==============================] - 3s 8ms/step - loss: 0.0688 - accuracy: 0.9946 - val_loss: 9.6666 - val_accuracy: 0.0901\n",
      "Epoch 84/100\n",
      "429/429 [==============================] - 3s 8ms/step - loss: 0.0806 - accuracy: 0.9933 - val_loss: 11.6354 - val_accuracy: 0.0676\n",
      "Epoch 85/100\n",
      "429/429 [==============================] - 3s 8ms/step - loss: 0.0729 - accuracy: 0.9948 - val_loss: 10.6532 - val_accuracy: 0.0635\n",
      "Epoch 86/100\n",
      "429/429 [==============================] - 3s 8ms/step - loss: 0.0665 - accuracy: 0.9963 - val_loss: 12.1616 - val_accuracy: 0.0799\n",
      "Epoch 87/100\n",
      "429/429 [==============================] - 3s 8ms/step - loss: 0.0817 - accuracy: 0.9937 - val_loss: 9.3134 - val_accuracy: 0.0851\n",
      "Epoch 88/100\n",
      "429/429 [==============================] - 3s 8ms/step - loss: 0.0773 - accuracy: 0.9938 - val_loss: 7.4607 - val_accuracy: 0.0956\n",
      "Epoch 89/100\n",
      "429/429 [==============================] - 3s 8ms/step - loss: 0.0780 - accuracy: 0.9941 - val_loss: 8.0777 - val_accuracy: 0.1291\n",
      "Epoch 90/100\n",
      "429/429 [==============================] - 3s 8ms/step - loss: 0.0752 - accuracy: 0.9932 - val_loss: 10.1877 - val_accuracy: 0.0705\n",
      "Epoch 91/100\n",
      "429/429 [==============================] - 3s 8ms/step - loss: 0.0712 - accuracy: 0.9953 - val_loss: 9.1214 - val_accuracy: 0.0936\n",
      "Epoch 92/100\n",
      "429/429 [==============================] - 3s 8ms/step - loss: 0.0770 - accuracy: 0.9937 - val_loss: 9.3517 - val_accuracy: 0.0892\n",
      "Epoch 93/100\n",
      "429/429 [==============================] - 3s 8ms/step - loss: 0.0648 - accuracy: 0.9962 - val_loss: 9.3224 - val_accuracy: 0.0790\n",
      "Epoch 94/100\n",
      "429/429 [==============================] - 3s 8ms/step - loss: 0.0825 - accuracy: 0.9914 - val_loss: 9.3959 - val_accuracy: 0.1035\n",
      "Epoch 95/100\n",
      "429/429 [==============================] - 3s 8ms/step - loss: 0.0670 - accuracy: 0.9961 - val_loss: 7.7536 - val_accuracy: 0.0746\n",
      "Epoch 96/100\n",
      "429/429 [==============================] - 3s 8ms/step - loss: 0.0788 - accuracy: 0.9924 - val_loss: 8.4824 - val_accuracy: 0.1008\n",
      "Epoch 97/100\n",
      "429/429 [==============================] - 3s 8ms/step - loss: 0.0670 - accuracy: 0.9961 - val_loss: 9.1945 - val_accuracy: 0.0612\n",
      "Epoch 98/100\n",
      "429/429 [==============================] - 3s 8ms/step - loss: 0.0638 - accuracy: 0.9947 - val_loss: 8.2052 - val_accuracy: 0.0979\n",
      "Epoch 99/100\n",
      "429/429 [==============================] - 3s 8ms/step - loss: 0.0703 - accuracy: 0.9941 - val_loss: 7.9205 - val_accuracy: 0.1113\n",
      "Epoch 100/100\n",
      "429/429 [==============================] - 3s 8ms/step - loss: 0.0717 - accuracy: 0.9936 - val_loss: 10.0885 - val_accuracy: 0.0522\n"
     ]
    }
   ],
   "source": [
    "history = model.fit(train_images_array,train_label_enc,validation_split=0.2, batch_size=32, epochs=100, verbose=1,shuffle=True)"
   ]
  },
  {
   "cell_type": "code",
   "execution_count": 25,
   "id": "ac297628",
   "metadata": {},
   "outputs": [
    {
     "name": "stdout",
     "output_type": "stream",
     "text": [
      "68/68 [==============================] - 0s 3ms/step - loss: 4.9177 - accuracy: 0.4259\n"
     ]
    }
   ],
   "source": [
    "score = model.evaluate(test_image_array,test_label_enc, batch_size=32)"
   ]
  },
  {
   "cell_type": "code",
   "execution_count": 26,
   "id": "4c33e4b3",
   "metadata": {},
   "outputs": [
    {
     "name": "stdout",
     "output_type": "stream",
     "text": [
      "537/537 [==============================] - 2s 3ms/step - loss: 2.0662 - accuracy: 0.8103\n"
     ]
    }
   ],
   "source": [
    "score = model.evaluate(train_images_array,train_label_enc, batch_size=32)"
   ]
  },
  {
   "cell_type": "markdown",
   "id": "4fb1b6e3",
   "metadata": {},
   "source": [
    "# Old"
   ]
  },
  {
   "cell_type": "code",
   "execution_count": 29,
   "id": "6e80b4f4",
   "metadata": {},
   "outputs": [
    {
     "name": "stdout",
     "output_type": "stream",
     "text": [
      "Model: \"sequential_2\"\n",
      "_________________________________________________________________\n",
      "Layer (type)                 Output Shape              Param #   \n",
      "=================================================================\n",
      "conv2d_12 (Conv2D)           (None, 112, 112, 128)     3584      \n",
      "_________________________________________________________________\n",
      "dropout_12 (Dropout)         (None, 112, 112, 128)     0         \n",
      "_________________________________________________________________\n",
      "conv2d_13 (Conv2D)           (None, 112, 112, 64)      73792     \n",
      "_________________________________________________________________\n",
      "dropout_13 (Dropout)         (None, 112, 112, 64)      0         \n",
      "_________________________________________________________________\n",
      "conv2d_14 (Conv2D)           (None, 112, 112, 64)      36928     \n",
      "_________________________________________________________________\n",
      "dropout_14 (Dropout)         (None, 112, 112, 64)      0         \n",
      "_________________________________________________________________\n",
      "conv2d_15 (Conv2D)           (None, 112, 112, 48)      3120      \n",
      "_________________________________________________________________\n",
      "dropout_15 (Dropout)         (None, 112, 112, 48)      0         \n",
      "_________________________________________________________________\n",
      "conv2d_16 (Conv2D)           (None, 112, 112, 32)      1568      \n",
      "_________________________________________________________________\n",
      "dropout_16 (Dropout)         (None, 112, 112, 32)      0         \n",
      "_________________________________________________________________\n",
      "conv2d_17 (Conv2D)           (None, 112, 112, 24)      792       \n",
      "_________________________________________________________________\n",
      "dropout_17 (Dropout)         (None, 112, 112, 24)      0         \n",
      "_________________________________________________________________\n",
      "flatten (Flatten)            (None, 301056)            0         \n",
      "_________________________________________________________________\n",
      "fc1 (Dense)                  (None, 16)                4816912   \n",
      "_________________________________________________________________\n",
      "dropout_18 (Dropout)         (None, 16)                0         \n",
      "_________________________________________________________________\n",
      "fc2 (Dense)                  (None, 4)                 68        \n",
      "=================================================================\n",
      "Total params: 4,936,764\n",
      "Trainable params: 4,936,764\n",
      "Non-trainable params: 0\n",
      "_________________________________________________________________\n"
     ]
    }
   ],
   "source": [
    "model = Sequential()\n",
    "\n",
    "model.add(Conv2D(input_shape=(112,112,3),filters=128,kernel_size=(3,3),padding=\"same\", activation='LeakyReLU'))\n",
    "model.add(Dropout(0.2))\n",
    "model.add(Conv2D(filters=64,kernel_size=(3,3),padding=\"same\", activation=\"LeakyReLU\"))\n",
    "model.add(Dropout(0.2))\n",
    "model.add(Conv2D(filters=64,kernel_size=(3,3),padding=\"same\", activation=\"relu\"))\n",
    "model.add(Dropout(0.2))\n",
    "\n",
    "model.add(Conv2D(filters=48,kernel_size=(1,1),padding=\"same\", activation=\"LeakyReLU\"))\n",
    "model.add(Dropout(0.2))\n",
    "\n",
    "model.add(Conv2D(filters=32,kernel_size=(1,1),padding=\"same\", activation=\"LeakyReLU\"))\n",
    "model.add(Dropout(0.2))\n",
    "\n",
    "model.add(Conv2D(filters=24,kernel_size=(1,1),padding=\"same\", activation=\"LeakyReLU\"))\n",
    "model.add(Dropout(0.2))\n",
    "\n",
    "model.add(Flatten(name='flatten'))\n",
    "model.add(Dense(16, activation='LeakyReLU', name='fc1'))\n",
    "model.add(Dropout(0.3))\n",
    "model.add(Dense(4, activation='sigmoid', name='fc2'))\n",
    "\n",
    "model.compile(loss=keras.losses.categorical_crossentropy,\n",
    "               optimizer=keras.optimizers.Adam(0.0012),\n",
    "               metrics=['accuracy'])\n",
    "model.summary()"
   ]
  },
  {
   "cell_type": "code",
   "execution_count": 30,
   "id": "3b7f0223",
   "metadata": {},
   "outputs": [],
   "source": [
    "from tensorflow.keras.layers import LeakyReLU\n"
   ]
  },
  {
   "cell_type": "code",
   "execution_count": 31,
   "id": "e957b10a",
   "metadata": {},
   "outputs": [
    {
     "name": "stdout",
     "output_type": "stream",
     "text": [
      "Epoch 1/5\n",
      "239/239 [==============================] - 19s 77ms/step - loss: 0.4049 - accuracy: 0.8607 - val_loss: 328.5982 - val_accuracy: 0.3108\n",
      "Epoch 2/5\n",
      "239/239 [==============================] - 18s 77ms/step - loss: 0.0630 - accuracy: 0.9820 - val_loss: 359.2047 - val_accuracy: 0.3378\n",
      "Epoch 3/5\n",
      "239/239 [==============================] - 18s 77ms/step - loss: 0.0249 - accuracy: 0.9923 - val_loss: 403.9989 - val_accuracy: 0.3099\n",
      "Epoch 4/5\n",
      "239/239 [==============================] - 18s 77ms/step - loss: 0.0528 - accuracy: 0.9866 - val_loss: 279.6661 - val_accuracy: 0.3432\n",
      "Epoch 5/5\n",
      "239/239 [==============================] - 18s 77ms/step - loss: 0.0682 - accuracy: 0.9833 - val_loss: 336.4004 - val_accuracy: 0.2108\n"
     ]
    }
   ],
   "source": [
    "history = model.fit(train_images_array,train_label_enc,validation_data=(test_images_array,test_label_enc), batch_size=32, epochs=5, verbose=1,shuffle=True)"
   ]
  },
  {
   "cell_type": "code",
   "execution_count": 32,
   "id": "7366affb",
   "metadata": {},
   "outputs": [
    {
     "name": "stdout",
     "output_type": "stream",
     "text": [
      "70/70 [==============================] - 1s 11ms/step - loss: 9.9756 - accuracy: 0.1937\n"
     ]
    }
   ],
   "source": [
    "score = model.evaluate(test_image_array,test_label_enc, batch_size=16)"
   ]
  },
  {
   "cell_type": "code",
   "execution_count": null,
   "id": "73fb0034",
   "metadata": {},
   "outputs": [],
   "source": []
  }
 ],
 "metadata": {
  "kernelspec": {
   "display_name": "Python 3",
   "language": "python",
   "name": "python3"
  },
  "language_info": {
   "codemirror_mode": {
    "name": "ipython",
    "version": 3
   },
   "file_extension": ".py",
   "mimetype": "text/x-python",
   "name": "python",
   "nbconvert_exporter": "python",
   "pygments_lexer": "ipython3",
   "version": "3.8.8"
  }
 },
 "nbformat": 4,
 "nbformat_minor": 5
}

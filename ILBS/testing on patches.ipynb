{
 "cells": [
  {
   "cell_type": "code",
   "execution_count": 14,
   "id": "7325b944",
   "metadata": {},
   "outputs": [],
   "source": [
    "import pandas as pd\n",
    "import numpy as np\n",
    "import matplotlib.pyplot as plt\n",
    "import os\n",
    "import glob\n",
    "import cv2\n",
    "from sklearn.model_selection import train_test_split\n",
    "from tensorflow.keras import layers\n",
    "from tensorflow.keras.models import Sequential\n",
    "from tensorflow.keras.layers import Dense, Flatten, Conv2D, MaxPooling2D, Dropout, BatchNormalization, MaxPool2D\n",
    "from IPython.display import Image, display\n",
    "import matplotlib.pyplot as plt\n",
    "import matplotlib.cm as cm\n",
    "import tensorflow as tf\n",
    "from tensorflow import keras\n",
    "from sklearn.preprocessing import OneHotEncoder, StandardScaler\n",
    "from sklearn.metrics import *"
   ]
  },
  {
   "cell_type": "code",
   "execution_count": 15,
   "id": "1015b2e4",
   "metadata": {},
   "outputs": [
    {
     "data": {
      "text/plain": [
       "1"
      ]
     },
     "execution_count": 15,
     "metadata": {},
     "output_type": "execute_result"
    }
   ],
   "source": [
    "len(tf.config.list_physical_devices('GPU'))"
   ]
  },
  {
   "cell_type": "code",
   "execution_count": 33,
   "id": "1562e2ce",
   "metadata": {},
   "outputs": [],
   "source": [
    "def import_maps(path):\n",
    "    images = []\n",
    "    for index, name in enumerate(os.listdir(path)):\n",
    "        folder = os.path.join(path, name)\n",
    "        for file_class in os.listdir(folder):\n",
    "            if 'patches' in file_class:\n",
    "                im_folder = os.path.join(folder, file_class)\n",
    "#                 print(im_folder)\n",
    "#                 break\n",
    "                for im in os.listdir(im_folder):\n",
    "                    img = cv2.imread(os.path.join(im_folder, im))\n",
    "                    #print(img.shape)\n",
    "                    if img is not None:\n",
    "                        img = cv2.cvtColor(img, cv2.COLOR_RGB2GRAY)\n",
    "                        img1 = cv2.resize(img, (64, 64))\n",
    "                        img = np.dstack((img1,img1,img1))\n",
    "                    if img is not None:\n",
    "                   #     img = (img-np.mean(img))/np.std(img)\n",
    "                        images.append((np.array(img), index)) \n",
    "    return images"
   ]
  },
  {
   "cell_type": "code",
   "execution_count": 34,
   "id": "73ac56ec",
   "metadata": {},
   "outputs": [],
   "source": [
    "image_train_set = import_maps(r'C:\\Users\\AIIMS-IITD\\Desktop\\Sanjeev\\4_class_cluster_volume_seg\\Train')\n",
    "image_test_set = import_maps(r'C:\\Users\\AIIMS-IITD\\Desktop\\Sanjeev\\4_class_cluster_volume_seg\\Test')"
   ]
  },
  {
   "cell_type": "code",
   "execution_count": 35,
   "id": "bc119dbd",
   "metadata": {},
   "outputs": [
    {
     "data": {
      "text/plain": [
       "7623"
      ]
     },
     "execution_count": 35,
     "metadata": {},
     "output_type": "execute_result"
    }
   ],
   "source": [
    "len(image_train_set)"
   ]
  },
  {
   "cell_type": "code",
   "execution_count": 36,
   "id": "a987b683",
   "metadata": {},
   "outputs": [
    {
     "data": {
      "text/plain": [
       "1110"
      ]
     },
     "execution_count": 36,
     "metadata": {},
     "output_type": "execute_result"
    }
   ],
   "source": [
    "len(image_test_set)"
   ]
  },
  {
   "cell_type": "code",
   "execution_count": 37,
   "id": "246ec550",
   "metadata": {},
   "outputs": [],
   "source": [
    "train_images_all = [i[0] for i in image_train_set]\n",
    "train_images_array = np.array(train_images_all)\n",
    "#train_images_array=np.expand_dims(train_images_array,axis=3)\n",
    "train_image_label = [i[1] for i in image_train_set]\n",
    "train_image_label = np.array(train_image_label)"
   ]
  },
  {
   "cell_type": "code",
   "execution_count": 38,
   "id": "0e25a060",
   "metadata": {},
   "outputs": [],
   "source": [
    "test_images_all = [i[0] for i in image_test_set]\n",
    "test_images_array = np.array(test_images_all)\n",
    "#test_images_array=np.expand_dims(test_images_array,axis=3)\n",
    "test_image_label = [i[1] for i in image_test_set]\n",
    "test_image_label = np.array(test_image_label)"
   ]
  },
  {
   "cell_type": "code",
   "execution_count": 39,
   "id": "3cfc0e1d",
   "metadata": {},
   "outputs": [],
   "source": [
    "scalar = StandardScaler(copy=False)\n",
    "train_images = scalar.fit_transform(train_images_array.reshape(len(train_images_array), 64*64*3))\n",
    "train_images_array = train_images.reshape(len(train_images_array), 64,64, 3)"
   ]
  },
  {
   "cell_type": "code",
   "execution_count": 40,
   "id": "998b908f",
   "metadata": {},
   "outputs": [],
   "source": [
    "test_image = scalar.fit_transform(test_images_array.reshape(len(test_images_array),64*64*3))\n",
    "test_image_array = test_image.reshape(len(test_images_array),64,64, 3)"
   ]
  },
  {
   "cell_type": "code",
   "execution_count": 41,
   "id": "d88ce4f4",
   "metadata": {},
   "outputs": [],
   "source": [
    "enc = OneHotEncoder(handle_unknown='ignore')\n",
    "train_label_enc = enc.fit_transform(train_image_label.reshape(-1, 1)).toarray()\n",
    "#val_label_enc = enc.fit_transform(val_y.reshape(-1, 1)).toarray()\n",
    "test_label_enc = enc.fit_transform(test_image_label.reshape(-1, 1)).toarray()"
   ]
  },
  {
   "cell_type": "code",
   "execution_count": 91,
   "id": "50bc100a",
   "metadata": {},
   "outputs": [
    {
     "name": "stdout",
     "output_type": "stream",
     "text": [
      "Model: \"sequential_23\"\n",
      "_________________________________________________________________\n",
      "Layer (type)                 Output Shape              Param #   \n",
      "=================================================================\n",
      "conv2d_72 (Conv2D)           (None, 64, 64, 64)        4864      \n",
      "_________________________________________________________________\n",
      "batch_normalization_49 (Batc (None, 64, 64, 64)        256       \n",
      "_________________________________________________________________\n",
      "max_pooling2d_37 (MaxPooling (None, 32, 32, 64)        0         \n",
      "_________________________________________________________________\n",
      "conv2d_73 (Conv2D)           (None, 32, 32, 32)        18464     \n",
      "_________________________________________________________________\n",
      "batch_normalization_50 (Batc (None, 32, 32, 32)        128       \n",
      "_________________________________________________________________\n",
      "max_pooling2d_38 (MaxPooling (None, 16, 16, 32)        0         \n",
      "_________________________________________________________________\n",
      "dropout_52 (Dropout)         (None, 16, 16, 32)        0         \n",
      "_________________________________________________________________\n",
      "conv2d_74 (Conv2D)           (None, 16, 16, 16)        4624      \n",
      "_________________________________________________________________\n",
      "batch_normalization_51 (Batc (None, 16, 16, 16)        64        \n",
      "_________________________________________________________________\n",
      "dropout_53 (Dropout)         (None, 16, 16, 16)        0         \n",
      "_________________________________________________________________\n",
      "flatten (Flatten)            (None, 4096)              0         \n",
      "_________________________________________________________________\n",
      "dense_15 (Dense)             (None, 4)                 16388     \n",
      "=================================================================\n",
      "Total params: 44,788\n",
      "Trainable params: 44,564\n",
      "Non-trainable params: 224\n",
      "_________________________________________________________________\n"
     ]
    }
   ],
   "source": [
    "model = Sequential()\n",
    "model.add(Conv2D(input_shape=(64,64,3),filters=64,kernel_size=(5,5),padding='same', activation='relu'))\n",
    "model.add(BatchNormalization())\n",
    "model.add(MaxPooling2D(2,2))\n",
    "\n",
    "model.add(Conv2D(filters=32,kernel_size=(3,3),padding='same', activation='relu'))\n",
    "model.add(BatchNormalization())\n",
    "model.add(MaxPooling2D(2,2))\n",
    "model.add(Dropout(0.2))\n",
    "\n",
    "\n",
    "\n",
    "model.add(Conv2D(filters=16,kernel_size=(3,3),padding='same', activation='relu'))\n",
    "model.add(BatchNormalization())\n",
    "#model.add(MaxPooling2D(2,2))\n",
    "model.add(Dropout(0.5))\n",
    "\n",
    "model.add(Flatten(name='flatten'))\n",
    "#model.add(Dense(16, activation='relu', name='fc1'))\n",
    "model.add(Dense(4, activation='sigmoid'))\n",
    "\n",
    "model.compile(loss=keras.losses.categorical_crossentropy,\n",
    "               optimizer=keras.optimizers.SGD(0.001),\n",
    "               metrics=['accuracy'])\n",
    "model.summary()"
   ]
  },
  {
   "cell_type": "code",
   "execution_count": null,
   "id": "5f95b915",
   "metadata": {},
   "outputs": [
    {
     "name": "stdout",
     "output_type": "stream",
     "text": [
      "Epoch 1/500\n",
      "191/191 [==============================] - 2s 8ms/step - loss: 1.5149 - accuracy: 0.4761 - val_loss: 2.1092 - val_accuracy: 0.0020\n",
      "Epoch 2/500\n",
      "191/191 [==============================] - 1s 7ms/step - loss: 0.9526 - accuracy: 0.6366 - val_loss: 2.9143 - val_accuracy: 0.0289\n",
      "Epoch 3/500\n",
      "191/191 [==============================] - 1s 7ms/step - loss: 0.6992 - accuracy: 0.7343 - val_loss: 3.6683 - val_accuracy: 0.0413\n",
      "Epoch 4/500\n",
      "191/191 [==============================] - 1s 7ms/step - loss: 0.5814 - accuracy: 0.7817 - val_loss: 4.0698 - val_accuracy: 0.0485\n",
      "Epoch 5/500\n",
      "191/191 [==============================] - 1s 7ms/step - loss: 0.4745 - accuracy: 0.8221 - val_loss: 4.2515 - val_accuracy: 0.0505\n",
      "Epoch 6/500\n",
      "191/191 [==============================] - 1s 7ms/step - loss: 0.4139 - accuracy: 0.8468 - val_loss: 4.1348 - val_accuracy: 0.0557\n",
      "Epoch 7/500\n",
      "191/191 [==============================] - 1s 7ms/step - loss: 0.3362 - accuracy: 0.8785 - val_loss: 4.4745 - val_accuracy: 0.0479\n",
      "Epoch 8/500\n",
      "191/191 [==============================] - 1s 7ms/step - loss: 0.3068 - accuracy: 0.8888 - val_loss: 4.4849 - val_accuracy: 0.0551\n",
      "Epoch 9/500\n",
      "191/191 [==============================] - 1s 7ms/step - loss: 0.2665 - accuracy: 0.9073 - val_loss: 4.9681 - val_accuracy: 0.0452\n",
      "Epoch 10/500\n",
      "191/191 [==============================] - 1s 7ms/step - loss: 0.2435 - accuracy: 0.9126 - val_loss: 4.8463 - val_accuracy: 0.0400\n",
      "Epoch 11/500\n",
      "191/191 [==============================] - 1s 8ms/step - loss: 0.2130 - accuracy: 0.9290 - val_loss: 4.8755 - val_accuracy: 0.0505\n",
      "Epoch 12/500\n",
      "191/191 [==============================] - 1s 8ms/step - loss: 0.1981 - accuracy: 0.9315 - val_loss: 5.0991 - val_accuracy: 0.0472\n",
      "Epoch 13/500\n",
      "191/191 [==============================] - 1s 8ms/step - loss: 0.1926 - accuracy: 0.9388 - val_loss: 5.0229 - val_accuracy: 0.0505\n",
      "Epoch 14/500\n",
      "191/191 [==============================] - 2s 9ms/step - loss: 0.1661 - accuracy: 0.9474 - val_loss: 5.1334 - val_accuracy: 0.0505\n",
      "Epoch 15/500\n",
      "191/191 [==============================] - 1s 8ms/step - loss: 0.1601 - accuracy: 0.9498 - val_loss: 5.1972 - val_accuracy: 0.0459\n",
      "Epoch 16/500\n",
      "191/191 [==============================] - 1s 8ms/step - loss: 0.1424 - accuracy: 0.9544 - val_loss: 5.2448 - val_accuracy: 0.0485\n",
      "Epoch 17/500\n",
      "191/191 [==============================] - 1s 7ms/step - loss: 0.1314 - accuracy: 0.9593 - val_loss: 5.3296 - val_accuracy: 0.0433\n",
      "Epoch 18/500\n",
      "191/191 [==============================] - 1s 8ms/step - loss: 0.1321 - accuracy: 0.9577 - val_loss: 5.3632 - val_accuracy: 0.0492\n",
      "Epoch 19/500\n",
      "191/191 [==============================] - 1s 7ms/step - loss: 0.1253 - accuracy: 0.9588 - val_loss: 5.5085 - val_accuracy: 0.0393\n",
      "Epoch 20/500\n",
      "191/191 [==============================] - 1s 7ms/step - loss: 0.1119 - accuracy: 0.9654 - val_loss: 5.3621 - val_accuracy: 0.0472\n",
      "Epoch 21/500\n",
      "191/191 [==============================] - 1s 8ms/step - loss: 0.1150 - accuracy: 0.9665 - val_loss: 5.2485 - val_accuracy: 0.0538\n",
      "Epoch 22/500\n",
      "191/191 [==============================] - 1s 7ms/step - loss: 0.1091 - accuracy: 0.9664 - val_loss: 5.3520 - val_accuracy: 0.0570\n",
      "Epoch 23/500\n",
      "191/191 [==============================] - 1s 8ms/step - loss: 0.1003 - accuracy: 0.9670 - val_loss: 5.4910 - val_accuracy: 0.0531\n",
      "Epoch 24/500\n",
      "191/191 [==============================] - 2s 8ms/step - loss: 0.0973 - accuracy: 0.9687 - val_loss: 5.5426 - val_accuracy: 0.0479\n",
      "Epoch 25/500\n",
      "191/191 [==============================] - 2s 8ms/step - loss: 0.0989 - accuracy: 0.9675 - val_loss: 5.5238 - val_accuracy: 0.0531\n",
      "Epoch 26/500\n",
      "191/191 [==============================] - 1s 7ms/step - loss: 0.0889 - accuracy: 0.9743 - val_loss: 5.6574 - val_accuracy: 0.0479\n",
      "Epoch 27/500\n",
      "191/191 [==============================] - 1s 7ms/step - loss: 0.0894 - accuracy: 0.9731 - val_loss: 5.5578 - val_accuracy: 0.0479\n",
      "Epoch 28/500\n",
      "191/191 [==============================] - 1s 7ms/step - loss: 0.0836 - accuracy: 0.9754 - val_loss: 5.6351 - val_accuracy: 0.0498\n",
      "Epoch 29/500\n",
      "191/191 [==============================] - 1s 7ms/step - loss: 0.0708 - accuracy: 0.9792 - val_loss: 5.8859 - val_accuracy: 0.0413\n",
      "Epoch 30/500\n",
      "191/191 [==============================] - 1s 7ms/step - loss: 0.0706 - accuracy: 0.9797 - val_loss: 5.6783 - val_accuracy: 0.0472\n",
      "Epoch 31/500\n",
      "191/191 [==============================] - 1s 7ms/step - loss: 0.0749 - accuracy: 0.9793 - val_loss: 5.9452 - val_accuracy: 0.0433\n",
      "Epoch 32/500\n",
      "191/191 [==============================] - 1s 7ms/step - loss: 0.0709 - accuracy: 0.9797 - val_loss: 5.9126 - val_accuracy: 0.0433\n",
      "Epoch 33/500\n",
      "191/191 [==============================] - 1s 7ms/step - loss: 0.0648 - accuracy: 0.9825 - val_loss: 6.0487 - val_accuracy: 0.0413\n",
      "Epoch 34/500\n",
      "191/191 [==============================] - 1s 8ms/step - loss: 0.0671 - accuracy: 0.9790 - val_loss: 6.1069 - val_accuracy: 0.0420\n",
      "Epoch 35/500\n",
      "191/191 [==============================] - 1s 7ms/step - loss: 0.0665 - accuracy: 0.9788 - val_loss: 5.7974 - val_accuracy: 0.0472\n",
      "Epoch 36/500\n",
      "191/191 [==============================] - 1s 7ms/step - loss: 0.0602 - accuracy: 0.9821 - val_loss: 5.9041 - val_accuracy: 0.0420\n",
      "Epoch 37/500\n",
      "191/191 [==============================] - 1s 7ms/step - loss: 0.0584 - accuracy: 0.9843 - val_loss: 5.9603 - val_accuracy: 0.0433\n",
      "Epoch 38/500\n",
      "191/191 [==============================] - 1s 7ms/step - loss: 0.0561 - accuracy: 0.9864 - val_loss: 6.0706 - val_accuracy: 0.0492\n",
      "Epoch 39/500\n",
      "191/191 [==============================] - 1s 8ms/step - loss: 0.0566 - accuracy: 0.9826 - val_loss: 5.9138 - val_accuracy: 0.0479\n",
      "Epoch 40/500\n",
      "191/191 [==============================] - 2s 8ms/step - loss: 0.0550 - accuracy: 0.9841 - val_loss: 5.7887 - val_accuracy: 0.0525\n",
      "Epoch 41/500\n",
      "191/191 [==============================] - 1s 8ms/step - loss: 0.0548 - accuracy: 0.9847 - val_loss: 5.9507 - val_accuracy: 0.0498\n",
      "Epoch 42/500\n",
      " 61/191 [========>.....................] - ETA: 0s - loss: 0.0526 - accuracy: 0.9851"
     ]
    }
   ],
   "source": [
    "history = model.fit(train_images_array,train_label_enc,validation_split=0.2, batch_size=32, epochs=500, verbose=1,shuffle=True)"
   ]
  },
  {
   "cell_type": "code",
   "execution_count": 90,
   "id": "9cab5ed4",
   "metadata": {},
   "outputs": [
    {
     "name": "stdout",
     "output_type": "stream",
     "text": [
      "35/35 [==============================] - 0s 3ms/step - loss: 2.2006 - accuracy: 0.2964\n"
     ]
    }
   ],
   "source": [
    "score = model.evaluate(test_image_array,test_label_enc, batch_size=32)"
   ]
  },
  {
   "cell_type": "code",
   "execution_count": null,
   "id": "c5f1def1",
   "metadata": {},
   "outputs": [],
   "source": []
  },
  {
   "cell_type": "markdown",
   "id": "8f7db350",
   "metadata": {},
   "source": [
    "# Old"
   ]
  },
  {
   "cell_type": "code",
   "execution_count": 29,
   "id": "75e779e3",
   "metadata": {},
   "outputs": [
    {
     "name": "stdout",
     "output_type": "stream",
     "text": [
      "Model: \"sequential_2\"\n",
      "_________________________________________________________________\n",
      "Layer (type)                 Output Shape              Param #   \n",
      "=================================================================\n",
      "conv2d_12 (Conv2D)           (None, 112, 112, 128)     3584      \n",
      "_________________________________________________________________\n",
      "dropout_12 (Dropout)         (None, 112, 112, 128)     0         \n",
      "_________________________________________________________________\n",
      "conv2d_13 (Conv2D)           (None, 112, 112, 64)      73792     \n",
      "_________________________________________________________________\n",
      "dropout_13 (Dropout)         (None, 112, 112, 64)      0         \n",
      "_________________________________________________________________\n",
      "conv2d_14 (Conv2D)           (None, 112, 112, 64)      36928     \n",
      "_________________________________________________________________\n",
      "dropout_14 (Dropout)         (None, 112, 112, 64)      0         \n",
      "_________________________________________________________________\n",
      "conv2d_15 (Conv2D)           (None, 112, 112, 48)      3120      \n",
      "_________________________________________________________________\n",
      "dropout_15 (Dropout)         (None, 112, 112, 48)      0         \n",
      "_________________________________________________________________\n",
      "conv2d_16 (Conv2D)           (None, 112, 112, 32)      1568      \n",
      "_________________________________________________________________\n",
      "dropout_16 (Dropout)         (None, 112, 112, 32)      0         \n",
      "_________________________________________________________________\n",
      "conv2d_17 (Conv2D)           (None, 112, 112, 24)      792       \n",
      "_________________________________________________________________\n",
      "dropout_17 (Dropout)         (None, 112, 112, 24)      0         \n",
      "_________________________________________________________________\n",
      "flatten (Flatten)            (None, 301056)            0         \n",
      "_________________________________________________________________\n",
      "fc1 (Dense)                  (None, 16)                4816912   \n",
      "_________________________________________________________________\n",
      "dropout_18 (Dropout)         (None, 16)                0         \n",
      "_________________________________________________________________\n",
      "fc2 (Dense)                  (None, 4)                 68        \n",
      "=================================================================\n",
      "Total params: 4,936,764\n",
      "Trainable params: 4,936,764\n",
      "Non-trainable params: 0\n",
      "_________________________________________________________________\n"
     ]
    }
   ],
   "source": [
    "model = Sequential()\n",
    "\n",
    "model.add(Conv2D(input_shape=(112,112,3),filters=128,kernel_size=(3,3),padding=\"same\", activation='LeakyReLU'))\n",
    "model.add(Dropout(0.2))\n",
    "model.add(Conv2D(filters=64,kernel_size=(3,3),padding=\"same\", activation=\"LeakyReLU\"))\n",
    "model.add(Dropout(0.2))\n",
    "model.add(Conv2D(filters=64,kernel_size=(3,3),padding=\"same\", activation=\"relu\"))\n",
    "model.add(Dropout(0.2))\n",
    "\n",
    "model.add(Conv2D(filters=48,kernel_size=(1,1),padding=\"same\", activation=\"LeakyReLU\"))\n",
    "model.add(Dropout(0.2))\n",
    "\n",
    "model.add(Conv2D(filters=32,kernel_size=(1,1),padding=\"same\", activation=\"LeakyReLU\"))\n",
    "model.add(Dropout(0.2))\n",
    "\n",
    "model.add(Conv2D(filters=24,kernel_size=(1,1),padding=\"same\", activation=\"LeakyReLU\"))\n",
    "model.add(Dropout(0.2))\n",
    "\n",
    "model.add(Flatten(name='flatten'))\n",
    "model.add(Dense(16, activation='LeakyReLU', name='fc1'))\n",
    "model.add(Dropout(0.3))\n",
    "model.add(Dense(4, activation='sigmoid', name='fc2'))\n",
    "\n",
    "model.compile(loss=keras.losses.categorical_crossentropy,\n",
    "               optimizer=keras.optimizers.Adam(0.0012),\n",
    "               metrics=['accuracy'])\n",
    "model.summary()"
   ]
  },
  {
   "cell_type": "code",
   "execution_count": 30,
   "id": "049ea6a0",
   "metadata": {},
   "outputs": [],
   "source": [
    "from tensorflow.keras.layers import LeakyReLU\n"
   ]
  },
  {
   "cell_type": "code",
   "execution_count": 31,
   "id": "96ef0af5",
   "metadata": {},
   "outputs": [
    {
     "name": "stdout",
     "output_type": "stream",
     "text": [
      "Epoch 1/5\n",
      "239/239 [==============================] - 19s 77ms/step - loss: 0.4049 - accuracy: 0.8607 - val_loss: 328.5982 - val_accuracy: 0.3108\n",
      "Epoch 2/5\n",
      "239/239 [==============================] - 18s 77ms/step - loss: 0.0630 - accuracy: 0.9820 - val_loss: 359.2047 - val_accuracy: 0.3378\n",
      "Epoch 3/5\n",
      "239/239 [==============================] - 18s 77ms/step - loss: 0.0249 - accuracy: 0.9923 - val_loss: 403.9989 - val_accuracy: 0.3099\n",
      "Epoch 4/5\n",
      "239/239 [==============================] - 18s 77ms/step - loss: 0.0528 - accuracy: 0.9866 - val_loss: 279.6661 - val_accuracy: 0.3432\n",
      "Epoch 5/5\n",
      "239/239 [==============================] - 18s 77ms/step - loss: 0.0682 - accuracy: 0.9833 - val_loss: 336.4004 - val_accuracy: 0.2108\n"
     ]
    }
   ],
   "source": [
    "history = model.fit(train_images_array,train_label_enc,validation_data=(test_images_array,test_label_enc), batch_size=32, epochs=5, verbose=1,shuffle=True)"
   ]
  },
  {
   "cell_type": "code",
   "execution_count": 32,
   "id": "afd2d948",
   "metadata": {},
   "outputs": [
    {
     "name": "stdout",
     "output_type": "stream",
     "text": [
      "70/70 [==============================] - 1s 11ms/step - loss: 9.9756 - accuracy: 0.1937\n"
     ]
    }
   ],
   "source": [
    "score = model.evaluate(test_image_array,test_label_enc, batch_size=16)"
   ]
  },
  {
   "cell_type": "code",
   "execution_count": null,
   "id": "7c1e3f4a",
   "metadata": {},
   "outputs": [],
   "source": []
  }
 ],
 "metadata": {
  "kernelspec": {
   "display_name": "Python 3",
   "language": "python",
   "name": "python3"
  },
  "language_info": {
   "codemirror_mode": {
    "name": "ipython",
    "version": 3
   },
   "file_extension": ".py",
   "mimetype": "text/x-python",
   "name": "python",
   "nbconvert_exporter": "python",
   "pygments_lexer": "ipython3",
   "version": "3.8.8"
  }
 },
 "nbformat": 4,
 "nbformat_minor": 5
}

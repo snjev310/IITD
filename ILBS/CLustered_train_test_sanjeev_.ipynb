{
 "cells": [
  {
   "cell_type": "code",
   "execution_count": 1,
   "metadata": {},
   "outputs": [],
   "source": [
    "import pandas as pd\n",
    "import numpy as np\n",
    "import matplotlib.pyplot as plt\n",
    "import os\n",
    "import glob\n",
    "import cv2\n",
    "from sklearn.model_selection import train_test_split\n",
    "from tensorflow.keras import layers\n",
    "from tensorflow.keras.models import Sequential\n",
    "from tensorflow.keras.layers import Dense, Flatten, Conv2D, MaxPooling2D, Dropout, BatchNormalization, MaxPool2D\n",
    "from IPython.display import Image, display\n",
    "import matplotlib.pyplot as plt\n",
    "import matplotlib.cm as cm\n",
    "import tensorflow as tf\n",
    "from tensorflow import keras\n",
    "from sklearn.preprocessing import OneHotEncoder, StandardScaler"
   ]
  },
  {
   "cell_type": "code",
   "execution_count": 2,
   "metadata": {},
   "outputs": [],
   "source": [
    "def import_maps(path):\n",
    "    images = []\n",
    "    for index, name in enumerate(os.listdir(path)):\n",
    "        folder = os.path.join(path, name)\n",
    "        for file_class in os.listdir(folder):\n",
    "            im_folder = os.path.join(folder, file_class)\n",
    "\n",
    "            for im in os.listdir(im_folder):\n",
    "                img = cv2.imread(os.path.join(im_folder, im))\n",
    "                img = cv2.cvtColor(img, cv2.COLOR_RGB2GRAY)\n",
    "                img = cv2.resize(img, (196, 196))\n",
    "                if img is not None:\n",
    "               #     img = (img-np.mean(img))/np.std(img)\n",
    "                    images.append((np.array(img), index)) \n",
    "    return images"
   ]
  },
  {
   "cell_type": "code",
   "execution_count": 3,
   "metadata": {},
   "outputs": [],
   "source": [
    "image_train_set = import_maps(r'D:\\ILBS_14_8_21_Sanjeev\\ILBS_Clustered_Volumes\\train')\n",
    "image_test_set = import_maps(r'D:\\ILBS_14_8_21_Sanjeev\\ILBS_Clustered_Volumes\\test')"
   ]
  },
  {
   "cell_type": "code",
   "execution_count": 4,
   "metadata": {},
   "outputs": [
    {
     "data": {
      "text/plain": [
       "12900"
      ]
     },
     "execution_count": 4,
     "metadata": {},
     "output_type": "execute_result"
    }
   ],
   "source": [
    "len(image_train_set)"
   ]
  },
  {
   "cell_type": "code",
   "execution_count": 5,
   "metadata": {},
   "outputs": [
    {
     "data": {
      "text/plain": [
       "1950"
      ]
     },
     "execution_count": 5,
     "metadata": {},
     "output_type": "execute_result"
    }
   ],
   "source": [
    "len(image_test_set)"
   ]
  },
  {
   "cell_type": "code",
   "execution_count": 6,
   "metadata": {},
   "outputs": [],
   "source": [
    "train_images_all = [i[0] for i in image_train_set]\n",
    "train_images_array = np.array(train_images_all)\n",
    "#train_images_array=np.expand_dims(train_images_array,axis=3)\n",
    "train_image_label = [i[1] for i in image_train_set]\n",
    "train_image_label = np.array(train_image_label)"
   ]
  },
  {
   "cell_type": "code",
   "execution_count": 10,
   "metadata": {},
   "outputs": [],
   "source": [
    "test_images_all = [i[0] for i in image_test_set]\n",
    "test_images_array = np.array(test_images_all)\n",
    "#test_images_array=np.expand_dims(test_images_array,axis=3)\n",
    "test_image_label = [i[1] for i in image_test_set]\n",
    "test_image_label = np.array(test_image_label)"
   ]
  },
  {
   "cell_type": "code",
   "execution_count": 11,
   "metadata": {},
   "outputs": [
    {
     "data": {
      "text/plain": [
       "(1950, 196, 196)"
      ]
     },
     "execution_count": 11,
     "metadata": {},
     "output_type": "execute_result"
    }
   ],
   "source": [
    "test_images_array.shape"
   ]
  },
  {
   "cell_type": "code",
   "execution_count": 8,
   "metadata": {},
   "outputs": [
    {
     "data": {
      "text/plain": [
       "(12900, 196, 196)"
      ]
     },
     "execution_count": 8,
     "metadata": {},
     "output_type": "execute_result"
    }
   ],
   "source": [
    "train_images_array.shape"
   ]
  },
  {
   "cell_type": "code",
   "execution_count": 9,
   "metadata": {},
   "outputs": [],
   "source": [
    "scalar = StandardScaler(copy=False)\n",
    "train_images = scalar.fit_transform(train_images_array.reshape(12900, 196*196))\n",
    "train_images_array = train_images.reshape(12900, 196, 196, 1)"
   ]
  },
  {
   "cell_type": "code",
   "execution_count": 12,
   "metadata": {},
   "outputs": [],
   "source": [
    "test_image = scalar.fit_transform(test_images_array.reshape(1950,196*196))\n",
    "test_image_array = test_image.reshape(1950,196,196,1)"
   ]
  },
  {
   "cell_type": "code",
   "execution_count": 13,
   "metadata": {},
   "outputs": [
    {
     "data": {
      "text/plain": [
       "(12900,)"
      ]
     },
     "execution_count": 13,
     "metadata": {},
     "output_type": "execute_result"
    }
   ],
   "source": [
    "train_image_label.shape"
   ]
  },
  {
   "cell_type": "code",
   "execution_count": 14,
   "metadata": {},
   "outputs": [
    {
     "data": {
      "text/plain": [
       "(1950,)"
      ]
     },
     "execution_count": 14,
     "metadata": {},
     "output_type": "execute_result"
    }
   ],
   "source": [
    "test_image_label.shape"
   ]
  },
  {
   "cell_type": "code",
   "execution_count": 15,
   "metadata": {},
   "outputs": [],
   "source": [
    "train_x, val_x, train_y, val_y = train_test_split(train_images_array,train_image_label,test_size=0.2)"
   ]
  },
  {
   "cell_type": "code",
   "execution_count": 16,
   "metadata": {},
   "outputs": [],
   "source": [
    "enc = OneHotEncoder(handle_unknown='ignore')\n",
    "train_label_enc = enc.fit_transform(train_y.reshape(-1, 1)).toarray()\n",
    "val_label_enc = enc.fit_transform(val_y.reshape(-1, 1)).toarray()\n",
    "test_label_enc = enc.fit_transform(test_image_label.reshape(-1, 1)).toarray()"
   ]
  },
  {
   "cell_type": "code",
   "execution_count": 17,
   "metadata": {},
   "outputs": [
    {
     "data": {
      "text/plain": [
       "(2580, 196, 196, 1)"
      ]
     },
     "execution_count": 17,
     "metadata": {},
     "output_type": "execute_result"
    }
   ],
   "source": [
    "val_x.shape"
   ]
  },
  {
   "cell_type": "code",
   "execution_count": 18,
   "metadata": {},
   "outputs": [
    {
     "data": {
      "text/plain": [
       "(10320,)"
      ]
     },
     "execution_count": 18,
     "metadata": {},
     "output_type": "execute_result"
    }
   ],
   "source": [
    "train_y.shape"
   ]
  },
  {
   "cell_type": "code",
   "execution_count": 22,
   "metadata": {},
   "outputs": [
    {
     "name": "stdout",
     "output_type": "stream",
     "text": [
      "Model: \"sequential_1\"\n",
      "_________________________________________________________________\n",
      "Layer (type)                 Output Shape              Param #   \n",
      "=================================================================\n",
      "conv2d_13 (Conv2D)           (None, 196, 196, 32)      320       \n",
      "_________________________________________________________________\n",
      "conv2d_14 (Conv2D)           (None, 196, 196, 64)      18496     \n",
      "_________________________________________________________________\n",
      "batch_normalization_5 (Batch (None, 196, 196, 64)      256       \n",
      "_________________________________________________________________\n",
      "max_pooling2d_4 (MaxPooling2 (None, 98, 98, 64)        0         \n",
      "_________________________________________________________________\n",
      "conv2d_15 (Conv2D)           (None, 98, 98, 128)       73856     \n",
      "_________________________________________________________________\n",
      "conv2d_16 (Conv2D)           (None, 98, 98, 128)       147584    \n",
      "_________________________________________________________________\n",
      "batch_normalization_6 (Batch (None, 98, 98, 128)       512       \n",
      "_________________________________________________________________\n",
      "max_pooling2d_5 (MaxPooling2 (None, 49, 49, 128)       0         \n",
      "_________________________________________________________________\n",
      "conv2d_17 (Conv2D)           (None, 49, 49, 256)       295168    \n",
      "_________________________________________________________________\n",
      "conv2d_18 (Conv2D)           (None, 49, 49, 256)       590080    \n",
      "_________________________________________________________________\n",
      "conv2d_19 (Conv2D)           (None, 49, 49, 256)       590080    \n",
      "_________________________________________________________________\n",
      "batch_normalization_7 (Batch (None, 49, 49, 256)       1024      \n",
      "_________________________________________________________________\n",
      "max_pooling2d_6 (MaxPooling2 (None, 24, 24, 256)       0         \n",
      "_________________________________________________________________\n",
      "conv2d_20 (Conv2D)           (None, 24, 24, 512)       1180160   \n",
      "_________________________________________________________________\n",
      "conv2d_21 (Conv2D)           (None, 24, 24, 512)       2359808   \n",
      "_________________________________________________________________\n",
      "conv2d_22 (Conv2D)           (None, 24, 24, 512)       2359808   \n",
      "_________________________________________________________________\n",
      "batch_normalization_8 (Batch (None, 24, 24, 512)       2048      \n",
      "_________________________________________________________________\n",
      "max_pooling2d_7 (MaxPooling2 (None, 12, 12, 512)       0         \n",
      "_________________________________________________________________\n",
      "conv2d_23 (Conv2D)           (None, 12, 12, 512)       2359808   \n",
      "_________________________________________________________________\n",
      "conv2d_24 (Conv2D)           (None, 12, 12, 512)       2359808   \n",
      "_________________________________________________________________\n",
      "conv2d_25 (Conv2D)           (None, 12, 12, 512)       2359808   \n",
      "_________________________________________________________________\n",
      "batch_normalization_9 (Batch (None, 12, 12, 512)       2048      \n",
      "_________________________________________________________________\n",
      "vgg16 (MaxPooling2D)         (None, 6, 6, 512)         0         \n",
      "_________________________________________________________________\n",
      "flatten (Flatten)            (None, 18432)             0         \n",
      "_________________________________________________________________\n",
      "fc1 (Dense)                  (None, 512)               9437696   \n",
      "_________________________________________________________________\n",
      "dropout_2 (Dropout)          (None, 512)               0         \n",
      "_________________________________________________________________\n",
      "fc2 (Dense)                  (None, 256)               131328    \n",
      "_________________________________________________________________\n",
      "dropout_3 (Dropout)          (None, 256)               0         \n",
      "_________________________________________________________________\n",
      "output (Dense)               (None, 6)                 1542      \n",
      "=================================================================\n",
      "Total params: 24,271,238\n",
      "Trainable params: 24,268,294\n",
      "Non-trainable params: 2,944\n",
      "_________________________________________________________________\n"
     ]
    }
   ],
   "source": [
    "model = Sequential()\n",
    "model.add(Conv2D(input_shape=(196,196,1),filters=32,kernel_size=(3,3),padding=\"same\", activation=\"relu\"))\n",
    "model.add(Conv2D(filters=64,kernel_size=(3,3),padding=\"same\", activation=\"relu\"))\n",
    "model.add(BatchNormalization())\n",
    "model.add(MaxPool2D(pool_size=(2,2),strides=(2,2)))\n",
    "model.add(Conv2D(filters=128, kernel_size=(3,3), padding=\"same\", activation=\"relu\"))\n",
    "model.add(Conv2D(filters=128, kernel_size=(3,3), padding=\"same\", activation=\"relu\"))\n",
    "model.add(BatchNormalization())\n",
    "model.add(MaxPool2D(pool_size=(2,2),strides=(2,2)))\n",
    "model.add(Conv2D(filters=256, kernel_size=(3,3), padding=\"same\", activation=\"relu\"))\n",
    "model.add(Conv2D(filters=256, kernel_size=(3,3), padding=\"same\", activation=\"relu\"))\n",
    "model.add(Conv2D(filters=256, kernel_size=(3,3), padding=\"same\", activation=\"relu\"))\n",
    "model.add(BatchNormalization())\n",
    "model.add(MaxPool2D(pool_size=(2,2),strides=(2,2)))\n",
    "model.add(Conv2D(filters=512, kernel_size=(3,3), padding=\"same\", activation=\"relu\"))\n",
    "model.add(Conv2D(filters=512, kernel_size=(3,3), padding=\"same\", activation=\"relu\"))\n",
    "model.add(Conv2D(filters=512, kernel_size=(3,3), padding=\"same\", activation=\"relu\"))\n",
    "model.add(BatchNormalization())\n",
    "model.add(MaxPool2D(pool_size=(2,2),strides=(2,2)))\n",
    "model.add(Conv2D(filters=512, kernel_size=(3,3), padding=\"same\", activation=\"relu\"))\n",
    "model.add(Conv2D(filters=512, kernel_size=(3,3), padding=\"same\", activation=\"relu\"))\n",
    "model.add(Conv2D(filters=512, kernel_size=(3,3), padding=\"same\", activation=\"relu\"))\n",
    "model.add(BatchNormalization())\n",
    "model.add(MaxPool2D(pool_size=(2,2),strides=(2,2),name='vgg16'))\n",
    "model.add(Flatten(name='flatten'))\n",
    "model.add(Dense(512, activation='relu', name='fc1'))\n",
    "model.add(Dropout(0.5))\n",
    "model.add(Dense(256, activation='relu', name='fc2'))\n",
    "model.add(Dropout(0.25))\n",
    "model.add(Dense(6, activation='softmax', name='output'))\n",
    "\n",
    "model.compile(loss=keras.losses.categorical_crossentropy,\n",
    "               optimizer=keras.optimizers.SGD(0.001),\n",
    "               metrics=['accuracy'])\n",
    "\n",
    "model.summary()\n",
    "\n",
    "reduce_lr = tf.keras.callbacks.ReduceLROnPlateau(monitor='val_loss', factor=0.2,\n",
    "                            patience=15, min_lr=0.00001)"
   ]
  },
  {
   "cell_type": "code",
   "execution_count": 23,
   "metadata": {},
   "outputs": [
    {
     "name": "stdout",
     "output_type": "stream",
     "text": [
      "Train on 10320 samples, validate on 2580 samples\n",
      "Epoch 1/50\n",
      "10320/10320 [==============================] - 66s 6ms/sample - loss: 1.2340 - accuracy: 0.5578 - val_loss: 2.2203 - val_accuracy: 0.3198\n",
      "Epoch 2/50\n",
      "10320/10320 [==============================] - 60s 6ms/sample - loss: 0.3504 - accuracy: 0.8854 - val_loss: 2.1985 - val_accuracy: 0.3264\n",
      "Epoch 3/50\n",
      "10320/10320 [==============================] - 60s 6ms/sample - loss: 0.1518 - accuracy: 0.9524 - val_loss: 0.8603 - val_accuracy: 0.6267\n",
      "Epoch 4/50\n",
      "10320/10320 [==============================] - 61s 6ms/sample - loss: 0.1125 - accuracy: 0.9628 - val_loss: 0.0793 - val_accuracy: 0.9752\n",
      "Epoch 5/50\n",
      "10320/10320 [==============================] - 61s 6ms/sample - loss: 0.0895 - accuracy: 0.9674 - val_loss: 0.0546 - val_accuracy: 0.9709\n",
      "Epoch 6/50\n",
      "10320/10320 [==============================] - 61s 6ms/sample - loss: 0.0703 - accuracy: 0.9732 - val_loss: 0.0496 - val_accuracy: 0.9725\n",
      "Epoch 7/50\n",
      "10320/10320 [==============================] - 60s 6ms/sample - loss: 0.0642 - accuracy: 0.9751 - val_loss: 0.0423 - val_accuracy: 0.9725\n",
      "Epoch 8/50\n",
      "10320/10320 [==============================] - 61s 6ms/sample - loss: 0.0651 - accuracy: 0.9743 - val_loss: 0.0428 - val_accuracy: 0.9709\n",
      "Epoch 9/50\n",
      "10320/10320 [==============================] - 61s 6ms/sample - loss: 0.0633 - accuracy: 0.9722 - val_loss: 0.0425 - val_accuracy: 0.9736\n",
      "Epoch 10/50\n",
      "10320/10320 [==============================] - 61s 6ms/sample - loss: 0.0572 - accuracy: 0.9752 - val_loss: 0.0516 - val_accuracy: 0.9713\n",
      "Epoch 11/50\n",
      "10320/10320 [==============================] - 60s 6ms/sample - loss: 0.0566 - accuracy: 0.9750 - val_loss: 0.0428 - val_accuracy: 0.9725\n",
      "Epoch 12/50\n",
      "10320/10320 [==============================] - 61s 6ms/sample - loss: 0.0527 - accuracy: 0.9745 - val_loss: 0.0398 - val_accuracy: 0.9686\n",
      "Epoch 13/50\n",
      "10320/10320 [==============================] - 60s 6ms/sample - loss: 0.0515 - accuracy: 0.9753 - val_loss: 0.0421 - val_accuracy: 0.9736\n",
      "Epoch 14/50\n",
      "10320/10320 [==============================] - 60s 6ms/sample - loss: 0.0502 - accuracy: 0.9763 - val_loss: 0.0438 - val_accuracy: 0.9756\n",
      "Epoch 15/50\n",
      "10320/10320 [==============================] - 60s 6ms/sample - loss: 0.0498 - accuracy: 0.9776 - val_loss: 0.0404 - val_accuracy: 0.9686\n",
      "Epoch 16/50\n",
      "10320/10320 [==============================] - 61s 6ms/sample - loss: 0.0505 - accuracy: 0.9748 - val_loss: 0.0405 - val_accuracy: 0.9705\n",
      "Epoch 17/50\n",
      "10320/10320 [==============================] - 60s 6ms/sample - loss: 0.0490 - accuracy: 0.9768 - val_loss: 0.0407 - val_accuracy: 0.9736\n",
      "Epoch 18/50\n",
      "10320/10320 [==============================] - 64s 6ms/sample - loss: 0.0484 - accuracy: 0.9754 - val_loss: 0.0435 - val_accuracy: 0.9702\n",
      "Epoch 19/50\n",
      "10320/10320 [==============================] - 61s 6ms/sample - loss: 0.0473 - accuracy: 0.9760 - val_loss: 0.0418 - val_accuracy: 0.9717\n",
      "Epoch 20/50\n",
      "10320/10320 [==============================] - 61s 6ms/sample - loss: 0.0482 - accuracy: 0.9752 - val_loss: 0.0430 - val_accuracy: 0.9686\n",
      "Epoch 21/50\n",
      "10320/10320 [==============================] - 61s 6ms/sample - loss: 0.0463 - accuracy: 0.9764 - val_loss: 0.0437 - val_accuracy: 0.9705\n",
      "Epoch 22/50\n",
      "10320/10320 [==============================] - 62s 6ms/sample - loss: 0.0463 - accuracy: 0.9791 - val_loss: 0.0423 - val_accuracy: 0.9655\n",
      "Epoch 23/50\n",
      "10320/10320 [==============================] - 61s 6ms/sample - loss: 0.0469 - accuracy: 0.9758 - val_loss: 0.0431 - val_accuracy: 0.9640\n",
      "Epoch 24/50\n",
      "10320/10320 [==============================] - 62s 6ms/sample - loss: 0.0467 - accuracy: 0.9745 - val_loss: 0.0425 - val_accuracy: 0.9705\n",
      "Epoch 25/50\n",
      "10320/10320 [==============================] - 62s 6ms/sample - loss: 0.0431 - accuracy: 0.9767 - val_loss: 0.0448 - val_accuracy: 0.9709\n",
      "Epoch 26/50\n",
      "10320/10320 [==============================] - 62s 6ms/sample - loss: 0.0441 - accuracy: 0.9770 - val_loss: 0.0431 - val_accuracy: 0.9702\n",
      "Epoch 27/50\n",
      "10320/10320 [==============================] - 62s 6ms/sample - loss: 0.0427 - accuracy: 0.9769 - val_loss: 0.0402 - val_accuracy: 0.9643\n",
      "Epoch 28/50\n",
      "10320/10320 [==============================] - 62s 6ms/sample - loss: 0.0421 - accuracy: 0.9776 - val_loss: 0.0406 - val_accuracy: 0.9647\n",
      "Epoch 29/50\n",
      "10320/10320 [==============================] - 62s 6ms/sample - loss: 0.0431 - accuracy: 0.9759 - val_loss: 0.0405 - val_accuracy: 0.9655\n",
      "Epoch 30/50\n",
      "10320/10320 [==============================] - 62s 6ms/sample - loss: 0.0435 - accuracy: 0.9758 - val_loss: 0.0413 - val_accuracy: 0.9651\n",
      "Epoch 31/50\n",
      "10320/10320 [==============================] - 62s 6ms/sample - loss: 0.0402 - accuracy: 0.9779 - val_loss: 0.0423 - val_accuracy: 0.9651\n",
      "Epoch 32/50\n",
      "10320/10320 [==============================] - 62s 6ms/sample - loss: 0.0397 - accuracy: 0.9780 - val_loss: 0.0426 - val_accuracy: 0.9643\n",
      "Epoch 33/50\n",
      "10320/10320 [==============================] - 62s 6ms/sample - loss: 0.0413 - accuracy: 0.9778 - val_loss: 0.0428 - val_accuracy: 0.9636\n",
      "Epoch 34/50\n",
      "10320/10320 [==============================] - 62s 6ms/sample - loss: 0.0391 - accuracy: 0.9780 - val_loss: 0.0445 - val_accuracy: 0.9643\n",
      "Epoch 35/50\n",
      "10320/10320 [==============================] - 61s 6ms/sample - loss: 0.0405 - accuracy: 0.9763 - val_loss: 0.0441 - val_accuracy: 0.9647\n",
      "Epoch 36/50\n",
      "10320/10320 [==============================] - 60s 6ms/sample - loss: 0.0397 - accuracy: 0.9783 - val_loss: 0.0443 - val_accuracy: 0.9636\n",
      "Epoch 37/50\n",
      "10320/10320 [==============================] - 61s 6ms/sample - loss: 0.0400 - accuracy: 0.9773 - val_loss: 0.0450 - val_accuracy: 0.9659\n",
      "Epoch 38/50\n",
      "10320/10320 [==============================] - 61s 6ms/sample - loss: 0.0389 - accuracy: 0.9790 - val_loss: 0.0441 - val_accuracy: 0.9647\n",
      "Epoch 39/50\n",
      "10320/10320 [==============================] - 60s 6ms/sample - loss: 0.0383 - accuracy: 0.9778 - val_loss: 0.0451 - val_accuracy: 0.9655\n",
      "Epoch 40/50\n",
      "10320/10320 [==============================] - 61s 6ms/sample - loss: 0.0388 - accuracy: 0.9772 - val_loss: 0.0453 - val_accuracy: 0.9636\n",
      "Epoch 41/50\n",
      "10320/10320 [==============================] - 61s 6ms/sample - loss: 0.0402 - accuracy: 0.9779 - val_loss: 0.0452 - val_accuracy: 0.9616\n",
      "Epoch 42/50\n",
      "10320/10320 [==============================] - 61s 6ms/sample - loss: 0.0391 - accuracy: 0.9769 - val_loss: 0.0462 - val_accuracy: 0.9640\n",
      "Epoch 43/50\n",
      "10320/10320 [==============================] - 61s 6ms/sample - loss: 0.0386 - accuracy: 0.9771 - val_loss: 0.0462 - val_accuracy: 0.9632\n",
      "Epoch 44/50\n",
      "10320/10320 [==============================] - 61s 6ms/sample - loss: 0.0396 - accuracy: 0.9778 - val_loss: 0.0463 - val_accuracy: 0.9628\n",
      "Epoch 45/50\n",
      "10320/10320 [==============================] - 61s 6ms/sample - loss: 0.0387 - accuracy: 0.9772 - val_loss: 0.0467 - val_accuracy: 0.9620\n",
      "Epoch 46/50\n",
      "10320/10320 [==============================] - 61s 6ms/sample - loss: 0.0392 - accuracy: 0.9782 - val_loss: 0.0470 - val_accuracy: 0.9616\n",
      "Epoch 47/50\n",
      "10320/10320 [==============================] - 61s 6ms/sample - loss: 0.0365 - accuracy: 0.9798 - val_loss: 0.0468 - val_accuracy: 0.9624\n",
      "Epoch 48/50\n",
      "10320/10320 [==============================] - 61s 6ms/sample - loss: 0.0373 - accuracy: 0.9786 - val_loss: 0.0469 - val_accuracy: 0.9628\n",
      "Epoch 49/50\n",
      "10320/10320 [==============================] - 61s 6ms/sample - loss: 0.0379 - accuracy: 0.9785 - val_loss: 0.0470 - val_accuracy: 0.9620\n",
      "Epoch 50/50\n",
      "10320/10320 [==============================] - 61s 6ms/sample - loss: 0.0373 - accuracy: 0.9787 - val_loss: 0.0470 - val_accuracy: 0.9632\n"
     ]
    }
   ],
   "source": [
    "history = model.fit(train_x,train_label_enc,validation_data=(val_x,val_label_enc), batch_size=64, epochs=50, verbose=1,shuffle=True, callbacks = [reduce_lr])"
   ]
  },
  {
   "cell_type": "code",
   "execution_count": 28,
   "metadata": {},
   "outputs": [
    {
     "data": {
      "image/png": "[encoded data removed]",
      "text/plain": [
       "<Figure size 432x288 with 1 Axes>"
      ]
     },
     "metadata": {
      "needs_background": "light"
     },
     "output_type": "display_data"
    }
   ],
   "source": [
    "import matplotlib.pyplot as plt\n",
    "plt.plot(history.history['accuracy'])\n",
    "plt.plot(history.history['val_accuracy'])\n",
    "plt.title('model accuracy')\n",
    "plt.ylabel('accuracy')\n",
    "plt.xlabel('epoch')\n",
    "plt.legend(['train', 'val'], loc='upper left')\n",
    "plt.show()"
   ]
  },
  {
   "cell_type": "code",
   "execution_count": 29,
   "metadata": {},
   "outputs": [
    {
     "data": {
      "image/png": "[encoded data removed]",
      "text/plain": [
       "<Figure size 432x288 with 1 Axes>"
      ]
     },
     "metadata": {
      "needs_background": "light"
     },
     "output_type": "display_data"
    }
   ],
   "source": [
    "import matplotlib.pyplot as plt\n",
    "plt.plot(history.history['loss'])\n",
    "plt.plot(history.history['val_loss'])\n",
    "plt.title('model loss')\n",
    "plt.ylabel('loss')\n",
    "plt.xlabel('epoch')\n",
    "plt.legend(['train', 'val'], loc='upper left')\n",
    "plt.show()"
   ]
  },
  {
   "cell_type": "code",
   "execution_count": 39,
   "metadata": {},
   "outputs": [],
   "source": [
    "y_predict = model.predict(test_image_array)"
   ]
  },
  {
   "cell_type": "code",
   "execution_count": 40,
   "metadata": {},
   "outputs": [],
   "source": [
    "y_predict_bool = np.argmax(y_predict,axis=1).tolist()"
   ]
  },
  {
   "cell_type": "code",
   "execution_count": 53,
   "metadata": {},
   "outputs": [],
   "source": [
    "from sklearn.metrics import confusion_matrix,precision_score,auc,recall_score,roc_curve,precision_recall_curve"
   ]
  },
  {
   "cell_type": "code",
   "execution_count": 42,
   "metadata": {},
   "outputs": [
    {
     "data": {
      "text/plain": [
       "array([[  0, 137,  13,   0,   0,   0],\n",
       "       [ 19, 258, 313,   9,   0,   1],\n",
       "       [  0, 125, 310, 104,   0,  61],\n",
       "       [  0, 137,   0,   0,   0,  13],\n",
       "       [  0,  13, 137,   0,   0,   0],\n",
       "       [  0, 150, 126,  10,  12,   2]], dtype=int64)"
      ]
     },
     "execution_count": 42,
     "metadata": {},
     "output_type": "execute_result"
    }
   ],
   "source": [
    "confusion_matrix(test_image_label,y_predict_bool)"
   ]
  },
  {
   "cell_type": "code",
   "execution_count": 44,
   "metadata": {},
   "outputs": [
    {
     "data": {
      "text/plain": [
       "0.20690730631857632"
      ]
     },
     "execution_count": 44,
     "metadata": {},
     "output_type": "execute_result"
    }
   ],
   "source": [
    "precision_score(test_image_label,y_predict_bool,average='weighted')"
   ]
  },
  {
   "cell_type": "code",
   "execution_count": 52,
   "metadata": {},
   "outputs": [
    {
     "name": "stdout",
     "output_type": "stream",
     "text": [
      "0.7121104938271605\n"
     ]
    }
   ],
   "source": [
    "fpr,tpr,thresholds = roc_curve(test_image_label,y_predict_bool,pos_label=2)\n",
    "print(auc(fpr,tpr))"
   ]
  },
  {
   "cell_type": "code",
   "execution_count": null,
   "metadata": {},
   "outputs": [],
   "source": []
  },
  {
   "cell_type": "code",
   "execution_count": 31,
   "metadata": {},
   "outputs": [
    {
     "name": "stdout",
     "output_type": "stream",
     "text": [
      "1950/1950 [==============================] - 3s 2ms/sample - loss: 3.4898 - accuracy: 0.2923\n"
     ]
    }
   ],
   "source": [
    "score = model.evaluate(test_image_array,test_label_enc)"
   ]
  },
  {
   "cell_type": "code",
   "execution_count": 57,
   "metadata": {},
   "outputs": [
    {
     "data": {
      "text/plain": [
       "0.006666666666666667"
      ]
     },
     "execution_count": 57,
     "metadata": {},
     "output_type": "execute_result"
    }
   ],
   "source": [
    "(2)/(150+126+10+12+2)"
   ]
  },
  {
   "cell_type": "code",
   "execution_count": 3,
   "metadata": {},
   "outputs": [
    {
     "data": {
      "text/plain": [
       "300"
      ]
     },
     "execution_count": 3,
     "metadata": {},
     "output_type": "execute_result"
    }
   ],
   "source": [
    "150+126+10+12+2"
   ]
  },
  {
   "cell_type": "code",
   "execution_count": null,
   "metadata": {},
   "outputs": [],
   "source": []
  }
 ],
 "metadata": {
  "kernelspec": {
   "display_name": "Python 3",
   "language": "python",
   "name": "python3"
  },
  "language_info": {
   "codemirror_mode": {
    "name": "ipython",
    "version": 3
   },
   "file_extension": ".py",
   "mimetype": "text/x-python",
   "name": "python",
   "nbconvert_exporter": "python",
   "pygments_lexer": "ipython3",
   "version": "3.7.9"
  }
 },
 "nbformat": 4,
 "nbformat_minor": 4
}

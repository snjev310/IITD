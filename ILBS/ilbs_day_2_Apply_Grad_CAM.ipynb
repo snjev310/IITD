{
 "cells": [
  {
   "cell_type": "code",
   "execution_count": 1,
   "id": "engaged-contractor",
   "metadata": {},
   "outputs": [],
   "source": [
    "import pandas as pd\n",
    "import numpy as np\n",
    "import matplotlib.pyplot as plt\n",
    "import os\n",
    "import glob\n",
    "import cv2\n",
    "from sklearn.model_selection import train_test_split\n",
    "from tensorflow.keras import layers\n",
    "from tensorflow.keras.models import Sequential\n",
    "from tensorflow.keras.layers import Dense, Flatten, Conv2D, MaxPooling2D, Dropout, BatchNormalization"
   ]
  },
  {
   "cell_type": "code",
   "execution_count": 2,
   "id": "disciplinary-folks",
   "metadata": {},
   "outputs": [],
   "source": [
    "from IPython.display import Image, display\n",
    "import matplotlib.pyplot as plt\n",
    "import matplotlib.cm as cm"
   ]
  },
  {
   "cell_type": "code",
   "execution_count": 3,
   "id": "extra-israeli",
   "metadata": {},
   "outputs": [],
   "source": [
    "path = 'Work_to_be_Completed_ILBS'\n",
    "pid = []\n",
    "image_file = []\n",
    "for fname in os.listdir(path):\n",
    "    if fname.isdigit():\n",
    "        pid.append(fname)\n",
    "        for fname_ins in os.listdir(path+'\\\\'+fname):\n",
    "            image_file.append(path+'\\\\'+fname+'\\\\'+fname_ins)"
   ]
  },
  {
   "cell_type": "code",
   "execution_count": 4,
   "id": "distant-tuner",
   "metadata": {},
   "outputs": [],
   "source": [
    "df_f = pd.DataFrame(image_file)"
   ]
  },
  {
   "cell_type": "code",
   "execution_count": 5,
   "id": "following-textbook",
   "metadata": {},
   "outputs": [
    {
     "data": {
      "text/plain": [
       "'00910'"
      ]
     },
     "execution_count": 5,
     "metadata": {},
     "output_type": "execute_result"
    }
   ],
   "source": [
    "df_f[0][1].split('\\\\')[-2]"
   ]
  },
  {
   "cell_type": "code",
   "execution_count": 6,
   "id": "hourly-toolbox",
   "metadata": {},
   "outputs": [],
   "source": [
    "df_label = pd.read_excel(path+'\\\\'+'HVPG value with CT images.xlsx')"
   ]
  },
  {
   "cell_type": "code",
   "execution_count": 7,
   "id": "relative-alabama",
   "metadata": {},
   "outputs": [
    {
     "data": {
      "text/html": [
       "<div>\n",
       "<style scoped>\n",
       "    .dataframe tbody tr th:only-of-type {\n",
       "        vertical-align: middle;\n",
       "    }\n",
       "\n",
       "    .dataframe tbody tr th {\n",
       "        vertical-align: top;\n",
       "    }\n",
       "\n",
       "    .dataframe thead th {\n",
       "        text-align: right;\n",
       "    }\n",
       "</style>\n",
       "<table border=\"1\" class=\"dataframe\">\n",
       "  <thead>\n",
       "    <tr style=\"text-align: right;\">\n",
       "      <th></th>\n",
       "      <th>ID</th>\n",
       "      <th>Date</th>\n",
       "      <th>HVPG</th>\n",
       "    </tr>\n",
       "  </thead>\n",
       "  <tbody>\n",
       "    <tr>\n",
       "      <th>0</th>\n",
       "      <td>9109.0</td>\n",
       "      <td>2019-01-30</td>\n",
       "      <td>21.0</td>\n",
       "    </tr>\n",
       "    <tr>\n",
       "      <th>1</th>\n",
       "      <td>19699.0</td>\n",
       "      <td>2019-02-13</td>\n",
       "      <td>12.0</td>\n",
       "    </tr>\n",
       "    <tr>\n",
       "      <th>2</th>\n",
       "      <td>31322.0</td>\n",
       "      <td>2019-02-15</td>\n",
       "      <td>17.0</td>\n",
       "    </tr>\n",
       "    <tr>\n",
       "      <th>3</th>\n",
       "      <td>45341.0</td>\n",
       "      <td>2019-02-13</td>\n",
       "      <td>16.0</td>\n",
       "    </tr>\n",
       "    <tr>\n",
       "      <th>4</th>\n",
       "      <td>49565.0</td>\n",
       "      <td>2019-02-06</td>\n",
       "      <td>10.0</td>\n",
       "    </tr>\n",
       "  </tbody>\n",
       "</table>\n",
       "</div>"
      ],
      "text/plain": [
       "        ID       Date  HVPG\n",
       "0   9109.0 2019-01-30  21.0\n",
       "1  19699.0 2019-02-13  12.0\n",
       "2  31322.0 2019-02-15  17.0\n",
       "3  45341.0 2019-02-13  16.0\n",
       "4  49565.0 2019-02-06  10.0"
      ]
     },
     "execution_count": 7,
     "metadata": {},
     "output_type": "execute_result"
    }
   ],
   "source": [
    "df_label.head()"
   ]
  },
  {
   "cell_type": "code",
   "execution_count": 8,
   "id": "romantic-gentleman",
   "metadata": {},
   "outputs": [],
   "source": [
    "labels = []\n",
    "for row in df_f.values.tolist():\n",
    "    id_ = int(row[0].split('\\\\')[-2])\n",
    "    if id_ == 910:\n",
    "        id_ = 9109\n",
    "    for rows in df_label.values.tolist():\n",
    "        if id_==rows[0]:\n",
    "            labels.append([row[0],rows[-1]])\n",
    "           # print(label)\n",
    "        #break\n",
    "    #print(row,id_)\n",
    "    #break"
   ]
  },
  {
   "cell_type": "code",
   "execution_count": 17,
   "id": "immune-translator",
   "metadata": {},
   "outputs": [
    {
     "data": {
      "text/plain": [
       "2547"
      ]
     },
     "execution_count": 17,
     "metadata": {},
     "output_type": "execute_result"
    }
   ],
   "source": [
    "len(labels)"
   ]
  },
  {
   "cell_type": "code",
   "execution_count": 18,
   "id": "royal-offering",
   "metadata": {},
   "outputs": [
    {
     "data": {
      "text/plain": [
       "2547"
      ]
     },
     "execution_count": 18,
     "metadata": {},
     "output_type": "execute_result"
    }
   ],
   "source": [
    "len(df_f)"
   ]
  },
  {
   "cell_type": "code",
   "execution_count": 19,
   "id": "solar-fashion",
   "metadata": {},
   "outputs": [],
   "source": [
    "df = pd.DataFrame(labels,columns=['path','label'])"
   ]
  },
  {
   "cell_type": "code",
   "execution_count": 20,
   "id": "designing-invite",
   "metadata": {},
   "outputs": [
    {
     "data": {
      "text/html": [
       "<div>\n",
       "<style scoped>\n",
       "    .dataframe tbody tr th:only-of-type {\n",
       "        vertical-align: middle;\n",
       "    }\n",
       "\n",
       "    .dataframe tbody tr th {\n",
       "        vertical-align: top;\n",
       "    }\n",
       "\n",
       "    .dataframe thead th {\n",
       "        text-align: right;\n",
       "    }\n",
       "</style>\n",
       "<table border=\"1\" class=\"dataframe\">\n",
       "  <thead>\n",
       "    <tr style=\"text-align: right;\">\n",
       "      <th></th>\n",
       "      <th>path</th>\n",
       "      <th>label</th>\n",
       "    </tr>\n",
       "  </thead>\n",
       "  <tbody>\n",
       "    <tr>\n",
       "      <th>0</th>\n",
       "      <td>Work_to_be_Completed_ILBS\\00910\\IMG-0005-00001...</td>\n",
       "      <td>21.0</td>\n",
       "    </tr>\n",
       "    <tr>\n",
       "      <th>1</th>\n",
       "      <td>Work_to_be_Completed_ILBS\\00910\\IMG-0005-00002...</td>\n",
       "      <td>21.0</td>\n",
       "    </tr>\n",
       "    <tr>\n",
       "      <th>2</th>\n",
       "      <td>Work_to_be_Completed_ILBS\\00910\\IMG-0005-00003...</td>\n",
       "      <td>21.0</td>\n",
       "    </tr>\n",
       "    <tr>\n",
       "      <th>3</th>\n",
       "      <td>Work_to_be_Completed_ILBS\\00910\\IMG-0005-00004...</td>\n",
       "      <td>21.0</td>\n",
       "    </tr>\n",
       "    <tr>\n",
       "      <th>4</th>\n",
       "      <td>Work_to_be_Completed_ILBS\\00910\\IMG-0005-00005...</td>\n",
       "      <td>21.0</td>\n",
       "    </tr>\n",
       "  </tbody>\n",
       "</table>\n",
       "</div>"
      ],
      "text/plain": [
       "                                                path  label\n",
       "0  Work_to_be_Completed_ILBS\\00910\\IMG-0005-00001...   21.0\n",
       "1  Work_to_be_Completed_ILBS\\00910\\IMG-0005-00002...   21.0\n",
       "2  Work_to_be_Completed_ILBS\\00910\\IMG-0005-00003...   21.0\n",
       "3  Work_to_be_Completed_ILBS\\00910\\IMG-0005-00004...   21.0\n",
       "4  Work_to_be_Completed_ILBS\\00910\\IMG-0005-00005...   21.0"
      ]
     },
     "execution_count": 20,
     "metadata": {},
     "output_type": "execute_result"
    }
   ],
   "source": [
    "df.head()"
   ]
  },
  {
   "cell_type": "code",
   "execution_count": 40,
   "id": "structural-sheriff",
   "metadata": {},
   "outputs": [
    {
     "data": {
      "text/plain": [
       "'Work_to_be_Completed_ILBS\\\\00910\\\\IMG-0005-00001.jpg'"
      ]
     },
     "execution_count": 40,
     "metadata": {},
     "output_type": "execute_result"
    }
   ],
   "source": [
    "df['path'][0]"
   ]
  },
  {
   "cell_type": "code",
   "execution_count": 21,
   "id": "compatible-logging",
   "metadata": {},
   "outputs": [],
   "source": [
    "from tensorflow import keras\n",
    "#X = df['imarray'].values\n",
    "y = np.array(df['label'])\n",
    "y = keras.utils.to_categorical(y)"
   ]
  },
  {
   "cell_type": "code",
   "execution_count": 22,
   "id": "cellular-uniform",
   "metadata": {},
   "outputs": [],
   "source": [
    "all_images = []\n",
    "IMG_HEIGHT = IMG_WIDTH =150\n",
    "for row in df['path']:\n",
    "    image= cv2.imread( row, cv2.IMREAD_GRAYSCALE)\n",
    "    image=cv2.resize(image, (IMG_HEIGHT, IMG_WIDTH),interpolation = cv2.INTER_AREA)\n",
    "    image=np.array(image)\n",
    "    image = image.astype('float32')\n",
    "    image /= 255\n",
    "    #image = np.expand_dims(image, axis=0)\n",
    "    all_images.append(image)"
   ]
  },
  {
   "cell_type": "code",
   "execution_count": 23,
   "id": "curious-fiber",
   "metadata": {},
   "outputs": [],
   "source": [
    "train_ = np.array(all_images)"
   ]
  },
  {
   "cell_type": "code",
   "execution_count": 24,
   "id": "acquired-recall",
   "metadata": {},
   "outputs": [
    {
     "data": {
      "text/plain": [
       "(2547, 150, 150)"
      ]
     },
     "execution_count": 24,
     "metadata": {},
     "output_type": "execute_result"
    }
   ],
   "source": [
    "train_.shape"
   ]
  },
  {
   "cell_type": "code",
   "execution_count": 25,
   "id": "educated-adjustment",
   "metadata": {},
   "outputs": [],
   "source": [
    "from sklearn.model_selection import train_test_split\n",
    "X_train,X_test,y_train,y_test = train_test_split(train_,y,test_size=0.25)"
   ]
  },
  {
   "cell_type": "code",
   "execution_count": 26,
   "id": "nervous-gospel",
   "metadata": {},
   "outputs": [
    {
     "data": {
      "text/plain": [
       "(1910, 150, 150)"
      ]
     },
     "execution_count": 26,
     "metadata": {},
     "output_type": "execute_result"
    }
   ],
   "source": [
    "X_train.shape"
   ]
  },
  {
   "cell_type": "code",
   "execution_count": 27,
   "id": "convinced-charter",
   "metadata": {},
   "outputs": [],
   "source": [
    "X_train_t = np.expand_dims(X_train,axis=3)\n",
    "X_test_t = np.expand_dims(X_test, axis=3)"
   ]
  },
  {
   "cell_type": "code",
   "execution_count": 30,
   "id": "loved-phrase",
   "metadata": {},
   "outputs": [
    {
     "name": "stdout",
     "output_type": "stream",
     "text": [
      "Model: \"sequential_1\"\n",
      "_________________________________________________________________\n",
      "Layer (type)                 Output Shape              Param #   \n",
      "=================================================================\n",
      "conv2d_2 (Conv2D)            (None, 148, 148, 32)      320       \n",
      "_________________________________________________________________\n",
      "conv2d_3 (Conv2D)            (None, 146, 146, 64)      18496     \n",
      "_________________________________________________________________\n",
      "max_pooling2d_1 (MaxPooling2 (None, 73, 73, 64)        0         \n",
      "_________________________________________________________________\n",
      "flatten_1 (Flatten)          (None, 341056)            0         \n",
      "_________________________________________________________________\n",
      "dense_2 (Dense)              (None, 128)               43655296  \n",
      "_________________________________________________________________\n",
      "dense_3 (Dense)              (None, 22)                2838      \n",
      "=================================================================\n",
      "Total params: 43,676,950\n",
      "Trainable params: 43,676,950\n",
      "Non-trainable params: 0\n",
      "_________________________________________________________________\n",
      "None\n"
     ]
    }
   ],
   "source": [
    "model = Sequential()\n",
    "model.add(Conv2D(32, kernel_size=(3, 3), activation='relu', \n",
    "                 input_shape=(150, 150,1)))\n",
    "model.add(Conv2D(64, (3, 3), activation='relu'))\n",
    "model.add(MaxPooling2D(pool_size=(2, 2)))\n",
    "model.add(Flatten())\n",
    "model.add(Dense(128, activation='relu'))\n",
    "model.add(Dense(22, activation='softmax'))\n",
    "\n",
    "model.compile(loss=keras.losses.categorical_crossentropy,\n",
    "              optimizer=keras.optimizers.Adadelta(),\n",
    "              metrics=['accuracy'])\n",
    "\n",
    "print(model.summary())"
   ]
  },
  {
   "cell_type": "code",
   "execution_count": 31,
   "id": "increasing-agency",
   "metadata": {},
   "outputs": [
    {
     "name": "stdout",
     "output_type": "stream",
     "text": [
      "Epoch 1/15\n",
      "18/18 [==============================] - 10s 202ms/step - loss: 1.4086 - accuracy: 0.6766 - val_loss: 0.2303 - val_accuracy: 0.8534\n",
      "Epoch 2/15\n",
      "18/18 [==============================] - 2s 133ms/step - loss: 0.2506 - accuracy: 0.8394 - val_loss: 0.2170 - val_accuracy: 0.8901\n",
      "Epoch 3/15\n",
      "18/18 [==============================] - 2s 132ms/step - loss: 0.2213 - accuracy: 0.8534 - val_loss: 0.2320 - val_accuracy: 0.7696\n",
      "Epoch 4/15\n",
      "18/18 [==============================] - 2s 132ms/step - loss: 0.2146 - accuracy: 0.8546 - val_loss: 0.2166 - val_accuracy: 0.8901\n",
      "Epoch 5/15\n",
      "18/18 [==============================] - 2s 132ms/step - loss: 0.2185 - accuracy: 0.8470 - val_loss: 0.2205 - val_accuracy: 0.7906\n",
      "Epoch 6/15\n",
      "18/18 [==============================] - 2s 132ms/step - loss: 0.2172 - accuracy: 0.8470 - val_loss: 0.2157 - val_accuracy: 0.8848\n",
      "Epoch 7/15\n",
      "18/18 [==============================] - 2s 131ms/step - loss: 0.2217 - accuracy: 0.8453 - val_loss: 0.2254 - val_accuracy: 0.7906\n",
      "Epoch 8/15\n",
      "18/18 [==============================] - 2s 132ms/step - loss: 0.2119 - accuracy: 0.8627 - val_loss: 0.2438 - val_accuracy: 0.7906\n",
      "Epoch 9/15\n",
      "18/18 [==============================] - 2s 133ms/step - loss: 0.2095 - accuracy: 0.8691 - val_loss: 0.2556 - val_accuracy: 0.7696\n",
      "Epoch 10/15\n",
      "18/18 [==============================] - 2s 132ms/step - loss: 0.2169 - accuracy: 0.8592 - val_loss: 0.2802 - val_accuracy: 0.8115\n",
      "Epoch 11/15\n",
      "18/18 [==============================] - 2s 135ms/step - loss: 0.2146 - accuracy: 0.8627 - val_loss: 0.2312 - val_accuracy: 0.8220\n",
      "Epoch 12/15\n",
      "18/18 [==============================] - 2s 133ms/step - loss: 0.2130 - accuracy: 0.8645 - val_loss: 0.2466 - val_accuracy: 0.7644\n",
      "Epoch 13/15\n",
      "18/18 [==============================] - 2s 131ms/step - loss: 0.2093 - accuracy: 0.8633 - val_loss: 0.2659 - val_accuracy: 0.7906\n",
      "Epoch 14/15\n",
      "18/18 [==============================] - 2s 134ms/step - loss: 0.2093 - accuracy: 0.8650 - val_loss: 0.2459 - val_accuracy: 0.7749\n",
      "Epoch 15/15\n",
      "18/18 [==============================] - 3s 141ms/step - loss: 0.2086 - accuracy: 0.8633 - val_loss: 0.2469 - val_accuracy: 0.7853\n"
     ]
    }
   ],
   "source": [
    "model.compile(optimizer='adam', loss='categorical_crossentropy', metrics=['accuracy'])\n",
    "history = model.fit(X_train_t, y_train,validation_split=0.1, batch_size=100, epochs=15, verbose=1)"
   ]
  },
  {
   "cell_type": "code",
   "execution_count": 32,
   "id": "perceived-eating",
   "metadata": {},
   "outputs": [
    {
     "data": {
      "image/png": "[encoded data removed]",
      "text/plain": [
       "<Figure size 432x288 with 1 Axes>"
      ]
     },
     "metadata": {
      "needs_background": "light"
     },
     "output_type": "display_data"
    }
   ],
   "source": [
    "import matplotlib.pyplot as plt\n",
    "plt.plot(history.history['accuracy'])\n",
    "plt.plot(history.history['val_accuracy'])\n",
    "plt.title('model accuracy')\n",
    "plt.ylabel('Val_accuracy')\n",
    "plt.xlabel('epoch')\n",
    "plt.legend(['train', 'val'], loc='upper left')\n",
    "plt.show()"
   ]
  },
  {
   "cell_type": "code",
   "execution_count": 33,
   "id": "initial-variation",
   "metadata": {},
   "outputs": [
    {
     "data": {
      "image/png": "[encoded data removed]",
      "text/plain": [
       "<Figure size 432x288 with 1 Axes>"
      ]
     },
     "metadata": {
      "needs_background": "light"
     },
     "output_type": "display_data"
    }
   ],
   "source": [
    "import matplotlib.pyplot as plt\n",
    "plt.plot(history.history['loss'])\n",
    "plt.plot(history.history['val_loss'])\n",
    "plt.title('Model Loss')\n",
    "plt.ylabel('Loss')\n",
    "plt.xlabel('epoch')\n",
    "plt.legend(['train', 'val'], loc='upper left')\n",
    "plt.show()"
   ]
  },
  {
   "cell_type": "code",
   "execution_count": 34,
   "id": "collected-container",
   "metadata": {},
   "outputs": [],
   "source": [
    "y_predict = model.predict(X_test_t)"
   ]
  },
  {
   "cell_type": "code",
   "execution_count": 35,
   "id": "junior-option",
   "metadata": {},
   "outputs": [],
   "source": [
    "y_predict_bool = np.argmax(y_predict,axis=1).tolist()"
   ]
  },
  {
   "cell_type": "code",
   "execution_count": 36,
   "id": "numerical-difficulty",
   "metadata": {},
   "outputs": [],
   "source": [
    "y_test_e = np.argmax(y_test,axis=1).tolist()"
   ]
  },
  {
   "cell_type": "code",
   "execution_count": 37,
   "id": "interracial-library",
   "metadata": {},
   "outputs": [
    {
     "name": "stdout",
     "output_type": "stream",
     "text": [
      "20/20 [==============================] - 0s 18ms/step - loss: 0.2497 - accuracy: 0.8022\n",
      "Test loss: 0.24965886771678925\n",
      "Test accuracy: 0.8021978139877319\n",
      "60/60 [==============================] - 1s 21ms/step - loss: 0.2104 - accuracy: 0.8623\n",
      "Train loss: 0.21039710938930511\n",
      "Train accuracy: 0.8623036742210388\n"
     ]
    }
   ],
   "source": [
    "score = model.evaluate(X_test_t, y_test, verbose = 1) \n",
    "\n",
    "print('Test loss:', score[0]) \n",
    "print('Test accuracy:', score[1])\n",
    "score = model.evaluate(X_train_t, y_train, verbose = 1) \n",
    "\n",
    "print('Train loss:', score[0]) \n",
    "print('Train accuracy:', score[1])"
   ]
  },
  {
   "cell_type": "code",
   "execution_count": 39,
   "id": "available-address",
   "metadata": {},
   "outputs": [
    {
     "name": "stdout",
     "output_type": "stream",
     "text": [
      "[[ 52   0   0   0   0   0   0   0]\n",
      " [  0 127   0   0   0   0   0   0]\n",
      " [  0   0  53   0  43   0   0   0]\n",
      " [  0   0   0 100   0   0   0   0]\n",
      " [  0   0  83   0  12   0   0   0]\n",
      " [  0   0   0   0   0   9   0   0]\n",
      " [  0   0   0   0   0   0  94   0]\n",
      " [  0   0   0   0   0   0   0  64]]\n"
     ]
    }
   ],
   "source": [
    "from sklearn.metrics import precision_score,recall_score,confusion_matrix\n",
    "print(confusion_matrix(y_test_e,y_predict_bool))"
   ]
  },
  {
   "cell_type": "code",
   "execution_count": 54,
   "id": "electrical-responsibility",
   "metadata": {},
   "outputs": [
    {
     "data": {
      "image/jpeg": "[encoded data removed]",
      "text/plain": [
       "<IPython.core.display.Image object>"
      ]
     },
     "metadata": {},
     "output_type": "display_data"
    }
   ],
   "source": [
    "model_builder = keras.applications.xception.Xception\n",
    "img_size = (299, 299)\n",
    "preprocess_input = keras.applications.xception.preprocess_input\n",
    "decode_predictions = keras.applications.xception.decode_predictions\n",
    "\n",
    "last_conv_layer_name = \"block14_sepconv2_act\"\n",
    "\n",
    "# The local path to our target image\n",
    "img_path = 'Work_to_be_Completed_ILBS\\\\00910\\\\IMG-0005-00001.jpg'\n",
    "# keras.utils.get_file(\n",
    "#     'Work_to_be_Completed_ILBS\\\\00910\\\\IMG-0005-00001.jpg', 'https://i.imgur.com/Bvro0YD.png'\n",
    "# )\n",
    "\n",
    "display(Image(img_path))\n"
   ]
  },
  {
   "cell_type": "code",
   "execution_count": 55,
   "id": "cathedral-wildlife",
   "metadata": {},
   "outputs": [],
   "source": [
    "def get_img_array(img_path, size):\n",
    "    # `img` is a PIL image of size 299x299\n",
    "    img = keras.preprocessing.image.load_img(img_path, target_size=size)\n",
    "    # `array` is a float32 Numpy array of shape (299, 299, 3)\n",
    "    array = keras.preprocessing.image.img_to_array(img)\n",
    "    # We add a dimension to transform our array into a \"batch\"\n",
    "    # of size (1, 299, 299, 3)\n",
    "    array = np.expand_dims(array, axis=0)\n",
    "    return array\n",
    "\n",
    "\n",
    "def make_gradcam_heatmap(img_array, model, last_conv_layer_name, pred_index=None):\n",
    "    # First, we create a model that maps the input image to the activations\n",
    "    # of the last conv layer as well as the output predictions\n",
    "    grad_model = tf.keras.models.Model(\n",
    "        [model.inputs], [model.get_layer(last_conv_layer_name).output, model.output]\n",
    "    )\n",
    "\n",
    "    # Then, we compute the gradient of the top predicted class for our input image\n",
    "    # with respect to the activations of the last conv layer\n",
    "    with tf.GradientTape() as tape:\n",
    "        last_conv_layer_output, preds = grad_model(img_array)\n",
    "        if pred_index is None:\n",
    "            pred_index = tf.argmax(preds[0])\n",
    "        class_channel = preds[:, pred_index]\n",
    "\n",
    "    # This is the gradient of the output neuron (top predicted or chosen)\n",
    "    # with regard to the output feature map of the last conv layer\n",
    "    grads = tape.gradient(class_channel, last_conv_layer_output)\n",
    "\n",
    "    # This is a vector where each entry is the mean intensity of the gradient\n",
    "    # over a specific feature map channel\n",
    "    pooled_grads = tf.reduce_mean(grads, axis=(0, 1, 2))\n",
    "\n",
    "    # We multiply each channel in the feature map array\n",
    "    # by \"how important this channel is\" with regard to the top predicted class\n",
    "    # then sum all the channels to obtain the heatmap class activation\n",
    "    last_conv_layer_output = last_conv_layer_output[0]\n",
    "    heatmap = last_conv_layer_output @ pooled_grads[..., tf.newaxis]\n",
    "    heatmap = tf.squeeze(heatmap)\n",
    "\n",
    "    # For visualization purpose, we will also normalize the heatmap between 0 & 1\n",
    "    heatmap = tf.maximum(heatmap, 0) / tf.math.reduce_max(heatmap)\n",
    "    return heatmap.numpy()\n"
   ]
  },
  {
   "cell_type": "code",
   "execution_count": 56,
   "id": "visible-novelty",
   "metadata": {},
   "outputs": [
    {
     "name": "stdout",
     "output_type": "stream",
     "text": [
      "WARNING:tensorflow:5 out of the last 24 calls to <function Model.make_predict_function.<locals>.predict_function at 0x000002065EF5B318> triggered tf.function retracing. Tracing is expensive and the excessive number of tracings could be due to (1) creating @tf.function repeatedly in a loop, (2) passing tensors with different shapes, (3) passing Python objects instead of tensors. For (1), please define your @tf.function outside of the loop. For (2), @tf.function has experimental_relax_shapes=True option that relaxes argument shapes that can avoid unnecessary retracing. For (3), please refer to https://www.tensorflow.org/guide/function#controlling_retracing and https://www.tensorflow.org/api_docs/python/tf/function for  more details.\n",
      "Predicted: [('n01930112', 'nematode', 7.14846)]\n"
     ]
    },
    {
     "data": {
      "image/png": "[encoded data removed]",
      "text/plain": [
       "<Figure size 288x288 with 1 Axes>"
      ]
     },
     "metadata": {
      "needs_background": "light"
     },
     "output_type": "display_data"
    }
   ],
   "source": [
    "# Prepare image\n",
    "import tensorflow as tf\n",
    "img_array = preprocess_input(get_img_array(img_path, size=img_size))\n",
    "\n",
    "# Make model\n",
    "model = model_builder(weights=\"imagenet\")\n",
    "\n",
    "# Remove last layer's softmax\n",
    "model.layers[-1].activation = None\n",
    "\n",
    "# Print what the top predicted class is\n",
    "preds = model.predict(img_array)\n",
    "print(\"Predicted:\", decode_predictions(preds, top=1)[0])\n",
    "\n",
    "# Generate class activation heatmap\n",
    "heatmap = make_gradcam_heatmap(img_array, model, last_conv_layer_name)\n",
    "\n",
    "# Display heatmap\n",
    "plt.matshow(heatmap)\n",
    "plt.show()\n"
   ]
  },
  {
   "cell_type": "code",
   "execution_count": 53,
   "id": "raised-spyware",
   "metadata": {},
   "outputs": [
    {
     "name": "stdout",
     "output_type": "stream",
     "text": [
      "input_3\n",
      "block1_conv1\n",
      "block1_conv1_bn\n",
      "block1_conv1_act\n",
      "block1_conv2\n",
      "block1_conv2_bn\n",
      "block1_conv2_act\n",
      "block2_sepconv1\n",
      "block2_sepconv1_bn\n",
      "block2_sepconv2_act\n",
      "block2_sepconv2\n",
      "block2_sepconv2_bn\n",
      "conv2d_12\n",
      "block2_pool\n",
      "batch_normalization_8\n",
      "add_24\n",
      "block3_sepconv1_act\n",
      "block3_sepconv1\n",
      "block3_sepconv1_bn\n",
      "block3_sepconv2_act\n",
      "block3_sepconv2\n",
      "block3_sepconv2_bn\n",
      "conv2d_13\n",
      "block3_pool\n",
      "batch_normalization_9\n",
      "add_25\n",
      "block4_sepconv1_act\n",
      "block4_sepconv1\n",
      "block4_sepconv1_bn\n",
      "block4_sepconv2_act\n",
      "block4_sepconv2\n",
      "block4_sepconv2_bn\n",
      "conv2d_14\n",
      "block4_pool\n",
      "batch_normalization_10\n",
      "add_26\n",
      "block5_sepconv1_act\n",
      "block5_sepconv1\n",
      "block5_sepconv1_bn\n",
      "block5_sepconv2_act\n",
      "block5_sepconv2\n",
      "block5_sepconv2_bn\n",
      "block5_sepconv3_act\n",
      "block5_sepconv3\n",
      "block5_sepconv3_bn\n",
      "add_27\n",
      "block6_sepconv1_act\n",
      "block6_sepconv1\n",
      "block6_sepconv1_bn\n",
      "block6_sepconv2_act\n",
      "block6_sepconv2\n",
      "block6_sepconv2_bn\n",
      "block6_sepconv3_act\n",
      "block6_sepconv3\n",
      "block6_sepconv3_bn\n",
      "add_28\n",
      "block7_sepconv1_act\n",
      "block7_sepconv1\n",
      "block7_sepconv1_bn\n",
      "block7_sepconv2_act\n",
      "block7_sepconv2\n",
      "block7_sepconv2_bn\n",
      "block7_sepconv3_act\n",
      "block7_sepconv3\n",
      "block7_sepconv3_bn\n",
      "add_29\n",
      "block8_sepconv1_act\n",
      "block8_sepconv1\n",
      "block8_sepconv1_bn\n",
      "block8_sepconv2_act\n",
      "block8_sepconv2\n",
      "block8_sepconv2_bn\n",
      "block8_sepconv3_act\n",
      "block8_sepconv3\n",
      "block8_sepconv3_bn\n",
      "add_30\n",
      "block9_sepconv1_act\n",
      "block9_sepconv1\n",
      "block9_sepconv1_bn\n",
      "block9_sepconv2_act\n",
      "block9_sepconv2\n",
      "block9_sepconv2_bn\n",
      "block9_sepconv3_act\n",
      "block9_sepconv3\n",
      "block9_sepconv3_bn\n",
      "add_31\n",
      "block10_sepconv1_act\n",
      "block10_sepconv1\n",
      "block10_sepconv1_bn\n",
      "block10_sepconv2_act\n",
      "block10_sepconv2\n",
      "block10_sepconv2_bn\n",
      "block10_sepconv3_act\n",
      "block10_sepconv3\n",
      "block10_sepconv3_bn\n",
      "add_32\n",
      "block11_sepconv1_act\n",
      "block11_sepconv1\n",
      "block11_sepconv1_bn\n",
      "block11_sepconv2_act\n",
      "block11_sepconv2\n",
      "block11_sepconv2_bn\n",
      "block11_sepconv3_act\n",
      "block11_sepconv3\n",
      "block11_sepconv3_bn\n",
      "add_33\n",
      "block12_sepconv1_act\n",
      "block12_sepconv1\n",
      "block12_sepconv1_bn\n",
      "block12_sepconv2_act\n",
      "block12_sepconv2\n",
      "block12_sepconv2_bn\n",
      "block12_sepconv3_act\n",
      "block12_sepconv3\n",
      "block12_sepconv3_bn\n",
      "add_34\n",
      "block13_sepconv1_act\n",
      "block13_sepconv1\n",
      "block13_sepconv1_bn\n",
      "block13_sepconv2_act\n",
      "block13_sepconv2\n",
      "block13_sepconv2_bn\n",
      "conv2d_15\n",
      "block13_pool\n",
      "batch_normalization_11\n",
      "add_35\n",
      "block14_sepconv1\n",
      "block14_sepconv1_bn\n",
      "block14_sepconv1_act\n",
      "block14_sepconv2\n",
      "block14_sepconv2_bn\n",
      "block14_sepconv2_act\n",
      "avg_pool\n",
      "predictions\n"
     ]
    }
   ],
   "source": [
    "for layer in model.layers:\n",
    "    print(layer.name)"
   ]
  },
  {
   "cell_type": "code",
   "execution_count": null,
   "id": "minute-tiffany",
   "metadata": {},
   "outputs": [],
   "source": []
  }
 ],
 "metadata": {
  "kernelspec": {
   "display_name": "Python 3",
   "language": "python",
   "name": "python3"
  },
  "language_info": {
   "codemirror_mode": {
    "name": "ipython",
    "version": 3
   },
   "file_extension": ".py",
   "mimetype": "text/x-python",
   "name": "python",
   "nbconvert_exporter": "python",
   "pygments_lexer": "ipython3",
   "version": "3.7.9"
  }
 },
 "nbformat": 4,
 "nbformat_minor": 5
}

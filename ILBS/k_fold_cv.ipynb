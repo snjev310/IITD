{
 "cells": [
  {
   "cell_type": "code",
   "execution_count": 1,
   "id": "8b27676c",
   "metadata": {},
   "outputs": [],
   "source": [
    "import pandas as pd\n",
    "import numpy as np\n",
    "import matplotlib.pyplot as plt\n",
    "import os\n",
    "import glob\n",
    "import cv2\n",
    "from sklearn.model_selection import train_test_split\n",
    "from tensorflow.keras import layers\n",
    "from tensorflow.keras.models import Sequential\n",
    "from tensorflow.keras.layers import Dense, Flatten, Conv2D, MaxPooling2D, Dropout, BatchNormalization, MaxPool2D\n",
    "from IPython.display import Image, display\n",
    "import matplotlib.pyplot as plt\n",
    "import matplotlib.cm as cm\n",
    "import tensorflow as tf\n",
    "from tensorflow import keras\n",
    "from sklearn.preprocessing import OneHotEncoder, StandardScaler\n",
    "from sklearn.metrics import *\n",
    "from sklearn.model_selection import StratifiedKFold"
   ]
  },
  {
   "cell_type": "code",
   "execution_count": 2,
   "id": "d597772a",
   "metadata": {},
   "outputs": [],
   "source": [
    "folds = StratifiedKFold(n_splits=10, shuffle=True, random_state=0)"
   ]
  },
  {
   "cell_type": "code",
   "execution_count": 3,
   "id": "abdfa525",
   "metadata": {},
   "outputs": [],
   "source": [
    "all_image = []\n",
    "all_label = []\n",
    "def vol_(path):\n",
    "    for index,folder in enumerate(os.listdir(path)):\n",
    "        print(index,folder)\n",
    "        image = []\n",
    "        for row in os.listdir(path+'\\\\'+folder):\n",
    "            pat_path = path+'\\\\'+folder+'\\\\'+row\n",
    "            all_image.append(pat_path)\n",
    "            all_label.append(index)\n",
    "        \n",
    "    return 0"
   ]
  },
  {
   "cell_type": "code",
   "execution_count": 4,
   "id": "97b6e69b",
   "metadata": {},
   "outputs": [
    {
     "name": "stdout",
     "output_type": "stream",
     "text": [
      "0 00_5\n",
      "1 06_10\n",
      "2 11_16\n",
      "3 17_28\n"
     ]
    }
   ],
   "source": [
    "image_train_set = vol_(r'C:\\Users\\AIIMS-IITD\\Desktop\\Sanjeev\\4_class_cluster_volume\\Train')"
   ]
  },
  {
   "cell_type": "code",
   "execution_count": 5,
   "id": "0a0bb032",
   "metadata": {},
   "outputs": [],
   "source": [
    "def import_maps(path,label):\n",
    "    #print(path[0])\n",
    "    images = []\n",
    "    for index,item in enumerate(path):\n",
    "        for name in enumerate(os.listdir(item)):\n",
    "            #print(name[1])\n",
    "            folder = os.path.join(item, name[1])\n",
    "            #print('folder: ',folder)\n",
    "            img = cv2.imread(folder)\n",
    "            #print(img.shape)\n",
    "            if img is not None:\n",
    "                img = cv2.cvtColor(img, cv2.COLOR_RGB2GRAY)\n",
    "                img1 = cv2.resize(img, (196, 196))\n",
    "                img = np.dstack((img1,img1,img1))\n",
    "            if img is not None:\n",
    "           #     img = (img-np.mean(img))/np.std(img)\n",
    "                images.append((np.array(img),label[index]))\n",
    "    return images"
   ]
  },
  {
   "cell_type": "code",
   "execution_count": 6,
   "id": "e1959756",
   "metadata": {},
   "outputs": [],
   "source": [
    "model = Sequential()\n",
    "model.add(Conv2D(input_shape=(196,196,3),filters=64,kernel_size=(5,5),padding='same', activation='relu',kernel_regularizer=tf.keras.regularizers.l2(0.01)))\n",
    "model.add(BatchNormalization())\n",
    "model.add(MaxPooling2D(2,2))\n",
    "\n",
    "model.add(Conv2D(filters=32,kernel_size=(3,3),padding='same', activation='relu',kernel_regularizer=tf.keras.regularizers.l2(0.01)))\n",
    "model.add(BatchNormalization())\n",
    "model.add(MaxPooling2D(2,2))\n",
    "model.add(Dropout(0.2))\n",
    "\n",
    "\n",
    "\n",
    "model.add(Conv2D(filters=16,kernel_size=(3,3),padding='same', activation='relu',kernel_regularizer=tf.keras.regularizers.l2(0.01)))\n",
    "model.add(BatchNormalization())\n",
    "#model.add(MaxPooling2D(2,2))\n",
    "model.add(Dropout(0.5))\n",
    "\n",
    "model.add(Flatten(name='flatten'))\n",
    "#model.add(Dense(16, activation='relu', name='fc1'))\n",
    "model.add(Dense(4, activation='sigmoid'))"
   ]
  },
  {
   "cell_type": "code",
   "execution_count": null,
   "id": "232094c6",
   "metadata": {},
   "outputs": [
    {
     "name": "stdout",
     "output_type": "stream",
     "text": [
      "Epoch 1/15\n",
      "960/960 [==============================] - 21s 21ms/step - loss: 0.8901 - accuracy: 0.9228 - auc: 0.96653s - loss: 0.8873 - accu - ETA: 2s - loss: 0.8870 - accuracy:  - ETA:  - ETA: 0s - loss: 0.8883 - accuracy: 0.9234 - auc - ETA: 0s - loss: 0.8893 - accuracy: 0.9229 -\n",
      "Epoch 2/15\n",
      "960/960 [==============================] - 20s 21ms/step - loss: 0.8703 - accuracy: 0.9317 - auc: 0.9691: 20s - loss: 0.8871 - accuracy - ETA: 18s - loss: 0.8722 - accuracy: 0.9327 - auc: - ETA: 18s - los - ETA: 16s - loss: 0.8824 - accuracy: 0.9265 -  - ETA: 15s - loss: 0.8785 - accuracy: 0.9275 - auc: 0.968 - ETA: 15s - loss: 0.8787 - ac - ETA: 13s - loss: 0.8755 - accuracy: 0.9302 - ETA: 12s - loss: 0.8762 - accuracy: 0.9303 - auc: 0.968 - ETA: 12s - loss: 0.8758 - accuracy: 0.9305 - - ETA: 11s - loss: 0.8773 - accuracy: 0.9298 - auc: 0.9 - ETA: 11s - loss: 0.8753 - accuracy: 0.9 - ETA: 8s - loss: - ETA: 5s - loss: 0.8686 - accuracy: 0.9323 - auc: 0.96 - ETA: 5s - loss: 0.8688 - accuracy: 0.93 - ETA: 4s - loss: 0.8698 - accuracy: 0.9316 - auc: 0.96 - ETA: 4s - loss: 0.8699 - accuracy:  - ETA: 4s - loss: 0.870 - ETA: 3s - loss: 0.8704 - accuracy - ETA: 2s - loss: 0.8 - ETA: 1s - loss: 0.8710 - accura - ETA: 0s - loss: 0.8711 - accura - ETA: 0s - loss: 0.8703 - accuracy: 0.9317 - a\n",
      "Epoch 3/15\n",
      "960/960 [==============================] - 20s 21ms/step - loss: 0.8514 - accuracy: 0.9387 - auc: 0.9715: 18s - loss: 0.8680 - accuracy: 0.936 - ETA: 17s - loss: 0.8602 - accuracy: 0.9371 - auc: 0.96 - ETA: 17s - loss: 0.8611 - accuracy: 0. - ETA: 16s - loss: 0.8543 - accuracy: 0.9372 - auc: 0. - ETA: 15s - loss: 0.8571 - accu - ETA: 14s - loss: 0.8589 - accuracy: 0.9355 - auc: 0.970 - ETA: 14s - loss: 0.8582 - accuracy: 0.9360 - auc: 0. - ETA: 14s - loss: 0.8579 - accuracy:  - ETA: 12s - loss: 0.8554 - accuracy: 0.9379 - auc: - ETA: 12s - loss: 0.8571 - accuracy: 0.9368 - auc: 0.97 - ETA: 12s - loss: 0.8576 - accuracy: 0.936\n",
      "Epoch 4/15\n",
      "960/960 [==============================] - 20s 21ms/step - loss: 0.8442 - accuracy: 0.9399 - auc: 0.9721: 14 - ETA: 3s - loss: 0.845 - ETA: 1s - loss: 0.8456 - accuracy: 0.9396 - auc: 0.97 - ETA: 1s - loss: 0.8\n",
      "Epoch 5/15\n",
      "960/960 [==============================] - 20s 21ms/step - loss: 0.8353 - accuracy: 0.9431 - auc: 0.97372s - loss: 0.8360 - accuracy: 0.9428 - a - ETA: 2s - loss: - ETA: 0s - loss: 0.836\n",
      "Epoch 6/15\n",
      "651/960 [===================>..........] - ETA: 6s - loss: 0.8248 - accuracy: 0.9483 - auc: 0.9742 - ETA: 17s - loss: 0.8173 - accuracy:  - ETA: 16s - loss: 0.8188 - accuracy: 0.9 - ETA: 15s - loss: 0.8251 - accuracy: 0.9496  - ETA: 14s - loss: 0.8278 - ETA: 12s - loss: 0."
     ]
    }
   ],
   "source": [
    "images_ = all_image\n",
    "labels_ = all_label\n",
    "hist = []\n",
    "test_score_l = []\n",
    "for j, (train_idx, test_idx) in enumerate(folds.split(images_, labels_)):\n",
    "    X_train = np.array(images_)[train_idx]\n",
    "    y_train = np.array(labels_)[train_idx]\n",
    "    X_test = np.array(images_)[test_idx]\n",
    "    y_test = np.array(labels_)[test_idx]\n",
    "    \n",
    "    train_image = import_maps(X_train,y_train)\n",
    "    test_image = import_maps(X_test,y_test)\n",
    "    \n",
    "    train_images_all = [i[0] for i in train_image]\n",
    "    train_images_array = np.array(train_images_all)\n",
    "    #train_images_array=np.expand_dims(train_images_array,axis=3)\n",
    "    train_image_label = [i[1] for i in train_image]\n",
    "    train_image_label = np.array(train_image_label)\n",
    "    \n",
    "    test_images_all = [i[0] for i in test_image]\n",
    "    test_images_array = np.array(test_images_all)\n",
    "    #test_images_array=np.expand_dims(test_images_array,axis=3)\n",
    "    test_image_label = [i[1] for i in test_image]\n",
    "    test_image_label = np.array(test_image_label)\n",
    "    \n",
    "    enc = OneHotEncoder(handle_unknown='ignore')\n",
    "    train_label_enc = enc.fit_transform(train_image_label.reshape(-1, 1)).toarray()\n",
    "    #val_label_enc = enc.fit_transform(val_y.reshape(-1, 1)).toarray()\n",
    "    test_label_enc = enc.fit_transform(test_image_label.reshape(-1, 1)).toarray()\n",
    "    \n",
    "    model.compile(loss=keras.losses.categorical_crossentropy,\n",
    "              optimizer=keras.optimizers.Adadelta(),\n",
    "              metrics=['accuracy','AUC'])\n",
    "    history = model.fit(train_images_array, train_label_enc, batch_size=16, epochs=15, verbose=1,shuffle=True)\n",
    "    hist.append(history)\n",
    "    print('#'*120)\n",
    "    print('Fold ended')\n",
    "    print('#'*120)\n",
    "    print('Test Score')\n",
    "    test_score = model.evaluate(test_images_array, test_label_enc, batch_size=16, verbose = 1)\n",
    "    print('#'*120)\n",
    "    test_score_l.append(test_score)\n",
    "    tf.keras.backend.clear_session()"
   ]
  },
  {
   "cell_type": "code",
   "execution_count": 11,
   "id": "acc51479",
   "metadata": {},
   "outputs": [
    {
     "data": {
      "text/plain": [
       "[<matplotlib.lines.Line2D at 0x1fe21e9c5b0>,\n",
       " <matplotlib.lines.Line2D at 0x1fe21f34eb0>,\n",
       " <matplotlib.lines.Line2D at 0x1fe21f34fa0>]"
      ]
     },
     "execution_count": 11,
     "metadata": {},
     "output_type": "execute_result"
    },
    {
     "data": {
      "image/png": "[encoded data removed]",
      "text/plain": [
       "<Figure size 432x288 with 1 Axes>"
      ]
     },
     "metadata": {
      "needs_background": "light"
     },
     "output_type": "display_data"
    }
   ],
   "source": [
    "plt.plot(test_score_l)"
   ]
  },
  {
   "cell_type": "code",
   "execution_count": 12,
   "id": "cd6d7eaf",
   "metadata": {},
   "outputs": [
    {
     "data": {
      "text/plain": [
       "[[2.470787286758423, 0.41555556654930115, 0.6267337203025818],\n",
       " [1.3434394598007202, 0.7410112619400024, 0.8802769780158997],\n",
       " [1.0797243118286133, 0.8414364457130432, 0.9532791972160339]]"
      ]
     },
     "execution_count": 12,
     "metadata": {},
     "output_type": "execute_result"
    }
   ],
   "source": [
    "test_score_l"
   ]
  },
  {
   "cell_type": "code",
   "execution_count": 34,
   "id": "5a37c1d4",
   "metadata": {},
   "outputs": [
    {
     "data": {
      "text/plain": [
       "79.0"
      ]
     },
     "execution_count": 34,
     "metadata": {},
     "output_type": "execute_result"
    }
   ],
   "source": [
    "(74+84)/2"
   ]
  },
  {
   "cell_type": "code",
   "execution_count": 18,
   "id": "60537572",
   "metadata": {},
   "outputs": [
    {
     "data": {
      "text/plain": [
       "[1.0571595430374146,\n",
       " 1.0335742235183716,\n",
       " 1.0118024349212646,\n",
       " 0.985831081867218,\n",
       " 0.9746829867362976,\n",
       " 0.951061487197876,\n",
       " 0.9395124316215515,\n",
       " 0.9262233972549438,\n",
       " 0.9091644883155823,\n",
       " 0.8996343612670898,\n",
       " 0.888978123664856,\n",
       " 0.8783875107765198,\n",
       " 0.8640640377998352,\n",
       " 0.8602203726768494,\n",
       " 0.8475135564804077]"
      ]
     },
     "execution_count": 18,
     "metadata": {},
     "output_type": "execute_result"
    }
   ],
   "source": [
    "history.history['loss']"
   ]
  },
  {
   "cell_type": "code",
   "execution_count": 21,
   "id": "385c872b",
   "metadata": {},
   "outputs": [
    {
     "data": {
      "text/plain": [
       "[0.311429500579834,\n",
       " 0.3648974299430847,\n",
       " 0.40781503915786743,\n",
       " 0.45418429374694824,\n",
       " 0.4846629798412323,\n",
       " 0.5254966020584106,\n",
       " 0.5510257482528687,\n",
       " 0.5831976532936096,\n",
       " 0.6091175675392151,\n",
       " 0.6381634473800659,\n",
       " 0.6553565859794617,\n",
       " 0.6819928288459778,\n",
       " 0.6965157985687256,\n",
       " 0.7234125733375549,\n",
       " 0.7394334077835083]"
      ]
     },
     "execution_count": 21,
     "metadata": {},
     "output_type": "execute_result"
    }
   ],
   "source": [
    "hist[0].history['accuracy']"
   ]
  },
  {
   "cell_type": "code",
   "execution_count": 22,
   "id": "c3d13f4a",
   "metadata": {},
   "outputs": [
    {
     "data": {
      "text/plain": [
       "[0.7089430689811707,\n",
       " 0.7310569286346436,\n",
       " 0.7500487565994263,\n",
       " 0.7627967596054077,\n",
       " 0.7754146456718445,\n",
       " 0.7871219515800476,\n",
       " 0.8072845339775085,\n",
       " 0.8243902325630188,\n",
       " 0.8330406546592712,\n",
       " 0.8338862061500549,\n",
       " 0.8477398157119751,\n",
       " 0.8606829047203064,\n",
       " 0.865821123123169,\n",
       " 0.875382125377655,\n",
       " 0.8813658356666565]"
      ]
     },
     "execution_count": 22,
     "metadata": {},
     "output_type": "execute_result"
    }
   ],
   "source": [
    "hist[1].history['accuracy']"
   ]
  },
  {
   "cell_type": "code",
   "execution_count": 24,
   "id": "4e97245e",
   "metadata": {},
   "outputs": [],
   "source": [
    "y_predict = model.predict(test_images_array)"
   ]
  },
  {
   "cell_type": "code",
   "execution_count": 25,
   "id": "0ecca4c5",
   "metadata": {},
   "outputs": [],
   "source": [
    "y_predict_bool = np.argmax(y_predict,axis=1).tolist()"
   ]
  },
  {
   "cell_type": "code",
   "execution_count": 26,
   "id": "0fb2b82e",
   "metadata": {},
   "outputs": [
    {
     "data": {
      "text/plain": [
       "array([[435,   0,   0,   0],\n",
       "       [  0, 150,   0,   0],\n",
       "       [  0,   0, 600,   0],\n",
       "       [  0,   0,   2, 598]], dtype=int64)"
      ]
     },
     "execution_count": 26,
     "metadata": {},
     "output_type": "execute_result"
    }
   ],
   "source": [
    "confusion_matrix(test_image_label,y_predict_bool)"
   ]
  },
  {
   "cell_type": "code",
   "execution_count": 27,
   "id": "ec39848e",
   "metadata": {},
   "outputs": [
    {
     "data": {
      "text/plain": [
       "0.9988832742399285"
      ]
     },
     "execution_count": 27,
     "metadata": {},
     "output_type": "execute_result"
    }
   ],
   "source": [
    "precision_score(test_image_label,y_predict_bool,average='weighted')"
   ]
  },
  {
   "cell_type": "code",
   "execution_count": 32,
   "id": "43085f7d",
   "metadata": {},
   "outputs": [
    {
     "name": "stdout",
     "output_type": "stream",
     "text": [
      "0.99915611814346\n"
     ]
    }
   ],
   "source": [
    "fpr,tpr,thresholds = roc_curve(test_image_label,y_predict_bool,pos_label=3)\n",
    "print(auc(fpr,tpr))"
   ]
  },
  {
   "cell_type": "code",
   "execution_count": null,
   "id": "5aca2614",
   "metadata": {},
   "outputs": [],
   "source": []
  }
 ],
 "metadata": {
  "kernelspec": {
   "display_name": "Python 3",
   "language": "python",
   "name": "python3"
  },
  "language_info": {
   "codemirror_mode": {
    "name": "ipython",
    "version": 3
   },
   "file_extension": ".py",
   "mimetype": "text/x-python",
   "name": "python",
   "nbconvert_exporter": "python",
   "pygments_lexer": "ipython3",
   "version": "3.8.8"
  }
 },
 "nbformat": 4,
 "nbformat_minor": 5
}

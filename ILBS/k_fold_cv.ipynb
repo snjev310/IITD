{
 "cells": [
  {
   "cell_type": "code",
   "execution_count": 1,
   "id": "8b27676c",
   "metadata": {},
   "outputs": [],
   "source": [
    "import pandas as pd\n",
    "import numpy as np\n",
    "import matplotlib.pyplot as plt\n",
    "import os\n",
    "import glob\n",
    "import cv2\n",
    "from sklearn.model_selection import train_test_split\n",
    "from tensorflow.keras import layers\n",
    "from tensorflow.keras.models import Sequential\n",
    "from tensorflow.keras.layers import Dense, Flatten, Conv2D, MaxPooling2D, Dropout, BatchNormalization, MaxPool2D\n",
    "from IPython.display import Image, display\n",
    "import matplotlib.pyplot as plt\n",
    "import matplotlib.cm as cm\n",
    "import tensorflow as tf\n",
    "from tensorflow import keras\n",
    "from sklearn.preprocessing import OneHotEncoder, StandardScaler\n",
    "from sklearn.metrics import *\n",
    "from sklearn.model_selection import StratifiedKFold"
   ]
  },
  {
   "cell_type": "code",
   "execution_count": 2,
   "id": "d597772a",
   "metadata": {},
   "outputs": [],
   "source": [
    "folds = StratifiedKFold(n_splits=10, shuffle=True, random_state=0)"
   ]
  },
  {
   "cell_type": "code",
   "execution_count": 3,
   "id": "abdfa525",
   "metadata": {},
   "outputs": [],
   "source": [
    "all_image = []\n",
    "all_label = []\n",
    "def vol_(path):\n",
    "    for index,folder in enumerate(os.listdir(path)):\n",
    "        print(index,folder)\n",
    "        image = []\n",
    "        for row in os.listdir(path+'\\\\'+folder):\n",
    "            pat_path = path+'\\\\'+folder+'\\\\'+row\n",
    "            all_image.append(pat_path)\n",
    "            all_label.append(index)\n",
    "        \n",
    "    return 0"
   ]
  },
  {
   "cell_type": "code",
   "execution_count": 4,
   "id": "97b6e69b",
   "metadata": {},
   "outputs": [
    {
     "name": "stdout",
     "output_type": "stream",
     "text": [
      "0 00_5\n",
      "1 06_10\n",
      "2 11_16\n",
      "3 17_28\n"
     ]
    }
   ],
   "source": [
    "image_train_set = vol_(r'C:\\Users\\AIIMS-IITD\\Desktop\\Sanjeev\\4_class_cluster_volume\\Train')"
   ]
  },
  {
   "cell_type": "code",
   "execution_count": 5,
   "id": "0a0bb032",
   "metadata": {},
   "outputs": [],
   "source": [
    "def import_maps(path,label):\n",
    "    #print(path[0])\n",
    "    images = []\n",
    "    for index,item in enumerate(path):\n",
    "        for name in enumerate(os.listdir(item)):\n",
    "            #print(name[1])\n",
    "            folder = os.path.join(item, name[1])\n",
    "            #print('folder: ',folder)\n",
    "            img = cv2.imread(folder)\n",
    "            #print(img.shape)\n",
    "            if img is not None:\n",
    "                img = cv2.cvtColor(img, cv2.COLOR_RGB2GRAY)\n",
    "                img1 = cv2.resize(img, (196, 196))\n",
    "                img = np.dstack((img1,img1,img1))\n",
    "            if img is not None:\n",
    "           #     img = (img-np.mean(img))/np.std(img)\n",
    "                images.append((np.array(img),label[index]))\n",
    "    return images"
   ]
  },
  {
   "cell_type": "code",
   "execution_count": 6,
   "id": "e1959756",
   "metadata": {},
   "outputs": [],
   "source": [
    "model = Sequential()\n",
    "model.add(Conv2D(input_shape=(196,196,3),filters=64,kernel_size=(5,5),padding='same', activation='relu',kernel_regularizer=tf.keras.regularizers.l2(0.01)))\n",
    "model.add(BatchNormalization())\n",
    "model.add(MaxPooling2D(2,2))\n",
    "\n",
    "model.add(Conv2D(filters=32,kernel_size=(3,3),padding='same', activation='relu',kernel_regularizer=tf.keras.regularizers.l2(0.01)))\n",
    "model.add(BatchNormalization())\n",
    "model.add(MaxPooling2D(2,2))\n",
    "model.add(Dropout(0.2))\n",
    "\n",
    "\n",
    "\n",
    "model.add(Conv2D(filters=16,kernel_size=(3,3),padding='same', activation='relu',kernel_regularizer=tf.keras.regularizers.l2(0.01)))\n",
    "model.add(BatchNormalization())\n",
    "#model.add(MaxPooling2D(2,2))\n",
    "model.add(Dropout(0.5))\n",
    "\n",
    "model.add(Flatten(name='flatten'))\n",
    "#model.add(Dense(16, activation='relu', name='fc1'))\n",
    "model.add(Dense(4, activation='sigmoid'))"
   ]
  },
  {
   "cell_type": "code",
   "execution_count": 7,
   "id": "232094c6",
   "metadata": {},
   "outputs": [
    {
     "name": "stdout",
     "output_type": "stream",
     "text": [
      "Epoch 1/15\n",
      "480/480 [==============================] - 21s 38ms/step - loss: 2.8021 - accuracy: 0.3140 - auc: 0.5657: 17s - loss: 3.1192 - accuracy: 0.2461 - auc: - ETA: 4s - loss: 2 - ETA: 3s - loss: 2.8364 - accuracy: 0.3066 - ETA: 3s - loss: 2.8302 - accuracy: 0.3082 - auc: 0.55 - ETA: 3s - loss: 2.8284 - ac - ETA: 2s - loss: 2.8169 - accuracy: 0.3099 - auc: 0.56 - ETA: 2s - loss: 2.8161 - accura - ETA: 1s - loss: 2.8097 - accu - ETA: 0s - loss: 2.8046 - accuracy: 0.3132 -\n",
      "Epoch 2/15\n",
      "480/480 [==============================] - 18s 38ms/step - loss: 2.5827 - accuracy: 0.3686 - auc: 0.6190: 16s - loss: 2.5903 - accuracy: 0.3575 - au - ETA: 15s - loss: 2.6115 - accuracy: 0.3519 - auc: 0.6 - ETA: 15s - loss: 2.6107 - accuracy: 0.3571 - auc - ETA: 14s - loss: 2.6136 - accuracy: 0.3566 - auc - ETA: 14s - loss: 2.6078 - accuracy: 0.3566 - auc: 0.613 - ETA: 14s - loss: 2.6064 - accuracy: 0.35 - - ETA: 7s - loss: 2.6071 - accuracy: 0.3599 - a - ETA: 6s - loss: 2.6072 - accuracy: 0.3617 - auc: 0. - ETA: 6s - loss: 2.6053 - accura - ETA: 3s - loss: 2.6015 - accuracy: 0.3637 - auc - ETA: 3s - -\n",
      "Epoch 3/15\n",
      "480/480 [==============================] - 18s 38ms/step - loss: 2.4051 - accuracy: 0.4112 - auc: 0.6552\n",
      "Epoch 4/15\n",
      "480/480 [==============================] - 18s 38ms/step - loss: 2.2791 - accuracy: 0.4403 - auc: 0.6815\n",
      "Epoch 5/15\n",
      "480/480 [==============================] - 18s 38ms/step - loss: 2.2201 - accuracy: 0.4615 - auc: 0.69830s - loss: 2.2231 - accura\n",
      "Epoch 6/15\n",
      "480/480 [==============================] - 18s 38ms/step - loss: 2.1069 - accuracy: 0.4929 - auc: 0.7218\n",
      "Epoch 7/15\n",
      "480/480 [==============================] - 18s 38ms/step - loss: 2.0209 - accuracy: 0.5169 - auc: 0.73941s - loss: 2.0194 - accuracy:  - ETA: 0s - loss: 2.0188 - accuracy: 0.\n",
      "Epoch 8/15\n",
      "480/480 [==============================] - 18s 38ms/step - loss: 1.9504 - accuracy: 0.5405 - auc: 0.75560s - loss: 1.9525 - accuracy: 0.5399 - a\n",
      "Epoch 9/15\n",
      "480/480 [==============================] - 18s 38ms/step - loss: 1.8864 - accuracy: 0.5591 - auc: 0.7714\n",
      "Epoch 10/15\n",
      "480/480 [==============================] - 18s 38ms/step - loss: 1.8053 - accuracy: 0.5875 - auc: 0.78763s - l\n",
      "Epoch 11/15\n",
      "480/480 [==============================] - 18s 38ms/step - loss: 1.7672 - accuracy: 0.5986 - auc: 0.79601s - l\n",
      "Epoch 12/15\n",
      "480/480 [==============================] - 18s 38ms/step - loss: 1.7208 - accuracy: 0.6167 - auc: 0.80610s - loss: 1.7246 - accuracy: 0.6154 - auc\n",
      "Epoch 13/15\n",
      "480/480 [==============================] - 18s 38ms/step - loss: 1.6700 - accuracy: 0.6311 - auc: 0.81703s - loss: 1.6717 - accuracy: 0.6311 - auc:  - ETA: 3s - l\n",
      "Epoch 14/15\n",
      "480/480 [==============================] - 18s 38ms/step - loss: 1.5958 - accuracy: 0.6567 - auc: 0.83341s -\n",
      "Epoch 15/15\n",
      "480/480 [==============================] - 18s 38ms/step - loss: 1.5527 - accuracy: 0.6739 - auc: 0.8403\n",
      "57/57 [==============================] - 1s 13ms/step - loss: 2.6567 - accuracy: 0.2511 - auc: 0.5936\n",
      "Epoch 1/15\n",
      "481/481 [==============================] - 19s 39ms/step - loss: 1.6956 - accuracy: 0.6346 - auc: 0.81780s - loss: 1.6961 - accuracy: 0.6345 -\n",
      "Epoch 2/15\n",
      "481/481 [==============================] - 18s 38ms/step - loss: 1.6059 - accuracy: 0.6619 - auc: 0.83320s - loss: 1.6081 - accuracy: \n",
      "Epoch 3/15\n",
      "481/481 [==============================] - 18s 38ms/step - loss: 1.5393 - accuracy: 0.6842 - auc: 0.8472\n",
      "Epoch 4/15\n",
      "481/481 [==============================] - 18s 37ms/step - loss: 1.5121 - accuracy: 0.6940 - auc: 0.8530: 13s - loss: 1.4 - ETA: 11s - loss: 1.5011 - accuracy: 0. - ETA: 9s - loss: 1.5034  - E - - ETA: 2s - los - ETA: 1s - loss: 1.5\n",
      "Epoch 5/15\n",
      "481/481 [==============================] - 18s 37ms/step - loss: 1.4504 - accuracy: 0.7112 - auc: 0.8655\n",
      "Epoch 6/15\n",
      "481/481 [==============================] - 18s 38ms/step - loss: 1.4218 - accuracy: 0.7200 - auc: 0.8699\n",
      "Epoch 7/15\n",
      "481/481 [==============================] - 18s 38ms/step - loss: 1.3951 - accuracy: 0.7302 - auc: 0.8762\n",
      "Epoch 8/15\n",
      "481/481 [==============================] - 18s 38ms/step - loss: 1.3496 - accuracy: 0.7461 - auc: 0.8852\n",
      "Epoch 9/15\n",
      "481/481 [==============================] - 18s 37ms/step - loss: 1.3368 - accuracy: 0.7520 - auc: 0.88701s - loss: 1.3386 - \n",
      "Epoch 10/15\n",
      "481/481 [==============================] - 18s 37ms/step - loss: 1.2883 - accuracy: 0.7696 - auc: 0.8973\n",
      "Epoch 11/15\n",
      "481/481 [==============================] - 18s 38ms/step - loss: 1.2652 - accuracy: 0.7774 - auc: 0.9009\n",
      "Epoch 12/15\n",
      "481/481 [==============================] - 18s 37ms/step - loss: 1.2394 - accuracy: 0.7908 - auc: 0.90727s - loss: 1.2435 - accuracy: 0.7947 - auc: 0. - ETA: 6s - loss: 1.2450 - accura\n",
      "Epoch 13/15\n",
      "481/481 [==============================] - 18s 38ms/step - loss: 1.1997 - accuracy: 0.8040 - auc: 0.91371s - los\n",
      "Epoch 14/15\n",
      "481/481 [==============================] - 18s 37ms/step - loss: 1.1838 - accuracy: 0.8071 - auc: 0.91681s -\n",
      "Epoch 15/15\n",
      "481/481 [==============================] - 18s 37ms/step - loss: 1.1688 - accuracy: 0.8160 - auc: 0.91941s - loss: 1.1716 \n",
      "56/56 [==============================] - 1s 15ms/step - loss: 1.7525 - accuracy: 0.5708 - auc: 0.7833\n",
      "Epoch 1/15\n"
     ]
    },
    {
     "ename": "ResourceExhaustedError",
     "evalue": "2 root error(s) found.\n  (0) Resource exhausted:  OOM when allocating tensor with shape[32,64,196,196] and type float on /job:localhost/replica:0/task:0/device:GPU:0 by allocator GPU_0_bfc\n\t [[node sequential/batch_normalization/FusedBatchNormV3 (defined at <ipython-input-7-450618c6cc0c>:34) ]]\nHint: If you want to see a list of allocated tensors when OOM happens, add report_tensor_allocations_upon_oom to RunOptions for current allocation info. This isn't available when running in Eager mode.\n\n\t [[assert_less_equal/Assert/AssertGuard/pivot_f/_13/_41]]\nHint: If you want to see a list of allocated tensors when OOM happens, add report_tensor_allocations_upon_oom to RunOptions for current allocation info. This isn't available when running in Eager mode.\n\n  (1) Resource exhausted:  OOM when allocating tensor with shape[32,64,196,196] and type float on /job:localhost/replica:0/task:0/device:GPU:0 by allocator GPU_0_bfc\n\t [[node sequential/batch_normalization/FusedBatchNormV3 (defined at <ipython-input-7-450618c6cc0c>:34) ]]\nHint: If you want to see a list of allocated tensors when OOM happens, add report_tensor_allocations_upon_oom to RunOptions for current allocation info. This isn't available when running in Eager mode.\n\n0 successful operations.\n0 derived errors ignored. [Op:__inference_train_function_48803]\n\nFunction call stack:\ntrain_function -> train_function\n",
     "output_type": "error",
     "traceback": [
      "\u001b[1;31m---------------------------------------------------------------------------\u001b[0m",
      "\u001b[1;31mResourceExhaustedError\u001b[0m                    Traceback (most recent call last)",
      "\u001b[1;32m<ipython-input-7-450618c6cc0c>\u001b[0m in \u001b[0;36m<module>\u001b[1;34m\u001b[0m\n\u001b[0;32m     32\u001b[0m               \u001b[0moptimizer\u001b[0m\u001b[1;33m=\u001b[0m\u001b[0mkeras\u001b[0m\u001b[1;33m.\u001b[0m\u001b[0moptimizers\u001b[0m\u001b[1;33m.\u001b[0m\u001b[0mAdadelta\u001b[0m\u001b[1;33m(\u001b[0m\u001b[1;33m)\u001b[0m\u001b[1;33m,\u001b[0m\u001b[1;33m\u001b[0m\u001b[1;33m\u001b[0m\u001b[0m\n\u001b[0;32m     33\u001b[0m               metrics=['accuracy','AUC'])\n\u001b[1;32m---> 34\u001b[1;33m     \u001b[0mhistory\u001b[0m \u001b[1;33m=\u001b[0m \u001b[0mmodel\u001b[0m\u001b[1;33m.\u001b[0m\u001b[0mfit\u001b[0m\u001b[1;33m(\u001b[0m\u001b[0mtrain_images_array\u001b[0m\u001b[1;33m,\u001b[0m \u001b[0mtrain_label_enc\u001b[0m\u001b[1;33m,\u001b[0m \u001b[0mbatch_size\u001b[0m\u001b[1;33m=\u001b[0m\u001b[1;36m32\u001b[0m\u001b[1;33m,\u001b[0m \u001b[0mepochs\u001b[0m\u001b[1;33m=\u001b[0m\u001b[1;36m15\u001b[0m\u001b[1;33m,\u001b[0m \u001b[0mverbose\u001b[0m\u001b[1;33m=\u001b[0m\u001b[1;36m1\u001b[0m\u001b[1;33m,\u001b[0m\u001b[0mshuffle\u001b[0m\u001b[1;33m=\u001b[0m\u001b[1;32mTrue\u001b[0m\u001b[1;33m)\u001b[0m\u001b[1;33m\u001b[0m\u001b[1;33m\u001b[0m\u001b[0m\n\u001b[0m\u001b[0;32m     35\u001b[0m     \u001b[0mhist\u001b[0m\u001b[1;33m.\u001b[0m\u001b[0mappend\u001b[0m\u001b[1;33m(\u001b[0m\u001b[0mhistory\u001b[0m\u001b[1;33m)\u001b[0m\u001b[1;33m\u001b[0m\u001b[1;33m\u001b[0m\u001b[0m\n\u001b[0;32m     36\u001b[0m     \u001b[0mtest_score\u001b[0m \u001b[1;33m=\u001b[0m \u001b[0mmodel\u001b[0m\u001b[1;33m.\u001b[0m\u001b[0mevaluate\u001b[0m\u001b[1;33m(\u001b[0m\u001b[0mtest_images_array\u001b[0m\u001b[1;33m,\u001b[0m \u001b[0mtest_label_enc\u001b[0m\u001b[1;33m,\u001b[0m \u001b[0mbatch_size\u001b[0m\u001b[1;33m=\u001b[0m\u001b[1;36m32\u001b[0m\u001b[1;33m,\u001b[0m \u001b[0mverbose\u001b[0m \u001b[1;33m=\u001b[0m \u001b[1;36m1\u001b[0m\u001b[1;33m)\u001b[0m\u001b[1;33m\u001b[0m\u001b[1;33m\u001b[0m\u001b[0m\n",
      "\u001b[1;32m~\\AppData\\Roaming\\Python\\Python38\\site-packages\\keras\\engine\\training.py\u001b[0m in \u001b[0;36mfit\u001b[1;34m(self, x, y, batch_size, epochs, verbose, callbacks, validation_split, validation_data, shuffle, class_weight, sample_weight, initial_epoch, steps_per_epoch, validation_steps, validation_batch_size, validation_freq, max_queue_size, workers, use_multiprocessing)\u001b[0m\n\u001b[0;32m   1182\u001b[0m                 _r=1):\n\u001b[0;32m   1183\u001b[0m               \u001b[0mcallbacks\u001b[0m\u001b[1;33m.\u001b[0m\u001b[0mon_train_batch_begin\u001b[0m\u001b[1;33m(\u001b[0m\u001b[0mstep\u001b[0m\u001b[1;33m)\u001b[0m\u001b[1;33m\u001b[0m\u001b[1;33m\u001b[0m\u001b[0m\n\u001b[1;32m-> 1184\u001b[1;33m               \u001b[0mtmp_logs\u001b[0m \u001b[1;33m=\u001b[0m \u001b[0mself\u001b[0m\u001b[1;33m.\u001b[0m\u001b[0mtrain_function\u001b[0m\u001b[1;33m(\u001b[0m\u001b[0miterator\u001b[0m\u001b[1;33m)\u001b[0m\u001b[1;33m\u001b[0m\u001b[1;33m\u001b[0m\u001b[0m\n\u001b[0m\u001b[0;32m   1185\u001b[0m               \u001b[1;32mif\u001b[0m \u001b[0mdata_handler\u001b[0m\u001b[1;33m.\u001b[0m\u001b[0mshould_sync\u001b[0m\u001b[1;33m:\u001b[0m\u001b[1;33m\u001b[0m\u001b[1;33m\u001b[0m\u001b[0m\n\u001b[0;32m   1186\u001b[0m                 \u001b[0mcontext\u001b[0m\u001b[1;33m.\u001b[0m\u001b[0masync_wait\u001b[0m\u001b[1;33m(\u001b[0m\u001b[1;33m)\u001b[0m\u001b[1;33m\u001b[0m\u001b[1;33m\u001b[0m\u001b[0m\n",
      "\u001b[1;32m~\\AppData\\Roaming\\Python\\Python38\\site-packages\\tensorflow\\python\\eager\\def_function.py\u001b[0m in \u001b[0;36m__call__\u001b[1;34m(self, *args, **kwds)\u001b[0m\n\u001b[0;32m    883\u001b[0m \u001b[1;33m\u001b[0m\u001b[0m\n\u001b[0;32m    884\u001b[0m       \u001b[1;32mwith\u001b[0m \u001b[0mOptionalXlaContext\u001b[0m\u001b[1;33m(\u001b[0m\u001b[0mself\u001b[0m\u001b[1;33m.\u001b[0m\u001b[0m_jit_compile\u001b[0m\u001b[1;33m)\u001b[0m\u001b[1;33m:\u001b[0m\u001b[1;33m\u001b[0m\u001b[1;33m\u001b[0m\u001b[0m\n\u001b[1;32m--> 885\u001b[1;33m         \u001b[0mresult\u001b[0m \u001b[1;33m=\u001b[0m \u001b[0mself\u001b[0m\u001b[1;33m.\u001b[0m\u001b[0m_call\u001b[0m\u001b[1;33m(\u001b[0m\u001b[1;33m*\u001b[0m\u001b[0margs\u001b[0m\u001b[1;33m,\u001b[0m \u001b[1;33m**\u001b[0m\u001b[0mkwds\u001b[0m\u001b[1;33m)\u001b[0m\u001b[1;33m\u001b[0m\u001b[1;33m\u001b[0m\u001b[0m\n\u001b[0m\u001b[0;32m    886\u001b[0m \u001b[1;33m\u001b[0m\u001b[0m\n\u001b[0;32m    887\u001b[0m       \u001b[0mnew_tracing_count\u001b[0m \u001b[1;33m=\u001b[0m \u001b[0mself\u001b[0m\u001b[1;33m.\u001b[0m\u001b[0mexperimental_get_tracing_count\u001b[0m\u001b[1;33m(\u001b[0m\u001b[1;33m)\u001b[0m\u001b[1;33m\u001b[0m\u001b[1;33m\u001b[0m\u001b[0m\n",
      "\u001b[1;32m~\\AppData\\Roaming\\Python\\Python38\\site-packages\\tensorflow\\python\\eager\\def_function.py\u001b[0m in \u001b[0;36m_call\u001b[1;34m(self, *args, **kwds)\u001b[0m\n\u001b[0;32m    948\u001b[0m         \u001b[1;31m# Lifting succeeded, so variables are initialized and we can run the\u001b[0m\u001b[1;33m\u001b[0m\u001b[1;33m\u001b[0m\u001b[1;33m\u001b[0m\u001b[0m\n\u001b[0;32m    949\u001b[0m         \u001b[1;31m# stateless function.\u001b[0m\u001b[1;33m\u001b[0m\u001b[1;33m\u001b[0m\u001b[1;33m\u001b[0m\u001b[0m\n\u001b[1;32m--> 950\u001b[1;33m         \u001b[1;32mreturn\u001b[0m \u001b[0mself\u001b[0m\u001b[1;33m.\u001b[0m\u001b[0m_stateless_fn\u001b[0m\u001b[1;33m(\u001b[0m\u001b[1;33m*\u001b[0m\u001b[0margs\u001b[0m\u001b[1;33m,\u001b[0m \u001b[1;33m**\u001b[0m\u001b[0mkwds\u001b[0m\u001b[1;33m)\u001b[0m\u001b[1;33m\u001b[0m\u001b[1;33m\u001b[0m\u001b[0m\n\u001b[0m\u001b[0;32m    951\u001b[0m     \u001b[1;32melse\u001b[0m\u001b[1;33m:\u001b[0m\u001b[1;33m\u001b[0m\u001b[1;33m\u001b[0m\u001b[0m\n\u001b[0;32m    952\u001b[0m       \u001b[0m_\u001b[0m\u001b[1;33m,\u001b[0m \u001b[0m_\u001b[0m\u001b[1;33m,\u001b[0m \u001b[0m_\u001b[0m\u001b[1;33m,\u001b[0m \u001b[0mfiltered_flat_args\u001b[0m \u001b[1;33m=\u001b[0m\u001b[0;31m \u001b[0m\u001b[0;31m\\\u001b[0m\u001b[1;33m\u001b[0m\u001b[1;33m\u001b[0m\u001b[0m\n",
      "\u001b[1;32m~\\AppData\\Roaming\\Python\\Python38\\site-packages\\tensorflow\\python\\eager\\function.py\u001b[0m in \u001b[0;36m__call__\u001b[1;34m(self, *args, **kwargs)\u001b[0m\n\u001b[0;32m   3037\u001b[0m       (graph_function,\n\u001b[0;32m   3038\u001b[0m        filtered_flat_args) = self._maybe_define_function(args, kwargs)\n\u001b[1;32m-> 3039\u001b[1;33m     return graph_function._call_flat(\n\u001b[0m\u001b[0;32m   3040\u001b[0m         filtered_flat_args, captured_inputs=graph_function.captured_inputs)  # pylint: disable=protected-access\n\u001b[0;32m   3041\u001b[0m \u001b[1;33m\u001b[0m\u001b[0m\n",
      "\u001b[1;32m~\\AppData\\Roaming\\Python\\Python38\\site-packages\\tensorflow\\python\\eager\\function.py\u001b[0m in \u001b[0;36m_call_flat\u001b[1;34m(self, args, captured_inputs, cancellation_manager)\u001b[0m\n\u001b[0;32m   1961\u001b[0m         and executing_eagerly):\n\u001b[0;32m   1962\u001b[0m       \u001b[1;31m# No tape is watching; skip to running the function.\u001b[0m\u001b[1;33m\u001b[0m\u001b[1;33m\u001b[0m\u001b[1;33m\u001b[0m\u001b[0m\n\u001b[1;32m-> 1963\u001b[1;33m       return self._build_call_outputs(self._inference_function.call(\n\u001b[0m\u001b[0;32m   1964\u001b[0m           ctx, args, cancellation_manager=cancellation_manager))\n\u001b[0;32m   1965\u001b[0m     forward_backward = self._select_forward_and_backward_functions(\n",
      "\u001b[1;32m~\\AppData\\Roaming\\Python\\Python38\\site-packages\\tensorflow\\python\\eager\\function.py\u001b[0m in \u001b[0;36mcall\u001b[1;34m(self, ctx, args, cancellation_manager)\u001b[0m\n\u001b[0;32m    589\u001b[0m       \u001b[1;32mwith\u001b[0m \u001b[0m_InterpolateFunctionError\u001b[0m\u001b[1;33m(\u001b[0m\u001b[0mself\u001b[0m\u001b[1;33m)\u001b[0m\u001b[1;33m:\u001b[0m\u001b[1;33m\u001b[0m\u001b[1;33m\u001b[0m\u001b[0m\n\u001b[0;32m    590\u001b[0m         \u001b[1;32mif\u001b[0m \u001b[0mcancellation_manager\u001b[0m \u001b[1;32mis\u001b[0m \u001b[1;32mNone\u001b[0m\u001b[1;33m:\u001b[0m\u001b[1;33m\u001b[0m\u001b[1;33m\u001b[0m\u001b[0m\n\u001b[1;32m--> 591\u001b[1;33m           outputs = execute.execute(\n\u001b[0m\u001b[0;32m    592\u001b[0m               \u001b[0mstr\u001b[0m\u001b[1;33m(\u001b[0m\u001b[0mself\u001b[0m\u001b[1;33m.\u001b[0m\u001b[0msignature\u001b[0m\u001b[1;33m.\u001b[0m\u001b[0mname\u001b[0m\u001b[1;33m)\u001b[0m\u001b[1;33m,\u001b[0m\u001b[1;33m\u001b[0m\u001b[1;33m\u001b[0m\u001b[0m\n\u001b[0;32m    593\u001b[0m               \u001b[0mnum_outputs\u001b[0m\u001b[1;33m=\u001b[0m\u001b[0mself\u001b[0m\u001b[1;33m.\u001b[0m\u001b[0m_num_outputs\u001b[0m\u001b[1;33m,\u001b[0m\u001b[1;33m\u001b[0m\u001b[1;33m\u001b[0m\u001b[0m\n",
      "\u001b[1;32m~\\AppData\\Roaming\\Python\\Python38\\site-packages\\tensorflow\\python\\eager\\execute.py\u001b[0m in \u001b[0;36mquick_execute\u001b[1;34m(op_name, num_outputs, inputs, attrs, ctx, name)\u001b[0m\n\u001b[0;32m     57\u001b[0m   \u001b[1;32mtry\u001b[0m\u001b[1;33m:\u001b[0m\u001b[1;33m\u001b[0m\u001b[1;33m\u001b[0m\u001b[0m\n\u001b[0;32m     58\u001b[0m     \u001b[0mctx\u001b[0m\u001b[1;33m.\u001b[0m\u001b[0mensure_initialized\u001b[0m\u001b[1;33m(\u001b[0m\u001b[1;33m)\u001b[0m\u001b[1;33m\u001b[0m\u001b[1;33m\u001b[0m\u001b[0m\n\u001b[1;32m---> 59\u001b[1;33m     tensors = pywrap_tfe.TFE_Py_Execute(ctx._handle, device_name, op_name,\n\u001b[0m\u001b[0;32m     60\u001b[0m                                         inputs, attrs, num_outputs)\n\u001b[0;32m     61\u001b[0m   \u001b[1;32mexcept\u001b[0m \u001b[0mcore\u001b[0m\u001b[1;33m.\u001b[0m\u001b[0m_NotOkStatusException\u001b[0m \u001b[1;32mas\u001b[0m \u001b[0me\u001b[0m\u001b[1;33m:\u001b[0m\u001b[1;33m\u001b[0m\u001b[1;33m\u001b[0m\u001b[0m\n",
      "\u001b[1;31mResourceExhaustedError\u001b[0m: 2 root error(s) found.\n  (0) Resource exhausted:  OOM when allocating tensor with shape[32,64,196,196] and type float on /job:localhost/replica:0/task:0/device:GPU:0 by allocator GPU_0_bfc\n\t [[node sequential/batch_normalization/FusedBatchNormV3 (defined at <ipython-input-7-450618c6cc0c>:34) ]]\nHint: If you want to see a list of allocated tensors when OOM happens, add report_tensor_allocations_upon_oom to RunOptions for current allocation info. This isn't available when running in Eager mode.\n\n\t [[assert_less_equal/Assert/AssertGuard/pivot_f/_13/_41]]\nHint: If you want to see a list of allocated tensors when OOM happens, add report_tensor_allocations_upon_oom to RunOptions for current allocation info. This isn't available when running in Eager mode.\n\n  (1) Resource exhausted:  OOM when allocating tensor with shape[32,64,196,196] and type float on /job:localhost/replica:0/task:0/device:GPU:0 by allocator GPU_0_bfc\n\t [[node sequential/batch_normalization/FusedBatchNormV3 (defined at <ipython-input-7-450618c6cc0c>:34) ]]\nHint: If you want to see a list of allocated tensors when OOM happens, add report_tensor_allocations_upon_oom to RunOptions for current allocation info. This isn't available when running in Eager mode.\n\n0 successful operations.\n0 derived errors ignored. [Op:__inference_train_function_48803]\n\nFunction call stack:\ntrain_function -> train_function\n"
     ]
    }
   ],
   "source": [
    "images_ = all_image\n",
    "labels_ = all_label\n",
    "hist = []\n",
    "test_score_l = []\n",
    "for j, (train_idx, test_idx) in enumerate(folds.split(images_, labels_)):\n",
    "    X_train = np.array(images_)[train_idx]\n",
    "    y_train = np.array(labels_)[train_idx]\n",
    "    X_test = np.array(images_)[test_idx]\n",
    "    y_test = np.array(labels_)[test_idx]\n",
    "    \n",
    "    train_image = import_maps(X_train,y_train)\n",
    "    test_image = import_maps(X_test,y_test)\n",
    "    \n",
    "    train_images_all = [i[0] for i in train_image]\n",
    "    train_images_array = np.array(train_images_all)\n",
    "    #train_images_array=np.expand_dims(train_images_array,axis=3)\n",
    "    train_image_label = [i[1] for i in train_image]\n",
    "    train_image_label = np.array(train_image_label)\n",
    "    \n",
    "    test_images_all = [i[0] for i in test_image]\n",
    "    test_images_array = np.array(test_images_all)\n",
    "    #test_images_array=np.expand_dims(test_images_array,axis=3)\n",
    "    test_image_label = [i[1] for i in test_image]\n",
    "    test_image_label = np.array(test_image_label)\n",
    "    \n",
    "    enc = OneHotEncoder(handle_unknown='ignore')\n",
    "    train_label_enc = enc.fit_transform(train_image_label.reshape(-1, 1)).toarray()\n",
    "    #val_label_enc = enc.fit_transform(val_y.reshape(-1, 1)).toarray()\n",
    "    test_label_enc = enc.fit_transform(test_image_label.reshape(-1, 1)).toarray()\n",
    "    \n",
    "    model.compile(loss=keras.losses.categorical_crossentropy,\n",
    "              optimizer=keras.optimizers.Adadelta(),\n",
    "              metrics=['accuracy','AUC'])\n",
    "    history = model.fit(train_images_array, train_label_enc, batch_size=32, epochs=15, verbose=1,shuffle=True)\n",
    "    hist.append(history)\n",
    "    test_score = model.evaluate(test_images_array, test_label_enc, batch_size=32, verbose = 1)\n",
    "    test_score_l.append(test_score)\n",
    "    tf.keras.backend.clear_session()"
   ]
  },
  {
   "cell_type": "code",
   "execution_count": 13,
   "id": "acc51479",
   "metadata": {},
   "outputs": [
    {
     "data": {
      "text/plain": [
       "[<matplotlib.lines.Line2D at 0x2a7f472f0d0>,\n",
       " <matplotlib.lines.Line2D at 0x2a7f472f190>,\n",
       " <matplotlib.lines.Line2D at 0x2a7f472f250>]"
      ]
     },
     "execution_count": 13,
     "metadata": {},
     "output_type": "execute_result"
    },
    {
     "data": {
      "image/png": "[encoded data removed]",
      "text/plain": [
       "<Figure size 432x288 with 1 Axes>"
      ]
     },
     "metadata": {
      "needs_background": "light"
     },
     "output_type": "display_data"
    }
   ],
   "source": [
    "plt.plot(test_score_l)"
   ]
  },
  {
   "cell_type": "code",
   "execution_count": 14,
   "id": "cd6d7eaf",
   "metadata": {},
   "outputs": [
    {
     "data": {
      "text/plain": [
       "[[2.6566829681396484, 0.25111111998558044, 0.5936233401298523],\n",
       " [1.7525477409362793, 0.5707865357398987, 0.7832502126693726]]"
      ]
     },
     "execution_count": 14,
     "metadata": {},
     "output_type": "execute_result"
    }
   ],
   "source": [
    "test_score_l"
   ]
  },
  {
   "cell_type": "code",
   "execution_count": null,
   "id": "67cc7f00",
   "metadata": {},
   "outputs": [],
   "source": []
  }
 ],
 "metadata": {
  "kernelspec": {
   "display_name": "Python 3",
   "language": "python",
   "name": "python3"
  },
  "language_info": {
   "codemirror_mode": {
    "name": "ipython",
    "version": 3
   },
   "file_extension": ".py",
   "mimetype": "text/x-python",
   "name": "python",
   "nbconvert_exporter": "python",
   "pygments_lexer": "ipython3",
   "version": "3.8.8"
  }
 },
 "nbformat": 4,
 "nbformat_minor": 5
}

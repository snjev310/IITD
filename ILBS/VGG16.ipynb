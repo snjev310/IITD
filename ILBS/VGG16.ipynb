{
 "cells": [
  {
   "cell_type": "code",
   "execution_count": 1,
   "id": "89563b65",
   "metadata": {},
   "outputs": [],
   "source": [
    "import pandas as pd\n",
    "import numpy as np\n",
    "import matplotlib.pyplot as plt\n",
    "import os\n",
    "import glob\n",
    "import cv2\n",
    "from sklearn.model_selection import train_test_split\n",
    "from tensorflow.keras import layers\n",
    "from tensorflow.keras.models import Sequential\n",
    "from tensorflow.keras.layers import Dense, Flatten, Conv2D, MaxPooling2D, Dropout, BatchNormalization, MaxPool2D\n",
    "from IPython.display import Image, display\n",
    "import matplotlib.pyplot as plt\n",
    "import matplotlib.cm as cm\n",
    "import tensorflow as tf\n",
    "from tensorflow import keras\n",
    "from sklearn.preprocessing import OneHotEncoder, StandardScaler"
   ]
  },
  {
   "cell_type": "code",
   "execution_count": 2,
   "id": "4da13096",
   "metadata": {},
   "outputs": [
    {
     "data": {
      "text/plain": [
       "1"
      ]
     },
     "execution_count": 2,
     "metadata": {},
     "output_type": "execute_result"
    }
   ],
   "source": [
    "len(tf.config.list_physical_devices('GPU'))"
   ]
  },
  {
   "cell_type": "code",
   "execution_count": 3,
   "id": "2a91c644",
   "metadata": {},
   "outputs": [],
   "source": [
    "def import_maps(path):\n",
    "    images = []\n",
    "    for index, name in enumerate(os.listdir(path)):\n",
    "        folder = os.path.join(path, name)\n",
    "        for file_class in os.listdir(folder):\n",
    "            im_folder = os.path.join(folder, file_class)\n",
    "            for im in os.listdir(im_folder):\n",
    "                img = cv2.imread(os.path.join(im_folder, im))\n",
    "                #print(img.shape)\n",
    "                if img is not None:\n",
    "                    img = cv2.cvtColor(img, cv2.COLOR_RGB2GRAY)\n",
    "                    img1 = cv2.resize(img, (112, 112))\n",
    "                    img = np.dstack((img1,img1,img1))\n",
    "                if img is not None:\n",
    "               #     img = (img-np.mean(img))/np.std(img)\n",
    "                    images.append((np.array(img), index)) \n",
    "    return images"
   ]
  },
  {
   "cell_type": "code",
   "execution_count": 4,
   "id": "3f626b41",
   "metadata": {},
   "outputs": [],
   "source": [
    "image_train_set = import_maps(r'C:\\Users\\AIIMS-IITD\\Desktop\\Sanjeev\\4_class_cluster_volume\\Train')\n",
    "image_test_set = import_maps(r'C:\\Users\\AIIMS-IITD\\Desktop\\Sanjeev\\4_class_cluster_volume\\Test')"
   ]
  },
  {
   "cell_type": "code",
   "execution_count": 5,
   "id": "ac8a304d",
   "metadata": {},
   "outputs": [],
   "source": [
    "train_images_all = [i[0] for i in image_train_set]\n",
    "train_images_array = np.array(train_images_all)\n",
    "#train_images_array=np.expand_dims(train_images_array,axis=3)\n",
    "train_image_label = [i[1] for i in image_train_set]\n",
    "train_image_label = np.array(train_image_label)"
   ]
  },
  {
   "cell_type": "code",
   "execution_count": 6,
   "id": "2c2b36c0",
   "metadata": {},
   "outputs": [],
   "source": [
    "test_images_all = [i[0] for i in image_test_set]\n",
    "test_images_array = np.array(test_images_all)\n",
    "#test_images_array=np.expand_dims(test_images_array,axis=3)\n",
    "test_image_label = [i[1] for i in image_test_set]\n",
    "test_image_label = np.array(test_image_label)"
   ]
  },
  {
   "cell_type": "code",
   "execution_count": 7,
   "id": "5ee27fc8",
   "metadata": {},
   "outputs": [],
   "source": [
    "scalar = StandardScaler(copy=False)\n",
    "train_images = scalar.fit_transform(train_images_array.reshape(len(train_images_array), 112*112*3))\n",
    "train_images_array = train_images.reshape(len(train_images_array), 112,112, 3)"
   ]
  },
  {
   "cell_type": "code",
   "execution_count": 8,
   "id": "09530581",
   "metadata": {},
   "outputs": [],
   "source": [
    "train_x, val_x, train_y, val_y = train_test_split(train_images_array,train_image_label,test_size=0.2)"
   ]
  },
  {
   "cell_type": "code",
   "execution_count": 9,
   "id": "6e062f41",
   "metadata": {},
   "outputs": [],
   "source": [
    "enc = OneHotEncoder(handle_unknown='ignore')\n",
    "train_label_enc = enc.fit_transform(train_y.reshape(-1, 1)).toarray()\n",
    "val_label_enc = enc.fit_transform(val_y.reshape(-1, 1)).toarray()\n",
    "test_label_enc = enc.fit_transform(test_image_label.reshape(-1, 1)).toarray()"
   ]
  },
  {
   "cell_type": "code",
   "execution_count": 10,
   "id": "e1384fce",
   "metadata": {},
   "outputs": [
    {
     "data": {
      "text/plain": [
       "(2160, 4)"
      ]
     },
     "execution_count": 10,
     "metadata": {},
     "output_type": "execute_result"
    }
   ],
   "source": [
    "test_label_enc.shape"
   ]
  },
  {
   "cell_type": "code",
   "execution_count": null,
   "id": "3cffca04",
   "metadata": {},
   "outputs": [],
   "source": []
  },
  {
   "cell_type": "code",
   "execution_count": 10,
   "id": "c8f98b68",
   "metadata": {},
   "outputs": [],
   "source": [
    "#model.compile(loss=keras.losses.categorical_crossentropy,optimizer = keras.optimizers.SGD(0.001),metrics=['accuracy','auc'])"
   ]
  },
  {
   "cell_type": "code",
   "execution_count": 11,
   "id": "a8c92943",
   "metadata": {},
   "outputs": [],
   "source": [
    "#history = model.fit(train_x,train_label_enc,validation_data=(val_x,val_label_enc), batch_size=32, epochs=6, verbose=1,shuffle=True)"
   ]
  },
  {
   "cell_type": "markdown",
   "id": "ef7b32ed",
   "metadata": {},
   "source": [
    "# VGG Pretrained"
   ]
  },
  {
   "cell_type": "code",
   "execution_count": 11,
   "id": "8f1454c5",
   "metadata": {},
   "outputs": [],
   "source": [
    "from keras.applications.vgg16 import VGG16\n"
   ]
  },
  {
   "cell_type": "code",
   "execution_count": 12,
   "id": "c51f4090",
   "metadata": {},
   "outputs": [
    {
     "name": "stdout",
     "output_type": "stream",
     "text": [
      "Model: \"vgg16\"\n",
      "_________________________________________________________________\n",
      "Layer (type)                 Output Shape              Param #   \n",
      "=================================================================\n",
      "input_1 (InputLayer)         [(None, 224, 224, 3)]     0         \n",
      "_________________________________________________________________\n",
      "block1_conv1 (Conv2D)        (None, 224, 224, 64)      1792      \n",
      "_________________________________________________________________\n",
      "block1_conv2 (Conv2D)        (None, 224, 224, 64)      36928     \n",
      "_________________________________________________________________\n",
      "block1_pool (MaxPooling2D)   (None, 112, 112, 64)      0         \n",
      "_________________________________________________________________\n",
      "block2_conv1 (Conv2D)        (None, 112, 112, 128)     73856     \n",
      "_________________________________________________________________\n",
      "block2_conv2 (Conv2D)        (None, 112, 112, 128)     147584    \n",
      "_________________________________________________________________\n",
      "block2_pool (MaxPooling2D)   (None, 56, 56, 128)       0         \n",
      "_________________________________________________________________\n",
      "block3_conv1 (Conv2D)        (None, 56, 56, 256)       295168    \n",
      "_________________________________________________________________\n",
      "block3_conv2 (Conv2D)        (None, 56, 56, 256)       590080    \n",
      "_________________________________________________________________\n",
      "block3_conv3 (Conv2D)        (None, 56, 56, 256)       590080    \n",
      "_________________________________________________________________\n",
      "block3_pool (MaxPooling2D)   (None, 28, 28, 256)       0         \n",
      "_________________________________________________________________\n",
      "block4_conv1 (Conv2D)        (None, 28, 28, 512)       1180160   \n",
      "_________________________________________________________________\n",
      "block4_conv2 (Conv2D)        (None, 28, 28, 512)       2359808   \n",
      "_________________________________________________________________\n",
      "block4_conv3 (Conv2D)        (None, 28, 28, 512)       2359808   \n",
      "_________________________________________________________________\n",
      "block4_pool (MaxPooling2D)   (None, 14, 14, 512)       0         \n",
      "_________________________________________________________________\n",
      "block5_conv1 (Conv2D)        (None, 14, 14, 512)       2359808   \n",
      "_________________________________________________________________\n",
      "block5_conv2 (Conv2D)        (None, 14, 14, 512)       2359808   \n",
      "_________________________________________________________________\n",
      "block5_conv3 (Conv2D)        (None, 14, 14, 512)       2359808   \n",
      "_________________________________________________________________\n",
      "block5_pool (MaxPooling2D)   (None, 7, 7, 512)         0         \n",
      "_________________________________________________________________\n",
      "flatten (Flatten)            (None, 25088)             0         \n",
      "_________________________________________________________________\n",
      "fc1 (Dense)                  (None, 4096)              102764544 \n",
      "_________________________________________________________________\n",
      "fc2 (Dense)                  (None, 4096)              16781312  \n",
      "_________________________________________________________________\n",
      "predictions (Dense)          (None, 1000)              4097000   \n",
      "=================================================================\n",
      "Total params: 138,357,544\n",
      "Trainable params: 138,357,544\n",
      "Non-trainable params: 0\n",
      "_________________________________________________________________\n",
      "None\n"
     ]
    }
   ],
   "source": [
    "model = VGG16()\n",
    "print(model.summary())"
   ]
  },
  {
   "cell_type": "code",
   "execution_count": 13,
   "id": "2d19220d",
   "metadata": {},
   "outputs": [],
   "source": [
    "from keras.layers import Flatten,Dropout,Dense,Activation,Input\n",
    "from keras.models import Model\n",
    "from tensorflow.keras import regularizers\n",
    "new_input = Input(shape=(224, 224, 1))\n",
    "model1 = VGG16(include_top = False, input_shape=(112,112,3))\n",
    "layer = model1.get_layer('block5_pool').output\n",
    "x = Flatten()(layer)\n",
    "x = Dropout(0.5)(x)\n",
    "x = Dense(128,activation = 'relu',kernel_regularizer=regularizers.l1_l2(l1=1e-5, l2=1e-4),\n",
    "    bias_regularizer=regularizers.l2(1e-4))(x)\n",
    "x = Dropout(0.25)(x)\n",
    "out = Dense(4,activation = 'softmax')(x)\n",
    "model = Model(model1.input,out)"
   ]
  },
  {
   "cell_type": "code",
   "execution_count": 14,
   "id": "1f54dfb1",
   "metadata": {},
   "outputs": [],
   "source": [
    "model.compile(loss=keras.losses.categorical_crossentropy,optimizer = keras.optimizers.SGD(0.001),metrics=['accuracy','AUC'])"
   ]
  },
  {
   "cell_type": "code",
   "execution_count": 15,
   "id": "2b76f5d9",
   "metadata": {
    "scrolled": true
   },
   "outputs": [
    {
     "name": "stdout",
     "output_type": "stream",
     "text": [
      "Epoch 1/20\n",
      "426/426 [==============================] - 166s 147ms/step - loss: 1.3186 - accuracy: 0.4547 - auc: 0.7339 - val_loss: 1.5285 - val_accuracy: 0.3525 - val_auc: 0.6888acy: 0.3 - ETA: 25s - loss: 1.5326 - accuracy: 0.34 - ETA: 24 - ETA: 20s - loss: 1.4625 - accurac - ETA: 19s - loss: 1.4436 - accuracy: 0.3825 - au - ETA: 18s - loss: 1.4382 - accuracy: 0. - ETA: 17s - loss: 1.4250 - accuracy: 0.3911 -  - ETA: 16s - loss: 1.4204 - accuracy: 0.3917 - auc: 0.676 - ETA - ETA: 13s - loss: 1.3966 - accuracy: 0.4069 - auc: - ETA: 12s - loss: 1.3934 - accuracy: 0.408 - ETA: 11s - loss: 1.3838 - accuracy: 0.4158 - ETA: 10s - loss: 1.3793 - accur - ETA: 9s - loss: 1.3714 -  - ETA: 8s - loss: 1.3 - ETA: 7s - loss: 1.3582 -  - ETA: 6s - loss: 1.3509 - accuracy: 0.4352 - - ETA: 5s - loss: 1.3478 - accuracy: 0.4370 - auc - ETA: 5s - loss: 1.3462 - accuracy: 0.4380 - auc:  - ETA: 5s - loss: 1.3 - ETA: 4s - loss: 1.3401 - accura - ETA: 3s - loss: 1 - ETA: 2s - loss: 1.3292 - accuracy: 0.4481 - auc: 0. - ETA: 2s - loss: 1.3280 - accuracy: 0.4489 - - ETA: 1s - loss: 1.3257 - accuracy: 0.4506 - ETA: 1s - loss: 1.3232 - accuracy: 0.45 - ETA: 0s - loss: 1.3209 - accuracy: \n",
      "Epoch 2/20\n",
      "426/426 [==============================] - 31s 72ms/step - loss: 0.9921 - accuracy: 0.6447 - auc: 0.8717 - val_loss: 0.8908 - val_accuracy: 0.6251 - val_auc: 0.8972 - loss: 1.2305 - accuracy - ETA: 26s - loss: 1.1798 - acc - ETA: 24s - loss: 1.1400 - accurac - ETA: 22s - loss: 1.1277 - accuracy: 0. - ETA: 21s - loss: 1.1197 - accuracy: 0.5720 - auc: 0 - ETA: 21s - loss: 1.1233 - accuracy: 0.56 - ETA: 20s - loss: 1.1140 - accuracy: 0.5754 - auc: 0. - ETA: 19s - loss: 1.1094 - accuracy: 0.5781 - auc - ETA: 19s - loss: 1.1039 - accuracy: 0.58 - ETA: 18s - loss: 1.1009 - accuracy: 0.5856 - - ETA: 17s - loss: 1.0986 - accuracy: 0.587 - ETA: 16s - loss: 1.0908 - accuracy: 0.59 - ETA: 15s - loss: 1.0804 - accuracy: 0.5977 - auc: 0.84 - ETA: 15s - loss: 1.0802 - accuracy: 0.5981 - au - ETA: 14s - loss: 1.0770 - accur - ETA: 12s - loss: 1.0616 - accuracy:  - ETA: 11s - loss: 1.0533 - accuracy: 0.6118 - auc:  - ETA: 11s - loss: 1.0531 - accuracy: 0.6117 - auc: 0.8 - ETA: 11s - loss: 1.0522 - accuracy: 0.6119 - auc: 0.851 - E - ETA: 8s - loss: 1.0388 - accuracy: 0.6187 - auc: 0.85 - ETA: 8s - loss: 1.0 - ETA: 7s - loss: 1.0311  - ETA: 6s - loss: 1.0288 - accuracy - ETA: 5s - loss: 1.0237 - accuracy - ETA: 2s - loss: 1.0075 - accuracy: 0.6383 - a - ETA: 2s - loss: 1.0047 - accuracy: 0.6395 - - - ETA: 0s - loss: 0.9934 - accuracy: 0.6440 - auc: \n",
      "Epoch 3/20\n",
      "426/426 [==============================] - 31s 72ms/step - loss: 0.6936 - accuracy: 0.7826 - auc: 0.9468 - val_loss: 2.4832 - val_accuracy: 0.4969 - val_auc: 0.7561: 0.8284 - accuracy: 0.7180 - a - ETA: 25s - loss: 0.8328 - accuracy: 0.7181 - auc: 0.9 - ETA: 25s - loss: 0.8351 - accuracy: 0.7176 - auc: 0.91 - ETA: 25s - loss: 0.8341 - ac - ETA: 23s - loss: 0.8218 - accu - ETA: 21s - loss: 0.8015 - ac - ETA: 19s - loss: 0.7975 - accuracy: 0.7375 - auc:  - ETA: 19s - loss: 0.7950 - accur - ETA: 17s - loss: 0.7840 - accuracy: 0.7440 -  - ETA: 16s - loss: 0.7750 - accuracy: 0.7488 - auc - ETA: 16s - loss: 0.7678 - accuracy - ETA: 14s - loss: 0.7661 - accuracy: 0.7501 - auc:  - ETA: 14s - loss: 0.7612 - accuracy: 0.7519 - auc: 0. - ETA: 13s - loss: 0.7593 - accuracy: 0.7521  - ETA: 13s - loss: 0.7566 - accuracy: 0.7534 - auc: 0 - ETA: 12s - loss: 0.7532 - accuracy: 0.7550 - auc: 0.9 - ETA: 12s - loss: 0.7531 - accuracy: 0.7548 - auc: 0 - ETA: 12s - loss: 0.7529 - accuracy: 0.7548 - au - ETA: 11s - loss - ETA: 7s - - ETA: 3s - loss: 0.7169 - accuracy: 0.7728 - auc: 0.94 - ETA: 3s - loss: 0.7 - ETA: 0s - loss: 0.6981 - accuracy: \n",
      "Epoch 4/20\n",
      "426/426 [==============================] - 31s 73ms/step - loss: 0.5167 - accuracy: 0.8570 - auc: 0.9755 - val_loss: 0.2958 - val_accuracy: 0.9353 - val_auc: 0.9952 auc: 0. - ETA: 23s  - ETA: 20s - loss: 0.7212 - accuracy: 0.7717 - auc: 0 - ETA: 19s - loss: 0.7167 - accuracy: 0.7735 - auc: 0.944 - ETA: 19s - loss: 0.7139 - accuracy: 0.775 - ETA: 18s - loss: 0.6881 - accur - ETA: 16s - loss: 0.6623 - accuracy: 0.7971 - auc:  - ETA: 16s - loss: 0.6543 - accuracy: 0.7997 - a - ETA: 15s - loss: 0.6417 - accurac - ETA: 14s - loss: 0.6197 - accuracy: 0.8137 - auc: 0. - ETA: 14s - loss: 0.6173 - accuracy: 0.8145 - au - ETA: 13s - loss: 0.6096 - accuracy: 0.8178 - - ETA: 12s - loss: 0.6016 - ac - ETA: 10s - loss: 0.5907 - accura - ETA: 9s - loss: 0.5785 - accuracy:  - ETA: 8s - loss: 0.5730 - accuracy: 0.8327 - auc:  - ETA: 8s - loss: 0.5717 - accuracy: 0.8331 - auc: 0.96 - ETA: 8s - loss: 0.5712 - accuracy: 0.8333 - ETA: 8s - loss: 0.5663 - accuracy: 0.8355 - ETA: 7s - los - ETA: 6s - loss: 0.5475 - accuracy: 0.8432 - auc - ETA: 6s - loss: 0.5473 - accuracy - ETA: 5s - l - ETA: 3s - loss: 0.5 - ETA: 2s - loss: 0.529 - ETA: 1s - loss: 0 - ETA: 0s - loss: 0.5171 - accuracy: 0.8566 - auc: 0.\n",
      "Epoch 5/20\n",
      "426/426 [==============================] - 31s 73ms/step - loss: 0.3362 - accuracy: 0.9312 - auc: 0.9924 - val_loss: 0.1944 - val_accuracy: 0.9794 - val_auc: 0.9996 loss: 0.3604 - accuracy: 0.9175 - au - ETA: 20s - loss: 0.3540 - accuracy: 0.9199  - ETA: 19s - loss: 0.3496 - accuracy: 0.9227  - ETA: 18s - loss: 0.3980 - accuracy: 0.9069 - auc: 0 - ETA: 18s - loss: 0.3992 - accuracy: 0.9070 - auc: 0.98 - ETA: 18s - loss: 0.3984 - accuracy: 0.9076 - auc: 0.987 - ETA: 17s - loss: 0.3976 - accuracy: 0.9080 - auc: 0.987 - ETA: 17s - loss: 0.3967 - accuracy: 0.9086 - auc: 0 - ETA: 17s - loss: 0.3949 - accuracy: 0.9093 - auc:  - ETA: 17s - loss: 0.3904 - accuracy: 0.9112 - auc:  - ETA: 16s - loss: 0.3873 - accuracy: 0.9122 -  - ETA: 16s - loss: 0.3794 - accuracy: 0.91 - ETA: 14s - loss: 0.3733 - accuracy: 0.9168 - auc: 0.9 - ETA: 14s - loss: 0.3724 - accuracy: 0.9172 - auc - ETA: 14s - loss: 0.3690 - accuracy: 0.9190 - auc: 0. - ETA: 13s - loss: 0.3686  - ETA: 11s - ETA: 7s - loss: 0.3 - ETA: 0s - loss: 0.3363 - accuracy: 0.9312 - auc: 0.\n",
      "Epoch 6/20\n",
      "426/426 [==============================] - 32s 75ms/step - loss: 0.2201 - accuracy: 0.9724 - auc: 0.9985 - val_loss: 0.1424 - val_accuracy: 0.9988 - val_auc: 1.0000 loss: 0.2169 - accuracy: 0.9727 - auc: 0.99 - ETA: 26s - loss: 0.2170 - accuracy: 0.9732 - - ETA: 25s - loss: 0.2211 - accuracy: 0.9703 - auc: 0.99 - ETA: 25s - loss: 0.2209 - accurac - ETA: 23s - loss: 0.2241 - accuracy: 0.967 - ETA: 22s - loss: 0.2225 - accuracy: - ETA: 20s - loss: 0.2215 - accu - ETA: 19s - loss: 0.2233 - accuracy: 0.9685 - au - ETA: 18s - loss: 0.2212 - accuracy: 0.9695 -  - ETA: 7s - loss: 0.2278 - accuracy: 0.9694 - a - ETA: 7s - loss: 0.2288 - accuracy: 0.9693 - - ETA: 5s - loss: 0.2261 - accu - ETA: 4s - loss: 0.2250 - accu - ETA: 3s - loss: 0.2234 - accuracy - ETA: 0s - loss: 0.2200 - accuracy: 0.9724 - auc:  - ETA: 0s - loss: 0.2201 - accuracy: 0.9724 - auc: 0.99 - ETA: 0s - loss: 0.2202 - accuracy: 0.9723 - auc: 0.\n",
      "Epoch 7/20\n",
      "426/426 [==============================] - 32s 75ms/step - loss: 0.2439 - accuracy: 0.9646 - auc: 0.9974 - val_loss: 4.2474 - val_accuracy: 0.4493 - val_auc: 0.7049 - accuracy: 0.9 - ETA: 23s - loss: 0.3045 - accuracy: 0.9479 - auc: 0.993 - ETA: 23s - loss: 0.3061 - accuracy: 0.9478 - auc: - ETA: 22s - loss: 0.3182 - accuracy: 0.9426 - ETA: 21s - loss: 0.3358 - accuracy: 0. - ETA: 20s - loss: 0.33 - ETA: 18s - loss: 0.3133 - accuracy: 0.9430 - auc: 0.99 - ETA: 17s  - ETA: 14s - loss: 0.2891 - accuracy: 0.9501 - auc: 0 - ETA: 14s - loss: 0.2865 - accuracy: 0.9511 -  - ETA: 13s - loss: 0.2823 - a - ETA: 11s - loss: 0.2740 - accuracy: 0.9 - ETA: 10s - loss: 0.2672 - accuracy: 0.9574 - - ETA: 9s - loss: 0.2652 -  - ETA: 4s - loss: 0.2494 - accuracy: 0. - ETA: 3s - loss: 0.2484 - accuracy: 0. - ETA: 3s - loss: 0.2507 - accuracy: 0.9622 - - ETA: 2s - loss: 0.2496 - accuracy: 0. - ETA: 2s - los - ETA: 0s - loss: 0.2454 - accuracy: \n",
      "Epoch 8/20\n"
     ]
    },
    {
     "name": "stdout",
     "output_type": "stream",
     "text": [
      "426/426 [==============================] - 32s 74ms/step - loss: 0.2130 - accuracy: 0.9781 - auc: 0.9982 - val_loss: 0.1353 - val_accuracy: 0.9991 - val_auc: 1.0000 0.6386 - accuracy: 0.8594 - a - ETA: 26s - loss: 0.5394  - ETA: 24s - loss: 0.3908 - accuracy: 0.9297 - auc: 0. - ETA: 23 - ETA: 20s - loss: 0.3025 - accuracy: 0.9 - ETA: 19s - loss: 0.2865 - accuracy: 0.9581 -  - ETA: 18s - loss: 0.2781 - accuracy: 0.9606 - auc: 0. - ETA: 18s - loss: 0.2747 - accuracy: 0.9616 - auc: 0. - ET - ETA: 14s - loss: 0.2460 - accur - ETA: 12s - loss: 0.2370 - accuracy: 0.9714 - auc: 0. - ETA: 12s - loss: 0.2355 - a\n",
      "Epoch 9/20\n",
      "426/426 [==============================] - 32s 74ms/step - loss: 0.1518 - accuracy: 0.9940 - auc: 0.9999 - val_loss: 0.1317 - val_accuracy: 1.0000 - val_auc: 1.0000509 - accuracy: 0.9935 - auc: - ETA: 27s - loss: 0.1501 - accuracy - ETA: 25s - loss: 0.1488 - accuracy: 0.9947 - auc: - ETA: 25s - loss: 0.1506 - accuracy: 0.9937 - auc: 1. - ETA: 24s - loss: 0.1523 - accuracy: 0.9932 - auc: - ETA: 24s - loss: 0.1514 - accuracy: 0.9934 - auc:  - ETA: 23s - loss: 0.1511 - accuracy: 0.9931 - - ETA: 23s - loss: 0.1503 - accuracy: 0.9 - ETA: 17s - loss: 0.1507 - accuracy: 0.9943 - auc - ETA: 17s - loss: 0.1502 - accuracy: 0.9946 - auc: 1.00 - ETA: 17s - loss: 0.1501 - accuracy: 0.9946 - auc - ETA: 16s - loss: 0.1508 - a - ETA: 14s - loss: 0.1512 - accuracy: 0.9943 - auc - ETA: 14s - loss: 0.1508 - accuracy:  - ETA: 12s - loss: 0.1498 - accurac - ETA: 11s - loss: 0.1491 - accuracy: 0.9949 - auc:  - ETA: 10s - - ETA: 8s - loss: 0.1488 - accuracy: 0.9951 - auc: 1.00 - ETA: 8s - loss: - ETA - ETA: 5s - loss: 0.1521 - accuracy: 0.9940 - auc - ETA: 5s - loss: 0.1520 - accuracy: 0.99 - ETA: 4s - loss: 0.1527 - accuracy - ETA: 1s - loss: 0.1521 - accura - ETA: 1s - loss: 0.1521 - accuracy: 0.9940 - a - ETA: 0s - loss: 0.1520 - accuracy: 0.9940 - auc: 0. - ETA: 0s - loss: 0.1520 - accuracy: \n",
      "Epoch 10/20\n",
      "426/426 [==============================] - 31s 74ms/step - loss: 0.1461 - accuracy: 0.9957 - auc: 0.9999 - val_loss: 0.1308 - val_accuracy: 0.9997 - val_auc: 1.0000s - loss: 0.1432 - accuracy: 0.9984 - auc: 1 - ETA: 26s - loss: 0.1424 - accuracy: 0.9986 - auc:  - ETA: 25s - loss: 0.1425 - accuracy: 0.9987 - ETA: 24s - loss: 0.1418 - accuracy: 0.9985 - auc: 1.0 - ETA: 24s - loss: 0.1416 - accuracy: 0.9986 - auc: 1.0 - ETA: 24s - loss: 0.1413 - accur - ETA: 22s - loss: 0.1426 - accuracy: 0.9980 - au - ETA: 21s - loss: 0.1422 - accuracy: 0.9982 - auc:  - ETA: 21s - loss: 0.1421 - accuracy: 0.9983 - ETA: 20s - loss: 0.1418 - accuracy - ETA: 18s - loss: 0.1434 - accuracy: 0.9976 - a - ETA: 18s - loss: 0.1432 -  - ETA: 16s - loss: 0.1434 - accuracy: 0.9971 - auc: 1. - ETA: 15s - loss: 0.14 - ETA: 13s - loss: 0.1437 - accuracy: 0.9971 - auc: 1.000 - ETA: 13s - loss: 0.1437 - accuracy: 0.9971 - auc - ETA: 13s - loss: 0.1439 - accuracy: 0.9969 - auc: 1.0 - ETA: 12s - loss: 0.1440 - accuracy: 0.9968 - auc: 1.00 - ETA: 12s - loss: 0.1440 - accuracy: - ETA: 11s - loss: 0.1472 - a - ETA: 9s - loss: 0.1469 - accuracy: 0.9957 - ETA: 9s - loss: 0.1468 - accuracy: 0.9956 - auc: 0.99 - ETA: 9s - loss: 0.1\n",
      "Epoch 11/20\n",
      "426/426 [==============================] - 31s 74ms/step - loss: 0.1976 - accuracy: 0.9832 - auc: 0.9982 - val_loss: 0.1333 - val_accuracy: 1.0000 - val_auc: 1.0000: 0.1421 - accuracy: 0.9965 -  - ETA: 26s - loss: 0.1428 - accuracy: 0.9975 - auc: 1.0 - ETA: 26s - loss: 0.1423 - accuracy:  - ETA: 24s - loss: 0.1415 - accuracy: 0.9980 - auc - ETA: 24s - loss: 0.1426 - accuracy: 0.9968 - auc: 1.0 - ETA: 24s - loss: 0.1423 - accuracy: 0.9970 - auc: 1.000 - ETA: 23s - loss: 0.1422  - ETA: 21s - loss: 0.1408 - accuracy: 0.9979 - auc: - ETA: 21s - loss: 0.1404 - accuracy: 0. - ETA: 20s - loss: 0.1395 - accuracy: 0.9983 - auc: - ETA: 19s - loss: 0.1395 - accuracy: 0.9 - ETA: 18s - loss: 0.1404 - accuracy: 0.9978 - auc: - ETA: 18s - loss: 0.1403 - accuracy: 0.9979 -  - ETA: 17s - loss: 0.1400 - accuracy: 0.9978 - auc: 1.000 - ETA: 17s - loss: 0.1401 - ETA: 15s - loss: 0.1395 - accuracy: 0. - ETA: 13s - loss: 0.1391 - a - ETA: 4s - loss: 0.2048 - accuracy - ETA: 4s - loss: 0.2040  - ETA: 3s - loss: 0.2023 - \n",
      "Epoch 12/20\n",
      "426/426 [==============================] - 32s 74ms/step - loss: 0.1403 - accuracy: 0.9977 - auc: 1.0000 - val_loss: 0.1298 - val_accuracy: 1.0000 - val_auc: 1.0000y: 0.9 - ETA: 24s - loss: 0.1395 - accuracy: 0.9988 - auc: 1. - ETA: 23s - loss: 0.1394 - accuracy: 0.9988 - au - ETA: 23s - - ETA: 20s - loss: 0.1400 - accuracy: 0.9981 - auc: - ETA: 19s - loss: 0.1399 - accuracy: 0.9982 - auc: - ETA: 19s - loss: 0.1400 - accuracy: 0.998 - ETA: 18s - loss: 0.1410 - accuracy: 0.9977 - - ETA: 17s - loss: 0.1413 - accuracy: 0.9973 - auc: 1 - ETA: 16s - loss: 0.1414 - accuracy: 0.9974 - auc: 1.000 - ETA: 16s - loss: 0.1414 - accuracy: 0.9974 - auc:  - ETA: 16s - loss: 0.1420 - accuracy: 0.99 - ETA: 15s - loss: 0.1417 - accuracy: - ETA: 13s - loss: 0.1419 - accuracy: 0.99 - ETA: 12s - loss: 0.1421 - accuracy: - ETA: 11s - loss: 0.1419 - accuracy: 0.9975 - a - ETA: 10s - loss: 0. - ETA: 9s - loss: 0.1416 - accuracy: 0.9975 - ETA: 8s - loss: 0.1413 - accuracy: 0.99 - ETA: 7s - loss: 0.1412 - accuracy: 0.9975 - - ETA: 7s -\n",
      "Epoch 13/20\n",
      "426/426 [==============================] - 32s 74ms/step - loss: 0.1400 - accuracy: 0.9967 - auc: 1.0000 - val_loss: 0.1301 - val_accuracy: 1.0000 - val_auc: 1.0000 - loss: 0.1335 - accuracy - ETA: 26s - loss: 0.1363 - accuracy: 0.9983 - ETA: 25s - loss: 0.1359 - accuracy: 0.9988 - a - ETA: 25s - loss: 0.1355 - accuracy: 0.999 - ETA: 24s - loss: 0.1348 - accuracy: 0.9992 - auc: 1.000 - ETA: 24s - loss: 0.1348 - accuracy: 0.9992 - au - ETA: 23s - loss: 0.1347 - accuracy: 0.9993 -  - ETA: 22s - loss: 0.1344 - accuracy - ETA: 21s - loss: 0.1348 - accuracy: 0. - ETA: 19s - loss: 0.1351 - accuracy: 0.9 - ETA: 18s - loss: 0.1352 - accuracy: 0.9992 - auc: 1.000 - ETA: 18s - loss: 0.1352 - accuracy - ETA: 17s - loss: 0.1350 - accuracy: 0. - ETA: 15s - loss: 0.1353 - accuracy: 0.9990 - auc: - ETA: 15s - loss: 0.1367 - accuracy: 0.998 - ETA: 14s - loss: 0.1368 - accuracy: 0.9986 - ETA: 13s - loss: 0.1372 - accuracy: 0.9982 - auc:  - ETA: 13s - loss: 0.1372 - accuracy: 0.9983 - ETA: 12s - loss: 0.1381 - accuracy: 0.9978 - auc: 1.00 - ETA: 11s - loss: 0.1381 - accuracy - ETA: 10s - loss: 0.1380 - accuracy: 0.9977 - auc: 1. - ETA: 10s - loss: 0.1380 - accuracy: 0.99 - ETA: 5s - los\n",
      "Epoch 14/20\n",
      "426/426 [==============================] - 32s 75ms/step - loss: 0.1367 - accuracy: 0.9980 - auc: 0.9999 - val_loss: 0.1309 - val_accuracy: 0.9994 - val_auc: 1.0000: 0.9994 - auc:  - ETA: 25s - ETA: 22s - loss: 0.1343 - accuracy: 0.9988  - ETA: 21s - loss: 0.1343 - accuracy: 0.9989 - auc: 1 - ETA: 21s - loss: 0.13 - ETA: 18s - loss: 0.1350 - accuracy: 0.9984 - auc - ETA: 18s - loss: 0.1351 - ac - ETA: 16s - loss: 0.1349 - accuracy: 0.9985 - auc - ETA: 15s - loss: 0.1348 - accuracy: 0.9986 - - ETA: 14s - loss: 0.1350 - accuracy: 0.9985 - auc:  - ETA: 14s -  - ETA: 8s - loss: 0.1345 - accuracy: 0.9988 - - ETA: 4s - loss: 0.1360 - accuracy: 0. - ETA: 3s - loss: 0.1360 - accuracy: 0.9982 - a - ETA: 3s - loss: 0.1360 - accuracy: 0.9982 - - ETA: 2s - loss: 0.1359 - accuracy - ETA: 2s - loss: 0.1359 - accuracy: 0.9983 - - ETA: 1s - loss: 0.1358 - accuracy: 0.9983 - auc: 0. - ETA: 1s - loss: 0.1358  - ETA: 0s - loss: 0.1367 - accuracy: 0.9980 - a\n",
      "Epoch 15/20\n"
     ]
    },
    {
     "name": "stdout",
     "output_type": "stream",
     "text": [
      "426/426 [==============================] - 31s 73ms/step - loss: 0.1439 - accuracy: 0.9967 - auc: 0.9997 - val_loss: 0.1297 - val_accuracy: 1.0000 - val_auc: 1.0000.1343 - accuracy: 0.9986 - auc: - ETA: 26s - loss: 0.1359 - accuracy: - ETA: 25s - loss: 0.1377 - accuracy: 0.9975 - a - ETA: 24s - loss: 0.1912 - accuracy: 0.9849 - auc: 0.998 - ETA: 24s - loss: 0.1903 - accuracy: 0.9851 - - ETA: 23s - loss: 0.1833 - accuracy: 0.9872 - auc: 0.9 - ETA: 23s - lo - ETA: 20s - loss: 0.1655 - accuracy: 0.9921 - ETA: 19s - loss: 0.1623 - accuracy: 0.9927 - - ETA: 19s - loss: 0.1602 - accuracy: 0.9933 - auc: 0 - ETA: 18s - loss: 0.1592 - acc - ETA: 16s - loss: 0.1553 - accuracy - ETA: 15s - loss: 0.1533 - accuracy: 0.9 - ETA: 14s - loss: 0.1517 - accuracy: 0.9951 -  - ETA: 13s - loss: 0.1508 - accuracy: 0.9953 - a - ETA: 12s - loss: 0.1499 - accuracy: 0.9955 -  - ETA: 12s - loss: 0.1492 - accuracy: 0 - ETA: 10s - loss: 0.1480 - accuracy - ETA: 9s - loss: 0.147 - ETA: 8s - loss: - ETA: 7s - loss: 0.1452 - accuracy:  - ETA: 6s - loss: 0.1449 - accuracy: 0.9968 - auc:  - ETA: 6s - loss: 0.1448 -  - ETA: 5s - loss: 0.1445 - accuracy: 0.99 - ETA: 4s - loss: 0.1444 - accuracy: 0. - ETA: 4s - loss: 0.1441 - accuracy: 0.9968 - ETA: 3s - loss: 0.1439 - accuracy: 0.9968 - auc: 0.99 - ETA: 3s - ETA: 1s - loss: 0.1445 - accuracy: 0.9966 - auc:  - ETA: 1s\n",
      "Epoch 16/20\n",
      "426/426 [==============================] - 31s 73ms/step - loss: 0.1351 - accuracy: 0.9987 - auc: 1.0000 - val_loss: 0.1308 - val_accuracy: 0.9997 - val_auc: 1.00000.1344 - accuracy: 0.9986 - auc - ETA: 27s - loss: 0.1345 - a - ETA: 24s - loss: 0.1341 - accuracy: 0.99 - ETA: 23s - loss: 0.1333 - accuracy: 0.9996 - auc: 1 - ETA: 19s - loss: 0.1329 - accuracy: 0.9998 - auc: 1. - ETA: 19s - loss: 0.1329 - accuracy: 0.9998 - ETA: 14s - loss: 0.1341 - ac - ETA: 12s - loss: 0.1347 - accuracy: 0.9989 - auc: - ETA: 11s - loss: 0.1348 - accuracy: 0.9988 - a - ETA: 8s - loss: 0.1353 - accura - ETA: 7s - loss: 0.1352 - accuracy: 0.9987 - auc: 1.00 - ETA: 7s - loss: 0.1352 -  - ETA: 4s - loss: 0.1351 - accuracy:  - E - ETA: 2s - loss: 0.1347 - accuracy: 0.9988 - auc: 1.00 - ETA: 2s - loss: 0.1347 - accuracy: 0. - ETA: 1s - l\n",
      "Epoch 17/20\n",
      "426/426 [==============================] - 31s 73ms/step - loss: 0.1339 - accuracy: 0.9990 - auc: 1.0000 - val_loss: 0.1293 - val_accuracy: 1.0000 - val_auc: 1.0000 - loss: 0.1382 - accuracy: 0.9971 - auc: 1.000 - ETA: 23s - loss: 0.1382 - accuracy: 0.9971 - auc: 1.0 - ETA: 22s - loss: 0. - ETA: 20s - loss: 0.1361 - accuracy: 0.9980 - a - ETA: 19s - loss: - ETA: 16s - loss: 0.1356 - accura - ETA: 15s - loss: 0.1355 - accuracy: 0.9983 - auc: 1. - ETA: 15s - loss: 0.1353 - acc - ETA: 13s - loss: 0.1358 - accuracy: 0.9984 - auc - ETA: 12s - loss: 0.1357 - accuracy: 0.9984 - au - ETA: 5s - loss: 0.1345 - accuracy: 0.9988 - auc - E - ETA: 1s - loss: 0.1340 - \n",
      "Epoch 18/20\n",
      "426/426 [==============================] - 31s 73ms/step - loss: 0.1730 - accuracy: 0.9871 - auc: 0.9990 - val_loss: 0.1314 - val_accuracy: 0.9997 - val_auc: 1.0000- loss: 0.1329 - accuracy: 0.9989 - a - ETA: 26s - loss: 0.1322 - accuracy: 0.9992 - auc: - ETA: 25s - loss: 0.1319 - accurac - ETA: 20s - loss: 0.1317 - accuracy: 0.9995 - auc: 1. - ETA: 19s - loss: 0.1317 - accuracy:  - ETA: 18s - loss: 0.1322 - accuracy: 0.9992 - auc: - ETA: 18s - loss: 0.1325 - accuracy: 0.9990 - auc:  - ETA: 17s - loss: 0.1325 - accu - ETA: 15s - loss: 0.1324 - accuracy: 0.9992 - auc: 1. - ETA: 15s - loss: 0.1324 - accuracy: 0.9992 - auc: - ETA: 15s - loss: 0.1323 - acc - ETA: 13s - - ETA: 10s - loss: 0.1318 -  - ETA: 9s - loss: 0.1 - ETA: 7s - loss: 0.1316 - accuracy: 0.9995 - - ETA: 7s - loss: 0.1316 - accura - ETA: 6s - loss: 0.1316 - accuracy: 0.9995 - auc: 1.00 - ETA: 6s - loss: 0.1316 -  - ETA: 5s - loss: 0.1656 - accuracy: 0.9896 - auc - ETA: 3s - loss: 0.1751 - accuracy: 0.9866 - a - ETA: 2s - loss: 0.1750 - accuracy: 0.9866 - auc:  - ETA: 2s - loss: 0.1749 - accuracy - ETA: 0s - loss: 0.1730 - accuracy: 0.9871 - auc: 0.99\n",
      "Epoch 19/20\n",
      "426/426 [==============================] - 31s 73ms/step - loss: 0.1356 - accuracy: 0.9990 - auc: 1.0000 - val_loss: 0.1293 - val_accuracy: 1.0000 - val_auc: 1.00007s - loss: 0.1457 - accuracy: 0 - ETA: 25s - loss: 0.1428 - accu - ETA: 23s - loss: 0.1406 - accuracy: - ETA: 22s - loss: 0.1396 - accuracy: 0.9981 - - ETA: 2 - ETA: 13s - loss: 0.1375 - accuracy: 0.99 - ETA: 12s - loss: 0.1372 - accuracy: 0.9984  - ETA: 11s - loss: 0.1375 - accuracy: 0.9984 - ETA: 11s - loss: 0. - ETA: 5s - loss: 0.1364 - accuracy: 0.9987 - auc: 1. - ETA: 5s - los - ETA: 3s - loss: 0.1361 - accuracy:  - ETA: 3s - loss: 0.1359 - accuracy: 0.9989 - - ETA: 2s - loss: - ETA: 1s - loss: 0.1358 - accuracy: 0.99 - ETA: 0s - loss: 0.1358 - accuracy\n",
      "Epoch 20/20\n",
      "426/426 [==============================] - 31s 73ms/step - loss: 0.1317 - accuracy: 0.9996 - auc: 1.0000 - val_loss: 0.1294 - val_accuracy: 1.0000 - val_auc: 1.0000 - loss: 0.1338 - accuracy: 1.0000 - auc:  - ETA: 27s - loss: 0.1337 - accuracy: 1.0000 - au - ETA: 26s - loss: 0.1332 - accuracy: 1.0000 - a - ETA: 26s - loss: 0.1331 - accuracy: 1.0000 - auc: 1.0 - ETA: 26s - loss: 0.1330 - accuracy: 1.0000 - auc: 1.0 - ETA: 25s - loss: 0.1334 - accuracy: 1.0000 - auc: 1.00 - ETA: 25s - loss: 0.1332 - accuracy: 1.0000 -  - ETA: 25s - loss: 0.1328 - accuracy: 1. - ETA: 23s - loss: 0.1324 - accuracy: 1.00 - ETA: 22s - loss: 0.1319 - accuracy: 1. - ETA: 21s - loss: 0.1315 - accuracy: 1.0000 - auc: 1 - ETA: 21s - loss: 0.1315 - accuracy: 1.0000 -  - ETA: 20s - loss: 0.1314 - accurac - ETA: 18s - loss: 0.1312 - accuracy: 1.0000 - auc: - ETA: 18s - loss: 0.1311 - accuracy: 1.0000 - auc - ETA: 17s - loss: 0.1313 - accuracy: 0.9998 - au - E - ETA: 13s - loss: 0.1316 - accuracy: 0.9997 - auc: 1 - ETA: 13s - loss: 0.1316 - accuracy: 0.99 - ETA: 12s - - ETA: 7s - loss: 0.1315 - accuracy: 0.9997 - auc: 1. - ETA: 7s - loss: 0.1315 - accuracy: 0.9997 - auc:  - ETA: 7s - loss: 0.1314 - accuracy: 0.9997 - ETA: 6s - loss: 0.1 - ETA: 5s - loss: 0.1 - ETA: 4s - loss: 0.131 - ETA: 3s - loss: 0.1318 -  - ETA: 2s - loss: 0.1318 - accuracy: 0. - ETA: 1s - loss: 0.1317 - accuracy: 0.9995 - auc:  - ETA: 1s - loss: 0\n"
     ]
    }
   ],
   "source": [
    "history = model.fit(train_x,train_label_enc,validation_data=(val_x,val_label_enc), batch_size=32, epochs=20, verbose=1,shuffle=True)"
   ]
  },
  {
   "cell_type": "code",
   "execution_count": 16,
   "id": "69deaa5f",
   "metadata": {},
   "outputs": [],
   "source": [
    "test_image = scalar.fit_transform(test_images_array.reshape(len(test_images_array),112*112*3))\n",
    "test_image_array = test_image.reshape(len(test_images_array),112,112,3)"
   ]
  },
  {
   "cell_type": "code",
   "execution_count": 47,
   "id": "0987cdaa",
   "metadata": {},
   "outputs": [
    {
     "name": "stdout",
     "output_type": "stream",
     "text": [
      "135/135 [==============================] - 2s 15ms/step - loss: 5.3433 - accuracy: 0.4343 - auc: 0.6728 0s - loss: 5.9433 - ac\n"
     ]
    }
   ],
   "source": [
    "score = model.evaluate(test_image_array,test_label_enc, batch_size=16)"
   ]
  },
  {
   "cell_type": "code",
   "execution_count": 18,
   "id": "aa2750f1",
   "metadata": {},
   "outputs": [],
   "source": [
    "y_predict = model.predict(test_image_array)"
   ]
  },
  {
   "cell_type": "code",
   "execution_count": 19,
   "id": "0f24d2f1",
   "metadata": {},
   "outputs": [],
   "source": [
    "y_predict_bool = np.argmax(y_predict,axis=1).tolist()"
   ]
  },
  {
   "cell_type": "code",
   "execution_count": 20,
   "id": "355a95bb",
   "metadata": {},
   "outputs": [],
   "source": [
    "from sklearn.metrics import confusion_matrix,precision_score,auc,recall_score,roc_curve,precision_recall_curve"
   ]
  },
  {
   "cell_type": "code",
   "execution_count": 21,
   "id": "6bc5c91e",
   "metadata": {},
   "outputs": [
    {
     "data": {
      "text/plain": [
       "array([[542,   0, 167, 101],\n",
       "       [  4,   0,  39, 257],\n",
       "       [ 63,   0, 224, 313],\n",
       "       [127,  40, 111, 172]], dtype=int64)"
      ]
     },
     "execution_count": 21,
     "metadata": {},
     "output_type": "execute_result"
    }
   ],
   "source": [
    "confusion_matrix(test_image_label,y_predict_bool)"
   ]
  },
  {
   "cell_type": "code",
   "execution_count": 22,
   "id": "4f70ed8a",
   "metadata": {},
   "outputs": [
    {
     "data": {
      "text/plain": [
       "0.4336751607992787"
      ]
     },
     "execution_count": 22,
     "metadata": {},
     "output_type": "execute_result"
    }
   ],
   "source": [
    "precision_score(test_image_label,y_predict_bool,average='weighted')"
   ]
  },
  {
   "cell_type": "code",
   "execution_count": 23,
   "id": "79e9b688",
   "metadata": {},
   "outputs": [
    {
     "data": {
      "text/plain": [
       "0.43425925925925923"
      ]
     },
     "execution_count": 23,
     "metadata": {},
     "output_type": "execute_result"
    }
   ],
   "source": [
    "recall_score(test_image_label,y_predict_bool,average='weighted')"
   ]
  },
  {
   "cell_type": "code",
   "execution_count": 24,
   "id": "541ad72f",
   "metadata": {},
   "outputs": [],
   "source": [
    "from sklearn.metrics import *"
   ]
  },
  {
   "cell_type": "code",
   "execution_count": 25,
   "id": "068fea2b",
   "metadata": {},
   "outputs": [
    {
     "name": "stdout",
     "output_type": "stream",
     "text": [
      "              precision    recall  f1-score   support\n",
      "\n",
      "           0       0.74      0.67      0.70       810\n",
      "           1       0.00      0.00      0.00       300\n",
      "           2       0.41      0.37      0.39       600\n",
      "           3       0.20      0.38      0.27       450\n",
      "\n",
      "    accuracy                           0.43      2160\n",
      "   macro avg       0.34      0.36      0.34      2160\n",
      "weighted avg       0.43      0.43      0.43      2160\n",
      "\n"
     ]
    }
   ],
   "source": [
    "print(classification_report(test_image_label,y_predict_bool))"
   ]
  },
  {
   "cell_type": "code",
   "execution_count": 26,
   "id": "041bebe2",
   "metadata": {},
   "outputs": [
    {
     "name": "stdout",
     "output_type": "stream",
     "text": [
      "0.5080045484080571\n"
     ]
    }
   ],
   "source": [
    "fpr,tpr,thresholds = roc_curve(test_image_label,y_predict_bool,pos_label=3)\n",
    "print(auc(fpr,tpr))"
   ]
  },
  {
   "cell_type": "code",
   "execution_count": 27,
   "id": "39136383",
   "metadata": {},
   "outputs": [
    {
     "data": {
      "image/png": "[encoded data removed]",
      "text/plain": [
       "<Figure size 432x288 with 1 Axes>"
      ]
     },
     "metadata": {
      "needs_background": "light"
     },
     "output_type": "display_data"
    }
   ],
   "source": [
    "import matplotlib.pyplot as plt\n",
    "plt.plot(history.history['accuracy'])\n",
    "plt.plot(history.history['val_accuracy'])\n",
    "plt.title('model accuracy')\n",
    "plt.ylabel('accuracy')\n",
    "plt.xlabel('epoch')\n",
    "plt.legend(['train', 'val'], loc='upper left')\n",
    "plt.show()"
   ]
  },
  {
   "cell_type": "code",
   "execution_count": 28,
   "id": "eec18514",
   "metadata": {},
   "outputs": [
    {
     "data": {
      "image/png": "[encoded data removed]",
      "text/plain": [
       "<Figure size 432x288 with 1 Axes>"
      ]
     },
     "metadata": {
      "needs_background": "light"
     },
     "output_type": "display_data"
    }
   ],
   "source": [
    "import matplotlib.pyplot as plt\n",
    "plt.plot(history.history['loss'])\n",
    "plt.plot(history.history['val_loss'])\n",
    "plt.title('model loss')\n",
    "plt.ylabel('loss')\n",
    "plt.xlabel('epoch')\n",
    "plt.legend(['train', 'val'], loc='upper left')\n",
    "plt.show()"
   ]
  },
  {
   "cell_type": "code",
   "execution_count": 49,
   "id": "8e7ab147",
   "metadata": {},
   "outputs": [
    {
     "data": {
      "image/png": "[encoded data removed]",
      "text/plain": [
       "<Figure size 432x288 with 1 Axes>"
      ]
     },
     "metadata": {
      "needs_background": "light"
     },
     "output_type": "display_data"
    }
   ],
   "source": [
    "import matplotlib.pyplot as plt\n",
    "plt.plot(history.history['auc'])\n",
    "plt.plot(history.history['val_auc'])\n",
    "plt.title('model auc')\n",
    "plt.ylabel('auc')\n",
    "plt.xlabel('epoch')\n",
    "plt.legend(['train', 'val'], loc='upper left')\n",
    "plt.show()"
   ]
  },
  {
   "cell_type": "markdown",
   "id": "bcff644c",
   "metadata": {},
   "source": [
    "# Volume Testing"
   ]
  },
  {
   "cell_type": "code",
   "execution_count": 41,
   "id": "123b0fc1",
   "metadata": {},
   "outputs": [],
   "source": [
    "folder = data = r'C:\\Users\\AIIMS-IITD\\Desktop\\Sanjeev\\4_class_cluster_volume\\Train\\00_5\\161885'"
   ]
  },
  {
   "cell_type": "code",
   "execution_count": 29,
   "id": "33251f45",
   "metadata": {},
   "outputs": [
    {
     "name": "stdout",
     "output_type": "stream",
     "text": [
      "26/26 [==============================] - 1s 42ms/step - loss: 3.2835 - accuracy: 0.6691 - auc: 0.8146\n"
     ]
    }
   ],
   "source": [
    "score = model.evaluate(test_image_array[0:810],test_label_enc[0:810], batch_size=32)"
   ]
  },
  {
   "cell_type": "code",
   "execution_count": 30,
   "id": "dc875b88",
   "metadata": {},
   "outputs": [
    {
     "data": {
      "text/plain": [
       "array([[0., 1., 0., 0.],\n",
       "       [0., 1., 0., 0.]])"
      ]
     },
     "execution_count": 30,
     "metadata": {},
     "output_type": "execute_result"
    }
   ],
   "source": [
    "test_label_enc[810:812]"
   ]
  },
  {
   "cell_type": "code",
   "execution_count": 31,
   "id": "7efeeaa2",
   "metadata": {},
   "outputs": [
    {
     "name": "stdout",
     "output_type": "stream",
     "text": [
      "5/5 [==============================] - 1s 191ms/step - loss: 0.7228 - accuracy: 0.8267 - auc: 0.9569\n"
     ]
    }
   ],
   "source": [
    "score = model.evaluate(test_image_array[0:150],test_label_enc[0:150], batch_size=32)"
   ]
  },
  {
   "cell_type": "code",
   "execution_count": 32,
   "id": "cc6e11a2",
   "metadata": {},
   "outputs": [],
   "source": [
    "y_predict = model.predict(test_image_array[0:150])\n",
    "y_predict_bool = np.argmax(y_predict,axis=1).tolist()"
   ]
  },
  {
   "cell_type": "code",
   "execution_count": 33,
   "id": "7ad37f7a",
   "metadata": {},
   "outputs": [
    {
     "data": {
      "text/plain": [
       "array([[124,  24,   2],\n",
       "       [  0,   0,   0],\n",
       "       [  0,   0,   0]], dtype=int64)"
      ]
     },
     "execution_count": 33,
     "metadata": {},
     "output_type": "execute_result"
    }
   ],
   "source": [
    "confusion_matrix(test_image_label[0:150],y_predict_bool)"
   ]
  },
  {
   "cell_type": "code",
   "execution_count": 34,
   "id": "67699b07",
   "metadata": {},
   "outputs": [
    {
     "name": "stdout",
     "output_type": "stream",
     "text": [
      "              precision    recall  f1-score   support\n",
      "\n",
      "           0       1.00      0.83      0.91       150\n",
      "           2       0.00      0.00      0.00         0\n",
      "           3       0.00      0.00      0.00         0\n",
      "\n",
      "    accuracy                           0.83       150\n",
      "   macro avg       0.33      0.28      0.30       150\n",
      "weighted avg       1.00      0.83      0.91       150\n",
      "\n"
     ]
    },
    {
     "name": "stderr",
     "output_type": "stream",
     "text": [
      "C:\\ProgramData\\Anaconda3\\lib\\site-packages\\sklearn\\metrics\\_classification.py:1245: UndefinedMetricWarning: Recall and F-score are ill-defined and being set to 0.0 in labels with no true samples. Use `zero_division` parameter to control this behavior.\n",
      "  _warn_prf(average, modifier, msg_start, len(result))\n",
      "C:\\ProgramData\\Anaconda3\\lib\\site-packages\\sklearn\\metrics\\_classification.py:1245: UndefinedMetricWarning: Recall and F-score are ill-defined and being set to 0.0 in labels with no true samples. Use `zero_division` parameter to control this behavior.\n",
      "  _warn_prf(average, modifier, msg_start, len(result))\n",
      "C:\\ProgramData\\Anaconda3\\lib\\site-packages\\sklearn\\metrics\\_classification.py:1245: UndefinedMetricWarning: Recall and F-score are ill-defined and being set to 0.0 in labels with no true samples. Use `zero_division` parameter to control this behavior.\n",
      "  _warn_prf(average, modifier, msg_start, len(result))\n"
     ]
    }
   ],
   "source": [
    "print(classification_report(test_image_label[0:150],y_predict_bool))"
   ]
  },
  {
   "cell_type": "markdown",
   "id": "747ef1bb",
   "metadata": {},
   "source": [
    "# 11_16"
   ]
  },
  {
   "cell_type": "code",
   "execution_count": 35,
   "id": "93cad329",
   "metadata": {},
   "outputs": [
    {
     "name": "stdout",
     "output_type": "stream",
     "text": [
      "24/24 [==============================] - 1s 44ms/step - loss: 4.4671 - accuracy: 0.3560 - auc: 0.6503\n"
     ]
    }
   ],
   "source": [
    "score = model.evaluate(test_image_array[1110:1860],test_label_enc[1110:1860], batch_size=32)"
   ]
  },
  {
   "cell_type": "code",
   "execution_count": 36,
   "id": "244d6787",
   "metadata": {},
   "outputs": [
    {
     "data": {
      "text/plain": [
       "array([[0., 0., 1., 0.],\n",
       "       [0., 0., 1., 0.],\n",
       "       [0., 0., 1., 0.],\n",
       "       ...,\n",
       "       [0., 0., 0., 1.],\n",
       "       [0., 0., 0., 1.],\n",
       "       [0., 0., 0., 1.]])"
      ]
     },
     "execution_count": 36,
     "metadata": {},
     "output_type": "execute_result"
    }
   ],
   "source": [
    "test_label_enc[1110:1860]"
   ]
  },
  {
   "cell_type": "code",
   "execution_count": 37,
   "id": "a9210f03",
   "metadata": {},
   "outputs": [
    {
     "name": "stdout",
     "output_type": "stream",
     "text": [
      "5/5 [==============================] - 0s 25ms/step - loss: 2.0871 - accuracy: 0.4067 - auc: 0.7515\n"
     ]
    }
   ],
   "source": [
    "score = model.evaluate(test_image_array[1110:1260],test_label_enc[1110:1260], batch_size=32)"
   ]
  },
  {
   "cell_type": "code",
   "execution_count": 38,
   "id": "81da8c61",
   "metadata": {},
   "outputs": [
    {
     "name": "stdout",
     "output_type": "stream",
     "text": [
      "5/5 [==============================] - 1s 23ms/step - loss: 5.6258 - accuracy: 0.3400 - auc: 0.6452\n"
     ]
    }
   ],
   "source": [
    "score = model.evaluate(test_image_array[1260:1410],test_label_enc[1260:1410], batch_size=32)"
   ]
  },
  {
   "cell_type": "code",
   "execution_count": 39,
   "id": "555f787c",
   "metadata": {},
   "outputs": [
    {
     "name": "stdout",
     "output_type": "stream",
     "text": [
      "5/5 [==============================] - 0s 22ms/step - loss: 9.9078 - accuracy: 0.0000e+00 - auc: 0.3203\n"
     ]
    }
   ],
   "source": [
    "score = model.evaluate(test_image_array[1410:1560],test_label_enc[1410:1560], batch_size=32)"
   ]
  },
  {
   "cell_type": "code",
   "execution_count": 40,
   "id": "b5b76256",
   "metadata": {},
   "outputs": [
    {
     "name": "stdout",
     "output_type": "stream",
     "text": [
      "5/5 [==============================] - 0s 23ms/step - loss: 1.3802 - accuracy: 0.7467 - auc: 0.9079\n"
     ]
    }
   ],
   "source": [
    "score = model.evaluate(test_image_array[1560:1710],test_label_enc[1560:1710], batch_size=32)"
   ]
  },
  {
   "cell_type": "code",
   "execution_count": 41,
   "id": "deb2a8e2",
   "metadata": {},
   "outputs": [
    {
     "name": "stdout",
     "output_type": "stream",
     "text": [
      "5/5 [==============================] - 0s 23ms/step - loss: 3.3344 - accuracy: 0.2867 - auc: 0.6216\n"
     ]
    }
   ],
   "source": [
    "score = model.evaluate(test_image_array[1710:1860],test_label_enc[1710:1860], batch_size=32)"
   ]
  },
  {
   "cell_type": "code",
   "execution_count": 42,
   "id": "8fb319a0",
   "metadata": {},
   "outputs": [
    {
     "data": {
      "text/plain": [
       "2610"
      ]
     },
     "execution_count": 42,
     "metadata": {},
     "output_type": "execute_result"
    }
   ],
   "source": [
    "2460+150"
   ]
  },
  {
   "cell_type": "code",
   "execution_count": null,
   "id": "a6a3a1c8",
   "metadata": {},
   "outputs": [],
   "source": []
  },
  {
   "cell_type": "markdown",
   "id": "0c7781aa",
   "metadata": {},
   "source": [
    "# 17_28"
   ]
  },
  {
   "cell_type": "code",
   "execution_count": 43,
   "id": "826ea1f3",
   "metadata": {},
   "outputs": [
    {
     "name": "stdout",
     "output_type": "stream",
     "text": [
      "10/10 [==============================] - 1s 75ms/step - loss: 3.0913 - accuracy: 0.4300 - auc: 0.6924\n"
     ]
    }
   ],
   "source": [
    "score = model.evaluate(test_image_array[1860:],test_label_enc[1860:], batch_size=32)"
   ]
  },
  {
   "cell_type": "code",
   "execution_count": 44,
   "id": "aba4ca36",
   "metadata": {},
   "outputs": [
    {
     "name": "stdout",
     "output_type": "stream",
     "text": [
      "5/5 [==============================] - 0s 21ms/step - loss: 3.5788 - accuracy: 0.3667 - auc: 0.6581\n"
     ]
    }
   ],
   "source": [
    "score = model.evaluate(test_image_array[1860:2010],test_label_enc[1860:2010], batch_size=32)"
   ]
  },
  {
   "cell_type": "code",
   "execution_count": 45,
   "id": "1991feb5",
   "metadata": {},
   "outputs": [
    {
     "name": "stdout",
     "output_type": "stream",
     "text": [
      "5/5 [==============================] - 0s 23ms/step - loss: 2.6039 - accuracy: 0.4933 - auc: 0.7312\n"
     ]
    }
   ],
   "source": [
    "score = model.evaluate(test_image_array[2010:2160],test_label_enc[2010:2160], batch_size=32)"
   ]
  },
  {
   "cell_type": "code",
   "execution_count": 46,
   "id": "c8cffbba",
   "metadata": {},
   "outputs": [
    {
     "name": "stdout",
     "output_type": "stream",
     "text": [
      "\r"
     ]
    },
    {
     "name": "stderr",
     "output_type": "stream",
     "text": [
      "C:\\Users\\AIIMS-IITD\\AppData\\Roaming\\Python\\Python38\\site-packages\\keras\\utils\\generic_utils.py:915: RuntimeWarning: divide by zero encountered in log10\n",
      "  numdigits = int(np.log10(self.target)) + 1\n"
     ]
    },
    {
     "ename": "OverflowError",
     "evalue": "cannot convert float infinity to integer",
     "output_type": "error",
     "traceback": [
      "\u001b[1;31m---------------------------------------------------------------------------\u001b[0m",
      "\u001b[1;31mOverflowError\u001b[0m                             Traceback (most recent call last)",
      "\u001b[1;32m<ipython-input-46-8c9d2fb69a9d>\u001b[0m in \u001b[0;36m<module>\u001b[1;34m\u001b[0m\n\u001b[1;32m----> 1\u001b[1;33m \u001b[0mscore\u001b[0m \u001b[1;33m=\u001b[0m \u001b[0mmodel\u001b[0m\u001b[1;33m.\u001b[0m\u001b[0mevaluate\u001b[0m\u001b[1;33m(\u001b[0m\u001b[0mtest_image_array\u001b[0m\u001b[1;33m[\u001b[0m\u001b[1;36m2160\u001b[0m\u001b[1;33m:\u001b[0m\u001b[1;36m2310\u001b[0m\u001b[1;33m]\u001b[0m\u001b[1;33m,\u001b[0m\u001b[0mtest_label_enc\u001b[0m\u001b[1;33m[\u001b[0m\u001b[1;36m2160\u001b[0m\u001b[1;33m:\u001b[0m\u001b[1;36m2310\u001b[0m\u001b[1;33m]\u001b[0m\u001b[1;33m,\u001b[0m \u001b[0mbatch_size\u001b[0m\u001b[1;33m=\u001b[0m\u001b[1;36m32\u001b[0m\u001b[1;33m)\u001b[0m\u001b[1;33m\u001b[0m\u001b[1;33m\u001b[0m\u001b[0m\n\u001b[0m",
      "\u001b[1;32m~\\AppData\\Roaming\\Python\\Python38\\site-packages\\keras\\engine\\training.py\u001b[0m in \u001b[0;36mevaluate\u001b[1;34m(self, x, y, batch_size, verbose, sample_weight, steps, callbacks, max_queue_size, workers, use_multiprocessing, return_dict, **kwargs)\u001b[0m\n\u001b[0;32m   1506\u001b[0m               \u001b[0mcallbacks\u001b[0m\u001b[1;33m.\u001b[0m\u001b[0mon_test_batch_end\u001b[0m\u001b[1;33m(\u001b[0m\u001b[0mend_step\u001b[0m\u001b[1;33m,\u001b[0m \u001b[0mlogs\u001b[0m\u001b[1;33m)\u001b[0m\u001b[1;33m\u001b[0m\u001b[1;33m\u001b[0m\u001b[0m\n\u001b[0;32m   1507\u001b[0m       \u001b[0mlogs\u001b[0m \u001b[1;33m=\u001b[0m \u001b[0mtf_utils\u001b[0m\u001b[1;33m.\u001b[0m\u001b[0msync_to_numpy_or_python_type\u001b[0m\u001b[1;33m(\u001b[0m\u001b[0mlogs\u001b[0m\u001b[1;33m)\u001b[0m\u001b[1;33m\u001b[0m\u001b[1;33m\u001b[0m\u001b[0m\n\u001b[1;32m-> 1508\u001b[1;33m       \u001b[0mcallbacks\u001b[0m\u001b[1;33m.\u001b[0m\u001b[0mon_test_end\u001b[0m\u001b[1;33m(\u001b[0m\u001b[0mlogs\u001b[0m\u001b[1;33m=\u001b[0m\u001b[0mlogs\u001b[0m\u001b[1;33m)\u001b[0m\u001b[1;33m\u001b[0m\u001b[1;33m\u001b[0m\u001b[0m\n\u001b[0m\u001b[0;32m   1509\u001b[0m \u001b[1;33m\u001b[0m\u001b[0m\n\u001b[0;32m   1510\u001b[0m       \u001b[1;32mif\u001b[0m \u001b[0mreturn_dict\u001b[0m\u001b[1;33m:\u001b[0m\u001b[1;33m\u001b[0m\u001b[1;33m\u001b[0m\u001b[0m\n",
      "\u001b[1;32m~\\AppData\\Roaming\\Python\\Python38\\site-packages\\keras\\callbacks.py\u001b[0m in \u001b[0;36mon_test_end\u001b[1;34m(self, logs)\u001b[0m\n\u001b[0;32m    521\u001b[0m     \u001b[0mlogs\u001b[0m \u001b[1;33m=\u001b[0m \u001b[0mself\u001b[0m\u001b[1;33m.\u001b[0m\u001b[0m_process_logs\u001b[0m\u001b[1;33m(\u001b[0m\u001b[0mlogs\u001b[0m\u001b[1;33m)\u001b[0m\u001b[1;33m\u001b[0m\u001b[1;33m\u001b[0m\u001b[0m\n\u001b[0;32m    522\u001b[0m     \u001b[1;32mfor\u001b[0m \u001b[0mcallback\u001b[0m \u001b[1;32min\u001b[0m \u001b[0mself\u001b[0m\u001b[1;33m.\u001b[0m\u001b[0mcallbacks\u001b[0m\u001b[1;33m:\u001b[0m\u001b[1;33m\u001b[0m\u001b[1;33m\u001b[0m\u001b[0m\n\u001b[1;32m--> 523\u001b[1;33m       \u001b[0mcallback\u001b[0m\u001b[1;33m.\u001b[0m\u001b[0mon_test_end\u001b[0m\u001b[1;33m(\u001b[0m\u001b[0mlogs\u001b[0m\u001b[1;33m)\u001b[0m\u001b[1;33m\u001b[0m\u001b[1;33m\u001b[0m\u001b[0m\n\u001b[0m\u001b[0;32m    524\u001b[0m \u001b[1;33m\u001b[0m\u001b[0m\n\u001b[0;32m    525\u001b[0m   \u001b[1;32mdef\u001b[0m \u001b[0mon_predict_begin\u001b[0m\u001b[1;33m(\u001b[0m\u001b[0mself\u001b[0m\u001b[1;33m,\u001b[0m \u001b[0mlogs\u001b[0m\u001b[1;33m=\u001b[0m\u001b[1;32mNone\u001b[0m\u001b[1;33m)\u001b[0m\u001b[1;33m:\u001b[0m\u001b[1;33m\u001b[0m\u001b[1;33m\u001b[0m\u001b[0m\n",
      "\u001b[1;32m~\\AppData\\Roaming\\Python\\Python38\\site-packages\\keras\\callbacks.py\u001b[0m in \u001b[0;36mon_test_end\u001b[1;34m(self, logs)\u001b[0m\n\u001b[0;32m   1041\u001b[0m   \u001b[1;32mdef\u001b[0m \u001b[0mon_test_end\u001b[0m\u001b[1;33m(\u001b[0m\u001b[0mself\u001b[0m\u001b[1;33m,\u001b[0m \u001b[0mlogs\u001b[0m\u001b[1;33m=\u001b[0m\u001b[1;32mNone\u001b[0m\u001b[1;33m)\u001b[0m\u001b[1;33m:\u001b[0m\u001b[1;33m\u001b[0m\u001b[1;33m\u001b[0m\u001b[0m\n\u001b[0;32m   1042\u001b[0m     \u001b[1;32mif\u001b[0m \u001b[1;32mnot\u001b[0m \u001b[0mself\u001b[0m\u001b[1;33m.\u001b[0m\u001b[0m_called_in_fit\u001b[0m\u001b[1;33m:\u001b[0m\u001b[1;33m\u001b[0m\u001b[1;33m\u001b[0m\u001b[0m\n\u001b[1;32m-> 1043\u001b[1;33m       \u001b[0mself\u001b[0m\u001b[1;33m.\u001b[0m\u001b[0m_finalize_progbar\u001b[0m\u001b[1;33m(\u001b[0m\u001b[0mlogs\u001b[0m\u001b[1;33m,\u001b[0m \u001b[0mself\u001b[0m\u001b[1;33m.\u001b[0m\u001b[0m_test_step\u001b[0m\u001b[1;33m)\u001b[0m\u001b[1;33m\u001b[0m\u001b[1;33m\u001b[0m\u001b[0m\n\u001b[0m\u001b[0;32m   1044\u001b[0m \u001b[1;33m\u001b[0m\u001b[0m\n\u001b[0;32m   1045\u001b[0m   \u001b[1;32mdef\u001b[0m \u001b[0mon_predict_end\u001b[0m\u001b[1;33m(\u001b[0m\u001b[0mself\u001b[0m\u001b[1;33m,\u001b[0m \u001b[0mlogs\u001b[0m\u001b[1;33m=\u001b[0m\u001b[1;32mNone\u001b[0m\u001b[1;33m)\u001b[0m\u001b[1;33m:\u001b[0m\u001b[1;33m\u001b[0m\u001b[1;33m\u001b[0m\u001b[0m\n",
      "\u001b[1;32m~\\AppData\\Roaming\\Python\\Python38\\site-packages\\keras\\callbacks.py\u001b[0m in \u001b[0;36m_finalize_progbar\u001b[1;34m(self, logs, counter)\u001b[0m\n\u001b[0;32m   1110\u001b[0m       \u001b[0mself\u001b[0m\u001b[1;33m.\u001b[0m\u001b[0mtarget\u001b[0m \u001b[1;33m=\u001b[0m \u001b[0mcounter\u001b[0m \u001b[1;32mor\u001b[0m \u001b[0mself\u001b[0m\u001b[1;33m.\u001b[0m\u001b[0mseen\u001b[0m\u001b[1;33m\u001b[0m\u001b[1;33m\u001b[0m\u001b[0m\n\u001b[0;32m   1111\u001b[0m       \u001b[0mself\u001b[0m\u001b[1;33m.\u001b[0m\u001b[0mprogbar\u001b[0m\u001b[1;33m.\u001b[0m\u001b[0mtarget\u001b[0m \u001b[1;33m=\u001b[0m \u001b[0mself\u001b[0m\u001b[1;33m.\u001b[0m\u001b[0mtarget\u001b[0m\u001b[1;33m\u001b[0m\u001b[1;33m\u001b[0m\u001b[0m\n\u001b[1;32m-> 1112\u001b[1;33m     \u001b[0mself\u001b[0m\u001b[1;33m.\u001b[0m\u001b[0mprogbar\u001b[0m\u001b[1;33m.\u001b[0m\u001b[0mupdate\u001b[0m\u001b[1;33m(\u001b[0m\u001b[0mself\u001b[0m\u001b[1;33m.\u001b[0m\u001b[0mtarget\u001b[0m\u001b[1;33m,\u001b[0m \u001b[0mlist\u001b[0m\u001b[1;33m(\u001b[0m\u001b[0mlogs\u001b[0m\u001b[1;33m.\u001b[0m\u001b[0mitems\u001b[0m\u001b[1;33m(\u001b[0m\u001b[1;33m)\u001b[0m\u001b[1;33m)\u001b[0m\u001b[1;33m,\u001b[0m \u001b[0mfinalize\u001b[0m\u001b[1;33m=\u001b[0m\u001b[1;32mTrue\u001b[0m\u001b[1;33m)\u001b[0m\u001b[1;33m\u001b[0m\u001b[1;33m\u001b[0m\u001b[0m\n\u001b[0m\u001b[0;32m   1113\u001b[0m \u001b[1;33m\u001b[0m\u001b[0m\n\u001b[0;32m   1114\u001b[0m \u001b[1;33m\u001b[0m\u001b[0m\n",
      "\u001b[1;32m~\\AppData\\Roaming\\Python\\Python38\\site-packages\\keras\\utils\\generic_utils.py\u001b[0m in \u001b[0;36mupdate\u001b[1;34m(self, current, values, finalize)\u001b[0m\n\u001b[0;32m    913\u001b[0m \u001b[1;33m\u001b[0m\u001b[0m\n\u001b[0;32m    914\u001b[0m       \u001b[1;32mif\u001b[0m \u001b[0mself\u001b[0m\u001b[1;33m.\u001b[0m\u001b[0mtarget\u001b[0m \u001b[1;32mis\u001b[0m \u001b[1;32mnot\u001b[0m \u001b[1;32mNone\u001b[0m\u001b[1;33m:\u001b[0m\u001b[1;33m\u001b[0m\u001b[1;33m\u001b[0m\u001b[0m\n\u001b[1;32m--> 915\u001b[1;33m         \u001b[0mnumdigits\u001b[0m \u001b[1;33m=\u001b[0m \u001b[0mint\u001b[0m\u001b[1;33m(\u001b[0m\u001b[0mnp\u001b[0m\u001b[1;33m.\u001b[0m\u001b[0mlog10\u001b[0m\u001b[1;33m(\u001b[0m\u001b[0mself\u001b[0m\u001b[1;33m.\u001b[0m\u001b[0mtarget\u001b[0m\u001b[1;33m)\u001b[0m\u001b[1;33m)\u001b[0m \u001b[1;33m+\u001b[0m \u001b[1;36m1\u001b[0m\u001b[1;33m\u001b[0m\u001b[1;33m\u001b[0m\u001b[0m\n\u001b[0m\u001b[0;32m    916\u001b[0m         \u001b[0mbar\u001b[0m \u001b[1;33m=\u001b[0m \u001b[1;33m(\u001b[0m\u001b[1;34m'%'\u001b[0m \u001b[1;33m+\u001b[0m \u001b[0mstr\u001b[0m\u001b[1;33m(\u001b[0m\u001b[0mnumdigits\u001b[0m\u001b[1;33m)\u001b[0m \u001b[1;33m+\u001b[0m \u001b[1;34m'd/%d ['\u001b[0m\u001b[1;33m)\u001b[0m \u001b[1;33m%\u001b[0m \u001b[1;33m(\u001b[0m\u001b[0mcurrent\u001b[0m\u001b[1;33m,\u001b[0m \u001b[0mself\u001b[0m\u001b[1;33m.\u001b[0m\u001b[0mtarget\u001b[0m\u001b[1;33m)\u001b[0m\u001b[1;33m\u001b[0m\u001b[1;33m\u001b[0m\u001b[0m\n\u001b[0;32m    917\u001b[0m         \u001b[0mprog\u001b[0m \u001b[1;33m=\u001b[0m \u001b[0mfloat\u001b[0m\u001b[1;33m(\u001b[0m\u001b[0mcurrent\u001b[0m\u001b[1;33m)\u001b[0m \u001b[1;33m/\u001b[0m \u001b[0mself\u001b[0m\u001b[1;33m.\u001b[0m\u001b[0mtarget\u001b[0m\u001b[1;33m\u001b[0m\u001b[1;33m\u001b[0m\u001b[0m\n",
      "\u001b[1;31mOverflowError\u001b[0m: cannot convert float infinity to integer"
     ]
    }
   ],
   "source": [
    "score = model.evaluate(test_image_array[2160:2310],test_label_enc[2160:2310], batch_size=32)"
   ]
  },
  {
   "cell_type": "code",
   "execution_count": 83,
   "id": "b700efb4",
   "metadata": {},
   "outputs": [
    {
     "name": "stdout",
     "output_type": "stream",
     "text": [
      "5/5 [==============================] - 0s 24ms/step - loss: 2.5747 - accuracy: 0.4333 - auc: 0.6945\n"
     ]
    }
   ],
   "source": [
    "score = model.evaluate(test_image_array[2310:2460],test_label_enc[2310:2460], batch_size=32)"
   ]
  },
  {
   "cell_type": "code",
   "execution_count": 85,
   "id": "01383733",
   "metadata": {},
   "outputs": [
    {
     "name": "stdout",
     "output_type": "stream",
     "text": [
      "5/5 [==============================] - 0s 23ms/step - loss: 0.0453 - accuracy: 0.9733 - auc: 0.9996\n"
     ]
    }
   ],
   "source": [
    "score = model.evaluate(test_image_array[2460:2610],test_label_enc[2460:2610], batch_size=32)"
   ]
  },
  {
   "cell_type": "code",
   "execution_count": null,
   "id": "50b19721",
   "metadata": {},
   "outputs": [],
   "source": []
  }
 ],
 "metadata": {
  "kernelspec": {
   "display_name": "Python 3",
   "language": "python",
   "name": "python3"
  },
  "language_info": {
   "codemirror_mode": {
    "name": "ipython",
    "version": 3
   },
   "file_extension": ".py",
   "mimetype": "text/x-python",
   "name": "python",
   "nbconvert_exporter": "python",
   "pygments_lexer": "ipython3",
   "version": "3.8.8"
  }
 },
 "nbformat": 4,
 "nbformat_minor": 5
}

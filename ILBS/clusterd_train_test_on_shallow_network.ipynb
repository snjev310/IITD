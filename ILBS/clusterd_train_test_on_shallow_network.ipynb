{
 "cells": [
  {
   "cell_type": "code",
   "execution_count": 50,
   "metadata": {},
   "outputs": [],
   "source": [
    "import pandas as pd\n",
    "import numpy as np\n",
    "import matplotlib.pyplot as plt\n",
    "import os\n",
    "import glob\n",
    "import cv2\n",
    "from sklearn.model_selection import train_test_split\n",
    "from tensorflow.keras import layers\n",
    "from tensorflow.keras.models import Sequential\n",
    "from tensorflow.keras.layers import Dense, Flatten, Conv2D, MaxPooling2D, Dropout, BatchNormalization, MaxPool2D\n",
    "from IPython.display import Image, display\n",
    "import matplotlib.pyplot as plt\n",
    "import matplotlib.cm as cm\n",
    "import tensorflow as tf\n",
    "from tensorflow import keras\n",
    "from sklearn.preprocessing import OneHotEncoder, StandardScaler"
   ]
  },
  {
   "cell_type": "code",
   "execution_count": 2,
   "metadata": {},
   "outputs": [],
   "source": [
    "def import_maps(path):\n",
    "    images = []\n",
    "    for index, name in enumerate(os.listdir(path)):\n",
    "        folder = os.path.join(path, name)\n",
    "        for file_class in os.listdir(folder):\n",
    "            im_folder = os.path.join(folder, file_class)\n",
    "\n",
    "            for im in os.listdir(im_folder):\n",
    "                img = cv2.imread(os.path.join(im_folder, im))\n",
    "                img = cv2.cvtColor(img, cv2.COLOR_RGB2GRAY)\n",
    "                img = cv2.resize(img, (196, 196))\n",
    "                if img is not None:\n",
    "                    images.append((np.array(img), index)) \n",
    "    return images"
   ]
  },
  {
   "cell_type": "code",
   "execution_count": 3,
   "metadata": {},
   "outputs": [],
   "source": [
    "image_train_set = import_maps(r'D:\\ILBS_14_8_21_Sanjeev\\ILBS_Clustered_Volumes\\train')\n",
    "image_test_set = import_maps(r'D:\\ILBS_14_8_21_Sanjeev\\ILBS_Clustered_Volumes\\test')"
   ]
  },
  {
   "cell_type": "code",
   "execution_count": 51,
   "metadata": {},
   "outputs": [],
   "source": [
    "train_images_all = [i[0] for i in image_train_set]\n",
    "train_images_array = np.array(train_images_all)\n",
    "#train_images_array=np.expand_dims(train_images_array,axis=3)\n",
    "train_image_label = [i[1] for i in image_train_set]\n",
    "train_image_label = np.array(train_image_label)"
   ]
  },
  {
   "cell_type": "code",
   "execution_count": 52,
   "metadata": {},
   "outputs": [],
   "source": [
    "test_images_all = [i[0] for i in image_test_set]\n",
    "test_images_array = np.array(test_images_all)\n",
    "#test_images_array=np.expand_dims(test_images_array,axis=3)\n",
    "test_image_label = [i[1] for i in image_test_set]\n",
    "test_image_label = np.array(test_image_label)"
   ]
  },
  {
   "cell_type": "code",
   "execution_count": 53,
   "metadata": {},
   "outputs": [],
   "source": [
    "scalar = StandardScaler(copy=False)\n",
    "train_images = scalar.fit_transform(train_images_array.reshape(12900, 196*196))\n",
    "train_images_array = train_images.reshape(12900, 196, 196, 1)"
   ]
  },
  {
   "cell_type": "code",
   "execution_count": 54,
   "metadata": {},
   "outputs": [],
   "source": [
    "test_image = scalar.fit_transform(test_images_array.reshape(1950,196*196))\n",
    "test_image_array = test_image.reshape(1950,196,196,1)"
   ]
  },
  {
   "cell_type": "code",
   "execution_count": 55,
   "metadata": {},
   "outputs": [],
   "source": [
    "train_x, val_x, train_y, val_y = train_test_split(train_images_array,train_image_label,test_size=0.2)"
   ]
  },
  {
   "cell_type": "code",
   "execution_count": 56,
   "metadata": {},
   "outputs": [],
   "source": [
    "enc = OneHotEncoder(handle_unknown='ignore')\n",
    "train_label_enc = enc.fit_transform(train_y.reshape(-1, 1)).toarray()\n",
    "val_label_enc = enc.fit_transform(val_y.reshape(-1, 1)).toarray()\n",
    "test_label_enc = enc.fit_transform(test_image_label.reshape(-1, 1)).toarray()"
   ]
  },
  {
   "cell_type": "code",
   "execution_count": 83,
   "metadata": {},
   "outputs": [
    {
     "name": "stdout",
     "output_type": "stream",
     "text": [
      "Model: \"sequential_17\"\n",
      "_________________________________________________________________\n",
      "Layer (type)                 Output Shape              Param #   \n",
      "=================================================================\n",
      "conv2d_34 (Conv2D)           (None, 194, 194, 32)      320       \n",
      "_________________________________________________________________\n",
      "conv2d_35 (Conv2D)           (None, 192, 192, 32)      9248      \n",
      "_________________________________________________________________\n",
      "max_pooling2d_17 (MaxPooling (None, 48, 48, 32)        0         \n",
      "_________________________________________________________________\n",
      "flatten_17 (Flatten)         (None, 73728)             0         \n",
      "_________________________________________________________________\n",
      "dense_34 (Dense)             (None, 64)                4718656   \n",
      "_________________________________________________________________\n",
      "dropout_2 (Dropout)          (None, 64)                0         \n",
      "_________________________________________________________________\n",
      "dense_35 (Dense)             (None, 6)                 390       \n",
      "=================================================================\n",
      "Total params: 4,728,614\n",
      "Trainable params: 4,728,614\n",
      "Non-trainable params: 0\n",
      "_________________________________________________________________\n",
      "None\n"
     ]
    }
   ],
   "source": [
    "model = Sequential()\n",
    "model.add(Conv2D(32, kernel_size=(3, 3), activation='relu', \n",
    "                 input_shape=(196, 196,1)))\n",
    "model.add(Conv2D(32, (3, 3), activation='relu'))\n",
    "model.add(MaxPooling2D(pool_size=(4, 4)))\n",
    "model.add(Flatten())\n",
    "model.add(Dense(64, activation='relu'))\n",
    "model.add(Dropout(0.35))\n",
    "model.add(Dense(6, activation='softmax'))\n",
    "\n",
    "model.compile(loss=keras.losses.categorical_crossentropy,\n",
    "              optimizer=keras.optimizers.Adadelta(),\n",
    "              metrics=['accuracy'])\n",
    "reduce_lr = tf.keras.callbacks.ReduceLROnPlateau(monitor='val_loss', factor=0.2,\n",
    "                            patience=15, min_lr=0.0001)\n",
    "print(model.summary())"
   ]
  },
  {
   "cell_type": "code",
   "execution_count": 84,
   "metadata": {},
   "outputs": [
    {
     "name": "stdout",
     "output_type": "stream",
     "text": [
      "Train on 10320 samples, validate on 2580 samples\n",
      "Epoch 1/100\n",
      "10320/10320 [==============================] - 12s 1ms/sample - loss: 1.4259 - accuracy: 0.4118 - val_loss: 1.3057 - val_accuracy: 0.4628s - loss: 1.4 - ETA: 2s - loss: 1\n",
      "Epoch 2/100\n",
      "10320/10320 [==============================] - 11s 1ms/sample - loss: 1.2678 - accuracy: 0.4871 - val_loss: 1.1769 - val_accuracy: 0.5391\n",
      "Epoch 3/100\n",
      "10320/10320 [==============================] - 11s 1ms/sample - loss: 1.1501 - accuracy: 0.5499 - val_loss: 1.0645 - val_accuracy: 0.6116- ETA: 0s - loss: 1.1515 - accuracy: 0.54 - ETA: 0s - loss: 1.1513 - accura\n",
      "Epoch 4/100\n",
      "10320/10320 [==============================] - 11s 1ms/sample - loss: 1.0525 - accuracy: 0.6048 - val_loss: 0.9633 - val_accuracy: 0.6764\n",
      "Epoch 5/100\n",
      "10320/10320 [==============================] - 11s 1ms/sample - loss: 0.9568 - accuracy: 0.6616 - val_loss: 0.8667 - val_accuracy: 0.7465\n",
      "Epoch 6/100\n",
      "10320/10320 [==============================] - 11s 1ms/sample - loss: 0.8716 - accuracy: 0.7107 - val_loss: 0.7811 - val_accuracy: 0.7779\n",
      "Epoch 7/100\n",
      "10320/10320 [==============================] - 11s 1ms/sample - loss: 0.7861 - accuracy: 0.7543 - val_loss: 0.7015 - val_accuracy: 0.8244\n",
      "Epoch 8/100\n",
      "10320/10320 [==============================] - 11s 1ms/sample - loss: 0.7154 - accuracy: 0.7870 - val_loss: 0.6280 - val_accuracy: 0.8585\n",
      "Epoch 9/100\n",
      "10320/10320 [==============================] - 11s 1ms/sample - loss: 0.6471 - accuracy: 0.8202 - val_loss: 0.5675 - val_accuracy: 0.8647\n",
      "Epoch 10/100\n",
      "10320/10320 [==============================] - 11s 1ms/sample - loss: 0.5914 - accuracy: 0.8403 - val_loss: 0.5087 - val_accuracy: 0.9058\n",
      "Epoch 11/100\n",
      "10320/10320 [==============================] - 11s 1ms/sample - loss: 0.5431 - accuracy: 0.8578 - val_loss: 0.4578 - val_accuracy: 0.92715\n",
      "Epoch 12/100\n",
      "10320/10320 [==============================] - 11s 1ms/sample - loss: 0.4950 - accuracy: 0.8775 - val_loss: 0.4128 - val_accuracy: 0.9279\n",
      "Epoch 13/100\n",
      "10320/10320 [==============================] - 11s 1ms/sample - loss: 0.4469 - accuracy: 0.8927 - val_loss: 0.3712 - val_accuracy: 0.9504\n",
      "Epoch 14/100\n",
      "10320/10320 [==============================] - 11s 1ms/sample - loss: 0.4169 - accuracy: 0.9015 - val_loss: 0.3375 - val_accuracy: 0.9570\n",
      "Epoch 15/100\n",
      "10320/10320 [==============================] - 11s 1ms/sample - loss: 0.3860 - accuracy: 0.9112 - val_loss: 0.3072 - val_accuracy: 0.9558\n",
      "Epoch 16/100\n",
      "10320/10320 [==============================] - 11s 1ms/sample - loss: 0.3586 - accuracy: 0.9188 - val_loss: 0.2774 - val_accuracy: 0.9663\n",
      "Epoch 17/100\n",
      "10320/10320 [==============================] - 11s 1ms/sample - loss: 0.3271 - accuracy: 0.9310 - val_loss: 0.2514 - val_accuracy: 0.9659\n",
      "Epoch 18/100\n",
      "10320/10320 [==============================] - 11s 1ms/sample - loss: 0.3088 - accuracy: 0.9338 - val_loss: 0.2323 - val_accuracy: 0.9651\n",
      "Epoch 19/100\n",
      "10320/10320 [==============================] - 11s 1ms/sample - loss: 0.2791 - accuracy: 0.9410 - val_loss: 0.2118 - val_accuracy: 0.9686\n",
      "Epoch 20/100\n",
      "10320/10320 [==============================] - 11s 1ms/sample - loss: 0.2654 - accuracy: 0.9430 - val_loss: 0.1916 - val_accuracy: 0.9725\n",
      "Epoch 21/100\n",
      "10320/10320 [==============================] - 11s 1ms/sample - loss: 0.2440 - accuracy: 0.9468 - val_loss: 0.1763 - val_accuracy: 0.9725\n",
      "Epoch 22/100\n",
      "10320/10320 [==============================] - 11s 1ms/sample - loss: 0.2301 - accuracy: 0.9512 - val_loss: 0.1634 - val_accuracy: 0.9725\n",
      "Epoch 23/100\n",
      "10320/10320 [==============================] - 11s 1ms/sample - loss: 0.2123 - accuracy: 0.9536 - val_loss: 0.1496 - val_accuracy: 0.9729\n",
      "Epoch 24/100\n",
      "10320/10320 [==============================] - 11s 1ms/sample - loss: 0.2034 - accuracy: 0.9555 - val_loss: 0.1403 - val_accuracy: 0.9744\n",
      "Epoch 25/100\n",
      "10320/10320 [==============================] - 11s 1ms/sample - loss: 0.1868 - accuracy: 0.9611 - val_loss: 0.1292 - val_accuracy: 0.9740\n",
      "Epoch 26/100\n",
      "10320/10320 [==============================] - 11s 1ms/sample - loss: 0.1789 - accuracy: 0.9620 - val_loss: 0.1224 - val_accuracy: 0.9729\n",
      "Epoch 27/100\n",
      "10320/10320 [==============================] - 11s 1ms/sample - loss: 0.1727 - accuracy: 0.9591 - val_loss: 0.1157 - val_accuracy: 0.9736\n",
      "Epoch 28/100\n",
      "10320/10320 [==============================] - 11s 1ms/sample - loss: 0.1618 - accuracy: 0.9633 - val_loss: 0.1079 - val_accuracy: 0.9721loss: 0.1618 \n",
      "Epoch 29/100\n",
      "10320/10320 [==============================] - 11s 1ms/sample - loss: 0.1540 - accuracy: 0.9642 - val_loss: 0.1011 - val_accuracy: 0.9725\n",
      "Epoch 30/100\n",
      "10320/10320 [==============================] - 11s 1ms/sample - loss: 0.1510 - accuracy: 0.9662 - val_loss: 0.0958 - val_accuracy: 0.9736\n",
      "Epoch 31/100\n",
      "10320/10320 [==============================] - 11s 1ms/sample - loss: 0.1420 - accuracy: 0.9667 - val_loss: 0.0919 - val_accuracy: 0.9736\n",
      "Epoch 32/100\n",
      "10320/10320 [==============================] - 11s 1ms/sample - loss: 0.1338 - accuracy: 0.9692 - val_loss: 0.0868 - val_accuracy: 0.9721\n",
      "Epoch 33/100\n",
      "10320/10320 [==============================] - 11s 1ms/sample - loss: 0.1330 - accuracy: 0.9661 - val_loss: 0.0830 - val_accuracy: 0.9740\n",
      "Epoch 34/100\n",
      "10320/10320 [==============================] - 11s 1ms/sample - loss: 0.1257 - accuracy: 0.9687 - val_loss: 0.0797 - val_accuracy: 0.9729\n",
      "Epoch 35/100\n",
      "10320/10320 [==============================] - 11s 1ms/sample - loss: 0.1209 - accuracy: 0.9701 - val_loss: 0.0778 - val_accuracy: 0.9721\n",
      "Epoch 36/100\n",
      "10320/10320 [==============================] - 11s 1ms/sample - loss: 0.1156 - accuracy: 0.9691 - val_loss: 0.0734 - val_accuracy: 0.9721\n",
      "Epoch 37/100\n",
      "10320/10320 [==============================] - 11s 1ms/sample - loss: 0.1113 - accuracy: 0.9715 - val_loss: 0.0713 - val_accuracy: 0.9705\n",
      "Epoch 38/100\n",
      "10320/10320 [==============================] - 11s 1ms/sample - loss: 0.1080 - accuracy: 0.9712 - val_loss: 0.0735 - val_accuracy: 0.9748\n",
      "Epoch 39/100\n",
      "10320/10320 [==============================] - 11s 1ms/sample - loss: 0.1066 - accuracy: 0.9717 - val_loss: 0.0664 - val_accuracy: 0.9725\n",
      "Epoch 40/100\n",
      "10320/10320 [==============================] - 11s 1ms/sample - loss: 0.1010 - accuracy: 0.9724 - val_loss: 0.0658 - val_accuracy: 0.9733\n",
      "Epoch 41/100\n",
      "10320/10320 [==============================] - 11s 1ms/sample - loss: 0.1019 - accuracy: 0.9707 - val_loss: 0.0635 - val_accuracy: 0.9713\n",
      "Epoch 42/100\n",
      "10320/10320 [==============================] - 11s 1ms/sample - loss: 0.0972 - accuracy: 0.9725 - val_loss: 0.0614 - val_accuracy: 0.9698\n",
      "Epoch 43/100\n",
      "10320/10320 [==============================] - 11s 1ms/sample - loss: 0.0963 - accuracy: 0.9715 - val_loss: 0.0598 - val_accuracy: 0.9698\n",
      "Epoch 44/100\n",
      "10320/10320 [==============================] - 11s 1ms/sample - loss: 0.0926 - accuracy: 0.9723 - val_loss: 0.0584 - val_accuracy: 0.9725\n",
      "Epoch 45/100\n",
      "10320/10320 [==============================] - 11s 1ms/sample - loss: 0.0885 - accuracy: 0.9741 - val_loss: 0.0577 - val_accuracy: 0.9694\n",
      "Epoch 46/100\n",
      "10320/10320 [==============================] - 11s 1ms/sample - loss: 0.0903 - accuracy: 0.9740 - val_loss: 0.0560 - val_accuracy: 0.9686\n",
      "Epoch 47/100\n",
      "10320/10320 [==============================] - 11s 1ms/sample - loss: 0.0848 - accuracy: 0.9751 - val_loss: 0.0551 - val_accuracy: 0.9725\n",
      "Epoch 48/100\n",
      "10320/10320 [==============================] - 11s 1ms/sample - loss: 0.0833 - accuracy: 0.9721 - val_loss: 0.0537 - val_accuracy: 0.9717\n",
      "Epoch 49/100\n",
      "10320/10320 [==============================] - 11s 1ms/sample - loss: 0.0848 - accuracy: 0.9717 - val_loss: 0.0536 - val_accuracy: 0.9686\n",
      "Epoch 50/100\n",
      "10320/10320 [==============================] - 11s 1ms/sample - loss: 0.0813 - accuracy: 0.9721 - val_loss: 0.0520 - val_accuracy: 0.9702\n",
      "Epoch 51/100\n",
      "10320/10320 [==============================] - 11s 1ms/sample - loss: 0.0794 - accuracy: 0.9738 - val_loss: 0.0547 - val_accuracy: 0.9717\n",
      "Epoch 52/100\n",
      "10320/10320 [==============================] - 11s 1ms/sample - loss: 0.0785 - accuracy: 0.9750 - val_loss: 0.0512 - val_accuracy: 0.9694\n",
      "Epoch 53/100\n",
      "10320/10320 [==============================] - 11s 1ms/sample - loss: 0.0764 - accuracy: 0.9750 - val_loss: 0.0518 - val_accuracy: 0.9702\n",
      "Epoch 54/100\n"
     ]
    },
    {
     "name": "stdout",
     "output_type": "stream",
     "text": [
      "10320/10320 [==============================] - 11s 1ms/sample - loss: 0.0769 - accuracy: 0.9731 - val_loss: 0.0493 - val_accuracy: 0.9694\n",
      "Epoch 55/100\n",
      "10320/10320 [==============================] - 11s 1ms/sample - loss: 0.0756 - accuracy: 0.9726 - val_loss: 0.0499 - val_accuracy: 0.9698\n",
      "Epoch 56/100\n",
      "10320/10320 [==============================] - 11s 1ms/sample - loss: 0.0743 - accuracy: 0.9734 - val_loss: 0.0489 - val_accuracy: 0.9721\n",
      "Epoch 57/100\n",
      "10320/10320 [==============================] - 11s 1ms/sample - loss: 0.0753 - accuracy: 0.9709 - val_loss: 0.0477 - val_accuracy: 0.9709\n",
      "Epoch 58/100\n",
      "10320/10320 [==============================] - 11s 1ms/sample - loss: 0.0720 - accuracy: 0.9743 - val_loss: 0.0478 - val_accuracy: 0.9698\n",
      "Epoch 59/100\n",
      "10320/10320 [==============================] - 11s 1ms/sample - loss: 0.0701 - accuracy: 0.9745 - val_loss: 0.0472 - val_accuracy: 0.9678\n",
      "Epoch 60/100\n",
      "10320/10320 [==============================] - 11s 1ms/sample - loss: 0.0712 - accuracy: 0.9735 - val_loss: 0.0480 - val_accuracy: 0.9694\n",
      "Epoch 61/100\n",
      "10320/10320 [==============================] - 11s 1ms/sample - loss: 0.0687 - accuracy: 0.9753 - val_loss: 0.0468 - val_accuracy: 0.9705\n",
      "Epoch 62/100\n",
      "10320/10320 [==============================] - 11s 1ms/sample - loss: 0.0675 - accuracy: 0.9745 - val_loss: 0.0467 - val_accuracy: 0.9678-\n",
      "Epoch 63/100\n",
      "10320/10320 [==============================] - 11s 1ms/sample - loss: 0.0675 - accuracy: 0.9736 - val_loss: 0.0464 - val_accuracy: 0.9682\n",
      "Epoch 64/100\n",
      "10320/10320 [==============================] - 11s 1ms/sample - loss: 0.0655 - accuracy: 0.9748 - val_loss: 0.0456 - val_accuracy: 0.9686\n",
      "Epoch 65/100\n",
      "10320/10320 [==============================] - 11s 1ms/sample - loss: 0.0655 - accuracy: 0.9757 - val_loss: 0.0466 - val_accuracy: 0.9694\n",
      "Epoch 66/100\n",
      "10320/10320 [==============================] - 11s 1ms/sample - loss: 0.0637 - accuracy: 0.9762 - val_loss: 0.0445 - val_accuracy: 0.9694\n",
      "Epoch 67/100\n",
      "10320/10320 [==============================] - 11s 1ms/sample - loss: 0.0636 - accuracy: 0.9755 - val_loss: 0.0446 - val_accuracy: 0.9686\n",
      "Epoch 68/100\n",
      "10320/10320 [==============================] - 11s 1ms/sample - loss: 0.0616 - accuracy: 0.9767 - val_loss: 0.0438 - val_accuracy: 0.9682\n",
      "Epoch 69/100\n",
      "10320/10320 [==============================] - 11s 1ms/sample - loss: 0.0623 - accuracy: 0.9739 - val_loss: 0.0445 - val_accuracy: 0.9682\n",
      "Epoch 70/100\n",
      "10320/10320 [==============================] - 11s 1ms/sample - loss: 0.0614 - accuracy: 0.9771 - val_loss: 0.0444 - val_accuracy: 0.9698\n",
      "Epoch 71/100\n",
      "10320/10320 [==============================] - 11s 1ms/sample - loss: 0.0611 - accuracy: 0.9765 - val_loss: 0.0432 - val_accuracy: 0.9674\n",
      "Epoch 72/100\n",
      "10320/10320 [==============================] - 11s 1ms/sample - loss: 0.0595 - accuracy: 0.9764 - val_loss: 0.0456 - val_accuracy: 0.9690\n",
      "Epoch 73/100\n",
      "10320/10320 [==============================] - 11s 1ms/sample - loss: 0.0603 - accuracy: 0.9742 - val_loss: 0.0445 - val_accuracy: 0.9674\n",
      "Epoch 74/100\n",
      "10320/10320 [==============================] - 11s 1ms/sample - loss: 0.0599 - accuracy: 0.9755 - val_loss: 0.0426 - val_accuracy: 0.9705\n",
      "Epoch 75/100\n",
      "10320/10320 [==============================] - 11s 1ms/sample - loss: 0.0591 - accuracy: 0.9743 - val_loss: 0.0429 - val_accuracy: 0.9663\n",
      "Epoch 76/100\n",
      "10320/10320 [==============================] - 11s 1ms/sample - loss: 0.0587 - accuracy: 0.9758 - val_loss: 0.0430 - val_accuracy: 0.9674\n",
      "Epoch 77/100\n",
      "10320/10320 [==============================] - 11s 1ms/sample - loss: 0.0579 - accuracy: 0.9764 - val_loss: 0.0434 - val_accuracy: 0.9671\n",
      "Epoch 78/100\n",
      "10320/10320 [==============================] - 11s 1ms/sample - loss: 0.0580 - accuracy: 0.9756 - val_loss: 0.0429 - val_accuracy: 0.9667\n",
      "Epoch 79/100\n",
      "10320/10320 [==============================] - 11s 1ms/sample - loss: 0.0570 - accuracy: 0.9763 - val_loss: 0.0429 - val_accuracy: 0.9705\n",
      "Epoch 80/100\n",
      "10320/10320 [==============================] - 11s 1ms/sample - loss: 0.0575 - accuracy: 0.9761 - val_loss: 0.0435 - val_accuracy: 0.9674\n",
      "Epoch 81/100\n",
      "10320/10320 [==============================] - 11s 1ms/sample - loss: 0.0569 - accuracy: 0.9755 - val_loss: 0.0437 - val_accuracy: 0.9686\n",
      "Epoch 82/100\n",
      "10320/10320 [==============================] - 11s 1ms/sample - loss: 0.0564 - accuracy: 0.9766 - val_loss: 0.0437 - val_accuracy: 0.9690\n",
      "Epoch 83/100\n",
      "10320/10320 [==============================] - 11s 1ms/sample - loss: 0.0552 - accuracy: 0.9754 - val_loss: 0.0435 - val_accuracy: 0.9678\n",
      "Epoch 84/100\n",
      "10320/10320 [==============================] - 11s 1ms/sample - loss: 0.0552 - accuracy: 0.9753 - val_loss: 0.0423 - val_accuracy: 0.9686\n",
      "Epoch 85/100\n",
      "10320/10320 [==============================] - 11s 1ms/sample - loss: 0.0545 - accuracy: 0.9760 - val_loss: 0.0443 - val_accuracy: 0.9686\n",
      "Epoch 86/100\n",
      "10320/10320 [==============================] - 11s 1ms/sample - loss: 0.0540 - accuracy: 0.9754 - val_loss: 0.0430 - val_accuracy: 0.9671\n",
      "Epoch 87/100\n",
      "10320/10320 [==============================] - 11s 1ms/sample - loss: 0.0556 - accuracy: 0.9744 - val_loss: 0.0422 - val_accuracy: 0.9671\n",
      "Epoch 88/100\n",
      "10320/10320 [==============================] - 11s 1ms/sample - loss: 0.0529 - accuracy: 0.9762 - val_loss: 0.0429 - val_accuracy: 0.9663\n",
      "Epoch 89/100\n",
      "10320/10320 [==============================] - 11s 1ms/sample - loss: 0.0552 - accuracy: 0.9748 - val_loss: 0.0424 - val_accuracy: 0.9671\n",
      "Epoch 90/100\n",
      "10320/10320 [==============================] - 11s 1ms/sample - loss: 0.0518 - accuracy: 0.9776 - val_loss: 0.0443 - val_accuracy: 0.9686\n",
      "Epoch 91/100\n",
      "10320/10320 [==============================] - 11s 1ms/sample - loss: 0.0543 - accuracy: 0.9755 - val_loss: 0.0425 - val_accuracy: 0.9667\n",
      "Epoch 92/100\n",
      "10320/10320 [==============================] - 11s 1ms/sample - loss: 0.0539 - accuracy: 0.9755 - val_loss: 0.0446 - val_accuracy: 0.9694\n",
      "Epoch 93/100\n",
      "10320/10320 [==============================] - 11s 1ms/sample - loss: 0.0524 - accuracy: 0.9753 - val_loss: 0.0425 - val_accuracy: 0.9663\n",
      "Epoch 94/100\n",
      "10320/10320 [==============================] - 11s 1ms/sample - loss: 0.0521 - accuracy: 0.9767 - val_loss: 0.0433 - val_accuracy: 0.9671\n",
      "Epoch 95/100\n",
      "10320/10320 [==============================] - 11s 1ms/sample - loss: 0.0521 - accuracy: 0.9750 - val_loss: 0.0435 - val_accuracy: 0.9690\n",
      "Epoch 96/100\n",
      "10320/10320 [==============================] - 11s 1ms/sample - loss: 0.0523 - accuracy: 0.9754 - val_loss: 0.0422 - val_accuracy: 0.9663\n",
      "Epoch 97/100\n",
      "10320/10320 [==============================] - 11s 1ms/sample - loss: 0.0515 - accuracy: 0.9771 - val_loss: 0.0425 - val_accuracy: 0.9674\n",
      "Epoch 98/100\n",
      "10320/10320 [==============================] - 11s 1ms/sample - loss: 0.0509 - accuracy: 0.9765 - val_loss: 0.0416 - val_accuracy: 0.9671\n",
      "Epoch 99/100\n",
      "10320/10320 [==============================] - 11s 1ms/sample - loss: 0.0490 - accuracy: 0.9780 - val_loss: 0.0421 - val_accuracy: 0.9671\n",
      "Epoch 100/100\n",
      "10320/10320 [==============================] - 11s 1ms/sample - loss: 0.0498 - accuracy: 0.9786 - val_loss: 0.0423 - val_accuracy: 0.9663\n"
     ]
    }
   ],
   "source": [
    "history = model.fit(train_x,train_label_enc,validation_data=(val_x,val_label_enc), batch_size=32, epochs=100, verbose=1,shuffle=True, callbacks = [reduce_lr])"
   ]
  },
  {
   "cell_type": "code",
   "execution_count": 49,
   "metadata": {},
   "outputs": [
    {
     "name": "stdout",
     "output_type": "stream",
     "text": [
      "93\n"
     ]
    }
   ],
   "source": [
    "count=0\n",
    "for i in val_y:\n",
    "    if i==0:\n",
    "        count +=1\n",
    "    else:\n",
    "        pass\n",
    "print(count)"
   ]
  },
  {
   "cell_type": "code",
   "execution_count": 89,
   "metadata": {},
   "outputs": [
    {
     "data": {
      "image/png": "[encoded data removed]",
      "text/plain": [
       "<Figure size 432x288 with 1 Axes>"
      ]
     },
     "metadata": {
      "needs_background": "light"
     },
     "output_type": "display_data"
    }
   ],
   "source": [
    "import matplotlib.pyplot as plt\n",
    "plt.plot(history.history['accuracy'])\n",
    "plt.plot(history.history['val_accuracy'])\n",
    "plt.title('model accuracy')\n",
    "plt.ylabel('accuracy')\n",
    "plt.xlabel('epoch')\n",
    "plt.legend(['train', 'val'], loc='upper left')\n",
    "plt.show()"
   ]
  },
  {
   "cell_type": "code",
   "execution_count": 90,
   "metadata": {},
   "outputs": [
    {
     "data": {
      "image/png": "[encoded data removed]",
      "text/plain": [
       "<Figure size 432x288 with 1 Axes>"
      ]
     },
     "metadata": {
      "needs_background": "light"
     },
     "output_type": "display_data"
    }
   ],
   "source": [
    "import matplotlib.pyplot as plt\n",
    "plt.plot(history.history['loss'])\n",
    "plt.plot(history.history['val_loss'])\n",
    "plt.title('model loss')\n",
    "plt.ylabel('loss')\n",
    "plt.xlabel('epoch')\n",
    "plt.legend(['train', 'val'], loc='upper left')\n",
    "plt.show()"
   ]
  },
  {
   "cell_type": "code",
   "execution_count": 85,
   "metadata": {},
   "outputs": [
    {
     "name": "stdout",
     "output_type": "stream",
     "text": [
      "1950/1950 [==============================] - 1s 486us/sample - loss: 4.7254 - accuracy: 0.3323\n",
      "Test loss: 4.725401180745699\n",
      "Test accuracy: 0.3323077\n",
      "10320/10320 [==============================] - 5s 441us/sample - loss: 0.0347 - accuracy: 0.9794\n",
      "Train loss: 0.034744816106679136\n",
      "Train accuracy: 0.97936046\n"
     ]
    }
   ],
   "source": [
    "score = model.evaluate(test_image_array,test_label_enc,verbose=1)\n",
    "print(\"Test loss:\",score[0])\n",
    "print(\"Test accuracy:\",score[1])\n",
    "score = model.evaluate(train_x,train_label_enc,verbose=1)\n",
    "print(\"Train loss:\",score[0])\n",
    "print(\"Train accuracy:\",score[1])"
   ]
  },
  {
   "cell_type": "code",
   "execution_count": 86,
   "metadata": {},
   "outputs": [],
   "source": [
    "y_predict = model.predict(test_image_array)"
   ]
  },
  {
   "cell_type": "code",
   "execution_count": 87,
   "metadata": {},
   "outputs": [],
   "source": [
    "y_predict_bool = np.argmax(y_predict,axis=1).tolist()"
   ]
  },
  {
   "cell_type": "code",
   "execution_count": 88,
   "metadata": {},
   "outputs": [
    {
     "data": {
      "text/plain": [
       "array([[  0,   0, 122,  28,   0,   0],\n",
       "       [  1,   0, 233,  55,  11,   0],\n",
       "       [  0,   0, 190, 392,  18,   0],\n",
       "       [  0, 102,  26, 458,  14,   0],\n",
       "       [  0,   0, 150,   0,   0,   0],\n",
       "       [  0,   0,  19, 131,   0,   0]], dtype=int64)"
      ]
     },
     "execution_count": 88,
     "metadata": {},
     "output_type": "execute_result"
    }
   ],
   "source": [
    "confusion_matrix(test_image_label,y_predict_bool)#10epoch"
   ]
  },
  {
   "cell_type": "code",
   "execution_count": null,
   "metadata": {},
   "outputs": [],
   "source": []
  },
  {
   "cell_type": "code",
   "execution_count": null,
   "metadata": {},
   "outputs": [],
   "source": []
  },
  {
   "cell_type": "code",
   "execution_count": null,
   "metadata": {},
   "outputs": [],
   "source": []
  },
  {
   "cell_type": "code",
   "execution_count": 19,
   "metadata": {},
   "outputs": [],
   "source": [
    "from sklearn.metrics import *"
   ]
  },
  {
   "cell_type": "code",
   "execution_count": null,
   "metadata": {},
   "outputs": [],
   "source": []
  },
  {
   "cell_type": "code",
   "execution_count": null,
   "metadata": {},
   "outputs": [],
   "source": []
  },
  {
   "cell_type": "code",
   "execution_count": null,
   "metadata": {},
   "outputs": [],
   "source": []
  },
  {
   "cell_type": "code",
   "execution_count": 20,
   "metadata": {},
   "outputs": [
    {
     "data": {
      "text/plain": [
       "array([[  0,   0, 147,   3,   0,   0],\n",
       "       [  0,   0, 196,  94,  10,   0],\n",
       "       [ 12,   0, 189, 384,  15,   0],\n",
       "       [  0, 102, 114, 383,   1,   0],\n",
       "       [  0,   0, 150,   0,   0,   0],\n",
       "       [  0,   0,  28, 122,   0,   0]], dtype=int64)"
      ]
     },
     "execution_count": 20,
     "metadata": {},
     "output_type": "execute_result"
    }
   ],
   "source": [
    "confusion_matrix(test_image_label,y_predict_bool)#10epoch"
   ]
  },
  {
   "cell_type": "code",
   "execution_count": null,
   "metadata": {},
   "outputs": [],
   "source": []
  }
 ],
 "metadata": {
  "kernelspec": {
   "display_name": "Python 3",
   "language": "python",
   "name": "python3"
  },
  "language_info": {
   "codemirror_mode": {
    "name": "ipython",
    "version": 3
   },
   "file_extension": ".py",
   "mimetype": "text/x-python",
   "name": "python",
   "nbconvert_exporter": "python",
   "pygments_lexer": "ipython3",
   "version": "3.7.9"
  }
 },
 "nbformat": 4,
 "nbformat_minor": 4
}
